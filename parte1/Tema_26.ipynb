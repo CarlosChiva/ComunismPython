{
 "cells": [
  {
   "cell_type": "markdown",
   "metadata": {},
   "source": [
    "                        Tema 26"
   ]
  },
  {
   "cell_type": "markdown",
   "metadata": {},
   "source": [
    "Problema 1:"
   ]
  },
  {
   "cell_type": "markdown",
   "metadata": {},
   "source": [
    "Definir por asignación una lista de enteros en el bloque principal del programa.\n",
    "Elaborar tres funciones, la primera recibe la lista y retorna la suma de todos sus elementos, la segunda recibe la lista y retorna el mayor valor y la última recibe la lista y retorna el menor."
   ]
  },
  {
   "cell_type": "code",
   "execution_count": 1,
   "metadata": {},
   "outputs": [],
   "source": [
    "def sumarizar(lista):\n",
    "    suma=0\n",
    "    for x in range(len(lista)):\n",
    "        suma=suma+lista[x]\n",
    "    return suma"
   ]
  },
  {
   "cell_type": "code",
   "execution_count": 2,
   "metadata": {},
   "outputs": [],
   "source": [
    "def mayor(lista):\n",
    "    may=lista[0]\n",
    "    for x in range(1,len(lista)):\n",
    "        if lista[x]>may:\n",
    "            may=lista[x]\n",
    "    return may"
   ]
  },
  {
   "cell_type": "code",
   "execution_count": 3,
   "metadata": {},
   "outputs": [],
   "source": [
    "def menor(lista):\n",
    "    men=lista[0]\n",
    "    for x in range(1,len(lista)):\n",
    "        if lista[x]<men:\n",
    "            men=lista[x]\n",
    "    return men"
   ]
  },
  {
   "cell_type": "code",
   "execution_count": 4,
   "metadata": {},
   "outputs": [
    {
     "name": "stdout",
     "output_type": "stream",
     "text": [
      "La lista completa es\n",
      "[10, 56, 23, 120, 94]\n",
      "La suma de todos su elementos es 303\n",
      "El mayor valor de la lista es 120\n",
      "El menor valor de la lista es 10\n"
     ]
    }
   ],
   "source": [
    "listavalores=[10, 56, 23, 120, 94]\n",
    "print(\"La lista completa es\")\n",
    "print(listavalores)\n",
    "print(\"La suma de todos su elementos es\", sumarizar(listavalores))\n",
    "print(\"El mayor valor de la lista es\", mayor(listavalores))\n",
    "print(\"El menor valor de la lista es\", menor(listavalores))"
   ]
  },
  {
   "cell_type": "markdown",
   "metadata": {},
   "source": [
    "Problema 2:"
   ]
  },
  {
   "cell_type": "markdown",
   "metadata": {},
   "source": [
    "Crear y cargar por teclado en el bloque principal del programa una lista de 5 enteros. Implementar una función que imprima el mayor y el menor valor de la lista."
   ]
  },
  {
   "cell_type": "code",
   "execution_count": 5,
   "metadata": {},
   "outputs": [],
   "source": [
    "def mayormenor(lista):\n",
    "    may=lista[0]\n",
    "    men=lista[0]\n",
    "    for x in range(1,len(lista)):\n",
    "        if lista[x]>may:\n",
    "            may=lista[x]\n",
    "        else:\n",
    "            if lista[x]<men:\n",
    "                men=lista[x]\n",
    "    print(\"El valor mayor de la lista es\", may)\n",
    "    print(\"El valor menor de la lista es\", men)"
   ]
  },
  {
   "cell_type": "code",
   "execution_count": 6,
   "metadata": {},
   "outputs": [
    {
     "name": "stdout",
     "output_type": "stream",
     "text": [
      "El valor mayor de la lista es 5\n",
      "El valor menor de la lista es 2\n"
     ]
    }
   ],
   "source": [
    "lista=[]\n",
    "for x in range(5):\n",
    "    valor=int(input(\"Ingrese valor:\"))\n",
    "    lista.append(valor)\n",
    "mayormenor(lista)"
   ]
  },
  {
   "cell_type": "markdown",
   "metadata": {},
   "source": [
    "Problemas propuestos:"
   ]
  },
  {
   "cell_type": "markdown",
   "metadata": {},
   "source": [
    "Crear una lista de enteros por asignación. Definir una función que reciba una lista de enteros y un segundo parámetro de tipo entero. Dentro de la función mostrar cada elemento de la lista multiplicado por el valor entero enviado."
   ]
  },
  {
   "cell_type": "code",
   "execution_count": 7,
   "metadata": {},
   "outputs": [],
   "source": [
    "def multiplicar(lista,va):\n",
    "    for x in range(len(lista)):\n",
    "        multi=lista[x]*va\n",
    "        print(multi)"
   ]
  },
  {
   "cell_type": "code",
   "execution_count": 8,
   "metadata": {},
   "outputs": [
    {
     "name": "stdout",
     "output_type": "stream",
     "text": [
      "Lista original: [3, 7, 8, 10, 2]\n",
      "Lista multiplicando cada elemento por 3\n",
      "9\n",
      "21\n",
      "24\n",
      "30\n",
      "6\n"
     ]
    }
   ],
   "source": [
    "lista=[3, 7, 8, 10, 2]\n",
    "print(\"Lista original:\",lista)\n",
    "print(\"Lista multiplicando cada elemento por 3\")\n",
    "multiplicar(lista,3)"
   ]
  },
  {
   "cell_type": "markdown",
   "metadata": {},
   "source": [
    "Desarrollar una función que reciba una lista de string y nos retorne el que tiene más caracteres. Si hay más de uno con dicha cantidad de caracteres debe retornar el que tiene un valor de componente más baja."
   ]
  },
  {
   "cell_type": "code",
   "execution_count": 9,
   "metadata": {},
   "outputs": [],
   "source": [
    "def mascaracteres(palabras):\n",
    "    pos=0\n",
    "    for x in range(len(palabras)):\n",
    "        if len(palabras[x])>len(palabras[pos]):\n",
    "            pos=x\n",
    "    return palabras[pos]"
   ]
  },
  {
   "cell_type": "code",
   "execution_count": 10,
   "metadata": {},
   "outputs": [
    {
     "name": "stdout",
     "output_type": "stream",
     "text": [
      "Palabra con mas caracteres: febrero\n"
     ]
    }
   ],
   "source": [
    "palabras=[\"enero\", \"febrero\", \"marzo\", \"abril\", \"mayo\", \"junio\"]\n",
    "print(\"Palabra con mas caracteres:\",mascaracteres(palabras))"
   ]
  },
  {
   "cell_type": "markdown",
   "metadata": {},
   "source": [
    "Definir una lista de enteros por asignación en el bloque principal. Llamar a una función que reciba la lista y nos retorne el producto de todos sus elementos. Mostrar dicho producto en el bloque principal de nuestro programa."
   ]
  },
  {
   "cell_type": "code",
   "execution_count": 11,
   "metadata": {},
   "outputs": [],
   "source": [
    "def producto(lista):\n",
    "    prod=1\n",
    "    for x in range(len(lista)):\n",
    "        prod=prod*lista[x]\n",
    "    return prod"
   ]
  },
  {
   "cell_type": "code",
   "execution_count": 12,
   "metadata": {},
   "outputs": [
    {
     "name": "stdout",
     "output_type": "stream",
     "text": [
      "Lista: [1, 2, 3, 4, 5]\n",
      "Multiplicacion de todos sus elementos: 120\n"
     ]
    }
   ],
   "source": [
    "lista=[1, 2, 3, 4, 5]\n",
    "print(\"Lista:\", lista)\n",
    "print(\"Multiplicacion de todos sus elementos:\",producto(lista))"
   ]
  }
 ],
 "metadata": {
  "kernelspec": {
   "display_name": "tf",
   "language": "python",
   "name": "python3"
  },
  "language_info": {
   "codemirror_mode": {
    "name": "ipython",
    "version": 3
   },
   "file_extension": ".py",
   "mimetype": "text/x-python",
   "name": "python",
   "nbconvert_exporter": "python",
   "pygments_lexer": "ipython3",
   "version": "3.9.18"
  }
 },
 "nbformat": 4,
 "nbformat_minor": 2
}
