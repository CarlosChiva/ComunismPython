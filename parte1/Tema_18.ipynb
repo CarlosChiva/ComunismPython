{
 "cells": [
  {
   "cell_type": "markdown",
   "metadata": {},
   "source": [
    "                        Tema 18"
   ]
  },
  {
   "cell_type": "markdown",
   "metadata": {},
   "source": [
    "Problema 1:"
   ]
  },
  {
   "cell_type": "markdown",
   "metadata": {},
   "source": [
    "Se debe crear y cargar una lista donde almacenar 5 sueldos. Desplazar el valor\n",
    "mayor de la lista a la última posición."
   ]
  },
  {
   "cell_type": "code",
   "execution_count": 5,
   "metadata": {},
   "outputs": [
    {
     "name": "stdout",
     "output_type": "stream",
     "text": [
      "Lista sin ordenar\n",
      "[1000, 80000, 20, 549, 432]\n",
      "Lista con el último elemento ordenado\n",
      "[20, 432, 549, 1000, 80000]\n"
     ]
    }
   ],
   "source": [
    "sueldos=[]\n",
    "for x in range(5):\n",
    "    valor=int(input(\"Ingrese sueldo:\"))\n",
    "    sueldos.append(valor)\n",
    "print(\"Lista sin ordenar\")\n",
    "print(sueldos)\n",
    "sueldos.sort()\n",
    "print(\"Lista ordenada\")\n",
    "print(sueldos)\n"
   ]
  },
  {
   "cell_type": "markdown",
   "metadata": {},
   "source": [
    "Problema 2:"
   ]
  },
  {
   "cell_type": "markdown",
   "metadata": {},
   "source": [
    "Se debe crear y cargar una lista donde almacenar 5 sueldos. Ordenar de menor\n",
    "a mayor la lista."
   ]
  },
  {
   "cell_type": "code",
   "execution_count": 6,
   "metadata": {},
   "outputs": [
    {
     "name": "stdout",
     "output_type": "stream",
     "text": [
      "Lista sin ordenar\n",
      "[100, 500, 50, 10, 2]\n",
      "Lista ordenada\n",
      "[2, 10, 50, 100, 500]\n"
     ]
    }
   ],
   "source": [
    "sueldos=[]\n",
    "for x in range(5):\n",
    "    valor=int(input(\"Ingrese sueldo:\"))\n",
    "    sueldos.append(valor)\n",
    "print(\"Lista sin ordenar\")\n",
    "print(sueldos)\n",
    "print(\"Lista ordenada\")\n",
    "sueldos.sort()\n",
    "print(sueldos)"
   ]
  },
  {
   "cell_type": "markdown",
   "metadata": {},
   "source": [
    "Problemas propuestos"
   ]
  },
  {
   "cell_type": "markdown",
   "metadata": {},
   "source": [
    "Crear una lista y almacenar los nombres de 5 países. Ordenar\n",
    "alfabéticamente la lista e imprimirla."
   ]
  },
  {
   "cell_type": "code",
   "execution_count": 8,
   "metadata": {},
   "outputs": [
    {
     "name": "stdout",
     "output_type": "stream",
     "text": [
      "Listado de paises sin ordenar\n",
      "['winchun', 'etiopia', 'uzmequistan', 'canada', 'amsterdam']\n",
      "Listado de paises\n",
      "['amsterdam', 'canada', 'etiopia', 'uzmequistan', 'winchun']\n"
     ]
    }
   ],
   "source": [
    "paises=[]\n",
    "for x in range(5):\n",
    "    nom=input(\"Ingrese el nombre de pais:\")\n",
    "    paises.append(nom)\n",
    "print(\"Listado de paises sin ordenar\")\n",
    "print(paises)    \n",
    "paises.sort()\n",
    "print(\"Listado de paises\")\n",
    "print(paises)"
   ]
  },
  {
   "cell_type": "markdown",
   "metadata": {},
   "source": [
    "Solicitar por teclado la cantidad de empleados que tiene la empresa.\n",
    "Crear y cargar una lista con todos los sueldos de dichos empleados.\n",
    "Imprimir la lista de sueldos ordenamos de menor a mayor."
   ]
  },
  {
   "cell_type": "code",
   "execution_count": 10,
   "metadata": {},
   "outputs": [
    {
     "name": "stdout",
     "output_type": "stream",
     "text": [
      "Sueldos\n",
      "[50, 1, 20]\n",
      "Lista de sueldos ordenados\n",
      "[1, 20, 50]\n"
     ]
    }
   ],
   "source": [
    "cantidad=int(input(\"Cuantos empleados tiene la empresa?\"))\n",
    "sueldos=[]\n",
    "for x in range(cantidad):\n",
    "    su=int(input(\"Ingrese sueldo:\"))\n",
    "    sueldos.append(su)\n",
    "print(\"Sueldos\")\n",
    "print(sueldos)\n",
    "sueldos.sort(reverse=False)    \n",
    "print(\"Lista de sueldos ordenados\")\n",
    "print(sueldos)"
   ]
  },
  {
   "cell_type": "markdown",
   "metadata": {},
   "source": [
    "Cargar una lista con 5 elementos enteros. Ordenarla de menor a mayor y\n",
    "mostrarla por pantalla, luego ordenar de mayor a menor e imprimir\n",
    "nuevamente."
   ]
  },
  {
   "cell_type": "code",
   "execution_count": 11,
   "metadata": {},
   "outputs": [
    {
     "name": "stdout",
     "output_type": "stream",
     "text": [
      "Lista\n",
      "[50, 1, 100, 30, 15]\n",
      "Lista ordenada de menor a mayor\n",
      "[1, 15, 30, 50, 100]\n",
      "Lista ordenada de mayor a menor\n",
      "[100, 50, 30, 15, 1]\n"
     ]
    }
   ],
   "source": [
    "lista=[]\n",
    "for x in range(5):\n",
    "    valor=int(input(\"Ingrese valor:\"))\n",
    "    lista.append(valor)\n",
    "print(\"Lista\")\n",
    "print(lista)\n",
    "  \n",
    "print(\"Lista ordenada de menor a mayor\")\n",
    "lista.sort(reverse=False)\n",
    "print(lista)\n",
    "\n",
    "print(\"Lista ordenada de mayor a menor\")\n",
    "lista.sort(reverse=True)\n",
    "print(lista)"
   ]
  }
 ],
 "metadata": {
  "kernelspec": {
   "display_name": "tf",
   "language": "python",
   "name": "python3"
  },
  "language_info": {
   "codemirror_mode": {
    "name": "ipython",
    "version": 3
   },
   "file_extension": ".py",
   "mimetype": "text/x-python",
   "name": "python",
   "nbconvert_exporter": "python",
   "pygments_lexer": "ipython3",
   "version": "3.9.18"
  }
 },
 "nbformat": 4,
 "nbformat_minor": 2
}
