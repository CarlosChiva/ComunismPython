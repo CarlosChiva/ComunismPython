{
 "cells": [
  {
   "cell_type": "markdown",
   "metadata": {},
   "source": [
    "                        Tema 29"
   ]
  },
  {
   "cell_type": "markdown",
   "metadata": {},
   "source": [
    "Problema 1:"
   ]
  },
  {
   "cell_type": "markdown",
   "metadata": {},
   "source": [
    "Confeccionar una función que reciba el nombre de un operario, el pago por hora y la cantidad de horas trabajadas. Debe mostrar su sueldo y el nombre. Hacer la llamada de la función mediante argumentos nombrados."
   ]
  },
  {
   "cell_type": "code",
   "execution_count": 1,
   "metadata": {},
   "outputs": [],
   "source": [
    "def calcular_sueldo(nombre,costohora,cantidadhoras):\n",
    "    sueldo=costohora*cantidadhoras\n",
    "    print(nombre,\"trabajo\",cantidadhoras,\"y cobra un sueldo de\",sueldo)"
   ]
  },
  {
   "cell_type": "code",
   "execution_count": 2,
   "metadata": {},
   "outputs": [
    {
     "name": "stdout",
     "output_type": "stream",
     "text": [
      "juan trabajo 120 y cobra un sueldo de 1200\n",
      "ana trabajo 40 y cobra un sueldo de 480\n",
      "luis trabajo 90 y cobra un sueldo de 630\n"
     ]
    }
   ],
   "source": [
    "calcular_sueldo(\"juan\",10,120)\n",
    "calcular_sueldo(costohora=12,cantidadhoras=40,nombre=\"ana\")\n",
    "calcular_sueldo(cantidadhoras=90,nombre=\"luis\",costohora=7)"
   ]
  },
  {
   "cell_type": "markdown",
   "metadata": {},
   "source": [
    "Problema 2:"
   ]
  },
  {
   "cell_type": "code",
   "execution_count": 3,
   "metadata": {},
   "outputs": [],
   "source": [
    "def cargar():\n",
    "    lista=[]\n",
    "    for x in range(10):\n",
    "        valor=int(input(\"Ingrese valor:\"))\n",
    "        lista.append(valor)\n",
    "    return lista"
   ]
  },
  {
   "cell_type": "code",
   "execution_count": 4,
   "metadata": {},
   "outputs": [],
   "source": [
    "def imprimir(lista):\n",
    "    for x in range(len(lista)):\n",
    "        print(lista[x], end=\",\")"
   ]
  },
  {
   "cell_type": "code",
   "execution_count": 5,
   "metadata": {},
   "outputs": [
    {
     "name": "stdout",
     "output_type": "stream",
     "text": [
      "1,2,3,4,5,6,7,8,9,10,"
     ]
    }
   ],
   "source": [
    "lista=cargar()\n",
    "imprimir(lista)"
   ]
  },
  {
   "cell_type": "markdown",
   "metadata": {},
   "source": [
    "Problemas propuestos:"
   ]
  },
  {
   "cell_type": "markdown",
   "metadata": {},
   "source": [
    "Elaborar una función que muestre la tabla de multiplicar del valor que le enviemos como parámetro. Definir un segundo parámetro llamado termino que por defecto almacene el valor 10. Se deben mostrar tantos términos de la tabla de multiplicar como lo indica el segundo parámetro.\n",
    "Llamar a la función desde el bloque principal de nuestro programa con argumentos nombrados"
   ]
  },
  {
   "cell_type": "code",
   "execution_count": 6,
   "metadata": {},
   "outputs": [],
   "source": [
    "def tabla(numero, terminos=10):\n",
    "    for x in range(terminos):\n",
    "        va=x*numero\n",
    "        print(va,\",\",sep=\"\",end=\"\")\n",
    "        print()"
   ]
  },
  {
   "cell_type": "code",
   "execution_count": 7,
   "metadata": {},
   "outputs": [
    {
     "name": "stdout",
     "output_type": "stream",
     "text": [
      "Tabla del 3\n",
      "0,\n",
      "3,\n",
      "6,\n",
      "9,\n",
      "12,\n",
      "15,\n",
      "18,\n",
      "21,\n",
      "24,\n",
      "27,\n",
      "Tabla del 3 con 5 terminos\n",
      "0,\n",
      "3,\n",
      "6,\n",
      "9,\n",
      "12,\n",
      "Tabla del 3 con 20 terminos\n",
      "0,\n",
      "3,\n",
      "6,\n",
      "9,\n",
      "12,\n",
      "15,\n",
      "18,\n",
      "21,\n",
      "24,\n",
      "27,\n",
      "30,\n",
      "33,\n",
      "36,\n",
      "39,\n",
      "42,\n",
      "45,\n",
      "48,\n",
      "51,\n",
      "54,\n",
      "57,\n"
     ]
    }
   ],
   "source": [
    "print(\"Tabla del 3\")\n",
    "tabla(3)\n",
    "print(\"Tabla del 3 con 5 terminos\")\n",
    "tabla(3,5)\n",
    "print(\"Tabla del 3 con 20 terminos\")\n",
    "tabla(terminos=20,numero=3)"
   ]
  }
 ],
 "metadata": {
  "kernelspec": {
   "display_name": "tf",
   "language": "python",
   "name": "python3"
  },
  "language_info": {
   "codemirror_mode": {
    "name": "ipython",
    "version": 3
   },
   "file_extension": ".py",
   "mimetype": "text/x-python",
   "name": "python",
   "nbconvert_exporter": "python",
   "pygments_lexer": "ipython3",
   "version": "3.9.18"
  }
 },
 "nbformat": 4,
 "nbformat_minor": 2
}
