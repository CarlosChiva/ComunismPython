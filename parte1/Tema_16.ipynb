{
 "cells": [
  {
   "cell_type": "markdown",
   "metadata": {},
   "source": [
    "                        Tema 16"
   ]
  },
  {
   "cell_type": "markdown",
   "metadata": {},
   "source": [
    "Problema 1:"
   ]
  },
  {
   "cell_type": "markdown",
   "metadata": {},
   "source": [
    "Crear y cargar una lista con 5 enteros. Implementar un algoritmo que identifique\n",
    "el mayor valor de la lista."
   ]
  },
  {
   "cell_type": "code",
   "execution_count": 1,
   "metadata": {},
   "outputs": [
    {
     "name": "stdout",
     "output_type": "stream",
     "text": [
      "Lista completa\n",
      "[10, 5, 50, 3, 43]\n",
      "Mayor de la lista\n",
      "50\n"
     ]
    }
   ],
   "source": [
    "lista=[]\n",
    "for x in range(5):\n",
    "    valor=int(input(\"Ingrese valor:\"))\n",
    "    lista.append(valor)\n",
    "mayor=lista[0]\n",
    "for x in lista:\n",
    "    if x>mayor:\n",
    "        mayor=x\n",
    "print(\"Lista completa\")\n",
    "print(lista)\n",
    "print(\"Mayor de la lista\")\n",
    "print(mayor)"
   ]
  },
  {
   "cell_type": "markdown",
   "metadata": {},
   "source": [
    "Problema 2:"
   ]
  },
  {
   "cell_type": "markdown",
   "metadata": {},
   "source": [
    "Crear y cargar una lista con 5 enteros por teclado. Implementar un algoritmo que\n",
    "identifique el menor valor de la lista y la posición donde se encuentra."
   ]
  },
  {
   "cell_type": "code",
   "execution_count": 2,
   "metadata": {},
   "outputs": [
    {
     "name": "stdout",
     "output_type": "stream",
     "text": [
      "Lista completa\n",
      "[3, 50, 100, 3, 1]\n",
      "Menor de la lista\n",
      "1\n",
      "Posicionn del menor en la lista\n",
      "4\n"
     ]
    }
   ],
   "source": [
    "lista=[]\n",
    "for x in range(5):\n",
    "    valor=int(input(\"Ingrese valor:\"))\n",
    "    lista.append(valor)\n",
    "menor=lista[0]\n",
    "posicion=0\n",
    "for x in range(1,5):\n",
    "    if lista[x]<menor:\n",
    "        menor=lista[x]\n",
    "        posicion=x\n",
    "print(\"Lista completa\")\n",
    "print(lista)\n",
    "print(\"Menor de la lista\")\n",
    "print(menor)\n",
    "print(\"Posicionn del menor en la lista\")\n",
    "print(posicion)"
   ]
  },
  {
   "cell_type": "markdown",
   "metadata": {},
   "source": [
    "Problemas propuestos"
   ]
  },
  {
   "cell_type": "markdown",
   "metadata": {},
   "source": [
    "Ingresar por teclado los nombres de 5 personas y almacenarlos en una\n",
    "lista. Mostrar el nombre de persona menor en orden alfabético."
   ]
  },
  {
   "cell_type": "code",
   "execution_count": 3,
   "metadata": {},
   "outputs": [
    {
     "name": "stdout",
     "output_type": "stream",
     "text": [
      "La lista completa de nombres ingresado son\n",
      "['carlos', 'tomas', 'agapito', 'agapitodesousa', 'marcoaurelio']\n",
      "El nombre menor en orden alfabetico es:\n",
      "agapito\n"
     ]
    }
   ],
   "source": [
    "nombres=[]\n",
    "for x in range(5):\n",
    "    nom=input(\"Ingrese nombre de persona:\")\n",
    "    nombres.append(nom)\n",
    "nombremenor=nombres[0]\n",
    "for x in nombres:\n",
    "    if x<nombremenor:\n",
    "        nombremenor=x\n",
    "print(\"La lista completa de nombres ingresado son\")\n",
    "print(nombres)\n",
    "print(\"El nombre menor en orden alfabetico es:\")\n",
    "print(nombremenor)"
   ]
  },
  {
   "cell_type": "markdown",
   "metadata": {},
   "source": [
    "Cargar una lista con 5 elementos enteros. Imprimir el mayor y un\n",
    "mensaje si se repite dentro de la lista (es decir si dicho valor se\n",
    "encuentra en 2 o más posiciones en la lista)"
   ]
  },
  {
   "cell_type": "code",
   "execution_count": 4,
   "metadata": {},
   "outputs": [
    {
     "name": "stdout",
     "output_type": "stream",
     "text": [
      "Lista completa\n",
      "[1, 1, 3, 3, 2]\n",
      "Mayor de la lista\n",
      "3\n",
      "El mayor se repite en la lista\n"
     ]
    }
   ],
   "source": [
    "lista=[]\n",
    "for x in range(5):\n",
    "    valor=int(input(\"Ingrese valor:\"))\n",
    "    lista.append(valor)\n",
    "mayor=lista[0]\n",
    "for x in range(1,5):\n",
    "    if lista[x]>mayor:\n",
    "        mayor=lista[x]\n",
    "print(\"Lista completa\")\n",
    "print(lista)\n",
    "print(\"Mayor de la lista\")\n",
    "print(mayor)\n",
    "\n",
    "cantidad=0\n",
    "for x in range(5):\n",
    "    if lista[x]==mayor:\n",
    "        cantidad+=1\n",
    "if cantidad>1:\n",
    "    print(\"El mayor se repite en la lista\")"
   ]
  }
 ],
 "metadata": {
  "kernelspec": {
   "display_name": "tf",
   "language": "python",
   "name": "python3"
  },
  "language_info": {
   "codemirror_mode": {
    "name": "ipython",
    "version": 3
   },
   "file_extension": ".py",
   "mimetype": "text/x-python",
   "name": "python",
   "nbconvert_exporter": "python",
   "pygments_lexer": "ipython3",
   "version": "3.9.18"
  }
 },
 "nbformat": 4,
 "nbformat_minor": 2
}
