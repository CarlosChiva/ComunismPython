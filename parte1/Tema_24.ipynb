{
 "cells": [
  {
   "cell_type": "markdown",
   "metadata": {},
   "source": [
    "                        Tema 24"
   ]
  },
  {
   "cell_type": "markdown",
   "metadata": {},
   "source": [
    "Problema 1:"
   ]
  },
  {
   "cell_type": "markdown",
   "metadata": {},
   "source": [
    "Confeccionar una aplicación que muestre una presentación en pantalla del programa. Solicite la carga de dos valores y nos muestre la suma. Mostrar finalmente un mensaje de despedida del programa."
   ]
  },
  {
   "cell_type": "code",
   "execution_count": 1,
   "metadata": {},
   "outputs": [],
   "source": [
    "def mostrar_mensaje(mensaje):\n",
    "    print(\"*************************************************\")\n",
    "    print(mensaje)\n",
    "    print(\"*************************************************\")"
   ]
  },
  {
   "cell_type": "code",
   "execution_count": 2,
   "metadata": {},
   "outputs": [],
   "source": [
    "def carga_suma():\n",
    "    valor1=int(input(\"Ingrese el primer valor:\"))\n",
    "    valor2=int(input(\"Ingrese el segundo valor:\"))\n",
    "    suma=valor1+valor2\n",
    "    print(f\"La suma de los dos valores es: {valor1+valor2}\")"
   ]
  },
  {
   "cell_type": "code",
   "execution_count": 3,
   "metadata": {},
   "outputs": [
    {
     "name": "stdout",
     "output_type": "stream",
     "text": [
      "*************************************************\n",
      "El programa calcula la suma de dos valores ingresados por teclado.\n",
      "*************************************************\n",
      "La suma de los dos valores es: 3\n",
      "*************************************************\n",
      "Gracias por utilizar este programa\n",
      "*************************************************\n"
     ]
    }
   ],
   "source": [
    "mostrar_mensaje(\"El programa calcula la suma de dos valores ingresados por teclado.\")\n",
    "carga_suma()\n",
    "mostrar_mensaje(\"Gracias por utilizar este programa\")"
   ]
  },
  {
   "cell_type": "markdown",
   "metadata": {},
   "source": [
    "Problema 2:"
   ]
  },
  {
   "cell_type": "markdown",
   "metadata": {},
   "source": [
    "Confeccionar una función que reciba tres enteros y nos muestre el mayor de ellos. La carga de los valores hacerlo por teclado."
   ]
  },
  {
   "cell_type": "code",
   "execution_count": 4,
   "metadata": {},
   "outputs": [],
   "source": [
    "def mostrar_mayor(v1,v2,v3):\n",
    "    print(\"El valor mayor de los tres numeros es\")\n",
    "    if v1>v2 and v1>v3:\n",
    "        print(v1)\n",
    "    else:\n",
    "        if v2>v3:\n",
    "            print(v2)\n",
    "        else:\n",
    "            print(v3)"
   ]
  },
  {
   "cell_type": "code",
   "execution_count": 5,
   "metadata": {},
   "outputs": [],
   "source": [
    "def cargar():\n",
    "    valor1=int(input(\"Ingrese el primer valor:\"))\n",
    "    valor2=int(input(\"Ingrese el segundo valor:\"))\n",
    "    valor3=int(input(\"Ingrese el tercer valor:\"))\n",
    "    mostrar_mayor(valor1,valor2,valor3)"
   ]
  },
  {
   "cell_type": "code",
   "execution_count": 6,
   "metadata": {},
   "outputs": [
    {
     "name": "stdout",
     "output_type": "stream",
     "text": [
      "El valor mayor de los tres numeros es\n",
      "5\n"
     ]
    }
   ],
   "source": [
    "cargar()"
   ]
  },
  {
   "cell_type": "markdown",
   "metadata": {},
   "source": [
    "Problema 3:"
   ]
  },
  {
   "cell_type": "markdown",
   "metadata": {},
   "source": [
    "Desarrollar un programa que permita ingresar el lado de un cuadrado. Luego preguntar si quiere calcular y mostrar su perímetro o su superficie."
   ]
  },
  {
   "cell_type": "code",
   "execution_count": 7,
   "metadata": {},
   "outputs": [],
   "source": [
    "def mostrar_perimetro(lado):\n",
    "    per=lado*4\n",
    "    print(\"El perimetro es\",per)"
   ]
  },
  {
   "cell_type": "code",
   "execution_count": 8,
   "metadata": {},
   "outputs": [],
   "source": [
    "def mostrar_superficie(lado):\n",
    "    sup=lado*lado\n",
    "    print(\"La superficie es\",sup)"
   ]
  },
  {
   "cell_type": "code",
   "execution_count": 9,
   "metadata": {},
   "outputs": [],
   "source": [
    "def cargar_dato():\n",
    "    la=int(input(\"Ingrese el valor del lado de un cuadrado:\"))\n",
    "    respuesta=input(\"Quiere calcular el perimetro o la superficie[ingresar texto: perimetro/superficie]?\")\n",
    "    if respuesta==\"perimetro\":\n",
    "        mostrar_perimetro(la)\n",
    "    if respuesta==\"superficie\":\n",
    "        mostrar_superficie(la)"
   ]
  },
  {
   "cell_type": "code",
   "execution_count": 10,
   "metadata": {},
   "outputs": [
    {
     "name": "stdout",
     "output_type": "stream",
     "text": [
      "El perimetro es 8\n"
     ]
    }
   ],
   "source": [
    "cargar_dato()"
   ]
  },
  {
   "cell_type": "markdown",
   "metadata": {},
   "source": [
    "Problemas propuestos:"
   ]
  },
  {
   "cell_type": "markdown",
   "metadata": {},
   "source": [
    "Desarrollar una funcion que reciba un string como parametro y nos\n",
    "muestre la cantidad de vocales. Llamarla desde el bloque principal del programa 3 veces con string distintos."
   ]
  },
  {
   "cell_type": "code",
   "execution_count": 11,
   "metadata": {},
   "outputs": [],
   "source": [
    "def cantidad_vocales(cadena):\n",
    "    cant=0\n",
    "    for x in range(len(cadena)):\n",
    "        if cadena[x]==\"a\" or cadena[x]==\"e\" or cadena[x]==\"i\" or cadena[x]==\"o\" or cadena[x]==\"u\":\n",
    "            cant+=1\n",
    "    print(\"Cantidad de vocales de la palabra\",cadena,\"es\",cant)"
   ]
  },
  {
   "cell_type": "code",
   "execution_count": 12,
   "metadata": {},
   "outputs": [
    {
     "name": "stdout",
     "output_type": "stream",
     "text": [
      "Cantidad de vocales de la palabra hola es 2\n",
      "Cantidad de vocales de la palabra administracion es 6\n",
      "Cantidad de vocales de la palabra correr es 2\n"
     ]
    }
   ],
   "source": [
    "cantidad_vocales(\"hola\")\n",
    "cantidad_vocales(\"administracion\")\n",
    "cantidad_vocales(\"correr\")"
   ]
  },
  {
   "cell_type": "markdown",
   "metadata": {},
   "source": [
    "Confeccionar una función que reciba tres enteros y los muestre ordenados de menor a mayor. En otra función solicitar la carga de 3\n",
    "enteros por teclado y proceder a llamar a la primer función definida."
   ]
  },
  {
   "cell_type": "code",
   "execution_count": 13,
   "metadata": {},
   "outputs": [],
   "source": [
    "def ordenar_imprimir(v1,v2,v3):\n",
    "    if v1<v2 and v1<v3:\n",
    "        if (v2<v3):\n",
    "            print(v1,v2,v3)\n",
    "        else:\n",
    "            print(v1,v3,v2)\n",
    "    else:\n",
    "        if (v2<v3):\n",
    "            if (v1<v3):\n",
    "                print(v2,v1,v3)\n",
    "            else:\n",
    "                print(v2,v3,v1)\n",
    "        else:\n",
    "            if (v1<v2):\n",
    "                print(v3,v1,v2)\n",
    "            else:\n",
    "                print(v3,v2,v1)"
   ]
  },
  {
   "cell_type": "code",
   "execution_count": 14,
   "metadata": {},
   "outputs": [],
   "source": [
    "def cargar():\n",
    "    num1=int(input(\"Ingrese primer valor:\"))\n",
    "    num2=int(input(\"Ingrese segundo valor:\"))\n",
    "    num3=int(input(\"Ingrese tercer valor:\"))\n",
    "    ordenar_imprimir(num1,num2,num3)"
   ]
  },
  {
   "cell_type": "code",
   "execution_count": 15,
   "metadata": {},
   "outputs": [
    {
     "name": "stdout",
     "output_type": "stream",
     "text": [
      "1 2 3\n"
     ]
    }
   ],
   "source": [
    "cargar()"
   ]
  }
 ],
 "metadata": {
  "kernelspec": {
   "display_name": "tf",
   "language": "python",
   "name": "python3"
  },
  "language_info": {
   "codemirror_mode": {
    "name": "ipython",
    "version": 3
   },
   "file_extension": ".py",
   "mimetype": "text/x-python",
   "name": "python",
   "nbconvert_exporter": "python",
   "pygments_lexer": "ipython3",
   "version": "3.9.18"
  }
 },
 "nbformat": 4,
 "nbformat_minor": 2
}
