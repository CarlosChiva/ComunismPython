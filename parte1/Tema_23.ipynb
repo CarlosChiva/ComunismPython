{
 "cells": [
  {
   "cell_type": "markdown",
   "metadata": {},
   "source": [
    "                        Tema 23"
   ]
  },
  {
   "cell_type": "markdown",
   "metadata": {},
   "source": [
    "Problema 1:"
   ]
  },
  {
   "cell_type": "markdown",
   "metadata": {},
   "source": [
    "Confeccionar una aplicación que muestre una presentación en pantalla del programa. Solicite la carga de dos valores y nos muestre la suma. Mostrar finalmente un mensaje de despedida del programa.\n",
    "Implementar estas actividades en tres funciones."
   ]
  },
  {
   "cell_type": "code",
   "execution_count": 1,
   "metadata": {},
   "outputs": [],
   "source": [
    "def presentacion():\n",
    "    print(\"Programa que permite cargar dos valores por teclado.\")\n",
    "    print(\"Efectua la suma de los valores\")\n",
    "    print(\"Muestra el resultado de la suma\")\n",
    "    print(\"*******************************\")"
   ]
  },
  {
   "cell_type": "code",
   "execution_count": 2,
   "metadata": {},
   "outputs": [],
   "source": [
    "def carga_suma():\n",
    "    valor1=int(input(\"Ingrese el primer valor:\"))\n",
    "    valor2=int(input(\"Ingrese el segundo valor:\"))\n",
    "    suma=valor1+valor2\n",
    "    print(\"La suma de los dos valores es:\",suma)"
   ]
  },
  {
   "cell_type": "code",
   "execution_count": 3,
   "metadata": {},
   "outputs": [],
   "source": [
    "def finalizacion():\n",
    "    print(\"*******************************\")\n",
    "    print(\"Gracias por utilizar este programa\")"
   ]
  },
  {
   "cell_type": "code",
   "execution_count": 4,
   "metadata": {},
   "outputs": [
    {
     "name": "stdout",
     "output_type": "stream",
     "text": [
      "Programa que permite cargar dos valores por teclado.\n",
      "Efectua la suma de los valores\n",
      "Muestra el resultado de la suma\n",
      "*******************************\n",
      "La suma de los dos valores es: 3\n",
      "*******************************\n",
      "Gracias por utilizar este programa\n"
     ]
    }
   ],
   "source": [
    "presentacion()\n",
    "carga_suma()\n",
    "finalizacion()"
   ]
  },
  {
   "cell_type": "markdown",
   "metadata": {},
   "source": [
    "Problema 2:"
   ]
  },
  {
   "cell_type": "markdown",
   "metadata": {},
   "source": [
    "Confeccionar una aplicación que solicite la carga de dos valores enteros y muestre su suma.\n",
    "Repetir la carga e impresion de la suma 5 veces.\n",
    "Mostrar una línea separadora después de cada vez que cargamos dos valores y su suma."
   ]
  },
  {
   "cell_type": "code",
   "execution_count": 5,
   "metadata": {},
   "outputs": [],
   "source": [
    "def carga_suma():\n",
    "    valor1=int(input(\"Ingrese el primer valor:\"))\n",
    "    valor2=int(input(\"Ingrese el segundo valor:\"))\n",
    "    suma=valor1+valor2\n",
    "    print(f\"La suma de los dos valores es: {valor1+valor2}\")"
   ]
  },
  {
   "cell_type": "code",
   "execution_count": 6,
   "metadata": {},
   "outputs": [],
   "source": [
    "def separacion():\n",
    "    print(\"*******************************\")"
   ]
  },
  {
   "cell_type": "code",
   "execution_count": 7,
   "metadata": {},
   "outputs": [
    {
     "name": "stdout",
     "output_type": "stream",
     "text": [
      "La suma de los dos valores es: 9\n",
      "*******************************\n",
      "La suma de los dos valores es: 3\n",
      "*******************************\n",
      "La suma de los dos valores es: 7\n",
      "*******************************\n",
      "La suma de los dos valores es: 9\n",
      "*******************************\n",
      "La suma de los dos valores es: 7\n",
      "*******************************\n"
     ]
    }
   ],
   "source": [
    "for x in range(5):\n",
    "    carga_suma()\n",
    "    separacion()"
   ]
  }
 ],
 "metadata": {
  "kernelspec": {
   "display_name": "tf",
   "language": "python",
   "name": "python3"
  },
  "language_info": {
   "codemirror_mode": {
    "name": "ipython",
    "version": 3
   },
   "file_extension": ".py",
   "mimetype": "text/x-python",
   "name": "python",
   "nbconvert_exporter": "python",
   "pygments_lexer": "ipython3",
   "version": "3.9.18"
  }
 },
 "nbformat": 4,
 "nbformat_minor": 2
}
