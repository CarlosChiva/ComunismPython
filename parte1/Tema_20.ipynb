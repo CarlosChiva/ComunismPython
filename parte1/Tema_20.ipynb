{
 "cells": [
  {
   "cell_type": "markdown",
   "metadata": {},
   "source": [
    "                        Tema 20"
   ]
  },
  {
   "cell_type": "markdown",
   "metadata": {},
   "source": [
    "Problema 1:"
   ]
  },
  {
   "cell_type": "markdown",
   "metadata": {},
   "source": [
    "Crear una lista por asignación. La lista tiene que tener cuatro elementos. Cada elemento debe ser una lista de 3 enteros.\n",
    "Imprimir sus elementos accediendo de diferentes modos."
   ]
  },
  {
   "cell_type": "code",
   "execution_count": 1,
   "metadata": {},
   "outputs": [
    {
     "name": "stdout",
     "output_type": "stream",
     "text": [
      "[[1, 2, 3], [4, 5, 6], [7, 8, 9], [10, 11, 12]]\n",
      "---------\n",
      "[1, 2, 3]\n",
      "---------\n",
      "1\n",
      "---------\n",
      "1\n",
      "2\n",
      "3\n",
      "---------\n",
      "1\n",
      "2\n",
      "3\n",
      "4\n",
      "5\n",
      "6\n",
      "7\n",
      "8\n",
      "9\n",
      "10\n",
      "11\n",
      "12\n"
     ]
    }
   ],
   "source": [
    "lista=[[1,2,3], [4,5,6], [7,8,9], [10,11,12]]\n",
    "print(lista)\n",
    "print(\"---------\")\n",
    "print(lista[0])\n",
    "print(\"---------\")\n",
    "print(lista[0][0])\n",
    "print(\"---------\")\n",
    "for x in range(len(lista[0])):\n",
    "    print(lista[0][x])\n",
    "print(\"---------\")\n",
    "for k in range(len(lista)):\n",
    "    for x in range(len(lista[k])):\n",
    "        print(lista[k][x])"
   ]
  },
  {
   "cell_type": "markdown",
   "metadata": {},
   "source": [
    "Problema 2:"
   ]
  },
  {
   "cell_type": "markdown",
   "metadata": {},
   "source": [
    "Crear una lista por asignación. La lista tiene que tener 2 elementos. Cada elemento debe ser una lista de 5 enteros.\n",
    "Calcular y mostrar la suma de cada lista contenida en la lista principal."
   ]
  },
  {
   "cell_type": "code",
   "execution_count": 2,
   "metadata": {},
   "outputs": [
    {
     "name": "stdout",
     "output_type": "stream",
     "text": [
      "5\n",
      "10\n",
      "15\n"
     ]
    }
   ],
   "source": [
    "lista=[[1,1,1,1,1], [2,2,2,2,2]]\n",
    "suma1=0\n",
    "for x in range(len(lista[0])):\n",
    "    suma1+=lista[0][x]\n",
    "print(suma1)\n",
    "suma2=0\n",
    "for j in range(len(lista[1])):\n",
    "    suma2+=lista[1][j]\n",
    "print(suma2)\n",
    "print(f\"{suma1+suma2}\")\n"
   ]
  },
  {
   "cell_type": "markdown",
   "metadata": {},
   "source": [
    "Problema 3:"
   ]
  },
  {
   "cell_type": "markdown",
   "metadata": {},
   "source": [
    "Crear una lista por asignación. La lista tiene que tener 5 elementos. Cada elemento debe ser una lista, la primera lista tiene que tener un elemento, la segunda dos elementos, la tercera tres elementos y así sucesivamente. Sumar todos los valores de las listas."
   ]
  },
  {
   "cell_type": "code",
   "execution_count": 3,
   "metadata": {},
   "outputs": [
    {
     "name": "stdout",
     "output_type": "stream",
     "text": [
      "35\n"
     ]
    }
   ],
   "source": [
    "lista=[[1], [1,2], [1,2,3], [1,2,3,4], [1,2,3,4,5]]\n",
    "suma=0\n",
    "for k in range(len(lista)):\n",
    "    for x in range(len(lista[k])):\n",
    "        suma+=lista[k][x]\n",
    "print(suma)"
   ]
  },
  {
   "cell_type": "markdown",
   "metadata": {},
   "source": [
    "Problema propuesto"
   ]
  },
  {
   "cell_type": "markdown",
   "metadata": {},
   "source": [
    "Imprimir la lista. Luego fijar con el valor cero todos los elementos\n",
    "mayores a 50 del primer elemento de \"lista\". Volver a imprimir la lista."
   ]
  },
  {
   "cell_type": "code",
   "execution_count": 4,
   "metadata": {},
   "outputs": [
    {
     "name": "stdout",
     "output_type": "stream",
     "text": [
      "[[100, 7, 85, 8], [4, 8, 56, 25], [67, 89, 23, 1], [78, 56]]\n",
      "[[0, 7, 0, 8], [4, 8, 56, 25], [67, 89, 23, 1], [78, 56]]\n"
     ]
    }
   ],
   "source": [
    "lista=[[100,7,85,8], [4,8,56,25], [67,89,23,1], [78,56]]\n",
    "print(lista)\n",
    "for x in range(len(lista[0])):\n",
    "    if lista[0][x]>50:\n",
    "        lista[0][x]=0\n",
    "print(lista)"
   ]
  },
  {
   "cell_type": "markdown",
   "metadata": {},
   "source": [
    "Imprimir la lista. Luego fijar con el valor cero todos los elementos\n",
    "mayores a 10 contenidos en todos los elementos de la variable \"lista\". Volver a imprimir la lista"
   ]
  },
  {
   "cell_type": "code",
   "execution_count": 5,
   "metadata": {},
   "outputs": [
    {
     "name": "stdout",
     "output_type": "stream",
     "text": [
      "[[4, 12, 5, 66], [14, 6, 25], [3, 4, 5, 67, 89, 23, 1], [78, 56]]\n",
      "[[4, 0, 5, 0], [0, 6, 0], [3, 4, 5, 0, 0, 0, 1], [0, 0]]\n"
     ]
    }
   ],
   "source": [
    "lista=[[4,12,5,66], [14,6,25], [3,4,5,67,89,23,1], [78,56]]\n",
    "print(lista)\n",
    "for k in range(len(lista)):\n",
    "    for x in range(len(lista[k])):\n",
    "        if lista[k][x]>10:\n",
    "            lista[k][x]=0\n",
    "print(lista)"
   ]
  },
  {
   "cell_type": "markdown",
   "metadata": {},
   "source": [
    "Crear una lista por asignación con la cantidad de elementos de tipo lista que usted desee. Luego imprimir el último elemento de la lista principal"
   ]
  },
  {
   "cell_type": "code",
   "execution_count": 6,
   "metadata": {},
   "outputs": [
    {
     "name": "stdout",
     "output_type": "stream",
     "text": [
      "['pedro', 'carlos', 'maria']\n"
     ]
    }
   ],
   "source": [
    "lista=[[\"juan\",\"ana\"], [\"luis\"], [\"pedro\",\"carlos\",\"maria\"]]\n",
    "print(lista[len(lista)-1])"
   ]
  }
 ],
 "metadata": {
  "kernelspec": {
   "display_name": "tf",
   "language": "python",
   "name": "python3"
  },
  "language_info": {
   "codemirror_mode": {
    "name": "ipython",
    "version": 3
   },
   "file_extension": ".py",
   "mimetype": "text/x-python",
   "name": "python",
   "nbconvert_exporter": "python",
   "pygments_lexer": "ipython3",
   "version": "3.9.18"
  }
 },
 "nbformat": 4,
 "nbformat_minor": 2
}
