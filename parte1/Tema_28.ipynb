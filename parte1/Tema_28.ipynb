{
 "cells": [
  {
   "cell_type": "markdown",
   "metadata": {},
   "source": [
    "                        Tema 28"
   ]
  },
  {
   "cell_type": "markdown",
   "metadata": {},
   "source": [
    "Problema 1:"
   ]
  },
  {
   "cell_type": "markdown",
   "metadata": {},
   "source": [
    "Confeccionar una función que reciba un string como parámetro y en forma\n",
    "opcional un segundo string con un caracter. La función debe mostrar el string subrayado con el caracter que indica el segundo parámetro"
   ]
  },
  {
   "cell_type": "code",
   "execution_count": 1,
   "metadata": {},
   "outputs": [],
   "source": [
    "def titulo_subrayado(titulo,caracter=\"*\"):\n",
    "    print(titulo)\n",
    "    print(caracter*len(titulo))"
   ]
  },
  {
   "cell_type": "code",
   "execution_count": 2,
   "metadata": {},
   "outputs": [
    {
     "name": "stdout",
     "output_type": "stream",
     "text": [
      "Sistema de Administracion\n",
      "*************************\n",
      "Ventas\n",
      "------\n"
     ]
    }
   ],
   "source": [
    "titulo_subrayado(\"Sistema de Administracion\")\n",
    "titulo_subrayado(\"Ventas\",\"-\")"
   ]
  },
  {
   "cell_type": "markdown",
   "metadata": {},
   "source": [
    "Problemas propuestos:"
   ]
  },
  {
   "cell_type": "markdown",
   "metadata": {},
   "source": [
    "Confeccionar una función que reciba entre 2 y 5 enteros. La misma nos\n",
    "debe retornar la suma de dichos valores. Debe tener tres parámetros por defecto"
   ]
  },
  {
   "cell_type": "code",
   "execution_count": 3,
   "metadata": {},
   "outputs": [],
   "source": [
    "def sumar(v1,v2,v3=0,v4=0,v5=0):\n",
    "    s=v1+v2+v3+v4+v5\n",
    "    return s"
   ]
  },
  {
   "cell_type": "code",
   "execution_count": 4,
   "metadata": {},
   "outputs": [
    {
     "name": "stdout",
     "output_type": "stream",
     "text": [
      "La suma de 5 + 6\n",
      "11\n",
      "La suma de 1 + 2 + 3\n",
      "6\n",
      "La suma de 1 + 2 + 3 + 4 + 5\n",
      "15\n"
     ]
    }
   ],
   "source": [
    "print(\"La suma de 5 + 6\")\n",
    "print(sumar(5,6))\n",
    "print(\"La suma de 1 + 2 + 3\")\n",
    "print(sumar(1,2,3))\n",
    "print(\"La suma de 1 + 2 + 3 + 4 + 5\")\n",
    "x=sumar(1,2,3,4,5)\n",
    "print(x)"
   ]
  }
 ],
 "metadata": {
  "kernelspec": {
   "display_name": "tf",
   "language": "python",
   "name": "python3"
  },
  "language_info": {
   "codemirror_mode": {
    "name": "ipython",
    "version": 3
   },
   "file_extension": ".py",
   "mimetype": "text/x-python",
   "name": "python",
   "nbconvert_exporter": "python",
   "pygments_lexer": "ipython3",
   "version": "3.9.18"
  }
 },
 "nbformat": 4,
 "nbformat_minor": 2
}
