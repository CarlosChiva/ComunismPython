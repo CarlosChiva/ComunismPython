{
 "cells": [
  {
   "cell_type": "markdown",
   "metadata": {},
   "source": [
    "                        Tema 17"
   ]
  },
  {
   "cell_type": "markdown",
   "metadata": {},
   "source": [
    "Problema 1:"
   ]
  },
  {
   "cell_type": "markdown",
   "metadata": {},
   "source": [
    "Desarrollar un programa que permita cargar 5 nombres de personas y sus\n",
    "edades respectivas. Luego de realizar la carga por teclado de todos los datos\n",
    "imprimir los nombres de las personas mayores de edad (mayores o iguales a 18\n",
    "años)"
   ]
  },
  {
   "cell_type": "code",
   "execution_count": 1,
   "metadata": {},
   "outputs": [
    {
     "name": "stdout",
     "output_type": "stream",
     "text": [
      "Nombre de las personas mayores de edad:\n",
      "juan\n",
      "enjuto\n",
      "victor\n"
     ]
    }
   ],
   "source": [
    "nombres=[]\n",
    "edades=[]\n",
    "for x in range(5):\n",
    "    nom=input(\"Ingrese el nombre de la persona:\")\n",
    "    nombres.append(nom)\n",
    "    ed=int(input(\"Ingrese la edad de dicha persona:\"))\n",
    "    edades.append(ed)\n",
    "print(\"Nombre de las personas mayores de edad:\")\n",
    "for x in range(5):\n",
    "    if edades[x]>=18:\n",
    "        print(nombres[x])"
   ]
  },
  {
   "cell_type": "markdown",
   "metadata": {},
   "source": [
    "Problemas propuestos"
   ]
  },
  {
   "cell_type": "markdown",
   "metadata": {},
   "source": [
    "Crear y cargar dos listas con los nombres de 5 productos en una y sus\n",
    "respectivos precios en otra. Definir dos listas paralelas. Mostrar cuantos\n",
    "productos tienen un precio mayor al primer producto ingresado."
   ]
  },
  {
   "cell_type": "code",
   "execution_count": 2,
   "metadata": {},
   "outputs": [
    {
     "name": "stdout",
     "output_type": "stream",
     "text": [
      "Cantidad de productos con un precio mayor al primer producto ingresado\n",
      "3\n"
     ]
    }
   ],
   "source": [
    "productos=[]\n",
    "precios=[]\n",
    "for x in range(5):\n",
    "    nom=input(\"Ingrese el nombre del producto:\")\n",
    "    productos.append(nom)\n",
    "    pre=int(input(\"Ingrese el precio de dicho producto:\"))\n",
    "    precios.append(pre)\n",
    "cantidad=0\n",
    "for x in range(0,5):\n",
    "    if precios[x]>precios[0]:\n",
    "        cantidad+=1\n",
    "print(\"Cantidad de productos con un precio mayor al primer producto ingresado\")\n",
    "print(cantidad)"
   ]
  },
  {
   "cell_type": "markdown",
   "metadata": {},
   "source": [
    "En un curso de 4 alumnos se registraron las notas de sus exámenes y se\n",
    "deben procesar de acuerdo a lo siguiente:\n",
    "    a) Ingresar nombre y nota de cada alumno (almacenar los datos en dos\n",
    "listas paralelas)\n",
    "    b) Realizar un listado que muestre los nombres, notas y condición del\n",
    "alumno. En la condición, colocar \"Muy Bueno\" si la nota es mayor o igual\n",
    "a 8, \"Bueno\" si la nota está entre 4 y 7, y colocar \"Insuficiente\" si la nota\n",
    "es inferior a 4.\n",
    "    c) Imprimir cuantos alumnos tienen la leyenda “Muy Bueno”."
   ]
  },
  {
   "cell_type": "code",
   "execution_count": 3,
   "metadata": {},
   "outputs": [
    {
     "name": "stdout",
     "output_type": "stream",
     "text": [
      "enjutomojamuto\n",
      "10\n",
      "Muy Bueno\n",
      "victor\n",
      "5\n",
      "Bueno\n",
      "calamardo\n",
      "7\n",
      "Bueno\n",
      "susi gala\n",
      "10\n",
      "Muy Bueno\n",
      "La cantidad de alumnos muy buenos son\n",
      "2\n"
     ]
    }
   ],
   "source": [
    "nombres=[]\n",
    "notas=[]\n",
    "for x in range(4):\n",
    "    nom=input(\"Ingrese nombre del alumno:\")\n",
    "    nombres.append(nom)\n",
    "    no=int(input(\"Ingrese la nota de dicho alumno:\"))\n",
    "    notas.append(no)\n",
    "cantidad=0\n",
    "for x in range(4):\n",
    "    print(nombres[x])\n",
    "    print(notas[x])\n",
    "    if notas[x]>=8:\n",
    "        print(\"Muy Bueno\")\n",
    "        cantidad+=1\n",
    "    else:\n",
    "        if notas[x]>=4:\n",
    "            print(\"Bueno\")\n",
    "        else:\n",
    "            print(\"Insuficiente\")\n",
    "print(\"La cantidad de alumnos muy buenos son\")\n",
    "print(cantidad)"
   ]
  },
  {
   "cell_type": "markdown",
   "metadata": {},
   "source": [
    "Realizar un programa que pida la carga de dos listas numéricas enteras\n",
    "de 4 elementos cada una. Generar una tercer lista que surja de la sumade los elementos de la misma posición de cada lista. Mostrar esta tercer\n",
    "lista."
   ]
  },
  {
   "cell_type": "code",
   "execution_count": 5,
   "metadata": {},
   "outputs": [
    {
     "name": "stdout",
     "output_type": "stream",
     "text": [
      "Carga de la primer lista\n"
     ]
    },
    {
     "name": "stdout",
     "output_type": "stream",
     "text": [
      "Carga de la segunda lista\n",
      "Lista resultante:\n",
      "[2, 4, 6, 8]\n"
     ]
    }
   ],
   "source": [
    "lista1=[]\n",
    "print(\"Carga de la primer lista\")\n",
    "for x in range(4):\n",
    "    valor=int(input(\"Ingrese valor:\"))\n",
    "    lista1.append(valor)\n",
    "lista2=[]\n",
    "print(\"Carga de la segunda lista\")\n",
    "for x in range(4):\n",
    "    valor=int(input(\"Ingrese valor:\"))\n",
    "    lista2.append(valor)\n",
    "    listasuma=[]\n",
    "for x in range(4):\n",
    "    suma=lista1[x]+lista2[x]\n",
    "    listasuma.append(suma)\n",
    "print(\"Lista resultante:\")\n",
    "print(listasuma)"
   ]
  }
 ],
 "metadata": {
  "kernelspec": {
   "display_name": "tf",
   "language": "python",
   "name": "python3"
  },
  "language_info": {
   "codemirror_mode": {
    "name": "ipython",
    "version": 3
   },
   "file_extension": ".py",
   "mimetype": "text/x-python",
   "name": "python",
   "nbconvert_exporter": "python",
   "pygments_lexer": "ipython3",
   "version": "3.9.18"
  }
 },
 "nbformat": 4,
 "nbformat_minor": 2
}
