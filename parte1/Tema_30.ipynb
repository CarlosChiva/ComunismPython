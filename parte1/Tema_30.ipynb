{
 "cells": [
  {
   "cell_type": "markdown",
   "metadata": {},
   "source": [
    "                        Tema 30"
   ]
  },
  {
   "cell_type": "markdown",
   "metadata": {},
   "source": [
    "Problema 1:"
   ]
  },
  {
   "cell_type": "markdown",
   "metadata": {},
   "source": [
    "Confeccionar una función que reciba entre 2 y n (siendo n = 2,3,4,5,6 etc.) valores enteros, retornar la suma de dichos parámetros."
   ]
  },
  {
   "cell_type": "code",
   "execution_count": 1,
   "metadata": {},
   "outputs": [],
   "source": [
    "def sumar(v1,v2,*lista):\n",
    "    suma=v1+v2\n",
    "    for x in range(len(lista)):\n",
    "        suma=suma+lista[x]\n",
    "    return suma"
   ]
  },
  {
   "cell_type": "code",
   "execution_count": 2,
   "metadata": {},
   "outputs": [
    {
     "name": "stdout",
     "output_type": "stream",
     "text": [
      "La suma de 1+2\n",
      "3\n",
      "La suma de 1+2+3+4\n",
      "10\n",
      "La suma de 1+2+3+4+5+6+7+8+9+10\n",
      "55\n"
     ]
    }
   ],
   "source": [
    "print(\"La suma de 1+2\")\n",
    "print(sumar(1,2))\n",
    "print(\"La suma de 1+2+3+4\")\n",
    "print(sumar(1,2,3,4))\n",
    "print(\"La suma de 1+2+3+4+5+6+7+8+9+10\")\n",
    "print(sumar(1,2,3,4,5,6,7,8,9,10))"
   ]
  },
  {
   "cell_type": "markdown",
   "metadata": {},
   "source": [
    "Problemas propuestos:"
   ]
  },
  {
   "cell_type": "markdown",
   "metadata": {},
   "source": [
    "Confeccionar una función que reciba una serie de edades y me retorne la\n",
    "cantidad que son mayores o iguales a 18 (como mínimo se envía un\n",
    "entero a la función)"
   ]
  },
  {
   "cell_type": "code",
   "execution_count": 3,
   "metadata": {},
   "outputs": [],
   "source": [
    "def cantidad_mayores18(edad1,*edades):\n",
    "    cant=0\n",
    "    if edad1>=18:\n",
    "        cant+=1\n",
    "        for x in range(len(edades)):\n",
    "            if edades[x]>=18:\n",
    "                cant+=1\n",
    "    return cant"
   ]
  },
  {
   "cell_type": "code",
   "execution_count": 4,
   "metadata": {},
   "outputs": [
    {
     "name": "stdout",
     "output_type": "stream",
     "text": [
      "La cantidad de personas mayores a 18 son: 3\n"
     ]
    }
   ],
   "source": [
    "print(\"La cantidad de personas mayores a 18 son:\", cantidad_mayores18(23,6,8,19,24))"
   ]
  }
 ],
 "metadata": {
  "kernelspec": {
   "display_name": "tf",
   "language": "python",
   "name": "python3"
  },
  "language_info": {
   "codemirror_mode": {
    "name": "ipython",
    "version": 3
   },
   "file_extension": ".py",
   "mimetype": "text/x-python",
   "name": "python",
   "nbconvert_exporter": "python",
   "pygments_lexer": "ipython3",
   "version": "3.9.18"
  }
 },
 "nbformat": 4,
 "nbformat_minor": 2
}
