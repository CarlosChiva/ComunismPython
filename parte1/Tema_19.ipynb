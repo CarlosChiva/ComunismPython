{
 "cells": [
  {
   "cell_type": "markdown",
   "metadata": {},
   "source": [
    "                        Tema 19"
   ]
  },
  {
   "cell_type": "markdown",
   "metadata": {},
   "source": [
    "Problema 1:"
   ]
  },
  {
   "cell_type": "markdown",
   "metadata": {},
   "source": [
    "Confeccionar un programa que permita cargar los nombres de 5 alumnos y sus notas respectivas. Luego ordenar las notas de mayor a menor. Imprimir las notas y los nombres de los alumnos."
   ]
  },
  {
   "cell_type": "code",
   "execution_count": 1,
   "metadata": {},
   "outputs": [
    {
     "name": "stdout",
     "output_type": "stream",
     "text": [
      "Lista de alumnos y sus notas ordenadas de mayor a menor\n",
      "Alumno: agapitodesousa  -> nota: 10\n",
      "Alumno: chad  -> nota: 10\n",
      "Alumno: omelete  -> nota: 4\n",
      "Alumno: andro  -> nota: 1\n",
      "Alumno: charo  -> nota: 1\n"
     ]
    }
   ],
   "source": [
    "alumnos=[]\n",
    "notas=[]\n",
    "for x in range(5):\n",
    "    nom=input(\"Ingrese el nombre del alumno:\")\n",
    "    alumnos.append(nom)\n",
    "    no=int(input(\"Ingrese la nota de dicho alumno:\"))\n",
    "    notas.append(no)\n",
    "for k in range(4):\n",
    "    for x in range(4-k):\n",
    "        if notas[x]<notas[x+1]:\n",
    "            aux1=notas[x]\n",
    "            notas[x]=notas[x+1]\n",
    "            notas[x+1]=aux1\n",
    "            aux2=alumnos[x]\n",
    "            alumnos[x]=alumnos[x+1]\n",
    "            alumnos[x+1]=aux2\n",
    "print(\"Lista de alumnos y sus notas ordenadas de mayor a menor\")\n",
    "for x in range(5):\n",
    "    print(\"Alumno: {}  -> nota: {}\".format(alumnos[x],notas[x]))\n"
   ]
  },
  {
   "cell_type": "markdown",
   "metadata": {},
   "source": [
    "Problema propuesto"
   ]
  },
  {
   "cell_type": "markdown",
   "metadata": {},
   "source": [
    "Crear y cargar en un lista los nombres de 5 países y en otra lista paralela la cantidad de habitantes del mismo. Ordenar alfabéticamente e imprimir los resultados. Por último ordenar con respecto a la cantidad de habitantes (de mayor a menor) e imprimir nuevamente"
   ]
  },
  {
   "cell_type": "code",
   "execution_count": 2,
   "metadata": {},
   "outputs": [
    {
     "name": "stdout",
     "output_type": "stream",
     "text": [
      "Listado de paises en orden alfabetico\n",
      "argelia 700000000\n",
      "españistan 10\n",
      "estonia 10\n",
      "morroqo 10000000\n",
      "portugal 500\n",
      "Listado de paises por cantidad de habitantes\n",
      "argelia 700000000\n",
      "morroqo 10000000\n",
      "portugal 500\n",
      "españistan 10\n",
      "estonia 10\n"
     ]
    }
   ],
   "source": [
    "paises=[]\n",
    "habitantes=[]\n",
    "for x in range(5):\n",
    "    nom=input(\"Ingrese el nombre del pais:\")\n",
    "    paises.append(nom)\n",
    "    cant=int(input(\"Cantidad de habitantes\"))\n",
    "    habitantes.append(cant)\n",
    "\n",
    "for k in range(4):\n",
    "    for x in range(4-k):\n",
    "        if paises[x]>paises[x+1]:\n",
    "            aux1=paises[x]\n",
    "            paises[x]=paises[x+1]\n",
    "            paises[x+1]=aux1\n",
    "            aux2=habitantes[x]\n",
    "            habitantes[x]=habitantes[x+1]\n",
    "            habitantes[x+1]=aux2\n",
    "print(\"Listado de paises en orden alfabetico\")\n",
    "for x in range(5):\n",
    "    print(paises[x],habitantes[x])\n",
    "\n",
    "for k in range(4):\n",
    "    for x in range(4-k):\n",
    "        if habitantes[x]<habitantes[x+1]:\n",
    "            aux1=paises[x]\n",
    "            paises[x]=paises[x+1]\n",
    "            paises[x+1]=aux1\n",
    "            aux2=habitantes[x]\n",
    "            habitantes[x]=habitantes[x+1]\n",
    "            habitantes[x+1]=aux2\n",
    "print(\"Listado de paises por cantidad de habitantes\")\n",
    "for x in range(5):\n",
    "    print(paises[x],habitantes[x])"
   ]
  }
 ],
 "metadata": {
  "kernelspec": {
   "display_name": "tf",
   "language": "python",
   "name": "python3"
  },
  "language_info": {
   "codemirror_mode": {
    "name": "ipython",
    "version": 3
   },
   "file_extension": ".py",
   "mimetype": "text/x-python",
   "name": "python",
   "nbconvert_exporter": "python",
   "pygments_lexer": "ipython3",
   "version": "3.9.18"
  }
 },
 "nbformat": 4,
 "nbformat_minor": 2
}
