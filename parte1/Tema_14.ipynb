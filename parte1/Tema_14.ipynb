{
 "cells": [
  {
   "cell_type": "markdown",
   "metadata": {},
   "source": [
    "                    Tema 14"
   ]
  },
  {
   "cell_type": "markdown",
   "metadata": {},
   "source": [
    "Problema 1:\n",
    "Definir una lista que almacene 5 enteros. Sumar todos sus elementos y mostrar\n",
    "dicha suma"
   ]
  },
  {
   "cell_type": "code",
   "execution_count": 2,
   "metadata": {},
   "outputs": [
    {
     "name": "stdout",
     "output_type": "stream",
     "text": [
      "Los elementos de la lista son\n",
      "[1, 14, 8, 70, 9]\n",
      "La suma de todos sus elementos es\n",
      "102\n"
     ]
    }
   ],
   "source": [
    "lista=[1,14,8,70,9]\n",
    "suma=0\n",
    "x=0\n",
    "while x<len(lista):\n",
    "    suma+=lista[x]\n",
    "    x+=1\n",
    "print(\"Los elementos de la lista son\")\n",
    "print(lista)\n",
    "print(\"La suma de todos sus elementos es\")\n",
    "print(suma)\n"
   ]
  },
  {
   "cell_type": "markdown",
   "metadata": {},
   "source": [
    "Problema 2:\n",
    "Definir una lista por asignación que almacene los nombres de los primeros\n",
    "cuatro meses de año. Mostrar el primer y último elemento de la lista solamente."
   ]
  },
  {
   "cell_type": "code",
   "execution_count": 3,
   "metadata": {},
   "outputs": [
    {
     "name": "stdout",
     "output_type": "stream",
     "text": [
      "enero\n",
      "abril\n"
     ]
    }
   ],
   "source": [
    "meses=[\"enero\", \"febrero\", \"marzo\", \"abril\"]\n",
    "print(meses[0]) \n",
    "print(meses[len(meses)-1]) "
   ]
  },
  {
   "cell_type": "markdown",
   "metadata": {},
   "source": [
    "Problema 3:\n",
    "\n",
    "Definir una lista por asignación que almacene en la primer componente el\n",
    "nombre de un alumno y en las dos siguientes sus notas. Imprimir luego el\n",
    "nombre y el promedio de las dos notas."
   ]
  },
  {
   "cell_type": "code",
   "execution_count": 4,
   "metadata": {},
   "outputs": [
    {
     "name": "stdout",
     "output_type": "stream",
     "text": [
      "Nombre del alumno:\n",
      "Umberto\n",
      "Promedio de sus dos notas:\n",
      "6\n"
     ]
    }
   ],
   "source": [
    "lista=[\"Umberto\", 10, 3]\n",
    "print(\"Nombre del alumno:\")\n",
    "print(lista[0])\n",
    "promedio=(lista[1]+lista[2])//2\n",
    "print(\"Promedio de sus dos notas:\")\n",
    "print(promedio)"
   ]
  },
  {
   "cell_type": "markdown",
   "metadata": {},
   "source": [
    "Problemas propuestos"
   ]
  },
  {
   "cell_type": "markdown",
   "metadata": {},
   "source": [
    "Definir por asignación una lista con 8 elementos enteros. Contar cuantos\n",
    "de dichos valores almacenan un valor superior a 100."
   ]
  },
  {
   "cell_type": "code",
   "execution_count": 6,
   "metadata": {},
   "outputs": [
    {
     "name": "stdout",
     "output_type": "stream",
     "text": [
      "La lista esta constituida por los elementos:\n",
      "[1000, 6000, 400, 23, 130, 400, 60, 2000]\n",
      "La cantidad de valores mayores a 100 en la lista son:\n",
      "6\n"
     ]
    }
   ],
   "source": [
    "lista=[1000, 6000, 400, 23, 130, 400, 60, 2000]\n",
    "cantidad=0\n",
    "x=0\n",
    "for x in lista:\n",
    "    if x>100:\n",
    "        cantidad+=1\n",
    "    x+=1\n",
    "print(\"La lista esta constituida por los elementos:\")\n",
    "print(lista)\n",
    "print(\"La cantidad de valores mayores a 100 en la lista son:\")\n",
    "print(cantidad)"
   ]
  },
  {
   "cell_type": "markdown",
   "metadata": {},
   "source": [
    "Definir una lista por asignación con 5 enteros. Mostrar por pantalla solo\n",
    "los elementos con valor iguales o superiores a 7."
   ]
  },
  {
   "cell_type": "code",
   "execution_count": 7,
   "metadata": {},
   "outputs": [
    {
     "name": "stdout",
     "output_type": "stream",
     "text": [
      "Elementos de la lista con valores iguales o superiores a 7\n",
      "8\n",
      "9\n",
      "10\n"
     ]
    }
   ],
   "source": [
    "lista=[8,1,9,2,10]\n",
    "x=0\n",
    "print(\"Elementos de la lista con valores iguales o superiores a 7\")\n",
    "for j in lista:\n",
    "    if j>=7:\n",
    "        print(j)\n",
    "    x+=1"
   ]
  },
  {
   "cell_type": "markdown",
   "metadata": {},
   "source": []
  },
  {
   "cell_type": "markdown",
   "metadata": {},
   "source": [
    "Definir una lista que almacene por asignación los nombres de 5\n",
    "personas. Contar cuantos de esos nombres tienen 5 o más caracteres."
   ]
  },
  {
   "cell_type": "code",
   "execution_count": 8,
   "metadata": {},
   "outputs": [
    {
     "name": "stdout",
     "output_type": "stream",
     "text": [
      "Todos los nombres son\n",
      "['juan', 'ana', 'marcos', 'carlos', 'luis']\n",
      "Cantidad de nombres con 5 o mas caracteres\n",
      "2\n"
     ]
    }
   ],
   "source": [
    "nombres=[\"juan\", \"ana\", \"marcos\", \"carlos\", \"luis\"]\n",
    "cantidad=0\n",
    "x=0\n",
    "for c in nombres:\n",
    "    if len(c)>=5:\n",
    "        cantidad+=1\n",
    "    x+=1\n",
    "print(\"Todos los nombres son\")\n",
    "print(nombres)\n",
    "print(\"Cantidad de nombres con 5 o mas caracteres\")\n",
    "print(cantidad)"
   ]
  }
 ],
 "metadata": {
  "kernelspec": {
   "display_name": "tf",
   "language": "python",
   "name": "python3"
  },
  "language_info": {
   "codemirror_mode": {
    "name": "ipython",
    "version": 3
   },
   "file_extension": ".py",
   "mimetype": "text/x-python",
   "name": "python",
   "nbconvert_exporter": "python",
   "pygments_lexer": "ipython3",
   "version": "3.9.18"
  }
 },
 "nbformat": 4,
 "nbformat_minor": 2
}
