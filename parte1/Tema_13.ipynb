{
 "cells": [
  {
   "cell_type": "markdown",
   "metadata": {},
   "source": [
    "Problema 1:\n",
    "Realizar la carga del nombre de una persona y luego mostrar el primer caracter\n",
    "del nombre y la cantidad de letras que lo componen."
   ]
  },
  {
   "cell_type": "code",
   "execution_count": 1,
   "metadata": {},
   "outputs": [
    {
     "name": "stdout",
     "output_type": "stream",
     "text": [
      "Primer caracter\n",
      "c\n",
      "cantidad de de letras\n",
      "6\n"
     ]
    }
   ],
   "source": [
    "nombre=input(\"Ingrese nombre\")\n",
    "print(\"Primer caracter\")\n",
    "print(nombre[0])\n",
    "print(\"cantidad de de letras\")\n",
    "print(len(nombre))"
   ]
  },
  {
   "cell_type": "markdown",
   "metadata": {},
   "source": [
    "Problema 2:\n",
    "Solicitar la carga del nombre de una persona en minúsculas. Mostrar un mensaje\n",
    "si comienza con vocal dicho nombre."
   ]
  },
  {
   "cell_type": "code",
   "execution_count": 2,
   "metadata": {},
   "outputs": [
    {
     "name": "stdout",
     "output_type": "stream",
     "text": [
      "No comienza por vocal\n"
     ]
    }
   ],
   "source": [
    "nombre=input(\"Ingrese nombre:\")\n",
    "if nombre[0] in ['a','e','i','o','u']:\n",
    "    print(\"El nombre comienza por vocal\")\n",
    "else:\n",
    "    print(\"No comienza por vocal\")    "
   ]
  },
  {
   "cell_type": "markdown",
   "metadata": {},
   "source": [
    "Problema 3:\n",
    "Ingresar un mail por teclado. Verificar si el string ingresado contiene solo un\n",
    "caracter \"@\"."
   ]
  },
  {
   "cell_type": "code",
   "execution_count": 4,
   "metadata": {},
   "outputs": [
    {
     "name": "stdout",
     "output_type": "stream",
     "text": [
      "Contiene solo un caracter @ el mail ingresado\n"
     ]
    }
   ],
   "source": [
    "mail=input(\"Ingrese mail:\")\n",
    "cantidad=0\n",
    "x=0\n",
    "while x<len(mail):\n",
    "    if mail[x]==\"@\":\n",
    "        cantidad=cantidad+1\n",
    "    x+=1\n",
    "if cantidad==1:\n",
    "    print(\"Contiene solo un caracter @ el mail ingresado\")\n",
    "else:\n",
    "    print(\"Incorrecto\")"
   ]
  },
  {
   "cell_type": "markdown",
   "metadata": {},
   "source": [
    "Problema 4:\n",
    "Inicializar un string con la cadena \"mAriA\" luego llamar a sus métodos upper(),\n",
    "lower() y capitalize(), guardar los datos retornados en otros string y mostrarlos\n",
    "por pantalla."
   ]
  },
  {
   "cell_type": "code",
   "execution_count": 5,
   "metadata": {},
   "outputs": [
    {
     "name": "stdout",
     "output_type": "stream",
     "text": [
      "Nombre introducido:mAriA \n",
      " nombre en upper: MARIA\n",
      " nombre en lower maria\n",
      " nombre en capitalize: Maria\n"
     ]
    }
   ],
   "source": [
    "nombre1=\"mAriA\"\n",
    "nombreUpper=nombre1.upper()\n",
    "nombreLower=nombre1.lower()\n",
    "nombreCapitalize=nombre1.capitalize()\n",
    "print(\"Nombre introducido:{} \\n nombre en upper: {}\\n nombre en lower {}\\n nombre en capitalize: {}\".format(nombre1,nombreUpper,nombreLower,nombreCapitalize))"
   ]
  },
  {
   "cell_type": "markdown",
   "metadata": {},
   "source": [
    "Problemas propuestos"
   ]
  },
  {
   "cell_type": "markdown",
   "metadata": {},
   "source": [
    "Cargar una oración por teclado. Mostrar luego cuantos espacios en\n",
    "blanco se ingresaron. Tener en cuenta que un espacio en blanco es igual\n",
    "a\n",
    "\" \", en cambio una cadena vacía es \"\""
   ]
  },
  {
   "cell_type": "code",
   "execution_count": 6,
   "metadata": {},
   "outputs": [
    {
     "name": "stdout",
     "output_type": "stream",
     "text": [
      "La cantidad de espacios en blanco ingresado son\n",
      "3\n"
     ]
    }
   ],
   "source": [
    "oracion=input(\"Ingrese una oracion:\")\n",
    "cantidad=0\n",
    "x=0\n",
    "while x<len(oracion):\n",
    "    if oracion[x]==\" \":\n",
    "        cantidad+=1\n",
    "    x+=1\n",
    "print(\"La cantidad de espacios en blanco ingresado son\")\n",
    "print(cantidad)"
   ]
  },
  {
   "cell_type": "markdown",
   "metadata": {},
   "source": [
    "Ingresar una oración que pueden tener letras tanto en mayúsculas como\n",
    "minúsculas. Contar la cantidad de vocales. Crear un segundo string con\n",
    "toda la oración en minúsculas para que sea más fácil disponer la\n",
    "condición que verifica que es una vocal."
   ]
  },
  {
   "cell_type": "code",
   "execution_count": 7,
   "metadata": {},
   "outputs": [
    {
     "name": "stdout",
     "output_type": "stream",
     "text": [
      "La cantidad de vocales de la oracion son\n",
      "9\n"
     ]
    }
   ],
   "source": [
    "oracion=input(\"Ingrese una oracion:\")\n",
    "oracionmin=oracion.lower()\n",
    "cantidad=0\n",
    "x=0\n",
    "while x<len(oracionmin):\n",
    "    if oracionmin[x]in [\"a\",\"e\",\"i\",\"o\",\"u\"]:\n",
    "        cantidad=cantidad+1\n",
    "    x+=1\n",
    "print(\"La cantidad de vocales de la oracion son\")\n",
    "print(cantidad)"
   ]
  },
  {
   "cell_type": "markdown",
   "metadata": {},
   "source": [
    "Solicitar el ingreso de una clave por teclado y almacenarla en una\n",
    "cadena de caracteres. Controlar que el string ingresado tenga entre 10 y\n",
    "20 caracteres para que sea válido, en caso contrario mostrar un mensaje\n",
    "de error."
   ]
  },
  {
   "cell_type": "code",
   "execution_count": 8,
   "metadata": {},
   "outputs": [
    {
     "name": "stdout",
     "output_type": "stream",
     "text": [
      "Largo incorrecto\n",
      "Largo incorrecto\n",
      "Largo correcto\n"
     ]
    }
   ],
   "source": [
    "clave=\"unodostre\"\n",
    "while (len(clave)<=10 or len(clave)>=20):\n",
    "    clave=input(\"Ingrese una clave que tenga entre 10 y 20 caracteres:\")\n",
    "    if len(clave)>=10 and len(clave)<=20:\n",
    "        print(\"Largo correcto\")\n",
    "    else:\n",
    "        print(\"Largo incorrecto\")\n"
   ]
  }
 ],
 "metadata": {
  "kernelspec": {
   "display_name": "tf",
   "language": "python",
   "name": "python3"
  },
  "language_info": {
   "codemirror_mode": {
    "name": "ipython",
    "version": 3
   },
   "file_extension": ".py",
   "mimetype": "text/x-python",
   "name": "python",
   "nbconvert_exporter": "python",
   "pygments_lexer": "ipython3",
   "version": "3.9.18"
  }
 },
 "nbformat": 4,
 "nbformat_minor": 2
}
