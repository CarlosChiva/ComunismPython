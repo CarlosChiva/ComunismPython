{
 "cells": [
  {
   "cell_type": "markdown",
   "metadata": {},
   "source": [
    "                        Tema 22"
   ]
  },
  {
   "cell_type": "markdown",
   "metadata": {},
   "source": [
    "Problema 1:"
   ]
  },
  {
   "cell_type": "markdown",
   "metadata": {},
   "source": [
    "Crear una lista por asignación con 5 enteros. Eliminar el primero, el tercero y el último de la lista."
   ]
  },
  {
   "cell_type": "code",
   "execution_count": 1,
   "metadata": {},
   "outputs": [
    {
     "name": "stdout",
     "output_type": "stream",
     "text": [
      "agapito 1 2\n",
      "carr 5 5\n",
      "mar 7 3\n"
     ]
    }
   ],
   "source": [
    "lista=[10, 20, 30, 40, 50]\n",
    "print(lista)\n",
    "lista.pop(0)\n",
    "lista.pop(1)\n",
    "lista.pop(2)\n",
    "print(lista)"
   ]
  },
  {
   "cell_type": "markdown",
   "metadata": {},
   "source": [
    "Problema 2:"
   ]
  },
  {
   "cell_type": "markdown",
   "metadata": {},
   "source": [
    "Crear una lista y almacenar 10 enteros pedidos por teclado. Eliminar todos los elementos que sean iguales al número entero 5."
   ]
  },
  {
   "cell_type": "code",
   "execution_count": 2,
   "metadata": {},
   "outputs": [
    {
     "name": "stdout",
     "output_type": "stream",
     "text": [
      "[1, 2, 3, 4, 5, 6, 7, 8, 9, 0]\n",
      "[1, 2, 3, 4, 6, 7, 8, 9, 0]\n"
     ]
    }
   ],
   "source": [
    "lista=[]\n",
    "for x in range(10):\n",
    "    valor=int(input(\"Ingrese valor:\"))\n",
    "    lista.append(valor)\n",
    "print(lista)\n",
    "for x in range(len(lista)-1):\n",
    "    if lista[x]==5:\n",
    "        lista.pop(x)\n",
    "\n",
    "print(lista)"
   ]
  },
  {
   "cell_type": "markdown",
   "metadata": {},
   "source": [
    "Problema propuesto"
   ]
  },
  {
   "cell_type": "markdown",
   "metadata": {},
   "source": [
    "Crear dos listas paralelas. En la primera ingresar los nombres de\n",
    "empleados y en la segunda los sueldos de cada empleado.\n",
    "Ingresar por teclado cuando inicia el programa la cantidad de empleados\n",
    "de la empresa."
   ]
  },
  {
   "cell_type": "code",
   "execution_count": 6,
   "metadata": {},
   "outputs": [
    {
     "name": "stdout",
     "output_type": "stream",
     "text": [
      "Listado completo de empleados\n",
      "Charo Suprema 100000\n",
      "Aliade Mojabragas 1\n",
      "Irene montero 1000000000000000000\n",
      "Listado de empleados que cobran 10000 o menos\n",
      "Aliade Mojabragas 1\n"
     ]
    }
   ],
   "source": [
    "empleados=[]\n",
    "sueldos=[]\n",
    "cant=int(input(\"Cuantos empleados tiene la empresa:\"))\n",
    "for x in range(cant):\n",
    "    nom=input(\"Ingrese el nombre:\")\n",
    "    empleados.append(nom)\n",
    "    su=int(input(\"Ingrese el importe del sueldo:\"))\n",
    "    sueldos.append(su)\n",
    "print(\"Listado completo de empleados\")\n",
    "for x in range(len(sueldos)):\n",
    "    print(empleados[x],sueldos[x])\n",
    "for x in range(len(sueldos)-1):\n",
    "    if sueldos[x]>10000:\n",
    "        sueldos.pop(x)\n",
    "        empleados.pop(x)\n",
    "print(\"Listado de empleados que cobran 10000 o menos\")\n",
    "for x in range(len(sueldos)):\n",
    "    print(empleados[x],sueldos[x])"
   ]
  },
  {
   "cell_type": "markdown",
   "metadata": {},
   "source": [
    "Crear una lista de 5 enteros y cargarlos por teclado. Borrar los elementos mayores o iguales a 10 y generar una nueva lista con dichos valores."
   ]
  },
  {
   "cell_type": "code",
   "execution_count": 8,
   "metadata": {},
   "outputs": [
    {
     "name": "stdout",
     "output_type": "stream",
     "text": [
      "Lista original\n",
      "[7]\n",
      "Lista original\n",
      "[7, 8]\n",
      "Lista original\n",
      "[7, 8, 9]\n",
      "Lista original\n",
      "[7, 8, 9, 10]\n",
      "Lista original\n",
      "[7, 8, 9, 10, 9]\n",
      "Lista despues de borrar los elementos mayores o iguales a 10\n",
      "[7, 8, 9, 9]\n",
      "Lista generada con los elementos mayores o iguales a 10\n",
      "[10]\n"
     ]
    }
   ],
   "source": [
    "lista1=[]\n",
    "for x in range(5):\n",
    "    valor=int(input(\"Ingrese valor:\"))\n",
    "    lista1.append(valor)\n",
    "    print(\"Lista original\")\n",
    "    print(lista1)\n",
    "    lista2=[]\n",
    "\n",
    "for x in range(len(lista1)-1):\n",
    "    if lista1[x]>=10:\n",
    "        lista2.append(lista1.pop(x))\n",
    "\n",
    "print(\"Lista despues de borrar los elementos mayores o iguales a 10\")\n",
    "print(lista1)\n",
    "print(\"Lista generada con los elementos mayores o iguales a 10\")\n",
    "print(lista2)"
   ]
  }
 ],
 "metadata": {
  "kernelspec": {
   "display_name": "tf",
   "language": "python",
   "name": "python3"
  },
  "language_info": {
   "codemirror_mode": {
    "name": "ipython",
    "version": 3
   },
   "file_extension": ".py",
   "mimetype": "text/x-python",
   "name": "python",
   "nbconvert_exporter": "python",
   "pygments_lexer": "ipython3",
   "version": "3.9.18"
  }
 },
 "nbformat": 4,
 "nbformat_minor": 2
}
