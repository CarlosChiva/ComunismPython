{
 "cells": [
  {
   "cell_type": "markdown",
   "metadata": {},
   "source": [
    "                        Tema 15"
   ]
  },
  {
   "cell_type": "markdown",
   "metadata": {},
   "source": [
    "Problema 1:"
   ]
  },
  {
   "cell_type": "markdown",
   "metadata": {},
   "source": [
    "Definir una lista vacía y luego solicitar la carga de 5 enteros por teclado y\n",
    "añadirlos a la lista. Imprimir la lista generada."
   ]
  },
  {
   "cell_type": "code",
   "execution_count": 1,
   "metadata": {},
   "outputs": [
    {
     "name": "stdout",
     "output_type": "stream",
     "text": [
      "[100, 200, 500, 100, 5]\n"
     ]
    }
   ],
   "source": [
    "lista=[]\n",
    "for x in range(5):\n",
    "    valor=int(input(\"Ingrese un valor entero:\"))\n",
    "    lista.append(valor)\n",
    "print(lista)"
   ]
  },
  {
   "cell_type": "markdown",
   "metadata": {},
   "source": [
    "Problema 2:"
   ]
  },
  {
   "cell_type": "markdown",
   "metadata": {},
   "source": [
    "Realizar la carga de valores enteros por teclado, almacenarlos en una lista.\n",
    "Finalizar la carga de enteros al ingresar el cero. Mostrar finalmente el tamaño de\n",
    "la lista."
   ]
  },
  {
   "cell_type": "code",
   "execution_count": 2,
   "metadata": {},
   "outputs": [
    {
     "name": "stdout",
     "output_type": "stream",
     "text": [
      "Tamano de la lista:\n",
      "5\n"
     ]
    }
   ],
   "source": [
    "lista=[]\n",
    "valor=-1\n",
    "while valor!=0:\n",
    "    valor=int(input(\"Ingresar valor (0 para finalizar):\"))\n",
    "    lista.append(valor)\n",
    "print(\"Tamano de la lista:\")\n",
    "print(len(lista))"
   ]
  },
  {
   "cell_type": "markdown",
   "metadata": {},
   "source": [
    "Problemas propuestos"
   ]
  },
  {
   "cell_type": "markdown",
   "metadata": {},
   "source": [
    "Almacenar en una lista los sueldos (valores float) de 5 operarios.\n",
    "Imprimir la lista y el promedio de sueldos."
   ]
  },
  {
   "cell_type": "code",
   "execution_count": 3,
   "metadata": {},
   "outputs": [
    {
     "name": "stdout",
     "output_type": "stream",
     "text": [
      "Lista de sueldos\n",
      "[700.0, 1000.0, 1000.0, 1000.0, 1000.0]\n",
      "Promedio de sueldos\n",
      "940.0\n"
     ]
    }
   ],
   "source": [
    "sueldos=[]\n",
    "suma=0\n",
    "for x in range(5):\n",
    "    valor=float(input(\"Ingrese el sueldo del operario:\"))\n",
    "    sueldos.append(valor)\n",
    "    suma+=valor\n",
    "print(\"Lista de sueldos\")\n",
    "print(sueldos)\n",
    "promedio=suma/5\n",
    "print(\"Promedio de sueldos\")\n",
    "print(promedio)"
   ]
  },
  {
   "cell_type": "markdown",
   "metadata": {},
   "source": [
    "Cargar por teclado y almacenar en una lista las alturas de 5 personas\n",
    "(valores float)\n",
    "Obtener el promedio de las mismas. Contar cuántas personas son más\n",
    "altas que el promedio y cuántas más bajas."
   ]
  },
  {
   "cell_type": "code",
   "execution_count": 4,
   "metadata": {},
   "outputs": [
    {
     "name": "stdout",
     "output_type": "stream",
     "text": [
      "Las alturas ingresadas son\n",
      "[180.0, 160.0, 160.0, 170.0, 169.0]\n",
      "El promedio de las alturas es\n",
      "167.8\n",
      "La cantidad de personas mas bajas al promedio es\n",
      "2\n",
      "La cantidad de personas mas altas al promedio es\n",
      "3\n"
     ]
    }
   ],
   "source": [
    "alturas=[]\n",
    "suma=0\n",
    "for x in range(5):\n",
    "    valor=float(input(\"Ingrese la altura:\"))\n",
    "    alturas.append(valor)\n",
    "    suma+=valor\n",
    "print(\"Las alturas ingresadas son\")\n",
    "print(alturas)\n",
    "promedio=suma/5\n",
    "print(\"El promedio de las alturas es\")\n",
    "print(promedio)\n",
    "altas=0\n",
    "bajas=0\n",
    "for y in alturas:\n",
    "    if y>promedio:\n",
    "        altas+=1\n",
    "    else:\n",
    "        if y<promedio:\n",
    "            bajas+=1\n",
    "print(\"La cantidad de personas mas bajas al promedio es\")\n",
    "print(bajas)\n",
    "print(\"La cantidad de personas mas altas al promedio es\")\n",
    "print(altas)"
   ]
  },
  {
   "cell_type": "markdown",
   "metadata": {},
   "source": [
    "Una empresa tiene dos turnos (mañana y tarde) en los que trabajan 8\n",
    "empleados (4 por la mañana y 4 por la tarde) Confeccionar un programa\n",
    "que permita almacenar los sueldos de los empleados agrupados en dos\n",
    "listas.\n",
    "Imprimir las dos listas de sueldos."
   ]
  },
  {
   "cell_type": "code",
   "execution_count": 5,
   "metadata": {},
   "outputs": [
    {
     "name": "stdout",
     "output_type": "stream",
     "text": [
      "Sueldos turno manana\n",
      "Sueldos turno tarde\n",
      "Turno manana\n",
      "[100.0, 200.0, 100.0, 100.0]\n",
      "Turno tarde\n",
      "[500.0, 500.0, 500.0, 500.0]\n"
     ]
    }
   ],
   "source": [
    "sueldosman=[]\n",
    "print(\"Sueldos turno manana\")\n",
    "for x in range(4):\n",
    "    valor=float(input(\"Ingrese sueldo:\"))\n",
    "    sueldosman.append(valor)\n",
    "sueldostar=[]\n",
    "print(\"Sueldos turno tarde\")\n",
    "for x in range(4):\n",
    "    valor=float(input(\"Ingrese sueldo:\"))\n",
    "    sueldostar.append(valor)\n",
    "print(\"Turno manana\")\n",
    "print(sueldosman)\n",
    "print(\"Turno tarde\")\n",
    "print(sueldostar)"
   ]
  }
 ],
 "metadata": {
  "kernelspec": {
   "display_name": "tf",
   "language": "python",
   "name": "python3"
  },
  "language_info": {
   "codemirror_mode": {
    "name": "ipython",
    "version": 3
   },
   "file_extension": ".py",
   "mimetype": "text/x-python",
   "name": "python",
   "nbconvert_exporter": "python",
   "pygments_lexer": "ipython3",
   "version": "3.9.18"
  }
 },
 "nbformat": 4,
 "nbformat_minor": 2
}
