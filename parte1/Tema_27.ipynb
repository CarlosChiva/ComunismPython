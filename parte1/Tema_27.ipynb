{
 "cells": [
  {
   "cell_type": "markdown",
   "metadata": {},
   "source": [
    "                        Tema 27"
   ]
  },
  {
   "cell_type": "markdown",
   "metadata": {},
   "source": [
    "Problema 1:"
   ]
  },
  {
   "cell_type": "markdown",
   "metadata": {},
   "source": [
    "Confeccionar una función que cargue por teclado una lista de 5 enteros y la retorne. Una segunda función debe recibir una lista y mostrar todos los valores mayores a 10. Desde el bloque principal del programa llamar a ambas funciones."
   ]
  },
  {
   "cell_type": "code",
   "execution_count": 1,
   "metadata": {},
   "outputs": [],
   "source": [
    "def carga_lista():\n",
    "    li=[]\n",
    "    for x in range(5):\n",
    "        valor=int(input(\"Ingrese valor:\"))\n",
    "        li.append(valor)\n",
    "    return li"
   ]
  },
  {
   "cell_type": "code",
   "execution_count": 2,
   "metadata": {},
   "outputs": [],
   "source": [
    "def imprimir_mayor10(li):\n",
    "    print(\"Elementos de la lista mayores a 10\")\n",
    "    for x in range(len(li)):\n",
    "        if li[x]>10:\n",
    "            print(li[x])"
   ]
  },
  {
   "cell_type": "code",
   "execution_count": 4,
   "metadata": {},
   "outputs": [
    {
     "name": "stdout",
     "output_type": "stream",
     "text": [
      "Elementos de la lista mayores a 10\n",
      "11\n"
     ]
    }
   ],
   "source": [
    "lista=carga_lista()\n",
    "imprimir_mayor10(lista)"
   ]
  },
  {
   "cell_type": "markdown",
   "metadata": {},
   "source": [
    "Problema 2:"
   ]
  },
  {
   "cell_type": "markdown",
   "metadata": {},
   "source": [
    "Confeccionar una función que cargue por teclado una lista de 5 enteros y la retorne. Una segunda función debe recibir una lista y retornar el mayor y el menor valor de la lista. Desde el bloque principal del programa llamar a ambas funciones e imprimir el mayor y el menor de la lista."
   ]
  },
  {
   "cell_type": "code",
   "execution_count": 5,
   "metadata": {},
   "outputs": [],
   "source": [
    "def carga_lista():\n",
    "    li=[]\n",
    "    for x in range(5):\n",
    "        valor=int(input(\"Ingrese valor:\"))\n",
    "        li.append(valor)\n",
    "    return li"
   ]
  },
  {
   "cell_type": "code",
   "execution_count": 6,
   "metadata": {},
   "outputs": [],
   "source": [
    "def retornar_mayormenor(li):\n",
    "    ma=li[0]\n",
    "    me=li[0]\n",
    "    for x in range(1,len(li)):\n",
    "        if li[x]>ma:\n",
    "            ma=li[x]\n",
    "        else:\n",
    "            if li[x]<me:\n",
    "                me=li[x]\n",
    "    return [ma,me]"
   ]
  },
  {
   "cell_type": "code",
   "execution_count": 7,
   "metadata": {},
   "outputs": [
    {
     "name": "stdout",
     "output_type": "stream",
     "text": [
      "Mayor elemento de la lista: 5\n",
      "Menor elemento de la lista: 1\n"
     ]
    }
   ],
   "source": [
    "lista=carga_lista()\n",
    "rango=retornar_mayormenor(lista)\n",
    "print(\"Mayor elemento de la lista:\",rango[0])\n",
    "print(\"Menor elemento de la lista:\",rango[1])"
   ]
  },
  {
   "cell_type": "markdown",
   "metadata": {},
   "source": [
    "Problema 3:"
   ]
  },
  {
   "cell_type": "markdown",
   "metadata": {},
   "source": [
    "Desarrollar un programa que permita cargar 5 nombres de personas y sus\n",
    "edades respectivas. Luego de realizar la carga por teclado de todos los datos imprimir los nombres de las personas mayores de edad (mayores o iguales a 18\n",
    "años)\n",
    "Imprimir la edad promedio de las personas."
   ]
  },
  {
   "cell_type": "code",
   "execution_count": 8,
   "metadata": {},
   "outputs": [],
   "source": [
    "def cargar_datos():\n",
    "    nom=[]\n",
    "    ed=[]\n",
    "    for x in range(5):\n",
    "        v1=input(\"Ingrese el nombre de la persona:\")\n",
    "        nom.append(v1)\n",
    "        v2=int(input(\"Ingrese la edad:\"))\n",
    "        ed.append(v2)\n",
    "    return [nom,ed]"
   ]
  },
  {
   "cell_type": "code",
   "execution_count": 9,
   "metadata": {},
   "outputs": [],
   "source": [
    "def mayores_edad(nom,ed):\n",
    "    print(\"Nombres de personas mayores de edad\")\n",
    "    for x in range(len(nom)):\n",
    "        if ed[x]>=18:\n",
    "            print(nom[x])"
   ]
  },
  {
   "cell_type": "code",
   "execution_count": 10,
   "metadata": {},
   "outputs": [],
   "source": [
    "def promedio_edades(ed):\n",
    "    suma=0\n",
    "    for x in range(len(ed)):\n",
    "        suma=suma+ed[x]\n",
    "        promedio=suma//5\n",
    "        print(\"Edad promedio de las personas:\",promedio)"
   ]
  },
  {
   "cell_type": "code",
   "execution_count": 11,
   "metadata": {},
   "outputs": [
    {
     "name": "stdout",
     "output_type": "stream",
     "text": [
      "Nombres de personas mayores de edad\n",
      "tttt\n",
      "Edad promedio de las personas: 0\n",
      "Edad promedio de las personas: 0\n",
      "Edad promedio de las personas: 2\n",
      "Edad promedio de las personas: 5\n",
      "Edad promedio de las personas: 9\n"
     ]
    }
   ],
   "source": [
    "nombres,edades=cargar_datos()\n",
    "mayores_edad(nombres,edades)\n",
    "promedio_edades(edades)"
   ]
  },
  {
   "cell_type": "markdown",
   "metadata": {},
   "source": [
    "Problemas propuestos:"
   ]
  },
  {
   "cell_type": "markdown",
   "metadata": {},
   "source": [
    "En una empresa se almacenaron los sueldos de 10 personas.\n",
    "Desarrollar las siguientes funciones y llamarlas desde el bloque principal:\n",
    "1) Carga de los sueldos en una lista.\n",
    "2) Impresión de todos los sueldos.\n",
    "3) Cuántos tienen un sueldo superior a $4000.\n",
    "4) Retornar el promedio de los sueldos.\n",
    "5) Mostrar todos los sueldos que están por debajo del promedio."
   ]
  },
  {
   "cell_type": "code",
   "execution_count": 12,
   "metadata": {},
   "outputs": [],
   "source": [
    "def cargar_sueldos():\n",
    "    sueldos=[]\n",
    "    for x in range(10):\n",
    "        su=int(input(\"Ingrese sueldo:\"))\n",
    "        sueldos.append(su)\n",
    "    return sueldos"
   ]
  },
  {
   "cell_type": "code",
   "execution_count": 14,
   "metadata": {},
   "outputs": [],
   "source": [
    "def imprimir_sueldos(sueldos):\n",
    "    print(\"Listado de sueldos\")\n",
    "    for x in range(len(sueldos)):\n",
    "        print(sueldos[x])"
   ]
  },
  {
   "cell_type": "code",
   "execution_count": 15,
   "metadata": {},
   "outputs": [],
   "source": [
    "def sueldos_mayor4000(sueldos):\n",
    "    cant=0\n",
    "    for x in range(len(sueldos)):\n",
    "        if sueldos[x]>4000:\n",
    "            cant+=1\n",
    "    print(\"Cantidad de empleados con un sueldo superior a 4000:\",cant)"
   ]
  },
  {
   "cell_type": "code",
   "execution_count": 16,
   "metadata": {},
   "outputs": [],
   "source": [
    "def promedio(sueldos):\n",
    "    suma=0\n",
    "    for x in range(len(sueldos)):\n",
    "        suma=suma+sueldos[x]\n",
    "        promedio=suma//10\n",
    "    return promedio"
   ]
  },
  {
   "cell_type": "code",
   "execution_count": 17,
   "metadata": {},
   "outputs": [],
   "source": [
    "def sueldos_bajos(sueldos):\n",
    "    pro=promedio(sueldos)\n",
    "    print(\"Sueldo promedio de la empresa:\",pro)\n",
    "    print(\"Sueldos inferiores al promedio\")\n",
    "    for x in range(len(sueldos)):\n",
    "        if sueldos[x]<pro:\n",
    "            print(sueldos[x])"
   ]
  },
  {
   "cell_type": "code",
   "execution_count": 18,
   "metadata": {},
   "outputs": [
    {
     "name": "stdout",
     "output_type": "stream",
     "text": [
      "Listado de sueldos\n",
      "10\n",
      "20\n",
      "10\n",
      "13\n",
      "5000\n",
      "1000\n",
      "4\n",
      "10\n",
      "10000\n",
      "13\n",
      "Cantidad de empleados con un sueldo superior a 4000: 2\n",
      "Sueldo promedio de la empresa: 1608\n",
      "Sueldos inferiores al promedio\n",
      "10\n",
      "20\n",
      "10\n",
      "13\n",
      "1000\n",
      "4\n",
      "10\n",
      "13\n"
     ]
    }
   ],
   "source": [
    "sueldos=cargar_sueldos()\n",
    "imprimir_sueldos(sueldos)\n",
    "sueldos_mayor4000(sueldos)\n",
    "sueldos_bajos(sueldos)"
   ]
  },
  {
   "cell_type": "markdown",
   "metadata": {},
   "source": [
    "Desarrollar una aplicación que permita ingresar por teclado los nombres\n",
    "de 5 artículos y sus precios.\n",
    "Definir las siguientes funciones:\n",
    "1) Cargar los nombres de articulos y sus precios.\n",
    "2) Imprimir los nombres y precios.\n",
    "3) Imprimir el nombre de artículo con un precio mayor\n",
    "4) Ingresar por teclado un importe y luego mostrar todos los artículos con\n",
    "un precio menor igual al valor ingresado."
   ]
  },
  {
   "cell_type": "code",
   "execution_count": 19,
   "metadata": {},
   "outputs": [],
   "source": [
    "def cargar_datos():\n",
    "    articulos=[]\n",
    "    precios=[]\n",
    "    for x in range(5):\n",
    "        ar=input(\"Ingrese el nombre del articulo:\")\n",
    "        articulos.append(ar)\n",
    "        pre=int(input(\"Ingrese el precio de dicho articulo:\"))\n",
    "        precios.append(pre)\n",
    "    return [articulos,precios]"
   ]
  },
  {
   "cell_type": "code",
   "execution_count": 20,
   "metadata": {},
   "outputs": [],
   "source": [
    "def imprimir(articulos,precios):\n",
    "    print(\"Listado completo de articulos y sus precios\")\n",
    "    for x in range(len(articulos)):\n",
    "        print(articulos[x],precios[x])"
   ]
  },
  {
   "cell_type": "code",
   "execution_count": 21,
   "metadata": {},
   "outputs": [],
   "source": [
    "def precio_mayor(articulos,precios):\n",
    "    may=precios[0]\n",
    "    pos=0\n",
    "    for x in range(1,len(precios)):\n",
    "        if precios[x]>may:\n",
    "            may=precios[x]\n",
    "            pos=x\n",
    "    print(\"Articulo con un precio mayor es :\",articulos[pos],\"su precio es:\",may)"
   ]
  },
  {
   "cell_type": "code",
   "execution_count": 22,
   "metadata": {},
   "outputs": [],
   "source": [
    "def consulta_precio(articulos,precios):\n",
    "    valor=int(input(\"Ingrese un importe para mostrar los articulos con un precio menor:\"))\n",
    "    for x in range(len(precios)):\n",
    "        if precios[x]<valor:\n",
    "          print(articulos[x],precios[x])"
   ]
  },
  {
   "cell_type": "code",
   "execution_count": 23,
   "metadata": {},
   "outputs": [
    {
     "name": "stdout",
     "output_type": "stream",
     "text": [
      "Listado completo de articulos y sus precios\n",
      "fhsakdf 123\n",
      "vbcxn,m 456\n",
      "ruqwio 9\n",
      "bvzxkj 100\n",
      "qwer 800\n",
      "Articulo con un precio mayor es : qwer su precio es: 800\n",
      "ruqwio 9\n"
     ]
    }
   ],
   "source": [
    "articulos,precios=cargar_datos()\n",
    "imprimir(articulos,precios)\n",
    "precio_mayor(articulos,precios)\n",
    "consulta_precio(articulos,precios)"
   ]
  },
  {
   "cell_type": "markdown",
   "metadata": {},
   "source": [
    "Confeccionar un programa que permita:\n",
    "1) Cargar una lista de 10 elementos enteros.\n",
    "2) Generar dos listas a partir de la primera. En una guardar los valores\n",
    "positivos y en otra los negativos.\n",
    "3) Imprimir las dos listas generadas."
   ]
  },
  {
   "cell_type": "code",
   "execution_count": 24,
   "metadata": {},
   "outputs": [],
   "source": [
    "def cargar():\n",
    "    lista=[]\n",
    "    for x in range(10):\n",
    "        valor=int(input(\"Ingrese valor:\"))\n",
    "        lista.append(valor)\n",
    "    return lista"
   ]
  },
  {
   "cell_type": "code",
   "execution_count": 25,
   "metadata": {},
   "outputs": [],
   "source": [
    "def generar_listas(lista):\n",
    "    listanega=[]\n",
    "    listaposi=[]\n",
    "    for x in range(len(lista)):\n",
    "        if lista[x]<0:\n",
    "            listanega.append(lista[x])\n",
    "        else:\n",
    "            if lista[x]>0:\n",
    "                listaposi.append(lista[x])\n",
    "    return [listanega,listaposi]\n"
   ]
  },
  {
   "cell_type": "code",
   "execution_count": 26,
   "metadata": {},
   "outputs": [],
   "source": [
    "def imprimir(lista):\n",
    "    for x in range(len(lista)):\n",
    "        print(lista[x])\n"
   ]
  },
  {
   "cell_type": "code",
   "execution_count": 27,
   "metadata": {},
   "outputs": [
    {
     "name": "stdout",
     "output_type": "stream",
     "text": [
      "Lista con los valores negativos\n",
      "Lista con los valores positivos\n",
      "50\n",
      "10\n",
      "30\n",
      "40\n",
      "50\n",
      "10\n",
      "35\n",
      "45\n",
      "32\n",
      "45\n"
     ]
    }
   ],
   "source": [
    "lista=cargar()\n",
    "listanega,listaposi=generar_listas(lista)\n",
    "print(\"Lista con los valores negativos\")\n",
    "imprimir(listanega)\n",
    "print(\"Lista con los valores positivos\")\n",
    "imprimir(listaposi)"
   ]
  }
 ],
 "metadata": {
  "kernelspec": {
   "display_name": "tf",
   "language": "python",
   "name": "python3"
  },
  "language_info": {
   "codemirror_mode": {
    "name": "ipython",
    "version": 3
   },
   "file_extension": ".py",
   "mimetype": "text/x-python",
   "name": "python",
   "nbconvert_exporter": "python",
   "pygments_lexer": "ipython3",
   "version": "3.9.18"
  }
 },
 "nbformat": 4,
 "nbformat_minor": 2
}
