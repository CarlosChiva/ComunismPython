{
 "cells": [
  {
   "cell_type": "markdown",
   "metadata": {},
   "source": [
    "                        Tema 21"
   ]
  },
  {
   "cell_type": "markdown",
   "metadata": {},
   "source": [
    "Problema 1:"
   ]
  },
  {
   "cell_type": "markdown",
   "metadata": {},
   "source": [
    "Crear y cargar una lista con los nombres de tres alumnos. Cada alumno tiene dos notas, almacenar las notas en una lista paralela. Cada componente de la lista paralela debe ser también una lista con las dos notas. Imprimir luego cada nombre y sus dos notas."
   ]
  },
  {
   "cell_type": "code",
   "execution_count": 1,
   "metadata": {},
   "outputs": [
    {
     "name": "stdout",
     "output_type": "stream",
     "text": [
      "agapito 1 2\n",
      "carr 5 5\n",
      "mar 7 3\n"
     ]
    }
   ],
   "source": [
    "nombres=[]\n",
    "notas=[]\n",
    "for x in range(3):\n",
    "    nom=input(\"Ingrese el nombre del alumno:\")\n",
    "    nombres.append(nom)\n",
    "    no1=int(input(\"Ingrese la primer nota:\"))\n",
    "    no2=int(input(\"Ingrese la segunda nota:\"))\n",
    "    notas.append([no1,no2])\n",
    "for x in range(3):\n",
    "    print(nombres[x],notas[x][0],notas[x][1])"
   ]
  },
  {
   "cell_type": "markdown",
   "metadata": {},
   "source": [
    "Problema 2:"
   ]
  },
  {
   "cell_type": "markdown",
   "metadata": {},
   "source": [
    "Se tiene que cargar la siguiente información:\n",
    "· Nombres de 3 empleados\n",
    "· Ingresos en concepto de sueldo, cobrado por cada empleado, en los últimos 3\n",
    "meses.\n",
    "Confeccionar el programa para:\n",
    "a) Realizar la carga de los nombres de empleados y los tres sueldos por cada\n",
    "empleado.\n",
    "b) Generar una lista que contenga el ingreso acumulado en sueldos en los\n",
    "últimos 3 meses para cada empleado.\n",
    "c) Mostrar por pantalla el total pagado en sueldos a cada empleado en los\n",
    "últimos 3 meses\n",
    "d) Obtener el nombre del empleado que tuvo el mayor ingreso acumulado"
   ]
  },
  {
   "cell_type": "code",
   "execution_count": 2,
   "metadata": {},
   "outputs": [
    {
     "name": "stdout",
     "output_type": "stream",
     "text": [
      "asdf 6\n",
      "dsfhg 15\n",
      "qwer 24\n",
      "Empleado con mayores ingresos en los ultimos tres meses\n",
      "qwer\n",
      "con un ingreso de 24\n"
     ]
    }
   ],
   "source": [
    "nombres=[]\n",
    "sueldos=[]\n",
    "totalsueldos=[]\n",
    "for x in range(3):\n",
    "    nom=input(\"Ingrese el nombre del empleado:\")\n",
    "    nombres.append(nom)\n",
    "    su1=int(input(\"Ingrese el primer sueldo:\"))\n",
    "    su2=int(input(\"Ingrese el segundo sueldo:\"))\n",
    "    su3=int(input(\"Ingrese el tercer sueldo:\"))\n",
    "    sueldos.append([su1, su2, su3])\n",
    "for x in range(3):\n",
    "    total=sueldos[x][0]+sueldos[x][1]+sueldos[x][2]\n",
    "    totalsueldos.append(total)\n",
    "for x in range(3):\n",
    "    print(nombres[x], totalsueldos[x])\n",
    "posmayor=0\n",
    "mayor=totalsueldos[0]\n",
    "for x in range(1,3):\n",
    "    if totalsueldos[x]>mayor:\n",
    "        mayor=totalsueldos[x]\n",
    "        posmayor=x\n",
    "print(\"Empleado con mayores ingresos en los ultimos tres meses\")\n",
    "print(nombres[posmayor])\n",
    "print(\"con un ingreso de\",mayor)"
   ]
  },
  {
   "cell_type": "markdown",
   "metadata": {},
   "source": [
    "Problema 3:"
   ]
  },
  {
   "cell_type": "markdown",
   "metadata": {},
   "source": [
    "Solicitar por teclado dos enteros. El primer valor indica la cantidad de elementos que crearemos en la lista. El segundo valor indica la cantidad de elementos que tendrá cada una de las listas internas a la lista principal.\n",
    "Mostrar la lista y la suma de todos sus elementos."
   ]
  },
  {
   "cell_type": "code",
   "execution_count": 5,
   "metadata": {},
   "outputs": [
    {
     "name": "stdout",
     "output_type": "stream",
     "text": [
      "[[1, 1], [2, 2]]\n",
      "La suma de todos sus elementos: 6\n"
     ]
    }
   ],
   "source": [
    "lista=[]\n",
    "elementos=int(input(\"Cuantos elementos tendra la lista:\"))\n",
    "sub=int(input(\"Cuantos elementos tendran las listas internas:\"))\n",
    "for k in range(elementos):\n",
    "    lista.append([])\n",
    "    for x in range(sub):\n",
    "        valor=int(input(\"Ingrese valor:\"))\n",
    "        lista[k].append(valor)\n",
    "print(lista)\n",
    "suma=0\n",
    "for k in range(len(lista)):\n",
    "    for x in range(len(lista[k])):\n",
    "        suma+=lista[k][x]\n",
    "print(\"La suma de todos sus elementos:\",suma)"
   ]
  },
  {
   "cell_type": "markdown",
   "metadata": {},
   "source": [
    "Problema 4:"
   ]
  },
  {
   "cell_type": "markdown",
   "metadata": {},
   "source": [
    "Definir dos listas de 3 elementos.\n",
    "La primer lista cada elemento es una sublista con el nombre del padre y la madre de una familia.\n",
    "La segunda lista está constituida por listas con los nombres de los hijos de cada familia. Puede haber familias sin hijos.\n",
    "Imprimir los nombres del padre, la madre y sus hijos.\n",
    "También imprimir solo el nombre del padre y la cantidad de hijos que tiene dicho padre."
   ]
  },
  {
   "cell_type": "code",
   "execution_count": 7,
   "metadata": {},
   "outputs": [
    {
     "name": "stdout",
     "output_type": "stream",
     "text": [
      "Listado del padre, madre y sus hijos\n",
      "Padre: adolfo\n",
      "Madre: franca\n",
      "Hijo: benito\n",
      "Padre: pinochet\n",
      "Madre: batista\n",
      "Hijo: socialismo\n",
      "Padre: marx\n",
      "Madre: lennina\n",
      "Hijo: che\n",
      "Listado del padre y cantidad de hijos que tiene\n",
      "padre: adolfo\n",
      "Cantidad de hijos: 1\n",
      "padre: pinochet\n",
      "Cantidad de hijos: 1\n",
      "padre: marx\n",
      "Cantidad de hijos: 1\n"
     ]
    }
   ],
   "source": [
    "padres=[]\n",
    "hijos=[]\n",
    "for k in range(3):\n",
    "    pa=input(\"Ingrese el nombre del padre:\")\n",
    "    ma=input(\"Ingrese el nombre de la madre:\")\n",
    "    padres.append([pa, ma])\n",
    "    cant=int(input(\"Cuantos hijos tienen esta familia:\"))\n",
    "    hijos.append([])\n",
    "    for x in range(cant):\n",
    "        nom=input(\"Ingrese el nombre del hijo:\")\n",
    "        hijos[k].append(nom)\n",
    "print(\"Listado del padre, madre y sus hijos\")\n",
    "for k in range(3):\n",
    "    print(\"Padre:\",padres[k][0])\n",
    "    print(\"Madre:\",padres[k][1])\n",
    "    for x in range(len(hijos[k])):\n",
    "        print(\"Hijo:\",hijos[k][x])\n",
    "print(\"Listado del padre y cantidad de hijos que tiene\")\n",
    "for x in range(3):\n",
    "    print(\"padre:\",padres[x][0])\n",
    "    print(\"Cantidad de hijos:\",len(hijos[x]))"
   ]
  },
  {
   "cell_type": "markdown",
   "metadata": {},
   "source": [
    "Problema propuesto"
   ]
  },
  {
   "cell_type": "markdown",
   "metadata": {},
   "source": [
    "Se desea saber la temperatura media trimestral de cuatro paises. Para\n",
    "ello se tiene como dato las temperaturas medias mensuales de dichos\n",
    "paises.\n",
    "Se debe ingresar el nombre del país y seguidamente las tres\n",
    "temperaturas medias mensuales.\n",
    "Seleccionar las estructuras de datos adecuadas para el almacenamiento\n",
    "10de los datos en memoria.\n",
    "a - Cargar por teclado los nombres de los paises y las temperaturas\n",
    "medias mensuales.\n",
    "b - Imprimir los nombres de las paises y las temperaturas medias\n",
    "mensuales de las mismas.\n",
    "c - Calcular la temperatura media trimestral de cada país.\n",
    "c - Imprimir los nombres de los paises y las temperaturas medias\n",
    "trimestrales.\n",
    "b - Imprimir el nombre del pais con la temperatura media trimestral\n",
    "mayor."
   ]
  },
  {
   "cell_type": "code",
   "execution_count": 8,
   "metadata": {},
   "outputs": [
    {
     "name": "stdout",
     "output_type": "stream",
     "text": [
      "Paises y temperaturas medias de los ultimos tres meses mensuales\n",
      "españistan 1 2 3\n",
      "rusia sovietica 1 1 1\n",
      "morroco 30 40 50\n",
      "australia 20 24 23\n",
      "Paises y temperaturas medias trimestrales\n",
      "españistan 2\n",
      "rusia sovietica 1\n",
      "morroco 40\n",
      "australia 22\n",
      "Pais con temperatura media trimestral mayor: morroco\n"
     ]
    }
   ],
   "source": [
    "paises=[]\n",
    "temperaturas=[]\n",
    "promediotemp=[]\n",
    "for x in range(4):\n",
    "    nom=input(\"Ingrese el nombre del pais:\")\n",
    "    paises.append(nom)\n",
    "    temp1=int(input(\"Ingrese primer temperatura:\"))\n",
    "    temp2=int(input(\"Ingrese segunda temperatura:\"))\n",
    "    temp3=int(input(\"Ingrese tercer temperatura:\"))\n",
    "    temperaturas.append([temp1, temp2, temp3])\n",
    "print(\"Paises y temperaturas medias de los ultimos tres meses mensuales\")\n",
    "for x in range(4):\n",
    "    print(paises[x],temperaturas[x][0],temperaturas[x][1],temperaturas[x][2])\n",
    "for x in range(4):\n",
    "    pro=(temperaturas[x][0]+temperaturas[x][1]+temperaturas[x][2])//3\n",
    "    promediotemp.append(pro)\n",
    "print(\"Paises y temperaturas medias trimestrales\")\n",
    "for x in range(4):\n",
    "    print(paises[x],promediotemp[x])\n",
    "posmayor=0\n",
    "for x in range(1,4):\n",
    "    if promediotemp[x]>promediotemp[posmayor]:\n",
    "        posmayor=x\n",
    "print(\"Pais con temperatura media trimestral mayor:\", paises[posmayor])"
   ]
  },
  {
   "cell_type": "markdown",
   "metadata": {},
   "source": [
    "Definir una lista y almacenar los nombres de 3 empleados.\n",
    "Por otro lado definir otra lista y almacenar en cada elemento una sublista con los números de días del mes que el empleado faltó.\n",
    "Imprimir los nombres de empleados y los días que faltó.\n",
    "Mostrar los empleados con la cantidad de inasistencias.\n",
    "Finalmente mostrar el nombre o los nombres de empleados que faltaron menos días."
   ]
  },
  {
   "cell_type": "code",
   "execution_count": 9,
   "metadata": {},
   "outputs": [
    {
     "name": "stdout",
     "output_type": "stream",
     "text": [
      "Nombres de empleados y dias que falto\n",
      "juane\n",
      "1\n",
      "2\n",
      "3\n",
      "manole\n",
      "1\n",
      "31\n",
      "manuela\n",
      "5\n",
      "6\n",
      "7\n",
      "8\n",
      "9\n",
      "Nombres de empleados y cantidad de inasistencias\n",
      "juane 3\n",
      "manole 2\n",
      "manuela 5\n",
      "Empleado o empleados que faltaron menos\n",
      "manole\n"
     ]
    }
   ],
   "source": [
    "empleados=[]\n",
    "faltas=[]\n",
    "for k in range(3):\n",
    "    nom=input(\"Ingrese el nombre de empleado:\")\n",
    "    empleados.append(nom)\n",
    "    cant=int(input(\"Cuantos dias falto:\"))\n",
    "    faltas.append([])\n",
    "    for x in range(cant):\n",
    "        dia=int(input(\"Ingrese el numero de dia que falto:\"))\n",
    "        faltas[k].append(dia)\n",
    "print(\"Nombres de empleados y dias que falto\")\n",
    "for k in range(3):\n",
    "    print(empleados[k])\n",
    "    for x in range(len(faltas[k])):\n",
    "        print(faltas[k][x])\n",
    "print(\"Nombres de empleados y cantidad de inasistencias\")\n",
    "for x in range(3):\n",
    "    print(empleados[x],len(faltas[x]))\n",
    "    men=len(faltas[0])\n",
    "    for x in range(1,3):\n",
    "        if len(faltas[x])<men:\n",
    "            men=len(faltas[x])\n",
    "print(\"Empleado o empleados que faltaron menos\")\n",
    "for x in range(3):\n",
    "    if len(faltas[x])==men:\n",
    "        print(empleados[x])"
   ]
  },
  {
   "cell_type": "markdown",
   "metadata": {},
   "source": [
    "Desarrollar un programa que cree una lista de 50 elementos. El primer elemento es una lista con un elemento entero, el segundo elemento es una lista de dos elementos etc."
   ]
  },
  {
   "cell_type": "code",
   "execution_count": 10,
   "metadata": {},
   "outputs": [
    {
     "name": "stdout",
     "output_type": "stream",
     "text": [
      "[[1], [1, 2], [1, 2, 3], [1, 2, 3, 4], [1, 2, 3, 4, 5], [1, 2, 3, 4, 5, 6], [1, 2, 3, 4, 5, 6, 7], [1, 2, 3, 4, 5, 6, 7, 8], [1, 2, 3, 4, 5, 6, 7, 8, 9], [1, 2, 3, 4, 5, 6, 7, 8, 9, 10], [1, 2, 3, 4, 5, 6, 7, 8, 9, 10, 11], [1, 2, 3, 4, 5, 6, 7, 8, 9, 10, 11, 12], [1, 2, 3, 4, 5, 6, 7, 8, 9, 10, 11, 12, 13], [1, 2, 3, 4, 5, 6, 7, 8, 9, 10, 11, 12, 13, 14], [1, 2, 3, 4, 5, 6, 7, 8, 9, 10, 11, 12, 13, 14, 15], [1, 2, 3, 4, 5, 6, 7, 8, 9, 10, 11, 12, 13, 14, 15, 16], [1, 2, 3, 4, 5, 6, 7, 8, 9, 10, 11, 12, 13, 14, 15, 16, 17], [1, 2, 3, 4, 5, 6, 7, 8, 9, 10, 11, 12, 13, 14, 15, 16, 17, 18], [1, 2, 3, 4, 5, 6, 7, 8, 9, 10, 11, 12, 13, 14, 15, 16, 17, 18, 19], [1, 2, 3, 4, 5, 6, 7, 8, 9, 10, 11, 12, 13, 14, 15, 16, 17, 18, 19, 20], [1, 2, 3, 4, 5, 6, 7, 8, 9, 10, 11, 12, 13, 14, 15, 16, 17, 18, 19, 20, 21], [1, 2, 3, 4, 5, 6, 7, 8, 9, 10, 11, 12, 13, 14, 15, 16, 17, 18, 19, 20, 21, 22], [1, 2, 3, 4, 5, 6, 7, 8, 9, 10, 11, 12, 13, 14, 15, 16, 17, 18, 19, 20, 21, 22, 23], [1, 2, 3, 4, 5, 6, 7, 8, 9, 10, 11, 12, 13, 14, 15, 16, 17, 18, 19, 20, 21, 22, 23, 24], [1, 2, 3, 4, 5, 6, 7, 8, 9, 10, 11, 12, 13, 14, 15, 16, 17, 18, 19, 20, 21, 22, 23, 24, 25], [1, 2, 3, 4, 5, 6, 7, 8, 9, 10, 11, 12, 13, 14, 15, 16, 17, 18, 19, 20, 21, 22, 23, 24, 25, 26], [1, 2, 3, 4, 5, 6, 7, 8, 9, 10, 11, 12, 13, 14, 15, 16, 17, 18, 19, 20, 21, 22, 23, 24, 25, 26, 27], [1, 2, 3, 4, 5, 6, 7, 8, 9, 10, 11, 12, 13, 14, 15, 16, 17, 18, 19, 20, 21, 22, 23, 24, 25, 26, 27, 28], [1, 2, 3, 4, 5, 6, 7, 8, 9, 10, 11, 12, 13, 14, 15, 16, 17, 18, 19, 20, 21, 22, 23, 24, 25, 26, 27, 28, 29], [1, 2, 3, 4, 5, 6, 7, 8, 9, 10, 11, 12, 13, 14, 15, 16, 17, 18, 19, 20, 21, 22, 23, 24, 25, 26, 27, 28, 29, 30], [1, 2, 3, 4, 5, 6, 7, 8, 9, 10, 11, 12, 13, 14, 15, 16, 17, 18, 19, 20, 21, 22, 23, 24, 25, 26, 27, 28, 29, 30, 31], [1, 2, 3, 4, 5, 6, 7, 8, 9, 10, 11, 12, 13, 14, 15, 16, 17, 18, 19, 20, 21, 22, 23, 24, 25, 26, 27, 28, 29, 30, 31, 32], [1, 2, 3, 4, 5, 6, 7, 8, 9, 10, 11, 12, 13, 14, 15, 16, 17, 18, 19, 20, 21, 22, 23, 24, 25, 26, 27, 28, 29, 30, 31, 32, 33], [1, 2, 3, 4, 5, 6, 7, 8, 9, 10, 11, 12, 13, 14, 15, 16, 17, 18, 19, 20, 21, 22, 23, 24, 25, 26, 27, 28, 29, 30, 31, 32, 33, 34], [1, 2, 3, 4, 5, 6, 7, 8, 9, 10, 11, 12, 13, 14, 15, 16, 17, 18, 19, 20, 21, 22, 23, 24, 25, 26, 27, 28, 29, 30, 31, 32, 33, 34, 35], [1, 2, 3, 4, 5, 6, 7, 8, 9, 10, 11, 12, 13, 14, 15, 16, 17, 18, 19, 20, 21, 22, 23, 24, 25, 26, 27, 28, 29, 30, 31, 32, 33, 34, 35, 36], [1, 2, 3, 4, 5, 6, 7, 8, 9, 10, 11, 12, 13, 14, 15, 16, 17, 18, 19, 20, 21, 22, 23, 24, 25, 26, 27, 28, 29, 30, 31, 32, 33, 34, 35, 36, 37], [1, 2, 3, 4, 5, 6, 7, 8, 9, 10, 11, 12, 13, 14, 15, 16, 17, 18, 19, 20, 21, 22, 23, 24, 25, 26, 27, 28, 29, 30, 31, 32, 33, 34, 35, 36, 37, 38], [1, 2, 3, 4, 5, 6, 7, 8, 9, 10, 11, 12, 13, 14, 15, 16, 17, 18, 19, 20, 21, 22, 23, 24, 25, 26, 27, 28, 29, 30, 31, 32, 33, 34, 35, 36, 37, 38, 39], [1, 2, 3, 4, 5, 6, 7, 8, 9, 10, 11, 12, 13, 14, 15, 16, 17, 18, 19, 20, 21, 22, 23, 24, 25, 26, 27, 28, 29, 30, 31, 32, 33, 34, 35, 36, 37, 38, 39, 40], [1, 2, 3, 4, 5, 6, 7, 8, 9, 10, 11, 12, 13, 14, 15, 16, 17, 18, 19, 20, 21, 22, 23, 24, 25, 26, 27, 28, 29, 30, 31, 32, 33, 34, 35, 36, 37, 38, 39, 40, 41], [1, 2, 3, 4, 5, 6, 7, 8, 9, 10, 11, 12, 13, 14, 15, 16, 17, 18, 19, 20, 21, 22, 23, 24, 25, 26, 27, 28, 29, 30, 31, 32, 33, 34, 35, 36, 37, 38, 39, 40, 41, 42], [1, 2, 3, 4, 5, 6, 7, 8, 9, 10, 11, 12, 13, 14, 15, 16, 17, 18, 19, 20, 21, 22, 23, 24, 25, 26, 27, 28, 29, 30, 31, 32, 33, 34, 35, 36, 37, 38, 39, 40, 41, 42, 43], [1, 2, 3, 4, 5, 6, 7, 8, 9, 10, 11, 12, 13, 14, 15, 16, 17, 18, 19, 20, 21, 22, 23, 24, 25, 26, 27, 28, 29, 30, 31, 32, 33, 34, 35, 36, 37, 38, 39, 40, 41, 42, 43, 44], [1, 2, 3, 4, 5, 6, 7, 8, 9, 10, 11, 12, 13, 14, 15, 16, 17, 18, 19, 20, 21, 22, 23, 24, 25, 26, 27, 28, 29, 30, 31, 32, 33, 34, 35, 36, 37, 38, 39, 40, 41, 42, 43, 44, 45], [1, 2, 3, 4, 5, 6, 7, 8, 9, 10, 11, 12, 13, 14, 15, 16, 17, 18, 19, 20, 21, 22, 23, 24, 25, 26, 27, 28, 29, 30, 31, 32, 33, 34, 35, 36, 37, 38, 39, 40, 41, 42, 43, 44, 45, 46], [1, 2, 3, 4, 5, 6, 7, 8, 9, 10, 11, 12, 13, 14, 15, 16, 17, 18, 19, 20, 21, 22, 23, 24, 25, 26, 27, 28, 29, 30, 31, 32, 33, 34, 35, 36, 37, 38, 39, 40, 41, 42, 43, 44, 45, 46, 47], [1, 2, 3, 4, 5, 6, 7, 8, 9, 10, 11, 12, 13, 14, 15, 16, 17, 18, 19, 20, 21, 22, 23, 24, 25, 26, 27, 28, 29, 30, 31, 32, 33, 34, 35, 36, 37, 38, 39, 40, 41, 42, 43, 44, 45, 46, 47, 48], [1, 2, 3, 4, 5, 6, 7, 8, 9, 10, 11, 12, 13, 14, 15, 16, 17, 18, 19, 20, 21, 22, 23, 24, 25, 26, 27, 28, 29, 30, 31, 32, 33, 34, 35, 36, 37, 38, 39, 40, 41, 42, 43, 44, 45, 46, 47, 48, 49], [1, 2, 3, 4, 5, 6, 7, 8, 9, 10, 11, 12, 13, 14, 15, 16, 17, 18, 19, 20, 21, 22, 23, 24, 25, 26, 27, 28, 29, 30, 31, 32, 33, 34, 35, 36, 37, 38, 39, 40, 41, 42, 43, 44, 45, 46, 47, 48, 49, 50]]\n"
     ]
    }
   ],
   "source": [
    "lista=[]\n",
    "cant=1\n",
    "for k in range(50):\n",
    "    lista.append([])\n",
    "    valor=1\n",
    "    for x in range(cant):\n",
    "        lista[k].append(valor)\n",
    "        valor=valor+1\n",
    "    cant=cant+1\n",
    "print(lista)"
   ]
  }
 ],
 "metadata": {
  "kernelspec": {
   "display_name": "tf",
   "language": "python",
   "name": "python3"
  },
  "language_info": {
   "codemirror_mode": {
    "name": "ipython",
    "version": 3
   },
   "file_extension": ".py",
   "mimetype": "text/x-python",
   "name": "python",
   "nbconvert_exporter": "python",
   "pygments_lexer": "ipython3",
   "version": "3.9.18"
  }
 },
 "nbformat": 4,
 "nbformat_minor": 2
}
