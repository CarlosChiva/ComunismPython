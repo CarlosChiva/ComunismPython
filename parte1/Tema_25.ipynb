{
 "cells": [
  {
   "cell_type": "markdown",
   "metadata": {},
   "source": [
    "                        Tema 25"
   ]
  },
  {
   "cell_type": "markdown",
   "metadata": {},
   "source": [
    "Problema 1:"
   ]
  },
  {
   "cell_type": "markdown",
   "metadata": {},
   "source": [
    "Confeccionar una función que le enviemos como parámetro el valor del lado de un cuadrado y nos retorne su superficie."
   ]
  },
  {
   "cell_type": "code",
   "execution_count": 1,
   "metadata": {},
   "outputs": [],
   "source": [
    "def retornar_superficie(lado):\n",
    "    sup=lado*lado\n",
    "    return sup"
   ]
  },
  {
   "cell_type": "code",
   "execution_count": 2,
   "metadata": {},
   "outputs": [
    {
     "name": "stdout",
     "output_type": "stream",
     "text": [
      "La superficie del cuadrado es 16\n"
     ]
    }
   ],
   "source": [
    "va=int(input(\"Ingrese el valor del lado del cuafrado:\"))\n",
    "superficie=retornar_superficie(va)\n",
    "print(\"La superficie del cuadrado es\",superficie)"
   ]
  },
  {
   "cell_type": "markdown",
   "metadata": {},
   "source": [
    "Problema 2:"
   ]
  },
  {
   "cell_type": "markdown",
   "metadata": {},
   "source": [
    "Confeccionar una función que le enviemos como parámetros dos enteros y nos retorne el mayor."
   ]
  },
  {
   "cell_type": "code",
   "execution_count": 3,
   "metadata": {},
   "outputs": [],
   "source": [
    "def retornar_mayor(v1,v2):\n",
    "    if v1>v2:\n",
    "        mayor=v1\n",
    "    else:\n",
    "        mayor=v2\n",
    "    return mayor"
   ]
  },
  {
   "cell_type": "code",
   "execution_count": 4,
   "metadata": {},
   "outputs": [
    {
     "name": "stdout",
     "output_type": "stream",
     "text": [
      "2\n"
     ]
    }
   ],
   "source": [
    "valor1=int(input(\"Ingrese el primer valor:\"))\n",
    "valor2=int(input(\"Ingrese el segundo valor:\"))\n",
    "print(retornar_mayor(valor1,valor2))"
   ]
  },
  {
   "cell_type": "markdown",
   "metadata": {},
   "source": [
    "Problema 3:"
   ]
  },
  {
   "cell_type": "markdown",
   "metadata": {},
   "source": [
    "Confeccionar una función que le enviemos como parámetro un string y nos\n",
    "retorne la cantidad de caracteres que tiene. En el bloque principal solicitar la carga de dos nombres por teclado y llamar a la función dos veces. Imprimir en el bloque principal cual de las dos palabras tiene más caracteres."
   ]
  },
  {
   "cell_type": "code",
   "execution_count": 5,
   "metadata": {},
   "outputs": [],
   "source": [
    "def largo(cadena):\n",
    "    return len(cadena)"
   ]
  },
  {
   "cell_type": "code",
   "execution_count": 6,
   "metadata": {},
   "outputs": [
    {
     "name": "stdout",
     "output_type": "stream",
     "text": [
      "segundo es mas largo\n"
     ]
    }
   ],
   "source": [
    "nombre1=input(\"Ingrese primer nombre:\")\n",
    "nombre2=input(\"Ingrese segundo nombre:\")\n",
    "la1=largo(nombre1)\n",
    "la2=largo(nombre2)\n",
    "if la1==la2:\n",
    "    print(\"Los nombres:\",nombre1,nombre2,\"tienen la misma cantidad de caracteres\")\n",
    "else:\n",
    "    if la1>la2:\n",
    "        print(nombre1,\"es mas largo\")\n",
    "    else:\n",
    "        print(nombre2,\"es mas largo\")"
   ]
  },
  {
   "cell_type": "markdown",
   "metadata": {},
   "source": [
    "Problemas propuestos:"
   ]
  },
  {
   "cell_type": "markdown",
   "metadata": {},
   "source": [
    "Elaborar una función que reciba tres enteros y nos retorne el valor\n",
    "promedio de los mismos"
   ]
  },
  {
   "cell_type": "code",
   "execution_count": 7,
   "metadata": {},
   "outputs": [],
   "source": [
    "def retornar_promedio(v1,v2,v3):\n",
    "    promedio=(v1+v2+v3)//3\n",
    "    return promedio"
   ]
  },
  {
   "cell_type": "code",
   "execution_count": 8,
   "metadata": {},
   "outputs": [
    {
     "name": "stdout",
     "output_type": "stream",
     "text": [
      "Valor promedio de los tres numeros 2\n"
     ]
    }
   ],
   "source": [
    "valor1=int(input(\"Ingrese primer valor:\"))\n",
    "valor2=int(input(\"Ingrese segundo valor:\"))\n",
    "valor3=int(input(\"Ingrese tercer valor:\"))\n",
    "print(\"Valor promedio de los tres numeros\", retornar_promedio(valor1,valor2,valor3))"
   ]
  },
  {
   "cell_type": "markdown",
   "metadata": {},
   "source": [
    "Elaborar una función que nos retorne el perímetro de un cuadrado\n",
    "pasando como parámetros el valor de un lado."
   ]
  },
  {
   "cell_type": "code",
   "execution_count": 9,
   "metadata": {},
   "outputs": [],
   "source": [
    "def retornar_perimetro(lado):\n",
    "    perimetro=lado*4\n",
    "    return perimetro"
   ]
  },
  {
   "cell_type": "code",
   "execution_count": 10,
   "metadata": {},
   "outputs": [
    {
     "name": "stdout",
     "output_type": "stream",
     "text": [
      "El perimetro es: 16\n"
     ]
    }
   ],
   "source": [
    "lado=int(input(\"Lado del cuadrado:\"))\n",
    "print(\"El perimetro es:\",retornar_perimetro(lado))"
   ]
  },
  {
   "cell_type": "markdown",
   "metadata": {},
   "source": [
    "En el bloque principal del programa cargar los lados de dos rectángulos y luego mostrar cual de los dos tiene una superficie mayor."
   ]
  },
  {
   "cell_type": "code",
   "execution_count": 11,
   "metadata": {},
   "outputs": [],
   "source": [
    "def retornar_superficie(lado1,lado2):\n",
    "    superficie=lado1*lado2\n",
    "    return superficie"
   ]
  },
  {
   "cell_type": "code",
   "execution_count": 12,
   "metadata": {},
   "outputs": [
    {
     "name": "stdout",
     "output_type": "stream",
     "text": [
      "Primer rectangulo\n",
      "Segundo rectangulo\n",
      "Los dos rectangulos tiene la misma superficie\n"
     ]
    }
   ],
   "source": [
    "print(\"Primer rectangulo\")\n",
    "lado1=int(input(\"Ingrese lado menor del rectangulo:\"))\n",
    "lado2=int(input(\"Ingrese lado mayor del rectangulo:\"))\n",
    "print(\"Segundo rectangulo\")\n",
    "lado3=int(input(\"Ingrese lado menor del rectangulo:\"))\n",
    "lado4=int(input(\"Ingrese lado mayor del rectangulo:\"))\n",
    "if retornar_superficie(lado1,lado2)==retornar_superficie(lado3,lado4):\n",
    "    print(\"Los dos rectangulos tiene la misma superficie\")\n",
    "else:\n",
    "    if retornar_superficie(lado1,lado2)>retornar_superficie(lado3,lado4):\n",
    "        print(\"El primer rectangulo tiene una superficie mayor\")\n",
    "    else:\n",
    "        print(\"El segundo rectangulo tiene una superficie mayor\")"
   ]
  },
  {
   "cell_type": "markdown",
   "metadata": {},
   "source": [
    "Plantear una función que reciba un string en mayúsculas o minúsculas y\n",
    "retorne la cantidad de letras 'a' o 'A'."
   ]
  },
  {
   "cell_type": "code",
   "execution_count": 13,
   "metadata": {},
   "outputs": [],
   "source": [
    "def cantidad_vocal_a(palabra):\n",
    "    cant=0\n",
    "    for x in range(len(palabra)):\n",
    "        if palabra[x]=='a' or palabra[x]==\"A\":\n",
    "            cant=cant+1\n",
    "    return cant"
   ]
  },
  {
   "cell_type": "code",
   "execution_count": 14,
   "metadata": {},
   "outputs": [
    {
     "name": "stdout",
     "output_type": "stream",
     "text": [
      "La palabra palabra tiene 3 a\n"
     ]
    }
   ],
   "source": [
    "palabra=input(\"Ingrese una palabra:\")\n",
    "print(\"La palabra\",palabra,\"tiene\",cantidad_vocal_a(palabra),\"a\")"
   ]
  }
 ],
 "metadata": {
  "kernelspec": {
   "display_name": "tf",
   "language": "python",
   "name": "python3"
  },
  "language_info": {
   "codemirror_mode": {
    "name": "ipython",
    "version": 3
   },
   "file_extension": ".py",
   "mimetype": "text/x-python",
   "name": "python",
   "nbconvert_exporter": "python",
   "pygments_lexer": "ipython3",
   "version": "3.9.18"
  }
 },
 "nbformat": 4,
 "nbformat_minor": 2
}
