{
 "cells": [
  {
   "cell_type": "markdown",
   "metadata": {},
   "source": [
    "                        Tema 50"
   ]
  },
  {
   "cell_type": "markdown",
   "metadata": {},
   "source": [
    "Problema 1:"
   ]
  },
  {
   "cell_type": "markdown",
   "metadata": {},
   "source": [
    "Veamos con un ejemplo la sintaxis para redefinir el operador +.\n",
    "Crearemos una clase Cliente de un banco y redefiniremos el operador + para que nos retorne la suma de los depósitos de los dos clientes que estamos sumando."
   ]
  },
  {
   "cell_type": "code",
   "execution_count": 1,
   "metadata": {},
   "outputs": [],
   "source": [
    "class Cliente:\n",
    "    def __init__(self,nombre,monto):\n",
    "        self.nombre=nombre\n",
    "        self.monto=monto\n",
    "    def __add__(self,objeto2):\n",
    "        s=self.monto+objeto2.monto\n",
    "        return s\n"
   ]
  },
  {
   "cell_type": "code",
   "execution_count": 2,
   "metadata": {},
   "outputs": [
    {
     "name": "stdout",
     "output_type": "stream",
     "text": [
      "El total depositado por los dos clientes es\n",
      "2700\n"
     ]
    }
   ],
   "source": [
    "cli1=Cliente('Ana',1200)\n",
    "cli2=Cliente('Luis',1500)\n",
    "print(\"El total depositado por los dos clientes es\")\n",
    "print(cli1+cli2)"
   ]
  },
  {
   "cell_type": "markdown",
   "metadata": {},
   "source": [
    "Problema 2:"
   ]
  },
  {
   "cell_type": "markdown",
   "metadata": {},
   "source": [
    "Desarrollar una clase llamada Lista, que permita pasar al método __init__ una lista de valores enteros.\n",
    "Redefinir los operadores +,-,* y // con respecto a un valor entero."
   ]
  },
  {
   "cell_type": "code",
   "execution_count": 3,
   "metadata": {},
   "outputs": [],
   "source": [
    "class Lista:\n",
    "    def __init__(self, lista):\n",
    "        self.lista=lista\n",
    "    def imprimir(self):\n",
    "        print(self.lista)\n",
    "    def __add__(self,entero):\n",
    "        nueva=[]\n",
    "        for x in range(len(self.lista)):\n",
    "            nueva.append(self.lista[x]+entero)\n",
    "        return nueva\n",
    "    def __sub__(self,entero):\n",
    "        nueva=[]\n",
    "        for x in range(len(self.lista)):\n",
    "            nueva.append(self.lista[x]-entero)\n",
    "        return nueva\n",
    "    def __mul__(self,entero):\n",
    "        nueva=[]\n",
    "        for x in range(len(self.lista)):\n",
    "            nueva.append(self.lista[x]*entero)\n",
    "        return nueva\n",
    "    def __floordiv__(self,entero):\n",
    "        nueva=[]\n",
    "        for x in range(len(self.lista)):\n",
    "            nueva.append(self.lista[x]//entero)\n",
    "        return nueva"
   ]
  },
  {
   "cell_type": "code",
   "execution_count": 4,
   "metadata": {},
   "outputs": [
    {
     "name": "stdout",
     "output_type": "stream",
     "text": [
      "[3, 4, 5]\n",
      "[13, 14, 15]\n",
      "[-7, -6, -5]\n",
      "[30, 40, 50]\n",
      "[0, 0, 0]\n"
     ]
    }
   ],
   "source": [
    "lista1=Lista([3,4,5])\n",
    "lista1.imprimir()\n",
    "print(lista1+10)\n",
    "print(lista1-10)\n",
    "print(lista1*10)\n",
    "print(lista1//10)"
   ]
  }
 ],
 "metadata": {
  "kernelspec": {
   "display_name": "tf",
   "language": "python",
   "name": "python3"
  },
  "language_info": {
   "codemirror_mode": {
    "name": "ipython",
    "version": 3
   },
   "file_extension": ".py",
   "mimetype": "text/x-python",
   "name": "python",
   "nbconvert_exporter": "python",
   "pygments_lexer": "ipython3",
   "version": "3.9.18"
  }
 },
 "nbformat": 4,
 "nbformat_minor": 2
}
