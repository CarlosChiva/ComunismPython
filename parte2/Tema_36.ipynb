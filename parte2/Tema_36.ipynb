{
 "cells": [
  {
   "cell_type": "markdown",
   "metadata": {},
   "source": [
    "                        Tema 36"
   ]
  },
  {
   "cell_type": "markdown",
   "metadata": {},
   "source": [
    "Problema 1:"
   ]
  },
  {
   "cell_type": "markdown",
   "metadata": {},
   "source": [
    "Confeccionar un programa que contenga las siguientes funciones:\n",
    "1) Carga de una lista y retorno al bloque principal.\n",
    "2) Fijar en cero todos los elementos de la lista que tengan un valor menor a 10.\n",
    "3) Imprimir la lista"
   ]
  },
  {
   "cell_type": "code",
   "execution_count": 1,
   "metadata": {},
   "outputs": [],
   "source": [
    "def cargar():\n",
    "    lista=[]\n",
    "    continua=\"s\"\n",
    "    while continua==\"s\":\n",
    "        valor=int(input(\"Ingrese un valor:\"))\n",
    "        lista.append(valor)\n",
    "        continua=input(\"Agrega otro elemento a la lista[s/n]:\")\n",
    "    return lista\n"
   ]
  },
  {
   "cell_type": "code",
   "execution_count": 2,
   "metadata": {},
   "outputs": [],
   "source": [
    "def fijar_cero(li):\n",
    "    for x in range(len(li)):\n",
    "        if li[x]<10:\n",
    "            li[x]=0\n"
   ]
  },
  {
   "cell_type": "code",
   "execution_count": 7,
   "metadata": {},
   "outputs": [],
   "source": [
    "def imprimir(lista):\n",
    "    for elemento in lista:\n",
    "        print(elemento,\"-\",sep=\"\",end=\"\")\n",
    "    print(\"\")\n"
   ]
  },
  {
   "cell_type": "code",
   "execution_count": 8,
   "metadata": {},
   "outputs": [
    {
     "name": "stdout",
     "output_type": "stream",
     "text": [
      "Lista antes de modificar\n",
      "7-10-6-5-\n",
      "Lista despues de modificar\n",
      "0-10-0-0-\n"
     ]
    }
   ],
   "source": [
    "lista=cargar()\n",
    "print(\"Lista antes de modificar\")\n",
    "imprimir(lista)\n",
    "fijar_cero(lista)\n",
    "print(\"Lista despues de modificar\")\n",
    "imprimir(lista)"
   ]
  },
  {
   "cell_type": "markdown",
   "metadata": {},
   "source": [
    "Problema 2:"
   ]
  },
  {
   "cell_type": "markdown",
   "metadata": {},
   "source": [
    "Confeccionar un programa que contenga las siguientes funciones:\n",
    "1) Carga de una lista de 5 nombres.\n",
    "2) Ordenar alfabéticamente la lista.\n",
    "3) Imprimir la lista de nombres"
   ]
  },
  {
   "cell_type": "code",
   "execution_count": 9,
   "metadata": {},
   "outputs": [],
   "source": [
    "def cargar():\n",
    "    nombres=[]\n",
    "    for x in range(5):\n",
    "        nom=input(\"Ingrese nombre:\")\n",
    "        nombres.append(nom)\n",
    "    return nombres\n"
   ]
  },
  {
   "cell_type": "code",
   "execution_count": 10,
   "metadata": {},
   "outputs": [],
   "source": [
    "def ordenar(nombres):\n",
    "    for k in range(4):\n",
    "        for x in range(4):\n",
    "            if nombres[x]>nombres[x+1]:\n",
    "                aux=nombres[x]\n",
    "                nombres[x]=nombres[x+1]\n",
    "                nombres[x+1]=aux"
   ]
  },
  {
   "cell_type": "code",
   "execution_count": 11,
   "metadata": {},
   "outputs": [],
   "source": [
    "def imprimir(nombres):\n",
    "    for x in range(len(nombres)):\n",
    "        print(nombres[x],\" \",end=\"\")\n"
   ]
  },
  {
   "cell_type": "code",
   "execution_count": 12,
   "metadata": {},
   "outputs": [
    {
     "name": "stdout",
     "output_type": "stream",
     "text": [
      "adios  dev  hola  moure  mundo  "
     ]
    }
   ],
   "source": [
    "nombres=cargar()\n",
    "ordenar(nombres)\n",
    "imprimir(nombres)"
   ]
  },
  {
   "cell_type": "markdown",
   "metadata": {},
   "source": [
    "Problema 3:"
   ]
  },
  {
   "cell_type": "markdown",
   "metadata": {},
   "source": [
    "Confeccionar un programa que almacene en un diccionario como clave el\n",
    "nombre de un contacto y como valor su número telefónico:\n",
    "1) Carga de contactos y su número telefónico.\n",
    "2) Pemitir modificar el número telefónico. Se ingresa el nombre del contacto para\n",
    "su búsqueda.\n",
    "3) Imprimir la lista completa de contactos con sus números telefónicos."
   ]
  },
  {
   "cell_type": "code",
   "execution_count": 1,
   "metadata": {},
   "outputs": [],
   "source": [
    "def cargar():\n",
    "    contactos={}\n",
    "    continua=\"s\"\n",
    "    while continua==\"s\":\n",
    "        nombre=input(\"Ingrese el nombre del contacto:\")\n",
    "        telefono=input(\"Ingrese el numero de telefono:\")\n",
    "        contactos[nombre]=telefono\n",
    "        continua=input(\"Ingresa otro contacto[s/n]?:\")\n",
    "    return contactos"
   ]
  },
  {
   "cell_type": "code",
   "execution_count": 2,
   "metadata": {},
   "outputs": [],
   "source": [
    "def modificar_telefono(contactos):\n",
    "    nombre=input(\"Ingrese el nombre de contacto a modificar el telefono:\")\n",
    "    if nombre in contactos:\n",
    "        telefono=input(\"Ingrese el nuevo numero telefonico\")\n",
    "        contactos[nombre]=telefono\n",
    "    else:\n",
    "        print(\"No existe un contacto con el nombre ingresado\")"
   ]
  },
  {
   "cell_type": "code",
   "execution_count": 3,
   "metadata": {},
   "outputs": [],
   "source": [
    "def imprimir(contactos):\n",
    "    print(\"Listado de todos los contactos\")\n",
    "    for nombre in contactos:\n",
    "        print(nombre,contactos[nombre])"
   ]
  },
  {
   "cell_type": "code",
   "execution_count": 4,
   "metadata": {},
   "outputs": [
    {
     "name": "stdout",
     "output_type": "stream",
     "text": [
      "No existe un contacto con el nombre ingresado\n",
      "Listado de todos los contactos\n",
      "Eustaquio 1234\n",
      "Albus 987654\n",
      "Morgan 6666\n"
     ]
    }
   ],
   "source": [
    "contactos=cargar()\n",
    "modificar_telefono(contactos)\n",
    "imprimir(contactos)"
   ]
  },
  {
   "cell_type": "markdown",
   "metadata": {},
   "source": [
    "Problemas propuestos:"
   ]
  },
  {
   "cell_type": "markdown",
   "metadata": {},
   "source": [
    "Crear un diccionario en Python para almacenar los datos de empleados\n",
    "de una empresa. La clave será su número de legajo y en su valor\n",
    "7almacenar una lista con el nombre, profesión y sueldo.\n",
    "Desarrollar las siguientes funciones:\n",
    "1) Carga de datos de empleados.\n",
    "2) Permitir modificar el sueldo de un empleado. Ingresamos su número\n",
    "de legajo para buscarlo.\n",
    "3) Mostrar todos los datos de empleados que tienen una profesión de\n",
    "\"analista de sistemas\""
   ]
  },
  {
   "cell_type": "code",
   "execution_count": 5,
   "metadata": {},
   "outputs": [],
   "source": [
    "def cargar():\n",
    "    empleados={}\n",
    "    continua=\"s\"\n",
    "    while continua==\"s\":\n",
    "        legajo=int(input(\"Ingrese el numero de legajo:\"))\n",
    "        nombre=input(\"Ingrese el nombre del empleado:\")\n",
    "        profesion=input(\"Ingrese el nombre de la profesion:\")\n",
    "        sueldo=float(input(\"Ingrese el sueldo:\"))\n",
    "        empleados[legajo]=[nombre,profesion,sueldo]\n",
    "        continua=input(\"Ingresa los datos de otro empleado[s/n]:\")\n",
    "    return empleados\n"
   ]
  },
  {
   "cell_type": "code",
   "execution_count": 6,
   "metadata": {},
   "outputs": [],
   "source": [
    "def imprimir(empleados):\n",
    "    print(\"Listado completo de empleados\")\n",
    "    for legajo in empleados:\n",
    "        print(legajo,empleados[legajo][0],empleados[legajo][1],empleados[legajo][2])"
   ]
  },
  {
   "cell_type": "code",
   "execution_count": 7,
   "metadata": {},
   "outputs": [],
   "source": [
    "def modificar_sueldo(empleados):\n",
    "    legajo=int(input(\"Ingrese el numero de legajo para buscar empleado:\"))\n",
    "    if legajo in empleados:\n",
    "        sueldo=float(input(\"Ingrese nuevo sueldo:\"))\n",
    "        empleados[legajo][2]=sueldo\n",
    "    else:\n",
    "        print(\"No existe un empleado con dicho numero de legajo\")"
   ]
  },
  {
   "cell_type": "code",
   "execution_count": 8,
   "metadata": {},
   "outputs": [],
   "source": [
    "def imprimir_analistas(empleados):\n",
    "    print(\"Listado de empleados con profesion \\\"analista de sistemas\\\"\")\n",
    "    for legajo in empleados:\n",
    "        if empleados[legajo][1]==\"analista de sistemas\":\n",
    "            print(legajo,empleados[legajo][0],empleados[legajo][2])"
   ]
  },
  {
   "cell_type": "code",
   "execution_count": 10,
   "metadata": {},
   "outputs": [
    {
     "name": "stdout",
     "output_type": "stream",
     "text": [
      "Listado completo de empleados\n",
      "1 Alfuns Suicida profesional 0.0\n",
      "2 Frunjencio Empotrador 1000.0\n",
      "3 Funcionario Contemplador de tiempo 100000000000.0\n",
      "Listado completo de empleados\n",
      "1 Alfuns Suicida profesional 0.5\n",
      "2 Frunjencio Empotrador 1000.0\n",
      "3 Funcionario Contemplador de tiempo 100000000000.0\n",
      "Listado de empleados con profesion \"analista de sistemas\"\n"
     ]
    }
   ],
   "source": [
    "empleados=cargar()\n",
    "imprimir(empleados)\n",
    "modificar_sueldo(empleados)\n",
    "imprimir(empleados)\n",
    "imprimir_analistas(empleados)"
   ]
  }
 ],
 "metadata": {
  "kernelspec": {
   "display_name": "tf",
   "language": "python",
   "name": "python3"
  },
  "language_info": {
   "codemirror_mode": {
    "name": "ipython",
    "version": 3
   },
   "file_extension": ".py",
   "mimetype": "text/x-python",
   "name": "python",
   "nbconvert_exporter": "python",
   "pygments_lexer": "ipython3",
   "version": "3.9.18"
  }
 },
 "nbformat": 4,
 "nbformat_minor": 2
}
