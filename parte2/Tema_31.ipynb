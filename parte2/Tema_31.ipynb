{
 "cells": [
  {
   "cell_type": "markdown",
   "metadata": {},
   "source": [
    "                        Tema 31"
   ]
  },
  {
   "cell_type": "markdown",
   "metadata": {},
   "source": [
    "Problema 1:"
   ]
  },
  {
   "cell_type": "markdown",
   "metadata": {},
   "source": [
    "Definir varias tuplas e imprimir sus elementos."
   ]
  },
  {
   "cell_type": "code",
   "execution_count": 1,
   "metadata": {},
   "outputs": [
    {
     "name": "stdout",
     "output_type": "stream",
     "text": [
      "(1, 2, 3)\n",
      "(25, 'Diciembre', 2016)\n",
      "(10, 2)\n",
      "('Rodriguez', 'Pablo', 43)\n"
     ]
    }
   ],
   "source": [
    "tupla=(1, 2, 3)\n",
    "fecha=(25, \"Diciembre\", 2016)\n",
    "punto=(10, 2)\n",
    "persona=(\"Rodriguez\", \"Pablo\", 43)\n",
    "print(tupla)\n",
    "print(fecha)\n",
    "print(punto)\n",
    "print(persona)"
   ]
  },
  {
   "cell_type": "markdown",
   "metadata": {},
   "source": [
    "Problema 2:"
   ]
  },
  {
   "cell_type": "markdown",
   "metadata": {},
   "source": [
    "Desarrollar una función que solicite la carga del dia, mes y año y almacene dichos datos en una tupla que luego debe retornar. La segunda función a implementar debe recibir una tupla con la fecha y mostrarla por pantalla."
   ]
  },
  {
   "cell_type": "code",
   "execution_count": 2,
   "metadata": {},
   "outputs": [],
   "source": [
    "def cargar_fecha():\n",
    "    dd=int(input(\"Ingrese numero de dia:\"))\n",
    "    mm=int(input(\"Ingrese numero de mes:\"))\n",
    "    aa=int(input(\"Ingrese numero de año:\"))\n",
    "    return (dd,mm,aa)"
   ]
  },
  {
   "cell_type": "code",
   "execution_count": 3,
   "metadata": {},
   "outputs": [],
   "source": [
    "def imprimir_fecha(fecha):\n",
    "    print(fecha[0],fecha[1],fecha[2],sep=\"/\")"
   ]
  },
  {
   "cell_type": "code",
   "execution_count": 4,
   "metadata": {},
   "outputs": [
    {
     "name": "stdout",
     "output_type": "stream",
     "text": [
      "1/3/1936\n"
     ]
    }
   ],
   "source": [
    "fecha=cargar_fecha()\n",
    "imprimir_fecha(fecha)"
   ]
  },
  {
   "cell_type": "markdown",
   "metadata": {},
   "source": [
    "Problema 3:"
   ]
  },
  {
   "cell_type": "markdown",
   "metadata": {},
   "source": [
    "Definir una tupla con tres valores enteros. Convertir el contenido de la tupla a tipo lista. Modificar la lista y luego convertir la lista en tupla."
   ]
  },
  {
   "cell_type": "code",
   "execution_count": 5,
   "metadata": {},
   "outputs": [
    {
     "name": "stdout",
     "output_type": "stream",
     "text": [
      "Imprimimos la primer tupla\n",
      "(25, 12, 2016)\n",
      "Imprimimos la lista que se le copio la tupla anterior\n",
      "[25, 12, 2016]\n",
      "Imprimimos la lista ya modificada\n",
      "[31, 12, 2016]\n",
      "Imprimimos la segunda tupla que se le copio la lista\n",
      "(31, 12, 2016)\n"
     ]
    }
   ],
   "source": [
    "fechatupla1=(25, 12, 2016)\n",
    "print(\"Imprimimos la primer tupla\")\n",
    "print(fechatupla1)\n",
    "fechalista=list(fechatupla1)\n",
    "print(\"Imprimimos la lista que se le copio la tupla anterior\")\n",
    "print(fechalista)\n",
    "fechalista[0]=31\n",
    "print(\"Imprimimos la lista ya modificada\")\n",
    "print(fechalista)\n",
    "fechatupla2=tuple(fechalista)\n",
    "print(\"Imprimimos la segunda tupla que se le copio la lista\")\n",
    "print(fechatupla2)"
   ]
  },
  {
   "cell_type": "markdown",
   "metadata": {},
   "source": [
    "Problemas propuestos:"
   ]
  },
  {
   "cell_type": "markdown",
   "metadata": {},
   "source": [
    "Confeccionar un programa con las siguientes funciones:\n",
    "1)Cargar una lista de 5 enteros.\n",
    "2)Retornar el mayor y menor valor de la lista mediante una tupla.\n",
    "Desempaquetar la tupla en el bloque principal y mostrar el mayor y\n",
    "menor."
   ]
  },
  {
   "cell_type": "code",
   "execution_count": 6,
   "metadata": {},
   "outputs": [],
   "source": [
    "def cargar():\n",
    "    lista=[]\n",
    "    for x in range(5):\n",
    "        valor=int(input(\"Ingrese valor\"))\n",
    "        lista.append(valor)\n",
    "    return lista"
   ]
  },
  {
   "cell_type": "code",
   "execution_count": 7,
   "metadata": {},
   "outputs": [],
   "source": [
    "def retornar_mayormenor(lista):\n",
    "    may=lista[0]\n",
    "    men=lista[0]\n",
    "    for x in range(1,len(lista)):\n",
    "        if lista[x]>may:\n",
    "            may=lista[x]\n",
    "        else:\n",
    "          if lista[x]<men:\n",
    "             men=lista[x]\n",
    "    return (may,men)"
   ]
  },
  {
   "cell_type": "code",
   "execution_count": 8,
   "metadata": {},
   "outputs": [
    {
     "name": "stdout",
     "output_type": "stream",
     "text": [
      "Mayor valor de la lista: 50\n",
      "Menor valor de la lists: 5\n"
     ]
    }
   ],
   "source": [
    "lista=cargar()\n",
    "mayor,menor=retornar_mayormenor(lista)\n",
    "print(\"Mayor valor de la lista:\",mayor)\n",
    "print(\"Menor valor de la lists:\",menor)"
   ]
  },
  {
   "cell_type": "markdown",
   "metadata": {},
   "source": [
    "Confeccionar un programa con las siguientes funciones:\n",
    "1)Cargar el nombre de un empleado y su sueldo. Retornar una tupla con dichos\n",
    "valores\n",
    "2)Una función que reciba como parámetro dos tuplas con los nombres y sueldos\n",
    "de empleados y muestre el nombre del empleado con sueldo mayor.\n",
    "En el bloque principal del programa llamar dos veces a la función de carga y\n",
    "seguidamente llamar a la función que muestra el nombre de empleado con\n",
    "sueldo mayor."
   ]
  },
  {
   "cell_type": "code",
   "execution_count": 9,
   "metadata": {},
   "outputs": [],
   "source": [
    "def cargar_empleado():\n",
    "    nombre=input(\"Ingrese el nombre del empleado:\")\n",
    "    sueldo=float(input(\"Ingrese su sueldo:\"))\n",
    "    return (nombre,sueldo)"
   ]
  },
  {
   "cell_type": "code",
   "execution_count": 10,
   "metadata": {},
   "outputs": [],
   "source": [
    "def mayor_sueldo(empleado1,empleado2):\n",
    "    if empleado1[1]>empleado2[1]:\n",
    "        print(empleado1[0],\"tiene mayor sueldo\")\n",
    "    else:\n",
    "        print(empleado2[0],\"tiene mayor sueldo\")"
   ]
  },
  {
   "cell_type": "code",
   "execution_count": 11,
   "metadata": {},
   "outputs": [
    {
     "name": "stdout",
     "output_type": "stream",
     "text": [
      "agapito tiene mayor sueldo\n"
     ]
    }
   ],
   "source": [
    "empleado1=cargar_empleado()\n",
    "empleado2=cargar_empleado()\n",
    "mayor_sueldo(empleado1,empleado2)"
   ]
  }
 ],
 "metadata": {
  "kernelspec": {
   "display_name": "tf",
   "language": "python",
   "name": "python3"
  },
  "language_info": {
   "codemirror_mode": {
    "name": "ipython",
    "version": 3
   },
   "file_extension": ".py",
   "mimetype": "text/x-python",
   "name": "python",
   "nbconvert_exporter": "python",
   "pygments_lexer": "ipython3",
   "version": "3.9.18"
  }
 },
 "nbformat": 4,
 "nbformat_minor": 2
}
