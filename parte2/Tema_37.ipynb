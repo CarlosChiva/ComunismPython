{
 "cells": [
  {
   "cell_type": "markdown",
   "metadata": {},
   "source": [
    "                        Tema 37"
   ]
  },
  {
   "cell_type": "markdown",
   "metadata": {},
   "source": [
    "Problema 1:"
   ]
  },
  {
   "cell_type": "markdown",
   "metadata": {},
   "source": [
    "Confeccionar una función que le enviemos un número de mes como parámetro y nos retorne una tupla con todos los nombres de meses que faltan hasta fin de año."
   ]
  },
  {
   "cell_type": "code",
   "execution_count": 1,
   "metadata": {},
   "outputs": [],
   "source": [
    "def meses_faltantes(numeromes):\n",
    "    meses=('enero','febrero','marzo','abril','mayo','junio','julio','agosto','septiembre','octubre','noviembre','diciembre')\n",
    "    return meses[numeromes:]\n"
   ]
  },
  {
   "cell_type": "code",
   "execution_count": 2,
   "metadata": {},
   "outputs": [
    {
     "name": "stdout",
     "output_type": "stream",
     "text": [
      "Imprimir los nombres de meses que faltan hasta fin de año\n",
      "('febrero', 'marzo', 'abril', 'mayo', 'junio', 'julio', 'agosto', 'septiembre', 'octubre', 'noviembre', 'diciembre')\n"
     ]
    }
   ],
   "source": [
    "print(\"Imprimir los nombres de meses que faltan hasta fin de año\")\n",
    "numeromes=int(input(\"Ingrese el numero de mes:\"))\n",
    "mesesfalta=meses_faltantes(numeromes)\n",
    "print(mesesfalta)\n"
   ]
  },
  {
   "cell_type": "markdown",
   "metadata": {},
   "source": [
    "Problema 2:"
   ]
  },
  {
   "cell_type": "markdown",
   "metadata": {},
   "source": [
    "Confeccionar una función que reciba una cadena de caracteres y nos devuelva los tres primeros.\n",
    "En el bloque principal del programa definir una tupla con los nombres de meses.\n",
    "Mostrar por pantalla los primeros tres caracteres de cada mes."
   ]
  },
  {
   "cell_type": "code",
   "execution_count": 3,
   "metadata": {},
   "outputs": [],
   "source": [
    "def primeros_tres(cadena):\n",
    "    return cadena[:3]\n"
   ]
  },
  {
   "cell_type": "code",
   "execution_count": 4,
   "metadata": {},
   "outputs": [
    {
     "name": "stdout",
     "output_type": "stream",
     "text": [
      "ene\n",
      "feb\n",
      "mar\n",
      "abr\n",
      "may\n",
      "jun\n",
      "jul\n",
      "ago\n",
      "sep\n",
      "oct\n",
      "nov\n",
      "dic\n"
     ]
    }
   ],
   "source": [
    "meses=('enero','febrero','marzo','abril','mayo','junio','julio','agosto','septiembre','octubre','noviembre','diciembre')\n",
    "for x in meses:\n",
    "    print(primeros_tres(x))"
   ]
  },
  {
   "cell_type": "markdown",
   "metadata": {},
   "source": [
    "Problemas propuestos:"
   ]
  },
  {
   "cell_type": "markdown",
   "metadata": {},
   "source": [
    "Realizar un programa que contenga las siguientes funciones:\n",
    "1) Carga de una lista de 10 enteros.\n",
    "2) Recibir una lista y retornar otra con la primer mitad (se sabe que siempre llega una lista con una cantidad par de elementos)\n",
    "3) Imprimir una lista."
   ]
  },
  {
   "cell_type": "code",
   "execution_count": 5,
   "metadata": {},
   "outputs": [],
   "source": [
    "def cargar():\n",
    "    lista=[]\n",
    "    for x in range(10):\n",
    "        valor=int(input(\"Cargar valor:\"))\n",
    "        lista.append(valor)\n",
    "    return lista\n"
   ]
  },
  {
   "cell_type": "code",
   "execution_count": 6,
   "metadata": {},
   "outputs": [],
   "source": [
    "def retornar_mitad(lista):\n",
    "    mitad=len(lista)//2\n",
    "    return lista[:mitad]\n",
    "\n"
   ]
  },
  {
   "cell_type": "code",
   "execution_count": 7,
   "metadata": {},
   "outputs": [],
   "source": [
    "def imprimir(lista):\n",
    "    print(\"Contenido de la lista\")\n",
    "    print(lista)\n"
   ]
  },
  {
   "cell_type": "code",
   "execution_count": 8,
   "metadata": {},
   "outputs": [
    {
     "name": "stdout",
     "output_type": "stream",
     "text": [
      "Contenido de la lista\n",
      "[5, 12, 10, 76, 42, 40, 13, 50, 43, 64]\n",
      "Contenido de la lista\n",
      "[5, 12, 10, 76, 42]\n"
     ]
    }
   ],
   "source": [
    "lista=cargar()\n",
    "lista2=retornar_mitad(lista)\n",
    "imprimir(lista)\n",
    "imprimir(lista2)"
   ]
  },
  {
   "cell_type": "markdown",
   "metadata": {},
   "source": [
    "Cargar una cadena por teclado luego:\n",
    "1) Imprimir los dos primeros caracteres.\n",
    "2) Imprimir los dos últimos\n",
    "3) Imprimir todos menos el primero y el último caracter."
   ]
  },
  {
   "cell_type": "code",
   "execution_count": 9,
   "metadata": {},
   "outputs": [
    {
     "name": "stdout",
     "output_type": "stream",
     "text": [
      "Los dos primeros caracteres\n",
      "es\n",
      "Los dos ultimos caracteres\n",
      "eo\n",
      "Todos los caracteres menos el primero y el ultimo\n",
      "sternocleidomastoide\n"
     ]
    }
   ],
   "source": [
    "cadena=input(\"Ingrese una cadena de caracteres:\")\n",
    "print(\"Los dos primeros caracteres\")\n",
    "print(cadena[:2])\n",
    "print(\"Los dos ultimos caracteres\")\n",
    "print(cadena[len(cadena)-2:])\n",
    "print(\"Todos los caracteres menos el primero y el ultimo\")\n",
    "print(cadena[1:len(cadena)-1])"
   ]
  }
 ],
 "metadata": {
  "kernelspec": {
   "display_name": "tf",
   "language": "python",
   "name": "python3"
  },
  "language_info": {
   "codemirror_mode": {
    "name": "ipython",
    "version": 3
   },
   "file_extension": ".py",
   "mimetype": "text/x-python",
   "name": "python",
   "nbconvert_exporter": "python",
   "pygments_lexer": "ipython3",
   "version": "3.9.18"
  }
 },
 "nbformat": 4,
 "nbformat_minor": 2
}
