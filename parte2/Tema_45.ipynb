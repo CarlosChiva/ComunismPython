{
 "cells": [
  {
   "cell_type": "markdown",
   "metadata": {},
   "source": [
    "                        Tema 45"
   ]
  },
  {
   "cell_type": "markdown",
   "metadata": {},
   "source": [
    "Problema 1:"
   ]
  },
  {
   "cell_type": "markdown",
   "metadata": {},
   "source": [
    "Plantear una clase Operaciones que solicite en el método __init__ la carga dedos enteros e inmediatamente muestre su suma, resta, multiplicación y división.\n",
    "Hacer cada operación en otro método de la clase Operación y llamarlos desde el mismo método __init__"
   ]
  },
  {
   "cell_type": "code",
   "execution_count": 1,
   "metadata": {},
   "outputs": [],
   "source": [
    "class Operacion:\n",
    "    def __init__(self):\n",
    "        self.valor1=int(input(\"Ingrese primer valor:\"))\n",
    "        self.valor2=int(input(\"Ingrese segundo valor:\"))\n",
    "        self.sumar()\n",
    "        self.restar()\n",
    "        self.multiplicar()\n",
    "        self.dividir()\n",
    "    def sumar(self):\n",
    "        suma=self.valor1+self.valor2\n",
    "        print(\"La suma es\",suma)\n",
    "    def restar(self):\n",
    "        resta=self.valor1-self.valor2\n",
    "        print(\"La rersta es\",resta)\n",
    "    def multiplicar(self):\n",
    "        multi=self.valor1*self.valor2\n",
    "        print(\"El producto es\",multi)\n",
    "    def dividir(self):\n",
    "        divi=self.valor1/self.valor2\n",
    "        print(\"La division es\",divi)"
   ]
  },
  {
   "cell_type": "code",
   "execution_count": 2,
   "metadata": {},
   "outputs": [
    {
     "name": "stdout",
     "output_type": "stream",
     "text": [
      "La suma es 3\n",
      "La rersta es -1\n",
      "El producto es 2\n",
      "La division es 0.5\n"
     ]
    }
   ],
   "source": [
    "operacion1=Operacion()"
   ]
  },
  {
   "cell_type": "markdown",
   "metadata": {},
   "source": [
    "Problema 2:"
   ]
  },
  {
   "cell_type": "markdown",
   "metadata": {},
   "source": [
    "Plantear una clase que administre dos listas de 5 nombres de alumnos y sus notas. Mostrar un menú de opciones que permita:\n",
    "1) Cargar alumnos.\n",
    "2) Listar alumnos.\n",
    "3) Mostrar alumnos con notas  ayores o iguales a 7.\n",
    "4) Finalizar programa."
   ]
  },
  {
   "cell_type": "code",
   "execution_count": 10,
   "metadata": {},
   "outputs": [],
   "source": [
    "class Alumnos:\n",
    "    def __init__(self):\n",
    "        self.nombres=[]\n",
    "        self.notas=[]\n",
    "    def menu(self):\n",
    "        opcion=0\n",
    "        while opcion!=4:\n",
    "            print(\"1- Cargar alumnos\")\n",
    "            print(\"2- Listar alumnos\")\n",
    "            print(\"3- Listado de alumnos con notas mayores o iguales a 7\")\n",
    "            print(\"4- Finalizar programa\")\n",
    "            opcion=int(input(\"Ingrese su opcion:\"))\n",
    "            if opcion==1:\n",
    "                self.cargar()\n",
    "            elif opcion==2:\n",
    "                self.listar()\n",
    "            elif opcion==3:\n",
    "                self.notas_altas()\n",
    "    def cargar(self):\n",
    "        for x in range(5):\n",
    "            nom=input(\"Ingrese nombre del alumno:\")\n",
    "            self.nombres.append(nom)\n",
    "            no=int(input(\"Nota del alumno:\"))\n",
    "            self.notas.append(no)\n",
    "        self.listar()    \n",
    "    def listar(self):\n",
    "        print(\"Listado completo de alumnos\")\n",
    "        for x in range(5):\n",
    "            print(self.nombres[x],self.notas[x])\n",
    "            print(\"_____________________\")\n",
    "    def notas_altas(self):\n",
    "        print(\"Alumnos con notas superiores o iguales a 7\")\n",
    "        for x in range(5):\n",
    "            if self.notas[x]>=7:\n",
    "                print(self.nombres[x],self.notas[x])\n",
    "            print(\"_____________________\")\n"
   ]
  },
  {
   "cell_type": "code",
   "execution_count": 11,
   "metadata": {},
   "outputs": [
    {
     "name": "stdout",
     "output_type": "stream",
     "text": [
      "1- Cargar alumnos\n",
      "2- Listar alumnos\n",
      "3- Listado de alumnos con notas mayores o iguales a 7\n",
      "4- Finalizar programa\n",
      "Listado completo de alumnos\n",
      "Abdul Amurabi 5\n",
      "_____________________\n",
      "Allah Uajbaz 10\n",
      "_____________________\n",
      "Cositreo 4\n",
      "_____________________\n",
      "Charo Suprema 1\n",
      "_____________________\n",
      "Larreta 1\n",
      "_____________________\n",
      "1- Cargar alumnos\n",
      "2- Listar alumnos\n",
      "3- Listado de alumnos con notas mayores o iguales a 7\n",
      "4- Finalizar programa\n",
      "Listado completo de alumnos\n",
      "Abdul Amurabi 5\n",
      "_____________________\n",
      "Allah Uajbaz 10\n",
      "_____________________\n",
      "Cositreo 4\n",
      "_____________________\n",
      "Charo Suprema 1\n",
      "_____________________\n",
      "Larreta 1\n",
      "_____________________\n",
      "1- Cargar alumnos\n",
      "2- Listar alumnos\n",
      "3- Listado de alumnos con notas mayores o iguales a 7\n",
      "4- Finalizar programa\n",
      "Alumnos con notas superiores o iguales a 7\n",
      "_____________________\n",
      "Allah Uajbaz 10\n",
      "_____________________\n",
      "_____________________\n",
      "_____________________\n",
      "_____________________\n",
      "1- Cargar alumnos\n",
      "2- Listar alumnos\n",
      "3- Listado de alumnos con notas mayores o iguales a 7\n",
      "4- Finalizar programa\n"
     ]
    }
   ],
   "source": [
    "alumnos=Alumnos()\n",
    "alumnos.menu()"
   ]
  },
  {
   "cell_type": "markdown",
   "metadata": {},
   "source": [
    "Problema propuesto"
   ]
  },
  {
   "cell_type": "markdown",
   "metadata": {},
   "source": [
    "Confeccionar una clase que administre una agenda personal. Se debe\n",
    "almacenar el nombre de la persona, teléfono y mail\n",
    "Debe mostrar un menú con las siguientes opciones:\n",
    "1) Carga de un contacto en la agenda.\n",
    "2) Listado completo de la agenda.\n",
    "3) Consulta ingresando el nombre de la persona.\n",
    "4) Modificación de su teléfono y mail.\n",
    "5) Finalizar programa."
   ]
  },
  {
   "cell_type": "code",
   "execution_count": 1,
   "metadata": {},
   "outputs": [],
   "source": [
    "class Agenda:\n",
    "    def __init__(self):\n",
    "        self.contactos={} # definimos un diccionario para almacenar los datos\n",
    "    def menu(self):\n",
    "        opcion=0\n",
    "        while opcion!=5:\n",
    "            print(\"1- Carga de un contacto en la agenda\")\n",
    "            print(\"2- Listado completo de la agenda\")\n",
    "            print(\"3- Consulta ingresando el nombre de la persona\")\n",
    "            print(\"4- Modificacion del telefono y mail\")\n",
    "            print(\"5- Finalizar programa\")\n",
    "            opcion=int(input(\"Ingrese su opcion:\"))\n",
    "            if opcion==1:\n",
    "                self.cargar()\n",
    "            elif opcion==2:\n",
    "                self.listado()\n",
    "            elif opcion==3:\n",
    "                self.consulta()\n",
    "            elif opcion==4:\n",
    "                self.modificacion()\n",
    "    def cargar(self):\n",
    "        nombre=input(\"Ingrese el nombre de la persona:\")\n",
    "        telefono=input(\"Ingrese el numero de telefono:\")\n",
    "        mail=input(\"Ingrese el mail:\")\n",
    "        self.contactos[nombre]=(telefono,mail)\n",
    "        print(\"______________________________________________\")\n",
    "    def listado(self):\n",
    "        print(\"______________________________________________\")\n",
    "        print(\"Listado completo de la agenda\")\n",
    "        for nombre in self.contactos:\n",
    "            print(nombre, self.contactos[nombre][0],self.contactos[nombre][1])\n",
    "            print(\"______________________________________________\")\n",
    "    def consulta(self):\n",
    "        print(\"______________________________________________\")\n",
    "        nombre=input(\"Ingrese el nombre de la persona a consultar:\")\n",
    "        if nombre in self.contactos:\n",
    "            print(nombre,\" su telefono es\",self.contactos[nombre][0],\"y su mail es\",self.contactos[nombre][1])\n",
    "        else:\n",
    "            print(\"No existe un contacto con ese nombre\")\n",
    "            print(\"______________________________________________\")\n",
    "    def modificacion(self):\n",
    "        print(\"______________________________________________\")\n",
    "        nombre=input(\"Ingrese el nombre de la persona a modificar el telefono y mail:\")\n",
    "        if nombre in self.contactos:\n",
    "            telefono=input(\"Ingrese el nuevo telefono:\")\n",
    "            mail=input(\"Ingrese el nuevo mail:\")\n",
    "            self.contactos[nombre]=(telefono,mail)\n",
    "        else:\n",
    "            print(\"No existe un contaxto con ese nombre\")\n",
    "            print(\"______________________________________________\")        "
   ]
  },
  {
   "cell_type": "code",
   "execution_count": 2,
   "metadata": {},
   "outputs": [
    {
     "name": "stdout",
     "output_type": "stream",
     "text": [
      "1- Carga de un contacto en la agenda\n",
      "2- Listado completo de la agenda\n",
      "3- Consulta ingresando el nombre de la persona\n",
      "4- Modificacion del telefono y mail\n",
      "5- Finalizar programa\n",
      "______________________________________________\n",
      "1- Carga de un contacto en la agenda\n",
      "2- Listado completo de la agenda\n",
      "3- Consulta ingresando el nombre de la persona\n",
      "4- Modificacion del telefono y mail\n",
      "5- Finalizar programa\n",
      "______________________________________________\n",
      "Listado completo de la agenda\n",
      "Charizard 123456789 Charizard@DeLaCharidad.com\n",
      "______________________________________________\n",
      "1- Carga de un contacto en la agenda\n",
      "2- Listado completo de la agenda\n",
      "3- Consulta ingresando el nombre de la persona\n",
      "4- Modificacion del telefono y mail\n",
      "5- Finalizar programa\n",
      "______________________________________________\n",
      "Charizard  su telefono es 123456789 y su mail es Charizard@DeLaCharidad.com\n",
      "1- Carga de un contacto en la agenda\n",
      "2- Listado completo de la agenda\n",
      "3- Consulta ingresando el nombre de la persona\n",
      "4- Modificacion del telefono y mail\n",
      "5- Finalizar programa\n",
      "______________________________________________\n",
      "1- Carga de un contacto en la agenda\n",
      "2- Listado completo de la agenda\n",
      "3- Consulta ingresando el nombre de la persona\n",
      "4- Modificacion del telefono y mail\n",
      "5- Finalizar programa\n",
      "______________________________________________\n",
      "Listado completo de la agenda\n",
      "Charizard 987654321 YaNoSoyCharizard@NiDeCoña.aug\n",
      "______________________________________________\n",
      "1- Carga de un contacto en la agenda\n",
      "2- Listado completo de la agenda\n",
      "3- Consulta ingresando el nombre de la persona\n",
      "4- Modificacion del telefono y mail\n",
      "5- Finalizar programa\n"
     ]
    }
   ],
   "source": [
    "agenda=Agenda()\n",
    "agenda.menu()"
   ]
  },
  {
   "cell_type": "markdown",
   "metadata": {},
   "source": [
    "Desarrollar un programa que cargue los lados de un triángulo e implemente los siguientes métodos: inicializar los atributos, imprimir el valor del lado mayor y otro método que muestre si es equilátero o no. El nombre de la clase llamarla Triangulo"
   ]
  },
  {
   "cell_type": "code",
   "execution_count": 3,
   "metadata": {},
   "outputs": [],
   "source": [
    "class Triangulo:\n",
    "    def inicializar(self):\n",
    "        self.lado1=int(input(\"Ingrese primer lado:\"))\n",
    "        self.lado2=int(input(\"Ingrese segundo lado:\"))\n",
    "        self.lado3=int(input(\"Ingrese tercer lado:\"))\n",
    "    def imprimir(self):\n",
    "        print(\"Valores de los lados del triangulo\")\n",
    "        print(\"Lado 1\",self.lado1)\n",
    "        print(\"Lado 2\",self.lado2)\n",
    "        print(\"Lado 3\",self.lado3)\n",
    "    def lado_mayor(self):\n",
    "        print(\"Lado mayor\")\n",
    "        if self.lado1>self.lado2 and self.lado1>self.lado3:\n",
    "            print(self.lado1)\n",
    "        else:\n",
    "            if self.lado2>self.lado3:\n",
    "                print(self.lado2)\n",
    "            else:\n",
    "                print(self.lado3)\n",
    "    def es_equilatero(self):\n",
    "        if self.lado1==self.lado2 and self.lado1==self.lado3:\n",
    "            print(\"El triangulo es equilatero\")\n",
    "        else:\n",
    "            print(\"El triangulo no es equilatero\")"
   ]
  },
  {
   "cell_type": "code",
   "execution_count": 4,
   "metadata": {},
   "outputs": [
    {
     "name": "stdout",
     "output_type": "stream",
     "text": [
      "Valores de los lados del triangulo\n",
      "Lado 1 4\n",
      "Lado 2 3\n",
      "Lado 3 8\n",
      "Lado mayor\n",
      "8\n",
      "El triangulo no es equilatero\n"
     ]
    }
   ],
   "source": [
    "triangulo1=Triangulo()\n",
    "triangulo1.inicializar()\n",
    "triangulo1.imprimir()\n",
    "triangulo1.lado_mayor()\n",
    "triangulo1.es_equilatero()"
   ]
  }
 ],
 "metadata": {
  "kernelspec": {
   "display_name": "tf",
   "language": "python",
   "name": "python3"
  },
  "language_info": {
   "codemirror_mode": {
    "name": "ipython",
    "version": 3
   },
   "file_extension": ".py",
   "mimetype": "text/x-python",
   "name": "python",
   "nbconvert_exporter": "python",
   "pygments_lexer": "ipython3",
   "version": "3.9.18"
  }
 },
 "nbformat": 4,
 "nbformat_minor": 2
}
