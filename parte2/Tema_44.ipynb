{
 "cells": [
  {
   "cell_type": "markdown",
   "metadata": {},
   "source": [
    "                        Tema 44"
   ]
  },
  {
   "cell_type": "markdown",
   "metadata": {},
   "source": [
    "Problema 1:"
   ]
  },
  {
   "cell_type": "markdown",
   "metadata": {},
   "source": [
    "Implementaremos una clase llamada Persona que tendrá como atributo\n",
    "(variable) su nombre y dos métodos (funciones), uno de dichos métodos\n",
    "inicializará el atributo nombre y el siguiente método mostrará en la pantalla el\n",
    "contenido del mismo.\n",
    "Definir dos objetos de la clase Persona."
   ]
  },
  {
   "cell_type": "code",
   "execution_count": 5,
   "metadata": {},
   "outputs": [],
   "source": [
    "class Persona:\n",
    "    def inicializar(self,nom):\n",
    "        self.nombre=nom\n",
    "    def imprimir(self):\n",
    "        print(\"Nombre\",self.nombre)"
   ]
  },
  {
   "cell_type": "code",
   "execution_count": 6,
   "metadata": {},
   "outputs": [
    {
     "name": "stdout",
     "output_type": "stream",
     "text": [
      "Nombre Pedra\n",
      "Nombre Carlo\n"
     ]
    }
   ],
   "source": [
    "persona1=Persona()\n",
    "persona1.inicializar(\"Pedra\")\n",
    "persona1.imprimir()\n",
    "persona2=Persona()\n",
    "persona2.inicializar(\"Carlo\")\n",
    "persona2.imprimir()"
   ]
  },
  {
   "cell_type": "markdown",
   "metadata": {},
   "source": [
    "Problema 2:"
   ]
  },
  {
   "cell_type": "markdown",
   "metadata": {},
   "source": [
    "Implementar una clase llamada Alumno que tenga como atributos su nombre y su nota. Definir los métodos para inicializar sus atributos, imprimirlos y mostrar un mensaje si está regular (nota mayor o igual a 4).\n",
    "Definir dos objetos de la clase Alumno."
   ]
  },
  {
   "cell_type": "code",
   "execution_count": 7,
   "metadata": {},
   "outputs": [],
   "source": [
    "class Alumno:\n",
    "    def inicializar(self,nombre,nota):\n",
    "        self.nombre=nombre\n",
    "        self.nota=nota\n",
    "    def imprimir(self):\n",
    "        print(\"Nombre:\",self.nombre)\n",
    "        print(\"Nota:\",self.nota)\n",
    "    def mostrar_estado(self):\n",
    "        if self.nota>=4:\n",
    "            print(\"Regular\")\n",
    "        else:\n",
    "            print(\"Libre\")"
   ]
  },
  {
   "cell_type": "code",
   "execution_count": 8,
   "metadata": {},
   "outputs": [
    {
     "name": "stdout",
     "output_type": "stream",
     "text": [
      "Nombre: diego\n",
      "Nota: 2\n",
      "Libre\n",
      "Nombre: ana\n",
      "Nota: 10\n",
      "Regular\n"
     ]
    }
   ],
   "source": [
    "alumno1=Alumno()\n",
    "alumno1.inicializar(\"diego\",2)\n",
    "alumno1.imprimir()\n",
    "alumno1.mostrar_estado()\n",
    "alumno2=Alumno()\n",
    "alumno2.inicializar(\"ana\",10)\n",
    "alumno2.imprimir()\n",
    "alumno2.mostrar_estado()"
   ]
  },
  {
   "cell_type": "markdown",
   "metadata": {},
   "source": [
    "Problemas propuestos"
   ]
  },
  {
   "cell_type": "markdown",
   "metadata": {},
   "source": [
    "Confeccionar una clase que permita carga el nombre y la edad de una persona. Mostrar los datos cargados. Imprimir un mensaje si es mayor de edad (edad>=18)"
   ]
  },
  {
   "cell_type": "code",
   "execution_count": 9,
   "metadata": {},
   "outputs": [],
   "source": [
    "class Persona:\n",
    "    def inicializar(self,nombre,edad):\n",
    "        self.nombre=nombre\n",
    "        self.edad=edad\n",
    "    def imprimir(self):\n",
    "        print(\"Nombre\",self.nombre)\n",
    "        print(\"Edad\",self.edad)\n",
    "    def mayor_edad(self):\n",
    "        if self.edad>=18:\n",
    "            print(\"Es mayor de edad\")\n",
    "        else:\n",
    "            print(\"No es mayor de edad\")"
   ]
  },
  {
   "cell_type": "code",
   "execution_count": 10,
   "metadata": {},
   "outputs": [
    {
     "name": "stdout",
     "output_type": "stream",
     "text": [
      "Nombre diego\n",
      "Edad 40\n",
      "Es mayor de edad\n"
     ]
    }
   ],
   "source": [
    "persona1=Persona()\n",
    "persona1.inicializar(\"diego\",40)\n",
    "persona1.imprimir()\n",
    "persona1.mayor_edad()"
   ]
  },
  {
   "cell_type": "markdown",
   "metadata": {},
   "source": [
    "Desarrollar un programa que cargue los lados de un triángulo e implemente los siguientes métodos: inicializar los atributos, imprimir el valor del lado mayor y otro método que muestre si es equilátero o no. El nombre de la clase llamarla Triangulo"
   ]
  },
  {
   "cell_type": "code",
   "execution_count": 11,
   "metadata": {},
   "outputs": [],
   "source": [
    "class Triangulo:\n",
    "    def inicializar(self):\n",
    "        self.lado1=int(input(\"Ingrese primer lado:\"))\n",
    "        self.lado2=int(input(\"Ingrese segundo lado:\"))\n",
    "        self.lado3=int(input(\"Ingrese tercer lado:\"))\n",
    "    def imprimir(self):\n",
    "        print(\"Valores de los lados del triangulo\")\n",
    "        print(\"Lado 1\",self.lado1)\n",
    "        print(\"Lado 2\",self.lado2)\n",
    "        print(\"Lado 3\",self.lado3)\n",
    "    def lado_mayor(self):\n",
    "        print(\"Lado mayor\")\n",
    "        if self.lado1>self.lado2 and self.lado1>self.lado3:\n",
    "            print(self.lado1)\n",
    "        else:\n",
    "            if self.lado2>self.lado3:\n",
    "                print(self.lado2)\n",
    "            else:\n",
    "                print(self.lado3)\n",
    "    def es_equilatero(self):\n",
    "        if self.lado1==self.lado2 and self.lado1==self.lado3:\n",
    "            print(\"El triangulo es equilatero\")\n",
    "        else:\n",
    "            print(\"El triangulo no es equilatero\")"
   ]
  },
  {
   "cell_type": "code",
   "execution_count": 12,
   "metadata": {},
   "outputs": [
    {
     "name": "stdout",
     "output_type": "stream",
     "text": [
      "Valores de los lados del triangulo\n",
      "Lado 1 4\n",
      "Lado 2 8\n",
      "Lado 3 9\n",
      "Lado mayor\n",
      "9\n",
      "El triangulo no es equilatero\n"
     ]
    }
   ],
   "source": [
    "triangulo1=Triangulo()\n",
    "triangulo1.inicializar()\n",
    "triangulo1.imprimir()\n",
    "triangulo1.lado_mayor()\n",
    "triangulo1.es_equilatero()"
   ]
  }
 ],
 "metadata": {
  "kernelspec": {
   "display_name": "tf",
   "language": "python",
   "name": "python3"
  },
  "language_info": {
   "codemirror_mode": {
    "name": "ipython",
    "version": 3
   },
   "file_extension": ".py",
   "mimetype": "text/x-python",
   "name": "python",
   "nbconvert_exporter": "python",
   "pygments_lexer": "ipython3",
   "version": "3.9.18"
  }
 },
 "nbformat": 4,
 "nbformat_minor": 2
}
