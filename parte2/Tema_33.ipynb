{
 "cells": [
  {
   "cell_type": "markdown",
   "metadata": {},
   "source": [
    "                        Tema 33"
   ]
  },
  {
   "cell_type": "markdown",
   "metadata": {},
   "source": [
    "Problema 1:"
   ]
  },
  {
   "cell_type": "markdown",
   "metadata": {},
   "source": [
    "Confeccionar un programa que permita la carga de una lista de 5 enteros por\n",
    "teclado.\n",
    "Luego en otras funciones:\n",
    "1) Imprimirla en forma completa.\n",
    "2) Obtener y mostrar el mayor.\n",
    "3) Mostrar la suma de todas sus componentes."
   ]
  },
  {
   "cell_type": "code",
   "execution_count": 1,
   "metadata": {},
   "outputs": [],
   "source": [
    "def cargar():\n",
    "    lista=[]\n",
    "    for x in range(5):\n",
    "        num=int(input(\"Ingrese un valor:\"))\n",
    "        lista.append(num)\n",
    "    return lista\n"
   ]
  },
  {
   "cell_type": "code",
   "execution_count": 2,
   "metadata": {},
   "outputs": [],
   "source": [
    "def imprimir(lista):\n",
    "    print(\"Lista completa\")\n",
    "    for elemento in lista:\n",
    "        print(elemento)\n"
   ]
  },
  {
   "cell_type": "code",
   "execution_count": 3,
   "metadata": {},
   "outputs": [],
   "source": [
    "def mayor(lista):\n",
    "    may=lista[0]\n",
    "    for elemento in lista:\n",
    "        if elemento>may:\n",
    "            may=elemento\n",
    "    print(\"El elemento mayor de la lista es\",may)\n"
   ]
  },
  {
   "cell_type": "code",
   "execution_count": 4,
   "metadata": {},
   "outputs": [],
   "source": [
    "def sumar_elementos(lista):\n",
    "    suma=0\n",
    "    for elemento in lista:\n",
    "        suma=suma+elemento\n",
    "    print(\"La suma de todos sus elementos es\",suma)\n"
   ]
  },
  {
   "cell_type": "code",
   "execution_count": 5,
   "metadata": {},
   "outputs": [
    {
     "name": "stdout",
     "output_type": "stream",
     "text": [
      "Lista completa\n",
      "10\n",
      "30\n",
      "54\n",
      "12\n",
      "46\n",
      "El elemento mayor de la lista es 54\n",
      "La suma de todos sus elementos es 152\n"
     ]
    }
   ],
   "source": [
    "lista=cargar()\n",
    "imprimir(lista)\n",
    "mayor(lista)\n",
    "sumar_elementos(lista)"
   ]
  },
  {
   "cell_type": "markdown",
   "metadata": {},
   "source": [
    "Problema 2:"
   ]
  },
  {
   "cell_type": "markdown",
   "metadata": {},
   "source": [
    "Almacenar en una lista de 5 elementos las tuplas con el nombre de empleado y\n",
    "su sueldo.\n",
    "Implementar las funciones:\n",
    "1) Carga de empleados.\n",
    "2) Impresión de los empleados y sus sueldos.\n",
    "3) Nombre del empleado con sueldo mayor.\n",
    "4) Cantidad de empleados con sueldo menor a 1000."
   ]
  },
  {
   "cell_type": "code",
   "execution_count": 6,
   "metadata": {},
   "outputs": [],
   "source": [
    "def cargar():\n",
    "    empleados=[]\n",
    "    for x in range(5):\n",
    "        nombre=input(\"Nombre del empleado:\")\n",
    "        sueldo=int(input(\"Ingrese el sueldo:\"))\n",
    "        empleados.append((nombre,sueldo))\n",
    "    return empleados\n"
   ]
  },
  {
   "cell_type": "code",
   "execution_count": 7,
   "metadata": {},
   "outputs": [],
   "source": [
    "def imprimir(empleados):\n",
    "    print(\"Listado de los nombres de empleados y sus sueldos\")\n",
    "    for nombre,sueldo in empleados:\n",
    "        print(nombre,sueldo)\n"
   ]
  },
  {
   "cell_type": "code",
   "execution_count": 8,
   "metadata": {},
   "outputs": [],
   "source": [
    "def mayor_sueldo(empleados):\n",
    "    empleado=empleados[0]\n",
    "    for emp in empleados:\n",
    "        if emp[1]>empleado[1]:\n",
    "            empleado=emp\n",
    "    print(\"Empleado con mayor sueldo:\",empleado[0],\"su sueldoes\",empleado[1])\n"
   ]
  },
  {
   "cell_type": "code",
   "execution_count": 9,
   "metadata": {},
   "outputs": [],
   "source": [
    "def sueldos_menor1000(empleados):\n",
    "    cant=0\n",
    "    for empleado in empleados:\n",
    "        if empleado[1]<1000:\n",
    "            cant+=1\n",
    "    print(\"Cantidad de empleados con un sueldo menor a 1000 son:\",cant)\n"
   ]
  },
  {
   "cell_type": "code",
   "execution_count": 10,
   "metadata": {},
   "outputs": [
    {
     "name": "stdout",
     "output_type": "stream",
     "text": [
      "Listado de los nombres de empleados y sus sueldos\n",
      "auuu 12\n",
      "aooo 20\n",
      "ahmed 100000\n",
      "pepe 1\n",
      "ali 100000\n",
      "Empleado con mayor sueldo: ahmed su sueldoes 100000\n",
      "Cantidad de empleados con un sueldo menor a 1000 son: 3\n"
     ]
    }
   ],
   "source": [
    "empleados=cargar()\n",
    "imprimir(empleados)\n",
    "mayor_sueldo(empleados)\n",
    "sueldos_menor1000(empleados)"
   ]
  },
  {
   "cell_type": "markdown",
   "metadata": {},
   "source": [
    "Problemas propuestos:"
   ]
  },
  {
   "cell_type": "markdown",
   "metadata": {},
   "source": [
    "Definir una función que cargue una lista con palabras y la retorne.\n",
    "Luego otra función tiene que mostrar todas las palabras de la lista que\n",
    "tienen más de 5 caracteres"
   ]
  },
  {
   "cell_type": "code",
   "execution_count": 11,
   "metadata": {},
   "outputs": [],
   "source": [
    "def cargar():\n",
    "    palabras=[]\n",
    "    cant=int(input(\"Cuantas palabras quiere cargar?\"))\n",
    "    for x in range(cant):\n",
    "        pal=input(\"Ingrese palabra:\")\n",
    "        palabras.append(pal)\n",
    "    return palabras\n"
   ]
  },
  {
   "cell_type": "code",
   "execution_count": 12,
   "metadata": {},
   "outputs": [],
   "source": [
    "def palabras_mas5(palabras):\n",
    "    print(\"Palabras ingresadas con mas de 5 caracteres\")\n",
    "    for palabra in palabras:\n",
    "        if len(palabra)>5:\n",
    "            print(palabra)\n"
   ]
  },
  {
   "cell_type": "code",
   "execution_count": 13,
   "metadata": {},
   "outputs": [
    {
     "name": "stdout",
     "output_type": "stream",
     "text": [
      "Palabras ingresadas con mas de 5 caracteres\n",
      "despues\n"
     ]
    }
   ],
   "source": [
    "palabras=cargar()\n",
    "palabras_mas5(palabras)"
   ]
  },
  {
   "cell_type": "markdown",
   "metadata": {},
   "source": [
    "Almacenar los nombres de 5 productos y sus precios. Utilizar una lista y\n",
    "cada elemento una tupla con el nombre y el precio.\n",
    "Desarrollar las funciones:\n",
    "1) Cargar por teclado.\n",
    "2) Listar los productos y precios.\n",
    "3) Imprimir los productos con precios comprendidos entre 10 y 15."
   ]
  },
  {
   "cell_type": "code",
   "execution_count": 14,
   "metadata": {},
   "outputs": [],
   "source": [
    "def cargar():\n",
    "    productos=[]\n",
    "    for x in range(5):\n",
    "        nombre=input(\"Ingrese el nombre del producto:\")\n",
    "        precio=int(input(\"Ingrese el precio:\"))\n",
    "        productos.append((nombre,precio))\n",
    "    return productos\n"
   ]
  },
  {
   "cell_type": "code",
   "execution_count": 15,
   "metadata": {},
   "outputs": [],
   "source": [
    "def imprimir(productos):\n",
    "    print(\"Listado de productos y precios\")\n",
    "    for nombre,precio in productos:\n",
    "        print(nombre,precio)\n"
   ]
  },
  {
   "cell_type": "code",
   "execution_count": 16,
   "metadata": {},
   "outputs": [],
   "source": [
    "def imprimir_entre10y15(productos):\n",
    "    print(\"Listado de productos que tienen un precio comprendido entre 10 y 15\")\n",
    "    for nombre,precio in productos:\n",
    "        if precio>=10 and precio<=15:\n",
    "            print(nombre,precio)"
   ]
  },
  {
   "cell_type": "code",
   "execution_count": 17,
   "metadata": {},
   "outputs": [
    {
     "name": "stdout",
     "output_type": "stream",
     "text": [
      "Listado de productos y precios\n",
      "consolador 50\n",
      "bolas chinas 13\n",
      "lubricante 7\n",
      "condones 14\n",
      "lavativa 11\n",
      "Listado de productos que tienen un precio comprendido entre 10 y 15\n",
      "bolas chinas 13\n",
      "condones 14\n",
      "lavativa 11\n"
     ]
    }
   ],
   "source": [
    "productos=cargar()\n",
    "imprimir(productos)\n",
    "imprimir_entre10y15(productos)"
   ]
  }
 ],
 "metadata": {
  "kernelspec": {
   "display_name": "tf",
   "language": "python",
   "name": "python3"
  },
  "language_info": {
   "codemirror_mode": {
    "name": "ipython",
    "version": 3
   },
   "file_extension": ".py",
   "mimetype": "text/x-python",
   "name": "python",
   "nbconvert_exporter": "python",
   "pygments_lexer": "ipython3",
   "version": "3.9.18"
  }
 },
 "nbformat": 4,
 "nbformat_minor": 2
}
