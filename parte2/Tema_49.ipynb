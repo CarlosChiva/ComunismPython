{
 "cells": [
  {
   "cell_type": "markdown",
   "metadata": {},
   "source": [
    "                        Tema 49"
   ]
  },
  {
   "cell_type": "markdown",
   "metadata": {},
   "source": [
    "Problema 1:"
   ]
  },
  {
   "cell_type": "markdown",
   "metadata": {},
   "source": [
    "Definir una clase llamada Punto con dos atributos x e y.\n",
    "Crearle el método especial __str__ para retornar un string con el formato (x,y)."
   ]
  },
  {
   "cell_type": "code",
   "execution_count": 1,
   "metadata": {},
   "outputs": [],
   "source": [
    "class Punto:\n",
    "    def __init__(self, x, y):\n",
    "        self.x=x\n",
    "        self.y=y\n",
    "    def __str__(self):\n",
    "        return \"(\"+str(self.x)+\",\"+str(self.y)+\")\""
   ]
  },
  {
   "cell_type": "code",
   "execution_count": 2,
   "metadata": {},
   "outputs": [
    {
     "name": "stdout",
     "output_type": "stream",
     "text": [
      "(10,3)\n",
      "(3,4)\n"
     ]
    }
   ],
   "source": [
    "punto1=Punto(10,3)\n",
    "punto2=Punto(3,4)\n",
    "print(punto1)\n",
    "print(punto2)"
   ]
  },
  {
   "cell_type": "markdown",
   "metadata": {},
   "source": [
    "Problema 2:"
   ]
  },
  {
   "cell_type": "markdown",
   "metadata": {},
   "source": [
    "Declarar una clase llamada Familia. Definir como atributos el nombre del padre, madre y una lista con los nombres de los hijos.\n",
    "Definir el método especial __str__ que retorne un string con el nombre del padre, la madre y de todos sus hijos."
   ]
  },
  {
   "cell_type": "code",
   "execution_count": 3,
   "metadata": {},
   "outputs": [],
   "source": [
    "class Familia:\n",
    "    def __init__(self,padre,madre,hijos=[]):\n",
    "        self.padre=padre\n",
    "        self.madre=madre\n",
    "        self.hijos=hijos\n",
    "    def __str__(self):\n",
    "        cadena=self.padre+\",\"+self.madre\n",
    "        for hi in self.hijos:\n",
    "            cadena=cadena+\",\"+hi\n",
    "        return cadena"
   ]
  },
  {
   "cell_type": "code",
   "execution_count": 4,
   "metadata": {},
   "outputs": [
    {
     "name": "stdout",
     "output_type": "stream",
     "text": [
      "Pablo,Ana,Pepe,Julio\n",
      "Jorge,Carla\n",
      "Luis,Maria,marcos\n"
     ]
    }
   ],
   "source": [
    "familia1=Familia(\"Pablo\",\"Ana\",[\"Pepe\",\"Julio\"])\n",
    "familia2=Familia(\"Jorge\",\"Carla\")\n",
    "familia3=Familia(\"Luis\",\"Maria\",[\"marcos\"])\n",
    "print(familia1)\n",
    "print(familia2)\n",
    "print(familia3)"
   ]
  },
  {
   "cell_type": "markdown",
   "metadata": {},
   "source": [
    "Problema propuesto"
   ]
  },
  {
   "cell_type": "markdown",
   "metadata": {},
   "source": [
    "Desarrollar un programa que implemente una clase llamada Jugador.\n",
    "Definir como atributos su nombre y puntaje.\n",
    "5Codificar el método especial __str__ que retorne el nombre y si es principiante (menos de 1000 puntos) o experto (1000 o más puntos)"
   ]
  },
  {
   "cell_type": "code",
   "execution_count": 5,
   "metadata": {},
   "outputs": [],
   "source": [
    "class Jugador:\n",
    "    def __init__(self, nombre, puntaje):\n",
    "        self.nombre=nombre\n",
    "        self.puntaje=puntaje\n",
    "    def __str__(self):\n",
    "        cadena=self.nombre+\"-\"\n",
    "        if self.puntaje<1000:\n",
    "            cadena+=\"principiante\"\n",
    "        else:\n",
    "            cadena=cadena+\"experto\"\n",
    "        return cadena"
   ]
  },
  {
   "cell_type": "code",
   "execution_count": 6,
   "metadata": {},
   "outputs": [
    {
     "name": "stdout",
     "output_type": "stream",
     "text": [
      "Juan-principiante\n",
      "Ana-experto\n"
     ]
    }
   ],
   "source": [
    "jugador1=Jugador(\"Juan\",750)\n",
    "jugador2=Jugador(\"Ana\",1200)\n",
    "print(jugador1)\n",
    "print(jugador2)"
   ]
  }
 ],
 "metadata": {
  "kernelspec": {
   "display_name": "tf",
   "language": "python",
   "name": "python3"
  },
  "language_info": {
   "codemirror_mode": {
    "name": "ipython",
    "version": 3
   },
   "file_extension": ".py",
   "mimetype": "text/x-python",
   "name": "python",
   "nbconvert_exporter": "python",
   "pygments_lexer": "ipython3",
   "version": "3.9.18"
  }
 },
 "nbformat": 4,
 "nbformat_minor": 2
}
