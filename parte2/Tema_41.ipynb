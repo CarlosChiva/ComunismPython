{
 "cells": [
  {
   "cell_type": "markdown",
   "metadata": {},
   "source": [
    "                        Tema 41"
   ]
  },
  {
   "cell_type": "markdown",
   "metadata": {},
   "source": [
    "Problema 1:"
   ]
  },
  {
   "cell_type": "markdown",
   "metadata": {},
   "source": [
    "Confeccionar una aplicación que permita cargar por teclado una lista de enteros, obtener y mostrar el mayor y calcular su suma. Definir un módulo con las funciones de carga, identificar el mayor y sumar. En el módulo principal del\n",
    "programa importar el otro módulo y llamar a sus funciones."
   ]
  },
  {
   "cell_type": "code",
   "execution_count": 1,
   "metadata": {},
   "outputs": [
    {
     "name": "stdout",
     "output_type": "stream",
     "text": [
      "Mayor de la lista 13\n",
      "Suma de todos sus elementos 40\n"
     ]
    }
   ],
   "source": [
    "import operacioneslista\n",
    "lista=operacioneslista.cargar()\n",
    "operacioneslista.imprimir_mayor(lista)\n",
    "operacioneslista.imprimir_suma(lista)\n"
   ]
  },
  {
   "cell_type": "markdown",
   "metadata": {},
   "source": [
    "Problema 2:"
   ]
  },
  {
   "cell_type": "markdown",
   "metadata": {},
   "source": [
    "Confeccionar un módulo que implemente dos funciones, una que retorne el mayor de dos enteros y otra que retorne el menor de dos enteros.\n",
    "En el módulo principal importar solo la función que retorne el mayor, luego cargar dos enteros y mostrar el mayor de ellos"
   ]
  },
  {
   "cell_type": "code",
   "execution_count": 2,
   "metadata": {},
   "outputs": [
    {
     "name": "stdout",
     "output_type": "stream",
     "text": [
      "El mayor de los dos valores es 50\n"
     ]
    }
   ],
   "source": [
    "from mayormenor import mayor\n",
    "valor1=int(input(\"Ingrese primer valor:\"))\n",
    "valor2=int(input(\"Ingrese segundo valor:\"))\n",
    "print(\"El mayor de los dos valores es\",mayor(valor1,valor2))"
   ]
  }
 ],
 "metadata": {
  "kernelspec": {
   "display_name": "tf",
   "language": "python",
   "name": "python3"
  },
  "language_info": {
   "codemirror_mode": {
    "name": "ipython",
    "version": 3
   },
   "file_extension": ".py",
   "mimetype": "text/x-python",
   "name": "python",
   "nbconvert_exporter": "python",
   "pygments_lexer": "ipython3",
   "version": "3.9.18"
  }
 },
 "nbformat": 4,
 "nbformat_minor": 2
}
