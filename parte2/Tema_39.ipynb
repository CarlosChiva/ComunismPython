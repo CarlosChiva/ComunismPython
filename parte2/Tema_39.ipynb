{
 "cells": [
  {
   "cell_type": "markdown",
   "metadata": {},
   "source": [
    "                        Tema 39"
   ]
  },
  {
   "cell_type": "markdown",
   "metadata": {},
   "source": [
    "Problema 1:"
   ]
  },
  {
   "cell_type": "markdown",
   "metadata": {},
   "source": [
    "Confeccionar un programa que simule tirar dos dados y luego muestre los\n",
    "valores que salieron. Imprimir un mensaje que ganó si la suma de los mismos es\n",
    "igual a 7"
   ]
  },
  {
   "cell_type": "code",
   "execution_count": 1,
   "metadata": {},
   "outputs": [],
   "source": [
    "import random"
   ]
  },
  {
   "cell_type": "code",
   "execution_count": 2,
   "metadata": {},
   "outputs": [],
   "source": [
    "def cargar():\n",
    "    lista=[]\n",
    "    for x in range(10):\n",
    "        lista.append(random.randint(0,1000))\n",
    "    return lista\n"
   ]
  },
  {
   "cell_type": "code",
   "execution_count": 3,
   "metadata": {},
   "outputs": [],
   "source": [
    "def imprimir(lista):\n",
    "    print(lista)\n"
   ]
  },
  {
   "cell_type": "code",
   "execution_count": 4,
   "metadata": {},
   "outputs": [],
   "source": [
    "def mezclar(lista):\n",
    "    random.shuffle(lista)\n"
   ]
  },
  {
   "cell_type": "code",
   "execution_count": 5,
   "metadata": {},
   "outputs": [
    {
     "name": "stdout",
     "output_type": "stream",
     "text": [
      "Lista generada aleatoriamente\n",
      "[27, 642, 492, 608, 464, 621, 501, 350, 1, 257]\n",
      "La misma lista luego de mezclar\n",
      "[608, 501, 27, 492, 1, 621, 642, 464, 257, 350]\n"
     ]
    }
   ],
   "source": [
    "lista=cargar()\n",
    "print(\"Lista generada aleatoriamente\")\n",
    "imprimir(lista)\n",
    "mezclar(lista)\n",
    "print(\"La misma lista luego de mezclar\")\n",
    "imprimir(lista)"
   ]
  },
  {
   "cell_type": "markdown",
   "metadata": {},
   "source": [
    "Problemas propuestos:"
   ]
  },
  {
   "cell_type": "markdown",
   "metadata": {},
   "source": [
    "Confeccionar un programa que genere un número aleatorio entre 1 y 100\n",
    "y no se muestre.\n",
    "El operador debe tratar de adivinar el número ingresado.\n",
    "Cada vez que ingrese un número mostrar un mensaje \"Gano\" si es igual al generado o \"El número aleatorio es mayor\" o \"El número aleatorio es menor\"."
   ]
  },
  {
   "cell_type": "code",
   "execution_count": 7,
   "metadata": {},
   "outputs": [
    {
     "name": "stdout",
     "output_type": "stream",
     "text": [
      "Intenta adivinar el numero que pense entre 1 y 100\n",
      "Pense un valor mayor\n",
      "Pense un valor menor\n",
      "Pense un valor mayor\n",
      "Pense un valor mayor\n",
      "Pense un valor menor\n",
      "Pense un valor menor\n",
      "Pense un valor mayor\n",
      "Pense un valor mayor\n",
      "Ganaste en 9 intentos\n"
     ]
    }
   ],
   "source": [
    "intentos=0\n",
    "aleatorio=random.randint(1,100)\n",
    "elegido=-1\n",
    "print(\"Intenta adivinar el numero que pense entre 1 y 100\")\n",
    "while (elegido!=aleatorio):\n",
    "    elegido=int(input(\"Cual numero elige?\"))\n",
    "    if aleatorio>elegido:\n",
    "        print(\"Pense un valor mayor\")\n",
    "    else:\n",
    "        if aleatorio<elegido:\n",
    "            print(\"Pense un valor menor\")\n",
    "    intentos+=1\n",
    "print(\"Ganaste en\",intentos,\"intentos\")\n"
   ]
  },
  {
   "cell_type": "markdown",
   "metadata": {},
   "source": [
    "Confeccionar una programa con las siguientes funciones:\n",
    "1) Generar una lista con 4 elementos enteros aleatorios comprendidos\n",
    "entre 1 y 3. Agregar un quinto elemento con un 1.\n",
    "2) Controlar que el primer elemento de la lista sea un 1, en el caso que\n",
    "haya un 2 o 3 mezclar la lista y volver a controlar hasta que haya un 1.\n",
    "3) Imprimir la lista."
   ]
  },
  {
   "cell_type": "code",
   "execution_count": 8,
   "metadata": {},
   "outputs": [],
   "source": [
    "def cargar():\n",
    "    lista=[]\n",
    "    for x in range(4):\n",
    "        lista.append(random.randint(1,3))\n",
    "        lista.append(1)\n",
    "    return lista\n"
   ]
  },
  {
   "cell_type": "code",
   "execution_count": 9,
   "metadata": {},
   "outputs": [],
   "source": [
    "def controlar_primero(lista):\n",
    "    while lista[0]!=1:\n",
    "        random.shuffle(lista)\n"
   ]
  },
  {
   "cell_type": "code",
   "execution_count": 10,
   "metadata": {},
   "outputs": [],
   "source": [
    "def imprimir(lista):\n",
    "    print(lista)\n"
   ]
  },
  {
   "cell_type": "code",
   "execution_count": 11,
   "metadata": {},
   "outputs": [
    {
     "name": "stdout",
     "output_type": "stream",
     "text": [
      "[1, 1, 1, 1, 3, 1, 1, 1]\n",
      "[1, 1, 1, 1, 3, 1, 1, 1]\n"
     ]
    }
   ],
   "source": [
    "lista=cargar()\n",
    "imprimir(lista)\n",
    "controlar_primero(lista)\n",
    "imprimir(lista)"
   ]
  }
 ],
 "metadata": {
  "kernelspec": {
   "display_name": "tf",
   "language": "python",
   "name": "python3"
  },
  "language_info": {
   "codemirror_mode": {
    "name": "ipython",
    "version": 3
   },
   "file_extension": ".py",
   "mimetype": "text/x-python",
   "name": "python",
   "nbconvert_exporter": "python",
   "pygments_lexer": "ipython3",
   "version": "3.9.18"
  }
 },
 "nbformat": 4,
 "nbformat_minor": 2
}
