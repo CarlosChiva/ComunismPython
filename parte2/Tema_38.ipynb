{
 "cells": [
  {
   "cell_type": "markdown",
   "metadata": {},
   "source": [
    "                        Tema 38"
   ]
  },
  {
   "cell_type": "markdown",
   "metadata": {},
   "source": [
    "Problema 1:"
   ]
  },
  {
   "cell_type": "markdown",
   "metadata": {},
   "source": [
    "Confeccionar una función que reciba una palabra y verifique si es capicúa (es decir que se lee igual de izquierda a derecha que de derecha a izquierda)"
   ]
  },
  {
   "cell_type": "code",
   "execution_count": 1,
   "metadata": {},
   "outputs": [],
   "source": [
    "def capicua(cadena):\n",
    "    indice=-1\n",
    "    iguales=0\n",
    "    for x in range(0,len(cadena)//2):\n",
    "        if cadena[x]==cadena[indice]:\n",
    "            iguales+=1\n",
    "        indice-=1\n",
    "    print(cadena)\n",
    "    if iguales==(len(cadena)//2):\n",
    "        print(\"Es capicua\")\n",
    "    else:\n",
    "        print(\"No es capicua\")\n"
   ]
  },
  {
   "cell_type": "code",
   "execution_count": 2,
   "metadata": {},
   "outputs": [
    {
     "name": "stdout",
     "output_type": "stream",
     "text": [
      "neuquen\n",
      "Es capicua\n",
      "casa\n",
      "No es capicua\n"
     ]
    }
   ],
   "source": [
    "capicua(\"neuquen\")\n",
    "capicua(\"casa\")\n"
   ]
  },
  {
   "cell_type": "markdown",
   "metadata": {},
   "source": [
    "Problemas propuestos:"
   ]
  },
  {
   "cell_type": "markdown",
   "metadata": {},
   "source": [
    "Cargar una cadena de caracteres por teclado. Mostrar la cadena del final\n",
    "al principio utilizando subíndices negativos."
   ]
  },
  {
   "cell_type": "code",
   "execution_count": 3,
   "metadata": {},
   "outputs": [
    {
     "name": "stdout",
     "output_type": "stream",
     "text": [
      "oediotsamodielconretse"
     ]
    }
   ],
   "source": [
    "palabra=input(\"Ingresar una palabra:\")\n",
    "indice=-1\n",
    "for x in range(len(palabra)):\n",
    "    print(palabra[indice],end=\"\")\n",
    "    indice-=1\n"
   ]
  },
  {
   "cell_type": "markdown",
   "metadata": {},
   "source": [
    "Confeccionar un programa con las siguientes funciones:\n",
    "1) Cargar una lista con 5 palabras.\n",
    "2) Intercambiar la primer palabra con la última.\n",
    "3) Imprimir la lista"
   ]
  },
  {
   "cell_type": "code",
   "execution_count": 4,
   "metadata": {},
   "outputs": [],
   "source": [
    "def cargar():\n",
    "    palabras=[]\n",
    "    for x in range(0,5):\n",
    "        pal=input(\"Ingrese una palabra:\")\n",
    "        palabras.append(pal)\n",
    "    return palabras"
   ]
  },
  {
   "cell_type": "code",
   "execution_count": 5,
   "metadata": {},
   "outputs": [],
   "source": [
    "def intercambiar(palabras):\n",
    "    aux=palabras[0]\n",
    "    palabras[0]=palabras[-1]\n",
    "    palabras[-1]=aux"
   ]
  },
  {
   "cell_type": "code",
   "execution_count": 6,
   "metadata": {},
   "outputs": [],
   "source": [
    "def imprimir(palabras):\n",
    "    print(palabras)"
   ]
  },
  {
   "cell_type": "code",
   "execution_count": 7,
   "metadata": {},
   "outputs": [
    {
     "name": "stdout",
     "output_type": "stream",
     "text": [
      "['machupichu', 'coyote', 'castellano', 'vamir', 'voromir']\n",
      "['voromir', 'coyote', 'castellano', 'vamir', 'machupichu']\n"
     ]
    }
   ],
   "source": [
    "palabras=cargar()\n",
    "imprimir(palabras)\n",
    "intercambiar(palabras)\n",
    "imprimir(palabras)"
   ]
  }
 ],
 "metadata": {
  "kernelspec": {
   "display_name": "tf",
   "language": "python",
   "name": "python3"
  },
  "language_info": {
   "codemirror_mode": {
    "name": "ipython",
    "version": 3
   },
   "file_extension": ".py",
   "mimetype": "text/x-python",
   "name": "python",
   "nbconvert_exporter": "python",
   "pygments_lexer": "ipython3",
   "version": "3.9.18"
  }
 },
 "nbformat": 4,
 "nbformat_minor": 2
}
