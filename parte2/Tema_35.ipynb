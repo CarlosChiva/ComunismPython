{
 "cells": [
  {
   "cell_type": "markdown",
   "metadata": {},
   "source": [
    "                        Tema 35"
   ]
  },
  {
   "cell_type": "markdown",
   "metadata": {},
   "source": [
    "Problema 1:"
   ]
  },
  {
   "cell_type": "markdown",
   "metadata": {},
   "source": [
    "Confeccionar un programa que permita cargar un código de producto como clave\n",
    "en un diccionario. Guardar para dicha clave el nombre del producto, su precio y\n",
    "cantidad en stock.\n",
    "Implementar las siguientes actividades:\n",
    "1) Carga de datos en el diccionario.\n",
    "2) Listado completo de productos.\n",
    "3) Consulta de un producto por su clave, mostrar el nombre, precio y stock.\n",
    "4) Listado de todos los productos que tengan un stock con valor cero."
   ]
  },
  {
   "cell_type": "code",
   "execution_count": 1,
   "metadata": {},
   "outputs": [],
   "source": [
    "def cargar():\n",
    "    productos={}\n",
    "    continua=\"s\"\n",
    "    while continua==\"s\":\n",
    "        codigo=int(input(\"Ingrese el codigo del producto:\"))\n",
    "        descripcion=input(\"Ingrese la descripcion:\")\n",
    "        precio=float(input(\"Ingrese el precio:\"))\n",
    "        stock=int(input(\"Ingrese el stock actual:\"))\n",
    "        productos[codigo]=(descripcion,precio,stock)\n",
    "        continua=input(\"Desea cargar otro producto[s/n]?\")\n",
    "    return productos\n"
   ]
  },
  {
   "cell_type": "code",
   "execution_count": 2,
   "metadata": {},
   "outputs": [],
   "source": [
    "def imprimir(productos):\n",
    "    print(\"Listado completo de productos:\")\n",
    "    for codigo in productos:\n",
    "        print(codigo,productos[codigo][0],productos[codigo][1],productos[codigo][2])\n"
   ]
  },
  {
   "cell_type": "code",
   "execution_count": 3,
   "metadata": {},
   "outputs": [],
   "source": [
    "def consulta(productos):\n",
    "    codigo=int(input(\"Ingrese el codigo de articulo a consultar:\"))\n",
    "    if codigo in productos:\n",
    "        print(productos[codigo][0],productos[codigo][1],productos[codigo][2])\n"
   ]
  },
  {
   "cell_type": "code",
   "execution_count": 4,
   "metadata": {},
   "outputs": [],
   "source": [
    "def listado_stock_cero(productos):\n",
    "    print(\"Listado de articulos con stock en cero:\")\n",
    "    for codigo in productos:\n",
    "        if productos[codigo][2]==0:\n",
    "            print(codigo,productos[codigo][0],productos[codigo][1],productos[codigo][2])\n"
   ]
  },
  {
   "cell_type": "code",
   "execution_count": 5,
   "metadata": {},
   "outputs": [
    {
     "name": "stdout",
     "output_type": "stream",
     "text": [
      "Listado completo de productos:\n",
      "12 descripcion 1.0 0\n",
      "descripcion 1.0 0\n",
      "Listado de articulos con stock en cero:\n",
      "12 descripcion 1.0 0\n"
     ]
    }
   ],
   "source": [
    "productos=cargar()\n",
    "imprimir(productos)\n",
    "consulta(productos)\n",
    "listado_stock_cero(productos)"
   ]
  },
  {
   "cell_type": "markdown",
   "metadata": {},
   "source": [
    "Problema 2:"
   ]
  },
  {
   "cell_type": "markdown",
   "metadata": {},
   "source": [
    "Confeccionar una agenda. Utilizar un diccionario cuya clave sea la fecha.\n",
    "Permitir almacenar distintas actividades para la misma fecha (se ingresa la hora\n",
    "y la actividad)\n",
    "Implementar las siguientes funciones:\n",
    "1) Carga de datos en la agenda.\n",
    "2) Listado completo de la agenda.\n",
    "3) Consulta de una fecha."
   ]
  },
  {
   "cell_type": "code",
   "execution_count": 6,
   "metadata": {},
   "outputs": [],
   "source": [
    "def cargar():\n",
    "    agenda={}\n",
    "    continua1=\"s\"\n",
    "    while continua1==\"s\":\n",
    "        fecha=input(\"ingrese la fecha con formato dd/mm/aa:\")\n",
    "        continua2=\"s\"\n",
    "        lista=[]\n",
    "        while continua2==\"s\":\n",
    "            hora=input(\"Ingrese la hora de la actividad con formato hh:mm \")\n",
    "            actividad=input(\"Ingrese la descripcon de la actividad:\")\n",
    "            lista.append((hora,actividad))\n",
    "            continua2=input(\"Ingresa otra actividad para la misma fecha[s/n]:\")\n",
    "        agenda[fecha]=lista\n",
    "        continua1=input(\"Ingresa otra fecha[s/n]:\")\n",
    "    return agenda\n"
   ]
  },
  {
   "cell_type": "code",
   "execution_count": 7,
   "metadata": {},
   "outputs": [],
   "source": [
    "def imprimir(agenda):\n",
    "    print(\"Listado completa de la agenda\")\n",
    "    for fecha in agenda:\n",
    "        print(\"Para la fecha:\",fecha)\n",
    "        for hora,actividad in agenda[fecha]:\n",
    "            print(hora,actividad)\n"
   ]
  },
  {
   "cell_type": "code",
   "execution_count": 8,
   "metadata": {},
   "outputs": [],
   "source": [
    "def consulta_fecha(agenda):\n",
    "    fecha=input(\"Ingrese la fecha que desea consultar:\")\n",
    "    if fecha in agenda:\n",
    "        for hora,actividad in agenda[fecha]:\n",
    "            print(hora,actividad)\n",
    "    else:\n",
    "        print(\"No hay actividades agendadas para dicha fecha\")\n"
   ]
  },
  {
   "cell_type": "code",
   "execution_count": 9,
   "metadata": {},
   "outputs": [
    {
     "name": "stdout",
     "output_type": "stream",
     "text": [
      "Listado completa de la agenda\n",
      "Para la fecha: 01/01/01\n",
      "23:59 Dormir de esto\n",
      "Para la fecha: 02/02/02\n",
      "11:00 Hacer ejercicios de mierda\n",
      "11:00 Hacer ejercicios de mierda\n"
     ]
    }
   ],
   "source": [
    "agenda=cargar()\n",
    "imprimir(agenda)\n",
    "consulta_fecha(agenda)"
   ]
  },
  {
   "cell_type": "markdown",
   "metadata": {},
   "source": [
    "Problemas propuestos:"
   ]
  },
  {
   "cell_type": "markdown",
   "metadata": {},
   "source": [
    "Se desea almacenar los datos de 3 alumnos. Definir un diccionario cuya\n",
    "clave sea el número de documento del alumno. Como valor almacenar\n",
    "una lista con componentes de tipo tupla donde almacenamos nombre de\n",
    "materia y su nota.\n",
    "Crear las siguientes funciones:\n",
    "1) Carga de los alumnos (de cada alumno solicitar su dni y los nombres\n",
    "de las materias y sus notas)\n",
    "2) Listado de todos los alumnos con sus notas\n",
    "3) Consulta de un alumno por su dni, mostrar las materias que cursa y\n",
    "sus notas."
   ]
  },
  {
   "cell_type": "code",
   "execution_count": 10,
   "metadata": {},
   "outputs": [],
   "source": [
    "def cargar():\n",
    "    alumnos={}\n",
    "    for x in range(3):\n",
    "        dni=int(input(\"Ingrese el numero de dni:\"))\n",
    "        listamaterias=[]\n",
    "        continua=\"s\"\n",
    "        while continua==\"s\":\n",
    "            materia=input(\"Ingrese el nombre de materia que cursa:\")\n",
    "            nota=int(input(\"Ingrese la nota:\"))\n",
    "            listamaterias.append((materia,nota))\n",
    "            continua=input(\"Desea cargar otra materia para dicho alumno [s/n}:\")\n",
    "        alumnos[dni]=listamaterias\n",
    "    return alumnos\n"
   ]
  },
  {
   "cell_type": "code",
   "execution_count": 11,
   "metadata": {},
   "outputs": [],
   "source": [
    "def listar(alumnos):\n",
    "    for dni in alumnos:\n",
    "        print(\"Dni del alumno\",dni)\n",
    "        print(\"Materias que cursa y notas\")\n",
    "        for nota,materia in alumnos[dni]:\n",
    "            print(materia,nota)\n"
   ]
  },
  {
   "cell_type": "code",
   "execution_count": 12,
   "metadata": {},
   "outputs": [],
   "source": [
    "def consulta_notas(alumnos):\n",
    "    dni=int(input(\"Ingrese el dni a consultar:\"))\n",
    "    if dni in alumnos:\n",
    "        for nota,materia in alumnos[dni]:\n",
    "            print(materia,nota)"
   ]
  },
  {
   "cell_type": "code",
   "execution_count": 13,
   "metadata": {},
   "outputs": [
    {
     "name": "stdout",
     "output_type": "stream",
     "text": [
      "Dni del alumno 1234\n",
      "Materias que cursa y notas\n",
      "10 programacion sin programar\n",
      "10 nado sin piscina\n",
      "Dni del alumno 456\n",
      "Materias que cursa y notas\n",
      "9 Alpinismo en llano\n",
      "10 informatica sin electricidad\n",
      "Dni del alumno 789\n",
      "Materias que cursa y notas\n",
      "10 147\n",
      "10 programacion sin programar\n",
      "10 nado sin piscina\n"
     ]
    }
   ],
   "source": [
    "alumnos=cargar()\n",
    "listar(alumnos)\n",
    "consulta_notas(alumnos)"
   ]
  }
 ],
 "metadata": {
  "kernelspec": {
   "display_name": "tf",
   "language": "python",
   "name": "python3"
  },
  "language_info": {
   "codemirror_mode": {
    "name": "ipython",
    "version": 3
   },
   "file_extension": ".py",
   "mimetype": "text/x-python",
   "name": "python",
   "nbconvert_exporter": "python",
   "pygments_lexer": "ipython3",
   "version": "3.9.18"
  }
 },
 "nbformat": 4,
 "nbformat_minor": 2
}
