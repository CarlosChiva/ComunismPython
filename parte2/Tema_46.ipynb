{
 "cells": [
  {
   "cell_type": "markdown",
   "metadata": {},
   "source": [
    "                        Tema 46"
   ]
  },
  {
   "cell_type": "markdown",
   "metadata": {},
   "source": [
    "Problema 1:"
   ]
  },
  {
   "cell_type": "markdown",
   "metadata": {},
   "source": [
    "Un banco tiene 3 clientes que pueden hacer depósitos y extracciones. También el banco requiere que al final del día calcule la cantidad de dinero que hay depositado."
   ]
  },
  {
   "cell_type": "code",
   "execution_count": 1,
   "metadata": {},
   "outputs": [],
   "source": [
    "class Cliente:\n",
    "    def __init__(self,nombre):\n",
    "        self.nombre=nombre\n",
    "        self.monto=0\n",
    "    def depositar(self,monto):\n",
    "        self.monto=self.monto+monto\n",
    "    def extraer(self,monto):\n",
    "        self.monto=self.monto-monto\n",
    "    def retornar_monto(self):\n",
    "        return self.monto\n",
    "    def imprimir(self):\n",
    "        print(self.nombre,\"tiene depositado la suma de\",self.monto)"
   ]
  },
  {
   "cell_type": "code",
   "execution_count": 2,
   "metadata": {},
   "outputs": [],
   "source": [
    "class Banco:\n",
    "    def __init__(self):\n",
    "        self.cliente1=Cliente(\"Juan\")\n",
    "        self.cliente2=Cliente(\"Ana\")\n",
    "        self.cliente3=Cliente(\"Diego\")\n",
    "    def operar(self):\n",
    "        self.cliente1.depositar(100)\n",
    "        self.cliente2.depositar(150)\n",
    "        self.cliente3.depositar(200)\n",
    "        self.cliente3.extraer(150)\n",
    "    def depositos_totales(self):\n",
    "        total=self.cliente1.retornar_monto()+self.cliente2.retornar_monto()+self.cliente3.retornar_monto()\n",
    "        print(\"El total de dinero del banco es:\",total)\n",
    "        self.cliente1.imprimir()\n",
    "        self.cliente2.imprimir()\n",
    "        self.cliente3.imprimir()"
   ]
  },
  {
   "cell_type": "code",
   "execution_count": 3,
   "metadata": {},
   "outputs": [
    {
     "name": "stdout",
     "output_type": "stream",
     "text": [
      "El total de dinero del banco es: 300\n",
      "Juan tiene depositado la suma de 100\n",
      "Ana tiene depositado la suma de 150\n",
      "Diego tiene depositado la suma de 50\n"
     ]
    }
   ],
   "source": [
    "banco1=Banco()\n",
    "banco1.operar()\n",
    "banco1.depositos_totales()"
   ]
  },
  {
   "cell_type": "markdown",
   "metadata": {},
   "source": [
    "Problema 2:"
   ]
  },
  {
   "cell_type": "markdown",
   "metadata": {},
   "source": [
    "Plantear un programa que permita jugar a los dados. Las reglas de juego son: se tiran tres dados si los tres salen con el mismo valor mostrar un mensaje que \"gano\", sino \"perdió\"."
   ]
  },
  {
   "cell_type": "code",
   "execution_count": 4,
   "metadata": {},
   "outputs": [],
   "source": [
    "import random"
   ]
  },
  {
   "cell_type": "code",
   "execution_count": 5,
   "metadata": {},
   "outputs": [],
   "source": [
    "class Dado:\n",
    "    def tirar(self):\n",
    "        self.valor=random.randint(1,6)\n",
    "    def imprimir(self):\n",
    "        print(\"Valor del dado:\",self.valor)\n",
    "    def retornar_valor(self):\n",
    "        return self.valor"
   ]
  },
  {
   "cell_type": "code",
   "execution_count": 6,
   "metadata": {},
   "outputs": [],
   "source": [
    "class JuegoDeDados:\n",
    "    def __init__(self):\n",
    "        self.dado1=Dado()\n",
    "        self.dado2=Dado()\n",
    "        self.dado3=Dado()\n",
    "    def jugar(self):\n",
    "        self.dado1.tirar()\n",
    "        self.dado1.imprimir()\n",
    "        self.dado2.tirar()\n",
    "        self.dado2.imprimir()\n",
    "        self.dado3.tirar()\n",
    "        self.dado3.imprimir()\n",
    "        if self.dado1.retornar_valor()==self.dado2.retornar_valor() and self.dado1.retornar_valor()==self.dado3.retornar_valor():\n",
    "            print(\"Gano\")\n",
    "        else:\n",
    "            print(\"Perdio\")"
   ]
  },
  {
   "cell_type": "code",
   "execution_count": 7,
   "metadata": {},
   "outputs": [
    {
     "name": "stdout",
     "output_type": "stream",
     "text": [
      "Valor del dado: 2\n",
      "Valor del dado: 1\n",
      "Valor del dado: 6\n",
      "Perdio\n"
     ]
    }
   ],
   "source": [
    "juego_dados=JuegoDeDados()\n",
    "juego_dados.jugar()"
   ]
  },
  {
   "cell_type": "markdown",
   "metadata": {},
   "source": [
    "Problema propuesto"
   ]
  },
  {
   "cell_type": "markdown",
   "metadata": {},
   "source": [
    "Plantear una clase Club y otra clase Socio.\n",
    "La clase Socio debe tener los siguientes atributos: nombre y la\n",
    "antigüedad en el club (en años).\n",
    "En el método __init__ de la clase Socio pedir la carga por teclado del\n",
    "nombre y su antigüedad.\n",
    "La clase Club debe tener como atributos 3 objetos de la clase Socio.\n",
    "Definir una responsabilidad para imprimir el nombre del socio con mayor antigüedad en el club."
   ]
  },
  {
   "cell_type": "code",
   "execution_count": 8,
   "metadata": {},
   "outputs": [],
   "source": [
    "class Socio:\n",
    "    def __init__(self):\n",
    "        self.nombre=input(\"Ingrese el nombre del socio:\")\n",
    "        self.antiguedad=int(input(\"Ingrese la antiguedad:\"))\n",
    "    def imprimir(self):\n",
    "        print(self.nombre,\"tiene una antiguedad de\",self.antiguedad)\n",
    "    def retornar_antiguedad(self):\n",
    "        return self.antiguedad"
   ]
  },
  {
   "cell_type": "code",
   "execution_count": 9,
   "metadata": {},
   "outputs": [],
   "source": [
    "class Club:\n",
    "    def __init__(self):\n",
    "        self.socio1=Socio()\n",
    "        self.socio2=Socio()\n",
    "        self.socio3=Socio()\n",
    "    def mayor_antiguedad(self):\n",
    "        print(\"Socio con mayor antiguedad\")\n",
    "        if (self.socio1.retornar_antiguedad()>self.socio2.retornar_antiguedad() and\n",
    "        self.socio1.retornar_antiguedad()>self.socio3.retornar_antiguedad()):\n",
    "            self.socio1.imprimir()\n",
    "        else:\n",
    "            if self.socio2.retornar_antiguedad()>self.socio3.retornar_antiguedad():\n",
    "                self.socio2.imprimir()\n",
    "            else:\n",
    "                self.socio3.imprimir()"
   ]
  },
  {
   "cell_type": "code",
   "execution_count": 10,
   "metadata": {},
   "outputs": [
    {
     "name": "stdout",
     "output_type": "stream",
     "text": [
      "Socio con mayor antiguedad\n",
      "Charo Suprema tiene una antiguedad de 900\n"
     ]
    }
   ],
   "source": [
    "club=Club()\n",
    "club.mayor_antiguedad()"
   ]
  }
 ],
 "metadata": {
  "kernelspec": {
   "display_name": "tf",
   "language": "python",
   "name": "python3"
  },
  "language_info": {
   "codemirror_mode": {
    "name": "ipython",
    "version": 3
   },
   "file_extension": ".py",
   "mimetype": "text/x-python",
   "name": "python",
   "nbconvert_exporter": "python",
   "pygments_lexer": "ipython3",
   "version": "3.9.18"
  }
 },
 "nbformat": 4,
 "nbformat_minor": 2
}
