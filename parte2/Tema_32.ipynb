{
 "cells": [
  {
   "cell_type": "markdown",
   "metadata": {},
   "source": [
    "                        Tema 32"
   ]
  },
  {
   "cell_type": "markdown",
   "metadata": {},
   "source": [
    "Problema 1:"
   ]
  },
  {
   "cell_type": "markdown",
   "metadata": {},
   "source": [
    "Almacenar en una lista de 5 elementos tuplas que guarden el nombre de un pais y la cantidad de habitantes.\n",
    "Definir tres funciones, en la primera cargar la lista, en la segunda imprimirla y en la tercera mostrar el nombre del país con mayor cantidad de habitantes."
   ]
  },
  {
   "cell_type": "code",
   "execution_count": 1,
   "metadata": {},
   "outputs": [],
   "source": [
    "def cargar_paisespoblacion():\n",
    "    paises=[]\n",
    "    for x in range(5):\n",
    "        nom=input(\"Ingresar el nombre del pais:\")\n",
    "        cant=int(input(\"Ingrese la cantidad de habitantes:\"))\n",
    "        paises.append((nom,cant))\n",
    "    return paises"
   ]
  },
  {
   "cell_type": "code",
   "execution_count": 2,
   "metadata": {},
   "outputs": [],
   "source": [
    "def imprimir(paises):\n",
    "    print(\"Paises y su poblacion\")\n",
    "    for x in range(len(paises)):\n",
    "        print(paises[x][0],paises[x][1])"
   ]
  },
  {
   "cell_type": "code",
   "execution_count": 3,
   "metadata": {},
   "outputs": [],
   "source": [
    "def pais_maspoblacion(paises):\n",
    "    pos=0\n",
    "    for x in range(1,len(paises)):\n",
    "        if paises[x][1]>paises[pos][1]:\n",
    "            pos=x\n",
    "    print(\"Pais con mayor cantidad de habitantes:\",paises[pos][0])"
   ]
  },
  {
   "cell_type": "code",
   "execution_count": 4,
   "metadata": {},
   "outputs": [
    {
     "name": "stdout",
     "output_type": "stream",
     "text": [
      "Paises y su poblacion\n",
      "españistan 10\n",
      "acerbayan 3\n",
      "burundi 1\n",
      "Hitleia 10000000000\n",
      "UnionSovietica 0\n",
      "Pais con mayor cantidad de habitantes: Hitleia\n"
     ]
    }
   ],
   "source": [
    "paises=cargar_paisespoblacion()\n",
    "imprimir(paises)\n",
    "pais_maspoblacion(paises)"
   ]
  },
  {
   "cell_type": "markdown",
   "metadata": {},
   "source": [
    "Problemas propuestos:"
   ]
  },
  {
   "cell_type": "markdown",
   "metadata": {},
   "source": [
    "Almacenar en una lista 5 empleados, cada elemento de la lista es una sub lista\n",
    "con el nombre del empleado junto a sus últimos tres sueldos (estos tres valores\n",
    "en una tupla)\n",
    "El programa debe tener las siguientes funciones:\n",
    "1) Carga de los nombres de empleados y sus últimos tres sueldos.\n",
    "2) Imprimir el monto total cobrado por cada empleado.\n",
    "3) Imprimir los nombres de empleados que tuvieron un ingreso trimestral mayor a\n",
    "10000 en los últimos tres meses."
   ]
  },
  {
   "cell_type": "code",
   "execution_count": 5,
   "metadata": {},
   "outputs": [],
   "source": [
    "def cargar_empleados():\n",
    "    empleados=[]\n",
    "    for x in range(5):\n",
    "        nom=input(\"Ingrese el nombre del empleado:\")\n",
    "        su1=int(input(\"Primer sueldo:\"))\n",
    "        su2=int(input(\"Segundo sueldo:\"))\n",
    "        su3=int(input(\"Tercer sueldo:\"))\n",
    "        empleados.append([nom,(su1,su2,su3)])\n",
    "    return empleados\n"
   ]
  },
  {
   "cell_type": "code",
   "execution_count": 6,
   "metadata": {},
   "outputs": [],
   "source": [
    "def ganancias(empleados):\n",
    "    print(\"Monto total ganado por empleado en los ultimos tres meses\")\n",
    "    for x in range(5):\n",
    "        total=empleados[x][1][0]+empleados[x][1][1]+empleados[x][1][2]\n",
    "    print(empleados[x][0],total)\n",
    "\n"
   ]
  },
  {
   "cell_type": "code",
   "execution_count": 7,
   "metadata": {},
   "outputs": [],
   "source": [
    "def ganancias_superior10000(empleados):\n",
    "    print(\"Empleados con ingresos superiores a 10000 en los ultimos 3 meses\")\n",
    "    for x in range(5):\n",
    "        total=empleados[x][1][0]+empleados[x][1][1]+empleados[x][1][2]\n",
    "        if total>10000:\n",
    "            print(empleados[x][0],total)"
   ]
  },
  {
   "cell_type": "code",
   "execution_count": 8,
   "metadata": {},
   "outputs": [
    {
     "name": "stdout",
     "output_type": "stream",
     "text": [
      "Monto total ganado por empleado en los ultimos tres meses\n",
      "Rata y chepudo 112000000000000000001\n",
      "Empleados con ingresos superiores a 10000 en los ultimos 3 meses\n",
      "Señor de Abascal 29003\n",
      "Doña Tucan 100000000001030000000\n",
      "Rata y chepudo 112000000000000000001\n"
     ]
    }
   ],
   "source": [
    "empleados=cargar_empleados()\n",
    "ganancias(empleados)\n",
    "ganancias_superior10000(empleados)"
   ]
  },
  {
   "cell_type": "markdown",
   "metadata": {},
   "source": [
    "Se tiene que cargar los votos obtenidos por tres candidatos a una elección.\n",
    "En una lista cargar en la primer componente el nombre del candidato y en la\n",
    "segunda componente cargar una lista con componentes de tipo tupla con el\n",
    "nombre de la provincia y la cantidad de votos obtenidos en dicha provincia.\n",
    "1) Función para cargar todos los candidatos, sus nombres y las\n",
    "provincias con los votos obtenidos.\n",
    "2) Imprimir el nombre del candidato y la cantidad total de votos obtenidos\n",
    "en todas las provincias."
   ]
  },
  {
   "cell_type": "code",
   "execution_count": 9,
   "metadata": {},
   "outputs": [],
   "source": [
    "def cargar_candidatos():\n",
    "    candidatos=[]\n",
    "    for x in range(3):\n",
    "        nom=input(\"Ingrese el nombre del candidato:\")\n",
    "        cant=int(input(\"Los votos de cuantas provincias tiene para cargar?\"))\n",
    "        provincias=[]\n",
    "        for z in range(cant):\n",
    "            prov=input(\"Nombre de provincia:\")\n",
    "            votos=int(input(\"Cantidad de votos:\"))\n",
    "            provincias.append((prov,votos))\n",
    "        candidatos.append((nom,provincias))\n",
    "    return candidatos\n"
   ]
  },
  {
   "cell_type": "code",
   "execution_count": 10,
   "metadata": {},
   "outputs": [],
   "source": [
    "def totalvotos_candidato(candidatos):\n",
    "    for x in range(len(candidatos)):\n",
    "        suma=0\n",
    "        for z in range(len(candidatos[x][1])):\n",
    "            suma=suma+candidatos[x][1][z][1]\n",
    "        print(candidatos[x][0],suma)\n"
   ]
  },
  {
   "cell_type": "code",
   "execution_count": 12,
   "metadata": {},
   "outputs": [
    {
     "name": "stdout",
     "output_type": "stream",
     "text": [
      "Rata y chepudo 0\n",
      "Su Pedrosisima Sanchidad 0\n",
      "Milei 2010000002000000\n"
     ]
    }
   ],
   "source": [
    "candidatos=cargar_candidatos()\n",
    "totalvotos_candidato(candidatos)"
   ]
  }
 ],
 "metadata": {
  "kernelspec": {
   "display_name": "tf",
   "language": "python",
   "name": "python3"
  },
  "language_info": {
   "codemirror_mode": {
    "name": "ipython",
    "version": 3
   },
   "file_extension": ".py",
   "mimetype": "text/x-python",
   "name": "python",
   "nbconvert_exporter": "python",
   "pygments_lexer": "ipython3",
   "version": "3.9.18"
  }
 },
 "nbformat": 4,
 "nbformat_minor": 2
}
