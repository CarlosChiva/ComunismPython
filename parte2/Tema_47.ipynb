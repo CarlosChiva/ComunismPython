{
 "cells": [
  {
   "cell_type": "markdown",
   "metadata": {},
   "source": [
    "                        Tema 47"
   ]
  },
  {
   "cell_type": "markdown",
   "metadata": {},
   "source": [
    "Problema 1:"
   ]
  },
  {
   "cell_type": "markdown",
   "metadata": {},
   "source": [
    "Plantear una clase Persona que contenga dos atributos: nombre y edad. Definir como responsabilidades la carga por teclado y su impresión.\n",
    "En el bloque principal del programa definir un objeto de la clase persona y llamar\n",
    "a sus métodos.\n",
    "Declarar una segunda clase llamada Empleado que herede de la clase Persona y agregue un atributo sueldo y muestre si debe pagar impuestos (sueldo superior a 3000)\n",
    "También en el bloque principal del programa crear un objeto de la clase Empleado."
   ]
  },
  {
   "cell_type": "code",
   "execution_count": 1,
   "metadata": {},
   "outputs": [],
   "source": [
    "class Persona:\n",
    "    def __init__(self):\n",
    "        self.nombre=input(\"Ingrese el nombre:\")\n",
    "        self.edad=int(input(\"Ingrese la edad:\"))\n",
    "    def imprimir(self):\n",
    "        print(\"Nombre:\",self.nombre)\n",
    "        print(\"Edad:\",self.edad)"
   ]
  },
  {
   "cell_type": "code",
   "execution_count": 2,
   "metadata": {},
   "outputs": [],
   "source": [
    "class Empleado(Persona):\n",
    "    def __init__(self):\n",
    "        super().__init__()\n",
    "        self.sueldo=float(input(\"Ingrese el sueldo:\"))\n",
    "    def imprimir(self):\n",
    "        super().imprimir()\n",
    "        print(\"Sueldo:\",self.sueldo)\n",
    "    def paga_impuestos(self):\n",
    "        if self.sueldo>3000:\n",
    "            print(\"El empleado debe pagar impuestos\")\n",
    "        else:\n",
    "            print(\"No paga impuestos\")"
   ]
  },
  {
   "cell_type": "code",
   "execution_count": 3,
   "metadata": {},
   "outputs": [
    {
     "name": "stdout",
     "output_type": "stream",
     "text": [
      "Nombre: yonopagoimpuestos\n",
      "Edad: 1\n",
      "____________________________\n",
      "Nombre: Sin dinero\n",
      "Edad: 0\n",
      "Sueldo: 0.0\n",
      "No paga impuestos\n"
     ]
    }
   ],
   "source": [
    "persona1=Persona()\n",
    "persona1.imprimir()\n",
    "print(\"____________________________\")\n",
    "empleado1=Empleado()\n",
    "empleado1.imprimir()\n",
    "empleado1.paga_impuestos()"
   ]
  },
  {
   "cell_type": "markdown",
   "metadata": {},
   "source": [
    "Problema 2:"
   ]
  },
  {
   "cell_type": "markdown",
   "metadata": {},
   "source": [
    "Ahora plantearemos otro problema empleando herencia. Supongamos que necesitamos implementar dos clases que llamaremos Suma y Resta. Cada clase tiene como atributo valor1, valor2 y resultado. Los métodos a definir son cargar1 (que inicializa el atributo valor1), carga2 (que inicializa el atributo valor2), operar (que en el caso de la clase \"Suma\" suma los dos atributos y en el caso de la clase \"Resta\" hace la diferencia entre valor1 y valor2), y otro método mostrar_resultado."
   ]
  },
  {
   "cell_type": "code",
   "execution_count": 4,
   "metadata": {},
   "outputs": [],
   "source": [
    "class Operacion:\n",
    "    def __init__(self):\n",
    "        self.valor1=0\n",
    "        self.valor2=0\n",
    "        self.resultado=0\n",
    "    def cargar1(self):\n",
    "        self.valor1=int(input(\"Ingrese primer valor:\"))\n",
    "    def cargar2(self):\n",
    "        self.valor2=int(input(\"Ingrese segundo valor:\"))\n",
    "    def mostrar_resultado(self):\n",
    "        print(self.resultado)\n",
    "    def operar(self):\n",
    "        pass"
   ]
  },
  {
   "cell_type": "code",
   "execution_count": 5,
   "metadata": {},
   "outputs": [],
   "source": [
    "class Suma(Operacion):\n",
    "    def operar(self):\n",
    "        self.resultado=self.valor1+self.valor2\n"
   ]
  },
  {
   "cell_type": "code",
   "execution_count": 6,
   "metadata": {},
   "outputs": [],
   "source": [
    "class Resta(Operacion):\n",
    "    def operar(self):\n",
    "        self.resultado=self.valor1-self.valor2"
   ]
  },
  {
   "cell_type": "code",
   "execution_count": 7,
   "metadata": {},
   "outputs": [
    {
     "name": "stdout",
     "output_type": "stream",
     "text": [
      "La suma de los dos valores es\n",
      "3\n",
      "La resta de los valores es:\n",
      "-1\n"
     ]
    }
   ],
   "source": [
    "suma1=Suma()\n",
    "suma1.cargar1()\n",
    "suma1.cargar2()\n",
    "suma1.operar()\n",
    "print(\"La suma de los dos valores es\")\n",
    "suma1.mostrar_resultado()\n",
    "resta1=Resta()\n",
    "resta1.cargar1()\n",
    "resta1.cargar2()\n",
    "resta1.operar()\n",
    "print(\"La resta de los valores es:\")\n",
    "resta1.mostrar_resultado()"
   ]
  },
  {
   "cell_type": "markdown",
   "metadata": {},
   "source": [
    "Problema propuesto"
   ]
  },
  {
   "cell_type": "markdown",
   "metadata": {},
   "source": [
    "Declarar una clase Cuenta y dos subclases CajaAhorra y PlazoFijo.\n",
    "Definir los atributos y métodos comunes entre una caja de ahorro y un\n",
    "plazo fijo y agruparlos en la clase Cuenta.\n",
    "Una caja de ahorro y un plazo fijo tienen un nombre de titular y un monto.\n",
    "Un plazo fijo añade un plazo de imposición en días y una tasa de interés.\n",
    "Hacer que la caja de ahorro no genera intereses.\n",
    "En el bloque principal del programa definir un objeto de la clase\n",
    "CajaAhorro y otro de la clase PlazoFijo"
   ]
  },
  {
   "cell_type": "code",
   "execution_count": 8,
   "metadata": {},
   "outputs": [],
   "source": [
    "class Cuenta:\n",
    "    def __init__(self,titular,monto):\n",
    "        self.titular=titular\n",
    "        self.monto=monto\n",
    "    def imprimir(self):\n",
    "        print(\"Titular:\",self.titular)\n",
    "        print(\"Monto:\",self.monto)"
   ]
  },
  {
   "cell_type": "code",
   "execution_count": 9,
   "metadata": {},
   "outputs": [],
   "source": [
    "class CajaAhorro(Cuenta):\n",
    "    def __init__(self,titular,monto):\n",
    "        super().__init__(titular,monto)\n",
    "    def imprimir(self):\n",
    "        print(\"Cuenta de caja de ahorro\")\n",
    "        super().imprimir()"
   ]
  },
  {
   "cell_type": "code",
   "execution_count": 10,
   "metadata": {},
   "outputs": [],
   "source": [
    "class CajaAhorro(Cuenta):\n",
    "    def __init__(self,titular,monto):\n",
    "        super().__init__(titular,monto)\n",
    "    def imprimir(self):\n",
    "        print(\"Cuenta de caja de ahorro\")\n",
    "        super().imprimir()"
   ]
  },
  {
   "cell_type": "code",
   "execution_count": 11,
   "metadata": {},
   "outputs": [],
   "source": [
    "class PlazoFijo(Cuenta):\n",
    "    def __init__(self,titular,monto,plazo,interes):\n",
    "        super().__init__(titular,monto)\n",
    "        self.plazo=plazo\n",
    "        self.interes=interes\n",
    "    def imprimir(self):\n",
    "        print(\"Cuenta de plazo fijo\")\n",
    "        super().imprimir()\n",
    "        print(\"Plazo en dias:\",self.plazo)\n",
    "        print(\"Interes:\",self.interes)\n",
    "        self.ganancia_interes()\n",
    "    def ganancia_interes(self):\n",
    "        ganancia=self.monto*self.interes/100\n",
    "        print(\"Importe del interes:\",ganancia)"
   ]
  },
  {
   "cell_type": "code",
   "execution_count": 12,
   "metadata": {},
   "outputs": [
    {
     "name": "stdout",
     "output_type": "stream",
     "text": [
      "Cuenta de caja de ahorro\n",
      "Titular: Juan\n",
      "Monto: 2000\n",
      "Cuenta de plazo fijo\n",
      "Titular: Diego\n",
      "Monto: 10000\n",
      "Plazo en dias: 30\n",
      "Interes: 0.75\n",
      "Importe del interes: 75.0\n"
     ]
    }
   ],
   "source": [
    "cajaahorro=CajaAhorro(\"Juan\", 2000)\n",
    "cajaahorro.imprimir()\n",
    "plazofijo=PlazoFijo(\"Diego\", 10000, 30, 0.75)\n",
    "plazofijo.imprimir()"
   ]
  }
 ],
 "metadata": {
  "kernelspec": {
   "display_name": "tf",
   "language": "python",
   "name": "python3"
  },
  "language_info": {
   "codemirror_mode": {
    "name": "ipython",
    "version": 3
   },
   "file_extension": ".py",
   "mimetype": "text/x-python",
   "name": "python",
   "nbconvert_exporter": "python",
   "pygments_lexer": "ipython3",
   "version": "3.9.18"
  }
 },
 "nbformat": 4,
 "nbformat_minor": 2
}
