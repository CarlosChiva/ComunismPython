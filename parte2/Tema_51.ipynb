{
 "cells": [
  {
   "cell_type": "markdown",
   "metadata": {},
   "source": [
    "                        Tema 51"
   ]
  },
  {
   "cell_type": "markdown",
   "metadata": {},
   "source": [
    "Problema 1:"
   ]
  },
  {
   "cell_type": "markdown",
   "metadata": {},
   "source": [
    "Crear una clase Persona que tenga como atributo el nombre y la edad.\n",
    "El operador == retornará verdadero si las dos personas tienen la misma edad, el operador > retornará True si la edad del objeto de la izquierda tiene una edad mayor a la edad del objeto de la derecha del operador >, y así sucesivamente"
   ]
  },
  {
   "cell_type": "code",
   "execution_count": 1,
   "metadata": {},
   "outputs": [],
   "source": [
    "class Persona:\n",
    "    def __init__(self,nombre, edad):\n",
    "        self.nombre=nombre\n",
    "        self.edad=edad\n",
    "    def __eq__(self,objeto2):\n",
    "        if self.edad==objeto2.edad:\n",
    "            return True\n",
    "        else:\n",
    "            return False\n",
    "    def __ne__(self,objeto2):\n",
    "        if self.edad!=objeto2.edad:\n",
    "            return True\n",
    "        else:\n",
    "            return False\n",
    "    def __gt__(self,objeto2):\n",
    "        if self.edad>objeto2.edad:\n",
    "            return True\n",
    "        else:\n",
    "            return False\n",
    "    def __ge__(self,objeto2):\n",
    "        if self.edad>=objeto2.edad:\n",
    "            return True\n",
    "        else:\n",
    "            return False\n",
    "    def __lt__(self,objeto2):\n",
    "        if self.edad<objeto2.edad:\n",
    "            return True\n",
    "        else:\n",
    "            return False\n",
    "    def __le__(self,objeto2):\n",
    "        if self.edad<=objeto2.edad:\n",
    "            return True\n",
    "        else:\n",
    "            return False"
   ]
  },
  {
   "cell_type": "code",
   "execution_count": 2,
   "metadata": {},
   "outputs": [
    {
     "name": "stdout",
     "output_type": "stream",
     "text": [
      "Las dos personas tienen la misma edad.\n"
     ]
    }
   ],
   "source": [
    "persona1=Persona('juan',22)\n",
    "persona2=Persona('ana',22)\n",
    "if persona1==persona2:\n",
    "    print(\"Las dos personas tienen la misma edad.\")\n",
    "else:\n",
    "    print(\"No tienen la misma edad.\")"
   ]
  },
  {
   "cell_type": "markdown",
   "metadata": {},
   "source": [
    "Problema 2:"
   ]
  },
  {
   "cell_type": "markdown",
   "metadata": {},
   "source": [
    "Plantear una clase Rectangulo. Definir dos atributos (ladomenor y ladomayor).\n",
    "Redefinir el operador == de tal forma que tengan en cuenta la superficie del rectángulo. Lo mismo hacer con todos los otros operadores relacionales."
   ]
  },
  {
   "cell_type": "code",
   "execution_count": 3,
   "metadata": {},
   "outputs": [],
   "source": [
    "class Rectangulo:\n",
    "    def __init__(self,lmenor,lmayor):\n",
    "        self.lmenor=lmenor\n",
    "        self.lmayor=lmayor\n",
    "    def retornar_superficie(self):\n",
    "        return self.lmenor*self.lmayor\n",
    "    def __eq__(self,objeto2):\n",
    "        if self.retornar_superficie()==objeto2.retornar_superficie():\n",
    "            return True\n",
    "        else:\n",
    "            return False    \n",
    "    def __ne__(self,objeto2):\n",
    "        if self.retornar_superficie()!=objeto2.retornar_superficie():\n",
    "            return True\n",
    "        else:\n",
    "            return False\n",
    "    def __gt__(self,objeto2):\n",
    "        if self.retornar_superficie()>objeto2.retornar_superficie():\n",
    "            return True\n",
    "        else:\n",
    "            return False\n",
    "    def __ge__(self,objeto2):\n",
    "        if self.retornar_superficie()>=objeto2.retornar_superficie():\n",
    "            return True\n",
    "        else:\n",
    "            return False\n",
    "    def __lt__(self,objeto2):\n",
    "        if self.retornar_superficie()<objeto2.retornar_superficie():\n",
    "            return True\n",
    "        else:\n",
    "            return False\n",
    "    def __le__(self,objeto2):\n",
    "        if self.retornar_superficie()<=objeto2.retornar_superficie():\n",
    "            return True\n",
    "        else:\n",
    "            return False"
   ]
  },
  {
   "cell_type": "code",
   "execution_count": 4,
   "metadata": {},
   "outputs": [
    {
     "name": "stdout",
     "output_type": "stream",
     "text": [
      "Los rectangulos tienen la misma superficie\n"
     ]
    }
   ],
   "source": [
    "rectangulo1=Rectangulo(10,10)\n",
    "rectangulo2=Rectangulo(5,20)\n",
    "if rectangulo1==rectangulo2:\n",
    "    print(\"Los rectangulos tienen la misma superficie\")\n",
    "else:\n",
    "    print(\"Los rectangulos no tienen la misma superficie\")"
   ]
  }
 ],
 "metadata": {
  "kernelspec": {
   "display_name": "tf",
   "language": "python",
   "name": "python3"
  },
  "language_info": {
   "codemirror_mode": {
    "name": "ipython",
    "version": 3
   },
   "file_extension": ".py",
   "mimetype": "text/x-python",
   "name": "python",
   "nbconvert_exporter": "python",
   "pygments_lexer": "ipython3",
   "version": "3.9.18"
  }
 },
 "nbformat": 4,
 "nbformat_minor": 2
}
