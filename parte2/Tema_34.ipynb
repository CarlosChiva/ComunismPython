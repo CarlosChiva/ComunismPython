{
 "cells": [
  {
   "cell_type": "markdown",
   "metadata": {},
   "source": [
    "                        Tema 34"
   ]
  },
  {
   "cell_type": "markdown",
   "metadata": {},
   "source": [
    "Problema 1:"
   ]
  },
  {
   "cell_type": "markdown",
   "metadata": {},
   "source": [
    "En el bloque principal del programa definir un diccionario que almacene los\n",
    "nombres de paises como clave y como valor la cantidad de habitantes.\n",
    "Implementar una función para mostrar cada clave y valor."
   ]
  },
  {
   "cell_type": "code",
   "execution_count": 1,
   "metadata": {},
   "outputs": [],
   "source": [
    "def imprimir(paises):\n",
    "    for clave in paises:\n",
    "        print(clave, paises[clave])\n"
   ]
  },
  {
   "cell_type": "code",
   "execution_count": 2,
   "metadata": {},
   "outputs": [
    {
     "name": "stdout",
     "output_type": "stream",
     "text": [
      "argentina 40000000\n",
      "españa 46000000\n",
      "brasil 190000000\n",
      "uruguay 3400000\n"
     ]
    }
   ],
   "source": [
    "paises={\"argentina\":40000000, \"españa\":46000000, \"brasil\":190000000,\n",
    "\"uruguay\": 3400000}\n",
    "imprimir(paises)"
   ]
  },
  {
   "cell_type": "markdown",
   "metadata": {},
   "source": [
    "Problema 2:"
   ]
  },
  {
   "cell_type": "markdown",
   "metadata": {},
   "source": [
    "Crear un diccionario que permita almacenar 5 artículos, utilizar como clave el\n",
    "nombre de productos y como valor el precio del mismo.\n",
    "Desarrollar además las funciones de:\n",
    "1) Imprimir en forma completa el diccionario\n",
    "2) Imprimir solo los artículos con precio superior a 100."
   ]
  },
  {
   "cell_type": "code",
   "execution_count": 3,
   "metadata": {},
   "outputs": [],
   "source": [
    "def cargar():\n",
    "    productos={}\n",
    "    for x in range(5):\n",
    "        nombre=input(\"Ingrese el nombre del producto:\")\n",
    "        precio=int(input(\"Ingrese el precio:\"))\n",
    "        productos[nombre]=precio\n",
    "    return productos\n"
   ]
  },
  {
   "cell_type": "code",
   "execution_count": 4,
   "metadata": {},
   "outputs": [],
   "source": [
    "def imprimir(productos):\n",
    "    print(\"Listado de todos los articulos\")\n",
    "    for nombre in productos:\n",
    "        print(nombre, productos[nombre])"
   ]
  },
  {
   "cell_type": "code",
   "execution_count": 5,
   "metadata": {},
   "outputs": [],
   "source": [
    "def imprimir_mayor100(productos):\n",
    "    print(\"Listado de articulos con precios mayores a 100\")\n",
    "    for nombre in productos:\n",
    "        if productos[nombre]>100:\n",
    "            print(nombre)\n"
   ]
  },
  {
   "cell_type": "code",
   "execution_count": 6,
   "metadata": {},
   "outputs": [
    {
     "name": "stdout",
     "output_type": "stream",
     "text": [
      "Listado de todos los articulos\n",
      "mujer 10\n",
      "negro 50\n",
      "feminista 1\n",
      "funcionario 0\n",
      "politico -1000000\n",
      "Listado de articulos con precios mayores a 100\n"
     ]
    }
   ],
   "source": [
    "productos=cargar()\n",
    "imprimir(productos)\n",
    "imprimir_mayor100(productos)"
   ]
  },
  {
   "cell_type": "markdown",
   "metadata": {},
   "source": [
    "Problema 3:"
   ]
  },
  {
   "cell_type": "markdown",
   "metadata": {},
   "source": [
    "Desarrollar una aplicación que nos permita crear un diccionario ingles/castellano.\n",
    "La clave es la palabra en ingles y el valor es la palabra en castellano.\n",
    "Crear las siguientes funciones:\n",
    "1) Cargar el diccionario.\n",
    "2) Listado completo del diccionario.\n",
    "3) Ingresar por teclado una palabra en ingles y si existe en el diccionario mostrar\n",
    "su traducción."
   ]
  },
  {
   "cell_type": "code",
   "execution_count": 7,
   "metadata": {},
   "outputs": [],
   "source": [
    "def cargar():\n",
    "    diccionario={}\n",
    "    continua=\"s\"\n",
    "    while continua==\"s\":\n",
    "        caste=input(\"Ingrese palabra en castellano:\")\n",
    "        ing=input(\"Ingrese palabra en ingles:\")\n",
    "        diccionario[ing]=caste\n",
    "        continua=input(\"Quiere cargar otra palabra:[s/n]\")\n",
    "    return diccionario\n"
   ]
  },
  {
   "cell_type": "code",
   "execution_count": 8,
   "metadata": {},
   "outputs": [],
   "source": [
    "def imprimir(diccionario):\n",
    "    print(\"Listado completo del diccionario\")\n",
    "    for ingles in diccionario:\n",
    "        print(ingles,diccionario[ingles])\n"
   ]
  },
  {
   "cell_type": "code",
   "execution_count": 9,
   "metadata": {},
   "outputs": [],
   "source": [
    "def consulta_palabra(diccionario):\n",
    "    pal=input(\"Ingrese la palabra en ingles a consultar:\")\n",
    "    if pal in diccionario:\n",
    "        print(\"En castellano significa:\",diccionario[pal])\n"
   ]
  },
  {
   "cell_type": "code",
   "execution_count": 10,
   "metadata": {},
   "outputs": [
    {
     "name": "stdout",
     "output_type": "stream",
     "text": [
      "Listado completo del diccionario\n",
      "inflaction inflacion\n",
      "En castellano significa: inflacion\n"
     ]
    }
   ],
   "source": [
    "diccionario=cargar()\n",
    "imprimir(diccionario)\n",
    "consulta_palabra(diccionario)"
   ]
  },
  {
   "cell_type": "markdown",
   "metadata": {},
   "source": [
    "Problemas propuestos:"
   ]
  },
  {
   "cell_type": "markdown",
   "metadata": {},
   "source": [
    "Crear un diccionario en Python que defina como clave el número de\n",
    "documento de una persona y como valor un string con su nombre.\n",
    "Desarrollar las siguientes funciones:\n",
    "1) Cargar por teclado los datos de 4 personas.\n",
    "2) Listado completo del diccionario.\n",
    "3) Consulta del nombre de una persona ingresando su número de\n",
    "documento."
   ]
  },
  {
   "cell_type": "code",
   "execution_count": 11,
   "metadata": {},
   "outputs": [],
   "source": [
    "def cargar():\n",
    "    personas={}\n",
    "    for x in range(4):\n",
    "        numero=int(input(\"Ingrese el numero de documento:\"))\n",
    "        nombre=input(\"Ingrese el nombre:\")\n",
    "        personas[numero]=nombre\n",
    "    return personas\n"
   ]
  },
  {
   "cell_type": "code",
   "execution_count": 12,
   "metadata": {},
   "outputs": [],
   "source": [
    "def imprimir(personas):\n",
    "    print(\"Listado del diccionario completo\")\n",
    "    for numero in personas:\n",
    "        print(numero, personas[numero])\n"
   ]
  },
  {
   "cell_type": "code",
   "execution_count": 13,
   "metadata": {},
   "outputs": [],
   "source": [
    "def consulta_por_numero(personas):\n",
    "    nro=int(input(\"Ingrese el numero de documento a consultar:\"))\n",
    "    if nro in personas:\n",
    "        print(\"Nombre de la persona:\",personas[nro])\n",
    "    else:\n",
    "        print(\"No existe una persona con dicho numero de documento\")"
   ]
  },
  {
   "cell_type": "code",
   "execution_count": 14,
   "metadata": {},
   "outputs": [
    {
     "name": "stdout",
     "output_type": "stream",
     "text": [
      "Listado del diccionario completo\n",
      "10 drogaina\n",
      "1 compradores\n",
      "2 productores\n",
      "7 policia\n",
      "Nombre de la persona: drogaina\n"
     ]
    }
   ],
   "source": [
    "personas=cargar()\n",
    "imprimir(personas)\n",
    "consulta_por_numero(personas)"
   ]
  }
 ],
 "metadata": {
  "kernelspec": {
   "display_name": "tf",
   "language": "python",
   "name": "python3"
  },
  "language_info": {
   "codemirror_mode": {
    "name": "ipython",
    "version": 3
   },
   "file_extension": ".py",
   "mimetype": "text/x-python",
   "name": "python",
   "nbconvert_exporter": "python",
   "pygments_lexer": "ipython3",
   "version": "3.9.18"
  }
 },
 "nbformat": 4,
 "nbformat_minor": 2
}
