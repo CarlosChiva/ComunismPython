{
 "cells": [
  {
   "cell_type": "markdown",
   "metadata": {},
   "source": [
    "                        Tema 54"
   ]
  },
  {
   "cell_type": "code",
   "execution_count": 1,
   "metadata": {},
   "outputs": [
    {
     "name": "stdout",
     "output_type": "stream",
     "text": [
      "Los elementos de la lista son\n",
      "[10, 7, 3, 7, 2]\n",
      "La suma de todos sus elementos es\n",
      "29\n"
     ]
    }
   ],
   "source": [
    "lista=[10,7,3,7,2]\n",
    "suma=0\n",
    "x=0\n",
    "while x<len(lista):\n",
    "    suma+=lista[x]\n",
    "    x+=1\n",
    "print(\"Los elementos de la lista son\")\n",
    "print(lista)\n",
    "print(\"La suma de todos sus elementos es\")\n",
    "print(suma)"
   ]
  }
 ],
 "metadata": {
  "kernelspec": {
   "display_name": "tf",
   "language": "python",
   "name": "python3"
  },
  "language_info": {
   "codemirror_mode": {
    "name": "ipython",
    "version": 3
   },
   "file_extension": ".py",
   "mimetype": "text/x-python",
   "name": "python",
   "nbconvert_exporter": "python",
   "pygments_lexer": "ipython3",
   "version": "3.9.18"
  }
 },
 "nbformat": 4,
 "nbformat_minor": 2
}
