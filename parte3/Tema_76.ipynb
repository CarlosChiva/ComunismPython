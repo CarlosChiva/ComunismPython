{
 "cells": [
  {
   "cell_type": "markdown",
   "metadata": {},
   "source": [
    "                Tema 76"
   ]
  },
  {
   "cell_type": "markdown",
   "metadata": {},
   "source": [
    "Problema:"
   ]
  },
  {
   "cell_type": "markdown",
   "metadata": {},
   "source": [
    "Confeccionar un programa que que muestre un cuadrado dentro de un Canvas.\n",
    "Cuando se presione alguna de las teclas de flecha proceder a desplazar la figura 4 píxeles teniendo en cuenta la dirección de la tecla de flecha presionada."
   ]
  },
  {
   "cell_type": "code",
   "execution_count": 1,
   "metadata": {},
   "outputs": [],
   "source": [
    "import tkinter as tk"
   ]
  },
  {
   "cell_type": "code",
   "execution_count": 2,
   "metadata": {},
   "outputs": [],
   "source": [
    "class Aplicacion:\n",
    "    def __init__(self):\n",
    "        self.ventana1=tk.Tk()\n",
    "        self.canvas1=tk.Canvas(self.ventana1, width=600, height=400,background=\"black\")\n",
    "        self.canvas1.grid(column=0, row=0)\n",
    "        self.cuadrado=self.canvas1.create_rectangle(150,10,200,60, fill=\"red\")\n",
    "        self.ventana1.bind(\"<KeyPress>\", self.presion_tecla)\n",
    "        self.ventana1.mainloop()\n",
    "    def presion_tecla(self, evento):\n",
    "        if evento.keysym=='Right':\n",
    "            self.canvas1.move(self.cuadrado, 4, 0)\n",
    "        if evento.keysym=='Left':\n",
    "            self.canvas1.move(self.cuadrado, -4, 0)\n",
    "        if evento.keysym=='Down':\n",
    "            self.canvas1.move(self.cuadrado, 0, 4)\n",
    "        if evento.keysym=='Up':\n",
    "            self.canvas1.move(self.cuadrado, 0, -4)"
   ]
  },
  {
   "cell_type": "code",
   "execution_count": 3,
   "metadata": {},
   "outputs": [],
   "source": [
    "aplicacion1=Aplicacion()"
   ]
  },
  {
   "cell_type": "markdown",
   "metadata": {},
   "source": [
    "Problema propuesto"
   ]
  },
  {
   "cell_type": "markdown",
   "metadata": {},
   "source": [
    "Modificar el problema que desplaza un cuadrado con las teclas de flechas de tal modo que la figura no pueda salir del espacio definido para el Canvas.\n",
    "Para saber la posición actual de una figura la clase Canvas cuenta con el método 'coords':"
   ]
  },
  {
   "cell_type": "code",
   "execution_count": 4,
   "metadata": {},
   "outputs": [],
   "source": [
    "class Aplicacion:\n",
    "    def __init__(self):\n",
    "        self.ventana1=tk.Tk()\n",
    "        self.canvas1=tk.Canvas(self.ventana1, width=600, height=400, background=\"black\")\n",
    "        self.canvas1.grid(column=0, row=0)\n",
    "        self.cuadrado=self.canvas1.create_rectangle(150,10,200,60, fill=\"red\")\n",
    "        self.ventana1.bind(\"<KeyPress>\", self.presion_tecla)\n",
    "        self.ventana1.mainloop()\n",
    "    def presion_tecla(self, evento):\n",
    "        x1, y1, x2, y2 = self.canvas1.coords(self.cuadrado)\n",
    "        if evento.keysym=='Right':\n",
    "            if x2+4<=600:\n",
    "                self.canvas1.move(self.cuadrado, 4, 0)\n",
    "        if evento.keysym=='Left':\n",
    "            if x1-4>=0:\n",
    "                self.canvas1.move(self.cuadrado, -4, 0)\n",
    "        if evento.keysym=='Down':\n",
    "            if y2+4<=400:\n",
    "                self.canvas1.move(self.cuadrado, 0, 4)\n",
    "        if evento.keysym=='Up':\n",
    "            if y1-4>=0:\n",
    "                self.canvas1.move(self.cuadrado, 0, -4)"
   ]
  },
  {
   "cell_type": "code",
   "execution_count": 5,
   "metadata": {},
   "outputs": [],
   "source": [
    "aplicacion=Aplicacion()"
   ]
  }
 ],
 "metadata": {
  "kernelspec": {
   "display_name": "tf",
   "language": "python",
   "name": "python3"
  },
  "language_info": {
   "codemirror_mode": {
    "name": "ipython",
    "version": 3
   },
   "file_extension": ".py",
   "mimetype": "text/x-python",
   "name": "python",
   "nbconvert_exporter": "python",
   "pygments_lexer": "ipython3",
   "version": "3.9.18"
  }
 },
 "nbformat": 4,
 "nbformat_minor": 2
}
