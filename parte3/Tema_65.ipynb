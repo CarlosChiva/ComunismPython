{
 "cells": [
  {
   "cell_type": "markdown",
   "metadata": {},
   "source": [
    "                Tema 65"
   ]
  },
  {
   "cell_type": "markdown",
   "metadata": {},
   "source": [
    "Problema:"
   ]
  },
  {
   "cell_type": "markdown",
   "metadata": {},
   "source": [
    "Confeccionar una aplicación que muestre dos opciones en el menú de barra superior. La primer opción despliega un submenú que permita cambiar el color de fondo del formulario y la segunda permita cambiar el tamaño de formulario:"
   ]
  },
  {
   "cell_type": "code",
   "execution_count": 1,
   "metadata": {},
   "outputs": [],
   "source": [
    "import tkinter as tk\n",
    "from tkinter import ttk"
   ]
  },
  {
   "cell_type": "code",
   "execution_count": 2,
   "metadata": {},
   "outputs": [],
   "source": [
    "class Aplicacion:\n",
    "    def __init__(self):\n",
    "        self.ventana1=tk.Tk()\n",
    "        menubar1 = tk.Menu(self.ventana1)\n",
    "        self.ventana1.config(menu=menubar1)\n",
    "        opciones1 = tk.Menu(menubar1)\n",
    "        opciones1.add_command(label=\"Rojo\", command=self.fijarrojo)\n",
    "        opciones1.add_command(label=\"Verde\", command=self.fijarverde)\n",
    "        opciones1.add_command(label=\"Azul\", command=self.fijarazul)\n",
    "        menubar1.add_cascade(label=\"Colores\", menu=opciones1)\n",
    "        opciones2 = tk.Menu(menubar1)\n",
    "        opciones2.add_command(label=\"640x480\", command=self.ventanachica)\n",
    "        opciones2.add_command(label=\"1024x800\", command=self.ventanagrande)\n",
    "        menubar1.add_cascade(label=\"Tamaños\", menu=opciones2)\n",
    "        self.ventana1.mainloop()\n",
    "    def fijarrojo(self):\n",
    "        self.ventana1.configure(background=\"red\")\n",
    "    def fijarverde(self):\n",
    "        self.ventana1.configure(background=\"green\")\n",
    "    def fijarazul(self):\n",
    "        self.ventana1.configure(background=\"blue\")\n",
    "    def ventanachica(self):\n",
    "        self.ventana1.geometry(\"640x480\")\n",
    "    def ventanagrande(self):\n",
    "        self.ventana1.geometry(\"1024x800\")"
   ]
  },
  {
   "cell_type": "code",
   "execution_count": 3,
   "metadata": {},
   "outputs": [],
   "source": [
    "aplicacion1=Aplicacion()"
   ]
  },
  {
   "cell_type": "markdown",
   "metadata": {},
   "source": [
    "Otra posibilidad es agregar teclas de acceso rápido a opciones de nuestro menú. Esto se resuelve la parte visual agregando el parámetro 'acelerator', y por otro lado asignar a cada una de las teclas de acceso rápido la ejecución de un método:"
   ]
  },
  {
   "cell_type": "code",
   "execution_count": 4,
   "metadata": {},
   "outputs": [],
   "source": [
    "class Aplicacion:\n",
    "    def __init__(self):\n",
    "        self.ventana1=tk.Tk()\n",
    "        menubar1 = tk.Menu(self.ventana1)\n",
    "        self.ventana1.config(menu=menubar1)\n",
    "        opciones1 = tk.Menu(menubar1, tearoff=0)\n",
    "        opciones1.add_command(label=\"Rojo\", command=self.fijarrojo,\n",
    "        accelerator=\"Ctrl+R\")\n",
    "        opciones1.add_command(label=\"Verde\", command=self.fijarverde,\n",
    "        accelerator=\"Ctrl+V\")\n",
    "        opciones1.add_separator()\n",
    "        opciones1.add_command(label=\"Azul\", command=self.fijarazul,\n",
    "        accelerator=\"Ctrl+A\")\n",
    "        self.ventana1.bind_all(\"<Control-r>\", self.cambiar)\n",
    "        self.ventana1.bind_all(\"<Control-v>\", self.cambiar)\n",
    "        self.ventana1.bind_all(\"<Control-a>\", self.cambiar)\n",
    "        menubar1.add_cascade(label=\"Colores\", menu=opciones1)\n",
    "        opciones2 = tk.Menu(menubar1)\n",
    "        opciones2.add_command(label=\"640x480\", command=self.ventanachica)\n",
    "        opciones2.add_command(label=\"1024x800\", command=self.ventanagrande)\n",
    "        menubar1.add_cascade(label=\"Tamaños\", menu=opciones2)\n",
    "        self.ventana1.mainloop()\n",
    "    def cambiar(self, event):\n",
    "        if event.keysym==\"r\":\n",
    "            self.fijarrojo()\n",
    "        if event.keysym==\"v\":\n",
    "            self.fijarverde()\n",
    "        if event.keysym==\"a\":\n",
    "            self.fijarazul()\n",
    "    def fijarrojo(self):\n",
    "        self.ventana1.configure(background=\"red\")\n",
    "    def fijarverde(self):\n",
    "        self.ventana1.configure(background=\"green\")\n",
    "    def fijarazul(self):\n",
    "        self.ventana1.configure(background=\"blue\")\n",
    "    def ventanachica(self):\n",
    "        self.ventana1.geometry(\"640x480\")\n",
    "    def ventanagrande(self):\n",
    "        self.ventana1.geometry(\"1024x800\")"
   ]
  },
  {
   "cell_type": "code",
   "execution_count": 5,
   "metadata": {},
   "outputs": [],
   "source": [
    "aplicacion1=Aplicacion()"
   ]
  },
  {
   "cell_type": "markdown",
   "metadata": {},
   "source": [
    "Menu"
   ]
  },
  {
   "cell_type": "code",
   "execution_count": 6,
   "metadata": {},
   "outputs": [],
   "source": [
    "class Aplicacion:\n",
    "    def __init__(self):\n",
    "        self.ventana1=tk.Tk()\n",
    "        menubar1 = tk.Menu(self.ventana1)\n",
    "        self.ventana1.config(menu=menubar1)\n",
    "        opciones1 = tk.Menu(menubar1)\n",
    "        opciones1.add_command(label=\"Rojo\", command=self.fijarrojo)\n",
    "        opciones1.add_command(label=\"Verde\", command=self.fijarverde)\n",
    "        opciones1.add_command(label=\"Azul\", command=self.fijarazul)\n",
    "        menubar1.add_cascade(label=\"Colores\", menu=opciones1)\n",
    "        opciones2 = tk.Menu(menubar1)\n",
    "        opciones2.add_command(label=\"640x480\", command=self.ventanachica)\n",
    "        opciones2.add_command(label=\"1024x800\", command=self.ventanagrande)\n",
    "        submenu1=tk.Menu(menubar1)\n",
    "        submenu1.add_command(label=\"1024x1024\", command=self.tamano1)\n",
    "        submenu1.add_command(label=\"1280x1024\", command=self.tamano2)\n",
    "        opciones2.add_cascade(label=\"Otros tamaños\", menu= submenu1)\n",
    "        menubar1.add_cascade(label=\"Tamaños\", menu=opciones2)\n",
    "        self.ventana1.mainloop()\n",
    "    def fijarrojo(self):\n",
    "        self.ventana1.configure(background=\"red\")\n",
    "    def fijarverde(self):\n",
    "        self.ventana1.configure(background=\"green\")\n",
    "    def fijarazul(self):\n",
    "        self.ventana1.configure(background=\"blue\")\n",
    "    def ventanachica(self):\n",
    "        self.ventana1.geometry(\"640x480\")\n",
    "    def ventanagrande(self):\n",
    "        self.ventana1.geometry(\"1024x800\")\n",
    "    def tamano1(self):\n",
    "        self.ventana1.geometry(\"1024x1024\")\n",
    "    def tamano2(self):\n",
    "        self.ventana1.geometry(\"1280x1024\")"
   ]
  },
  {
   "cell_type": "code",
   "execution_count": 7,
   "metadata": {},
   "outputs": [],
   "source": [
    "aplicacion1=Aplicacion()"
   ]
  },
  {
   "cell_type": "markdown",
   "metadata": {},
   "source": [
    "Problema propuesto"
   ]
  },
  {
   "cell_type": "markdown",
   "metadata": {},
   "source": [
    "Mediante dos controles de tipo Entry permitir el ingreso de dos números.\n",
    "Crear un menú que contenga una opción que cambie el tamaño de la ventana con los valores ingresados por teclado. Finalmente disponer otra opción que finalice el programa"
   ]
  },
  {
   "cell_type": "code",
   "execution_count": 8,
   "metadata": {},
   "outputs": [],
   "source": [
    "import sys\n",
    "class Aplicacion:\n",
    "    def __init__(self):\n",
    "        self.ventana1=tk.Tk()\n",
    "        menubar1 = tk.Menu(self.ventana1)\n",
    "        self.ventana1.config(menu=menubar1)\n",
    "        opciones1 = tk.Menu(menubar1)\n",
    "        opciones1.add_command(label=\"Cambiar dimensión ventana\", command=self.fijartamano)\n",
    "        opciones1.add_command(label=\"Finalizar\", command=self.finalizar)\n",
    "        menubar1.add_cascade(label=\"Opciones\", menu=opciones1)\n",
    "        self.label1=ttk.Label(text=\"Ingrese ancho de la ventana en X:\")\n",
    "        self.label1.grid(column=0, row=0)\n",
    "        self.ancho=tk.StringVar()\n",
    "        self.entry1=ttk.Entry(self.ventana1, width=10, textvariable=self.ancho)\n",
    "        self.entry1.grid(column=0, row=1)\n",
    "        self.label2=ttk.Label(text=\"Ingrese ancho de la ventana en Y:\")\n",
    "        self.label2.grid(column=0, row=2)\n",
    "        self.alto=tk.StringVar()\n",
    "        self.entry2=ttk.Entry(self.ventana1, width=10, textvariable=self.alto)\n",
    "        self.entry2.grid(column=0, row=3)\n",
    "        self.ventana1.mainloop()\n",
    "    def fijartamano(self):\n",
    "        self.ventana1.geometry(self.ancho.get()+\"x\"+self.alto.get())\n",
    "    def finalizar(self):\n",
    "        sys.exit()"
   ]
  },
  {
   "cell_type": "code",
   "execution_count": 9,
   "metadata": {},
   "outputs": [],
   "source": [
    "aplicacion1=Aplicacion()"
   ]
  }
 ],
 "metadata": {
  "kernelspec": {
   "display_name": "tf",
   "language": "python",
   "name": "python3"
  },
  "language_info": {
   "codemirror_mode": {
    "name": "ipython",
    "version": 3
   },
   "file_extension": ".py",
   "mimetype": "text/x-python",
   "name": "python",
   "nbconvert_exporter": "python",
   "pygments_lexer": "ipython3",
   "version": "3.9.18"
  }
 },
 "nbformat": 4,
 "nbformat_minor": 2
}
