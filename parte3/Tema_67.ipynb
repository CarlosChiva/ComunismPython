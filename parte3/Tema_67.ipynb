{
 "cells": [
  {
   "cell_type": "markdown",
   "metadata": {},
   "source": [
    "                Tema 67"
   ]
  },
  {
   "cell_type": "markdown",
   "metadata": {},
   "source": [
    "Problema:"
   ]
  },
  {
   "cell_type": "markdown",
   "metadata": {},
   "source": [
    "Confeccionar una aplicación que muestre dos controles de tipo LabelFrame. En la primera disponer 2 Label, 2 Entry y un Button, en el segundo LabelFrame disponer 3 botones."
   ]
  },
  {
   "cell_type": "code",
   "execution_count": 1,
   "metadata": {},
   "outputs": [],
   "source": [
    "import tkinter as tk\n",
    "from tkinter import ttk"
   ]
  },
  {
   "cell_type": "code",
   "execution_count": 2,
   "metadata": {},
   "outputs": [],
   "source": [
    "class Aplicacion:\n",
    "    def __init__(self):\n",
    "        self.ventana1=tk.Tk()\n",
    "        self.labelframe1=ttk.LabelFrame(self.ventana1, text=\"Login:\")\n",
    "        self.labelframe1.grid(column=0, row=0, padx=5, pady=10)\n",
    "        self.login()\n",
    "        self.labelframe2=ttk.LabelFrame(self.ventana1, text=\"Operaciones\")\n",
    "        self.labelframe2.grid(column=0, row=1, padx=5, pady=10)\n",
    "        self.operaciones()\n",
    "        self.ventana1.mainloop()\n",
    "    def login(self):\n",
    "        self.label1=ttk.Label(self.labelframe1, text=\"Nombre de usuario:\")\n",
    "        self.label1.grid(column=0, row=0, padx=4, pady=4)\n",
    "        self.entry1=ttk.Entry(self.labelframe1)\n",
    "        self.entry1.grid(column=1, row=0, padx=4, pady=4)\n",
    "        self.label2=ttk.Label(self.labelframe1, text=\"Ingrese clave:\")\n",
    "        self.label2.grid(column=0, row=1, padx=4, pady=4)\n",
    "        self.entry2=ttk.Entry(self.labelframe1, show=\"*\")\n",
    "        self.entry2.grid(column=1, row=1, padx=4, pady=4)\n",
    "        self.boton1=ttk.Button(self.labelframe1, text=\"Ingresar\")\n",
    "        self.boton1.grid(column=1, row=2, padx=4, pady=4)\n",
    "    def operaciones(self):\n",
    "        self.boton2=ttk.Button(self.labelframe2, text=\"Agregar usuario\")\n",
    "        self.boton2.grid(column=0, row=0, padx=4, pady=4)\n",
    "        self.boton3=ttk.Button(self.labelframe2, text=\"Modificar usuario\")\n",
    "        self.boton3.grid(column=1, row=0, padx=4, pady=4)\n",
    "        self.boton4=ttk.Button(self.labelframe2, text=\"Borrar usuario\")\n",
    "        self.boton4.grid(column=2, row=0, padx=4, pady=4)"
   ]
  },
  {
   "cell_type": "code",
   "execution_count": 3,
   "metadata": {},
   "outputs": [],
   "source": [
    "aplicacion1=Aplicacion()"
   ]
  },
  {
   "cell_type": "markdown",
   "metadata": {},
   "source": [
    "Problema propuesto"
   ]
  },
  {
   "cell_type": "markdown",
   "metadata": {},
   "source": [
    "Mediante dos controles de tipo LabelFrame implementar la siguiente\n",
    "interfaz visual:"
   ]
  },
  {
   "cell_type": "code",
   "execution_count": 4,
   "metadata": {},
   "outputs": [],
   "source": [
    "class Aplicacion:\n",
    "    def __init__(self):\n",
    "        self.ventana1=tk.Tk()\n",
    "        self.labelframe1=ttk.LabelFrame(self.ventana1, text=\"Articulo\")\n",
    "        self.labelframe1.grid(column=0, row=0, padx=5, pady=10)\n",
    "        self.form_articulo()\n",
    "        self.labelframe2=ttk.LabelFrame(self.ventana1, text=\"Operaciones\")\n",
    "        self.labelframe2.grid(column=0, row=1, padx=5, pady=10)\n",
    "        self.form_operaciones()\n",
    "        self.ventana1.mainloop()\n",
    "    def form_articulo(self):\n",
    "        self.label1=ttk.Label(self.labelframe1, text=\"Código de artículo:\")\n",
    "        self.label1.grid(column=0, row=0, padx=4, pady=4)\n",
    "        self.entry1=ttk.Entry(self.labelframe1)\n",
    "        self.entry1.grid(column=1, row=0, padx=4, pady=4)\n",
    "        self.label2=ttk.Label(self.labelframe1, text=\"Descripción:\")\n",
    "        self.label2.grid(column=0, row=1, padx=4, pady=4)\n",
    "        self.entry2=ttk.Entry(self.labelframe1, show=\"*\")\n",
    "        self.entry2.grid(column=1, row=1, padx=4, pady=4)\n",
    "        self.label3=ttk.Label(self.labelframe1, text=\"Precio:\")\n",
    "        self.label3.grid(column=0, row=2, padx=4, pady=4)\n",
    "        self.entry3=ttk.Entry(self.labelframe1, show=\"*\")\n",
    "        self.entry3.grid(column=1, row=2, padx=4, pady=4)\n",
    "    def form_operaciones(self):\n",
    "        self.boton1=ttk.Button(self.labelframe2, text=\"Alta\")\n",
    "        self.boton1.grid(column=0, row=0, padx=4, pady=4)\n",
    "        self.boton2=ttk.Button(self.labelframe2, text=\"Baja\")\n",
    "        self.boton2.grid(column=1, row=0, padx=4, pady=4)\n",
    "        self.boton3=ttk.Button(self.labelframe2, text=\"Modificación\")\n",
    "        self.boton3.grid(column=2, row=0, padx=4, pady=4)"
   ]
  },
  {
   "cell_type": "code",
   "execution_count": 5,
   "metadata": {},
   "outputs": [],
   "source": [
    "aplicacion1=Aplicacion()"
   ]
  }
 ],
 "metadata": {
  "kernelspec": {
   "display_name": "tf",
   "language": "python",
   "name": "python3"
  },
  "language_info": {
   "codemirror_mode": {
    "name": "ipython",
    "version": 3
   },
   "file_extension": ".py",
   "mimetype": "text/x-python",
   "name": "python",
   "nbconvert_exporter": "python",
   "pygments_lexer": "ipython3",
   "version": "3.9.18"
  }
 },
 "nbformat": 4,
 "nbformat_minor": 2
}
