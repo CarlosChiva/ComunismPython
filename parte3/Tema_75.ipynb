{
 "cells": [
  {
   "cell_type": "markdown",
   "metadata": {},
   "source": [
    "                Tema 75"
   ]
  },
  {
   "cell_type": "markdown",
   "metadata": {},
   "source": [
    "Problema:"
   ]
  },
  {
   "cell_type": "markdown",
   "metadata": {},
   "source": [
    "Confeccionar un programa que cree un objeto de la clase Canvas y luego dibuje una línea, un réctángulo y un óvalo, almacenar el Id de cada dibujo en un atributo.\n",
    "Crear también 3 cuadrados y definir el parámetro tag con el mismo valor para cada uno de ellos.\n",
    "Mediante cinco botones permitir: borrar la línea, borrar el rectángulo, borrar el óvalo, borrar todos los cuadrados y borrar todas las figuras contenidas en el objeto Canvas."
   ]
  },
  {
   "cell_type": "code",
   "execution_count": 1,
   "metadata": {},
   "outputs": [],
   "source": [
    "import tkinter as tk\n",
    "from tkinter import ttk"
   ]
  },
  {
   "cell_type": "code",
   "execution_count": 2,
   "metadata": {},
   "outputs": [],
   "source": [
    "class Aplicacion:\n",
    "    def __init__(self):\n",
    "        self.ventana1=tk.Tk()\n",
    "        self.crear_botones()\n",
    "        self.canvas1=tk.Canvas(self.ventana1, width=600, height=400,background=\"black\")\n",
    "        self.canvas1.grid(column=0, row=1)\n",
    "        self.linea=self.canvas1.create_line(0, 0, 100,50, fill=\"white\")\n",
    "        self.rectangulo=self.canvas1.create_rectangle(150,10, 300,110,fill=\"white\")\n",
    "        self.ovalo=self.canvas1.create_oval(400,10,500,150, fill=\"red\")\n",
    "        self.canvas1.create_rectangle(100,300,150,350,fill=\"#aaaaaa\",tag=\"cuadrado\")\n",
    "        self.canvas1.create_rectangle(200,300,250,350,fill=\"#555555\",tag=\"cuadrado\")\n",
    "        self.canvas1.create_rectangle(300,300,350,350,fill=\"#cccccc\",tag=\"cuadrado\")\n",
    "        self.ventana1.mainloop()\n",
    "    def crear_botones(self):\n",
    "        self.labelframe1=ttk.LabelFrame(self.ventana1,text=\"opciones\")\n",
    "        self.labelframe1.grid(column=0, row=0, sticky=\"w\", padx=5, pady=5)\n",
    "        self.boton1=ttk.Button(self.labelframe1, text=\"borrar linea\",command=self.borrar_linea)\n",
    "        self.boton1.grid(column=0, row=0, padx=5)\n",
    "        self.boton2=ttk.Button(self.labelframe1, text=\"borrar rectángulo\",command=self.borrar_rectangulo)\n",
    "        self.boton2.grid(column=1, row=0, padx=5)\n",
    "        self.boton3=ttk.Button(self.labelframe1, text=\"borrar óvalo\",command=self.borrar_ovalo)\n",
    "        self.boton3.grid(column=2, row=0, padx=5)\n",
    "        self.boton4=ttk.Button(self.labelframe1, text=\"borrar todos loscuadrados\", command=self.borrar_cuadrados)\n",
    "        self.boton4.grid(column=3, row=0, padx=5)\n",
    "        self.boton5=ttk.Button(self.labelframe1, text=\"borrar todos\",command=self.borrar_todos)\n",
    "        self.boton5.grid(column=4, row=0, padx=5)\n",
    "    def borrar_linea(self):\n",
    "        self.canvas1.delete(self.linea)\n",
    "    def borrar_rectangulo(self):\n",
    "        self.canvas1.delete(self.rectangulo)\n",
    "    def borrar_ovalo(self):\n",
    "        self.canvas1.delete(self.ovalo)\n",
    "    def borrar_cuadrados(self):\n",
    "        self.canvas1.delete(\"cuadrado\")\n",
    "    def borrar_todos(self):\n",
    "        self.canvas1.delete(tk.ALL)"
   ]
  },
  {
   "cell_type": "code",
   "execution_count": 3,
   "metadata": {},
   "outputs": [],
   "source": [
    "aplicacion1=Aplicacion()"
   ]
  }
 ],
 "metadata": {
  "kernelspec": {
   "display_name": "tf",
   "language": "python",
   "name": "python3"
  },
  "language_info": {
   "codemirror_mode": {
    "name": "ipython",
    "version": 3
   },
   "file_extension": ".py",
   "mimetype": "text/x-python",
   "name": "python",
   "nbconvert_exporter": "python",
   "pygments_lexer": "ipython3",
   "version": "3.9.18"
  }
 },
 "nbformat": 4,
 "nbformat_minor": 2
}
