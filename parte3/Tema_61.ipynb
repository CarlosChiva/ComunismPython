{
 "cells": [
  {
   "cell_type": "markdown",
   "metadata": {},
   "source": [
    "                Tema 61"
   ]
  },
  {
   "cell_type": "markdown",
   "metadata": {},
   "source": [
    "Problema:"
   ]
  },
  {
   "cell_type": "markdown",
   "metadata": {},
   "source": [
    "Mostrar una ventana y en su interior tres controles de tipo Checkbutton cuyas etiquetas correspondan a distintos lenguajes de programación. Cuando se presione un botón mostrar en una Label la cantidad de Checkbutton que se encuentran chequeados."
   ]
  },
  {
   "cell_type": "code",
   "execution_count": 1,
   "metadata": {},
   "outputs": [],
   "source": [
    "import tkinter as tk\n"
   ]
  },
  {
   "cell_type": "code",
   "execution_count": 2,
   "metadata": {},
   "outputs": [],
   "source": [
    "class Aplicacion:\n",
    "    def __init__(self):\n",
    "        self.ventana1=tk.Tk()\n",
    "        self.seleccion1=tk.IntVar()\n",
    "        self.check1=tk.Checkbutton(self.ventana1,text=\"Python\",variable=self.seleccion1)\n",
    "        self.check1.grid(column=0, row=0)\n",
    "        self.seleccion2=tk.IntVar()\n",
    "        self.check2=tk.Checkbutton(self.ventana1,text=\"C++\",variable=self.seleccion2)\n",
    "        self.check2.grid(column=0, row=1)\n",
    "        self.seleccion3=tk.IntVar()\n",
    "        self.check3=tk.Checkbutton(self.ventana1,text=\"Java\",variable=self.seleccion3)\n",
    "        self.check3.grid(column=0, row=2)\n",
    "        self.boton1=tk.Button(self.ventana1, text=\"Verificar\",command=self.verificar)\n",
    "        self.boton1.grid(column=0, row=4)\n",
    "        self.label1=tk.Label(self.ventana1,text=\"cantidad:\")\n",
    "        self.label1.grid(column=0, row=5)\n",
    "        self.ventana1.mainloop()\n",
    "    def verificar(self):\n",
    "        cant=0\n",
    "        if self.seleccion1.get()==1:\n",
    "            cant+=1\n",
    "        if self.seleccion2.get()==1:\n",
    "            cant+=1\n",
    "        if self.seleccion3.get()==1:\n",
    "            cant+=1\n",
    "        self.label1.configure(text=\"cantidad:\"+str(cant))"
   ]
  },
  {
   "cell_type": "code",
   "execution_count": 3,
   "metadata": {},
   "outputs": [],
   "source": [
    "aplicacion1=Aplicacion()"
   ]
  },
  {
   "cell_type": "markdown",
   "metadata": {},
   "source": [
    "Problema 2:"
   ]
  },
  {
   "cell_type": "markdown",
   "metadata": {},
   "source": [
    "Disponer un control Checkbutton que muestre el siguiente mensaje: ¿Está de acuerdo con los términos y condiciones?, además agregar un Button desactivo.\n",
    "Cuando se tilde el Checkbutton inmediatamente activar el botón."
   ]
  },
  {
   "cell_type": "code",
   "execution_count": 4,
   "metadata": {},
   "outputs": [],
   "source": [
    "class Aplicacion:\n",
    "    def __init__(self):\n",
    "        self.ventana1=tk.Tk()\n",
    "        self.seleccion=tk.IntVar()\n",
    "        self.check1=tk.Checkbutton(self.ventana1,text=\"¿Está de acuerdo conlos términos y condiciones?\", variable=self.seleccion,command=self.cambiarestado)\n",
    "        self.check1.grid(column=0, row=0)\n",
    "        self.boton1=tk.Button(self.ventana1, text=\"Entrar\", state=\"disabled\",command=self.ingresar)\n",
    "        self.boton1.grid(column=0, row=1)\n",
    "        self.ventana1.mainloop()\n",
    "    def cambiarestado(self):\n",
    "        if self.seleccion.get()==1:\n",
    "            self.boton1.configure(state=\"normal\")\n",
    "        if self.seleccion.get()==0:\n",
    "            self.boton1.configure(state=\"disabled\")\n",
    "    def ingresar(self):\n",
    "        self.ventana1.title(\"Ingresando...\")"
   ]
  },
  {
   "cell_type": "code",
   "execution_count": 5,
   "metadata": {},
   "outputs": [],
   "source": [
    "aplicacion1=Aplicacion()"
   ]
  },
  {
   "cell_type": "markdown",
   "metadata": {},
   "source": [
    "Problemas propuestos:"
   ]
  },
  {
   "cell_type": "markdown",
   "metadata": {},
   "source": [
    "Disponer varios objetos de la clase Checkbutton con nombres de navegadores web. En el título de la ventana mostrar todos los nombres de navegadores seleccionados."
   ]
  },
  {
   "cell_type": "code",
   "execution_count": 6,
   "metadata": {},
   "outputs": [],
   "source": [
    "class Aplicacion:\n",
    "    def __init__(self):\n",
    "        self.ventana1=tk.Tk()\n",
    "        self.seleccion1=tk.IntVar()\n",
    "        self.check1=tk.Checkbutton(self.ventana1,text=\"Chrome\", variable=self.seleccion1,command=self.cambiartitulo)\n",
    "        self.check1.grid(column=0, row=0)\n",
    "        self.seleccion2=tk.IntVar()\n",
    "        self.check2=tk.Checkbutton(self.ventana1,text=\"FireFox\", variable=self.seleccion2,command=self.cambiartitulo)\n",
    "        self.check2.grid(column=1, row=0)\n",
    "        self.seleccion3=tk.IntVar()\n",
    "        self.check3=tk.Checkbutton(self.ventana1,text=\"Edge\", variable=self.seleccion3,command=self.cambiartitulo)\n",
    "        self.check3.grid(column=2, row=0)\n",
    "        self.seleccion4=tk.IntVar()\n",
    "        self.check4=tk.Checkbutton(self.ventana1,text=\"Opera\", variable=self.seleccion4,command=self.cambiartitulo)\n",
    "        self.check4.grid(column=3, row=0)\n",
    "        self.ventana1.mainloop()\n",
    "    def cambiartitulo(self):\n",
    "        cadena=''\n",
    "        if self.seleccion1.get()==1:\n",
    "            cadena+=\"Chrome - \"\n",
    "        if self.seleccion2.get()==1:\n",
    "            cadena+=\"Firefox - \"\n",
    "        if self.seleccion3.get()==1:\n",
    "            cadena+=\"Edge - \"\n",
    "        if self.seleccion4.get()==1:\n",
    "            cadena+=\"Opera\"\n",
    "        self.ventana1.title(cadena)"
   ]
  },
  {
   "cell_type": "code",
   "execution_count": 7,
   "metadata": {},
   "outputs": [],
   "source": [
    "aplicacion1=Aplicacion()"
   ]
  }
 ],
 "metadata": {
  "kernelspec": {
   "display_name": "tf",
   "language": "python",
   "name": "python3"
  },
  "language_info": {
   "codemirror_mode": {
    "name": "ipython",
    "version": 3
   },
   "file_extension": ".py",
   "mimetype": "text/x-python",
   "name": "python",
   "nbconvert_exporter": "python",
   "pygments_lexer": "ipython3",
   "version": "3.9.18"
  }
 },
 "nbformat": 4,
 "nbformat_minor": 2
}
