{
 "cells": [
  {
   "cell_type": "markdown",
   "metadata": {},
   "source": [
    "                Tema 73"
   ]
  },
  {
   "cell_type": "markdown",
   "metadata": {},
   "source": [
    "Problema:"
   ]
  },
  {
   "cell_type": "markdown",
   "metadata": {},
   "source": [
    "Confeccionar un programa que cree un objeto de la clase Canvas y muestre la funcionalidad de las principales primitivas gráficas."
   ]
  },
  {
   "cell_type": "code",
   "execution_count": 10,
   "metadata": {},
   "outputs": [],
   "source": [
    "import tkinter as tk"
   ]
  },
  {
   "cell_type": "code",
   "execution_count": 11,
   "metadata": {},
   "outputs": [],
   "source": [
    "class Aplicacion:\n",
    "    def __init__(self):\n",
    "        self.ventana1=tk.Tk()\n",
    "        self.canvas1=tk.Canvas(self.ventana1, width=600, height=400,background=\"black\")\n",
    "        self.canvas1.grid(column=0, row=0)\n",
    "        self.canvas1.create_line(0, 0, 100,50, fill=\"white\")\n",
    "        self.canvas1.create_rectangle(150,10, 250,110, fill=\"white\")\n",
    "        self.canvas1.create_oval(300,10,400,150, fill=\"red\")\n",
    "        self.canvas1.create_arc(420,10,550,110, fill=\"yellow\", start=180,extent=90)\n",
    "        self.canvas1.create_rectangle(150,210, 250,310, outline=\"white\")\n",
    "        self.canvas1.create_oval(300,210,400,350, outline=\"red\")\n",
    "        self.canvas1.create_arc(420,210,550,310, outline=\"yellow\", start=180,extent=90)\n",
    "        self.ventana1.mainloop()"
   ]
  },
  {
   "cell_type": "code",
   "execution_count": 12,
   "metadata": {},
   "outputs": [],
   "source": [
    "aplicacion1=Aplicacion()"
   ]
  },
  {
   "cell_type": "markdown",
   "metadata": {},
   "source": [
    "Problema"
   ]
  },
  {
   "cell_type": "markdown",
   "metadata": {},
   "source": [
    "Crear una aplicación que solicite el ingreso de tres valores por teclado que representan las cantidades de votos obtenidas por tres partidos políticos. Luego mostrar un gráfico de barras horizontales."
   ]
  },
  {
   "cell_type": "code",
   "execution_count": 13,
   "metadata": {},
   "outputs": [],
   "source": [
    "from tkinter import ttk\n",
    "class Aplicacion:\n",
    "    def __init__(self):\n",
    "        self.ventana1=tk.Tk()\n",
    "        self.entradadatos()\n",
    "        self.canvas1=tk.Canvas(self.ventana1, width=600, height=400,\n",
    "        background=\"black\")\n",
    "        self.canvas1.grid(column=0, row=1)\n",
    "        self.ventana1.mainloop()\n",
    "    def entradadatos(self):\n",
    "        self.lf1=ttk.LabelFrame(self.ventana1,text=\"Partidos políticos\")\n",
    "        self.lf1.grid(column=0, row=0, sticky=\"w\")\n",
    "        self.label1=ttk.Label(self.lf1, text=\"Partido A:\")\n",
    "        self.label1.grid(column=0,row=0, padx=5, pady=5)\n",
    "        self.dato1=tk.StringVar()\n",
    "        self.entry1=ttk.Entry(self.lf1, textvariable=self.dato1)\n",
    "        self.entry1.grid(column=1, row=0, padx=5, pady=5)\n",
    "        self.label2=ttk.Label(self.lf1, text=\"Partido B:\")\n",
    "        self.label2.grid(column=0,row=1, padx=5, pady=5)\n",
    "        self.dato2=tk.StringVar()\n",
    "        self.entry2=ttk.Entry(self.lf1, textvariable=self.dato2)\n",
    "        self.entry2.grid(column=1, row=1, padx=5, pady=5)\n",
    "        self.label3=ttk.Label(self.lf1, text=\"Partido C:\")\n",
    "        self.label3.grid(column=0,row=2, padx=5, pady=5)\n",
    "        self.dato3=tk.StringVar()\n",
    "        self.entry3=ttk.Entry(self.lf1, textvariable=self.dato3)\n",
    "        self.entry3.grid(column=1, row=2, padx=5, pady=5)\n",
    "        self.boton1=ttk.Button(self.lf1, text=\"Generar gráfico\",command=self.grafico_barra)\n",
    "        self.boton1.grid(column=0, row=3, columnspan=2, padx=5, pady=5,sticky=\"we\")\n",
    "        self.entry1.focus()\n",
    "    def grafico_barra(self):\n",
    "        self.canvas1.delete(tk.ALL)\n",
    "        valor1=int(self.dato1.get())\n",
    "        valor2=int(self.dato2.get())\n",
    "        valor3=int(self.dato3.get())\n",
    "        if valor1>valor2 and valor1>valor3:\n",
    "            mayor=valor1\n",
    "        else:\n",
    "            if valor2>valor3:\n",
    "                mayor=valor2\n",
    "            else:\n",
    "                mayor=valor3\n",
    "                largo1=valor1/mayor*400\n",
    "                largo2=valor2/mayor*400\n",
    "                largo3=valor3/mayor*400\n",
    "                self.canvas1.create_rectangle(10,10,10+largo1,90,fill=\"red\")\n",
    "                self.canvas1.create_rectangle(10,120,10+largo2,200,fill=\"blue\")\n",
    "                self.canvas1.create_rectangle(10,230,10+largo3,310,fill=\"green\")\n",
    "                self.canvas1.create_text(largo1+70, 50, text=\"partido A\", fill=\"white\",font=\"Arial\")\n",
    "                self.canvas1.create_text(largo2+70, 160, text=\"partido B\", fill=\"white\",font=\"Arial\")\n",
    "                self.canvas1.create_text(largo3+70, 270, text=\"partido C\", fill=\"white\",font=\"Arial\")"
   ]
  },
  {
   "cell_type": "code",
   "execution_count": 14,
   "metadata": {},
   "outputs": [],
   "source": [
    "aplicacion1=Aplicacion()"
   ]
  },
  {
   "cell_type": "markdown",
   "metadata": {},
   "source": [
    "Problemas"
   ]
  },
  {
   "cell_type": "markdown",
   "metadata": {},
   "source": [
    "Crear una aplicación que solicite el ingreso de tres valores por teclado que representan las cantidades de votos obtenidas por tres partidos políticos. Luego mostrar un gráfico de tartas:."
   ]
  },
  {
   "cell_type": "code",
   "execution_count": 15,
   "metadata": {},
   "outputs": [],
   "source": [
    "class Aplicacion:\n",
    "    def __init__(self):\n",
    "        self.ventana1=tk.Tk()\n",
    "        self.entradadatos()\n",
    "        self.canvas1=tk.Canvas(self.ventana1, width=600, height=400,background=\"black\")\n",
    "        self.canvas1.grid(column=0, row=1)\n",
    "        self.ventana1.mainloop()\n",
    "    def entradadatos(self):\n",
    "        self.lf1=ttk.LabelFrame(self.ventana1,text=\"Partidos políticos\")\n",
    "        self.lf1.grid(column=0, row=0, sticky=\"w\")\n",
    "        self.label1=ttk.Label(self.lf1, text=\"Partido A:\")\n",
    "        self.label1.grid(column=0,row=0, padx=5, pady=5)\n",
    "        self.dato1=tk.StringVar()\n",
    "        self.entry1=ttk.Entry(self.lf1, textvariable=self.dato1)\n",
    "        self.entry1.grid(column=1, row=0, padx=5, pady=5)\n",
    "        self.label2=ttk.Label(self.lf1, text=\"Partido B:\")\n",
    "        self.label2.grid(column=0,row=1, padx=5, pady=5)\n",
    "        self.dato2=tk.StringVar()\n",
    "        self.entry2=ttk.Entry(self.lf1, textvariable=self.dato2)\n",
    "        self.entry2.grid(column=1, row=1, padx=5, pady=5)\n",
    "        self.label3=ttk.Label(self.lf1, text=\"Partido C:\")\n",
    "        self.label3.grid(column=0,row=2, padx=5, pady=5)\n",
    "        self.dato3=tk.StringVar()\n",
    "        self.entry3=ttk.Entry(self.lf1, textvariable=self.dato3)\n",
    "        self.entry3.grid(column=1, row=2, padx=5, pady=5)\n",
    "        self.boton1=ttk.Button(self.lf1, text=\"Generar gráfico\",command=self.grafico_tarta)\n",
    "        self.boton1.grid(column=0, row=3, columnspan=2, padx=5, pady=5,sticky=\"we\")\n",
    "        self.entry1.focus()\n",
    "    def grafico_tarta(self):\n",
    "        self.canvas1.delete(tk.ALL)\n",
    "        valor1=int(self.dato1.get())\n",
    "        valor2=int(self.dato2.get())\n",
    "        valor3=int(self.dato3.get())\n",
    "        suma=valor1+valor2+valor3\n",
    "        grados1=valor1/suma*360\n",
    "        grados2=valor2/suma*360\n",
    "        grados3=valor3/suma*360\n",
    "        self.canvas1.create_arc(10,10,400,400,fill=\"red\", start=0,extent=grados1)\n",
    "        self.canvas1.create_arc(10,10,400,400,fill=\"blue\", start=grados1,extent=grados2)\n",
    "        self.canvas1.create_arc(10,10,400,400,fill=\"yellow\",start=grados1+grados2, extent=grados3)\n",
    "        self.canvas1.create_text(500, 50, text=\"partido A:\"+str(valor1), fill=\"red\",font=\"Arial\")\n",
    "        self.canvas1.create_text(500, 100, text=\"partido B:\"+str(valor2),fill=\"blue\", font=\"Arial\")\n",
    "        self.canvas1.create_text(500, 150, text=\"partido C:\"+str(valor3),fill=\"yellow\", font=\"Arial\")"
   ]
  },
  {
   "cell_type": "code",
   "execution_count": 16,
   "metadata": {},
   "outputs": [],
   "source": [
    "aplicacion1=Aplicacion()"
   ]
  },
  {
   "cell_type": "markdown",
   "metadata": {},
   "source": [
    "Problema propuesto"
   ]
  },
  {
   "cell_type": "markdown",
   "metadata": {},
   "source": [
    "Implementar un gráfico estadístico de tipo \"Barra Porcentual\":"
   ]
  },
  {
   "cell_type": "code",
   "execution_count": 17,
   "metadata": {},
   "outputs": [],
   "source": [
    "class Aplicacion:\n",
    "    def __init__(self):\n",
    "        self.ventana1=tk.Tk()\n",
    "        self.entradadatos()\n",
    "        self.canvas1=tk.Canvas(self.ventana1, width=600, height=400, background=\"black\")\n",
    "        self.canvas1.grid(column=0, row=1)\n",
    "        self.ventana1.mainloop()\n",
    "    def entradadatos(self):\n",
    "        self.lf1=ttk.LabelFrame(self.ventana1,text=\"Partidos políticos\")\n",
    "        self.lf1.grid(column=0, row=0, sticky=\"w\")\n",
    "        self.label1=ttk.Label(self.lf1, text=\"Partido A:\")\n",
    "        self.label1.grid(column=0,row=0, padx=5, pady=5)\n",
    "        self.dato1=tk.StringVar()\n",
    "        self.entry1=ttk.Entry(self.lf1, textvariable=self.dato1)\n",
    "        self.entry1.grid(column=1, row=0, padx=5, pady=5)\n",
    "        self.label2=ttk.Label(self.lf1, text=\"Partido B:\")\n",
    "        self.label2.grid(column=0,row=1, padx=5, pady=5)\n",
    "        self.dato2=tk.StringVar()\n",
    "        self.entry2=ttk.Entry(self.lf1, textvariable=self.dato2)\n",
    "        self.entry2.grid(column=1, row=1, padx=5, pady=5)\n",
    "        self.label3=ttk.Label(self.lf1, text=\"Partido C:\")\n",
    "        self.label3.grid(column=0,row=2, padx=5, pady=5)\n",
    "        self.dato3=tk.StringVar()\n",
    "        self.entry3=ttk.Entry(self.lf1, textvariable=self.dato3)\n",
    "        self.entry3.grid(column=1, row=2, padx=5, pady=5)\n",
    "        self.boton1=ttk.Button(self.lf1, text=\"Generar gráfico\", command=self.grafico_barraporcentual)\n",
    "        self.boton1.grid(column=0, row=3, columnspan=2, padx=5, pady=5, sticky=\"we\")\n",
    "        self.entry1.focus()\n",
    "    def grafico_barraporcentual(self):\n",
    "        self.canvas1.delete(tk.ALL)\n",
    "        valor1=int(self.dato1.get())\n",
    "        valor2=int(self.dato2.get())\n",
    "        valor3=int(self.dato3.get())\n",
    "        suma=valor1+valor2+valor3\n",
    "        largo1=valor1*500/suma\n",
    "        largo2=valor2*500/suma\n",
    "        largo3=valor3*500/suma\n",
    "        porc1=valor1/suma*100\n",
    "        porc2=valor2/suma*100\n",
    "        porc3=valor3/suma*100\n",
    "        self.canvas1.create_rectangle(10,200,10+largo1,260,fill=\"red\")\n",
    "        self.canvas1.create_text(50, 220, text=\"{0:.2f}\".format(porc1)+\"%\", fill=\"white\", font=\"Arial\")\n",
    "        self.canvas1.create_rectangle(10+largo1,200,10+largo1+largo2,260,fill=\"green\")\n",
    "        self.canvas1.create_text(50+largo1, 220, text=\"{0:.2f}\".format(porc2)+\"%\", fill=\"white\",font=\"Arial\")\n",
    "        self.canvas1.create_rectangle(10+largo1+largo2,200,10+largo1+largo2+largo3,260,fill=\"blue\")\n",
    "        self.canvas1.create_text(50+largo1+largo2, 220, text=\"{0:.2f}\".format(porc3)+\"%\", fill=\"white\",font=\"Arial\")"
   ]
  },
  {
   "cell_type": "code",
   "execution_count": 18,
   "metadata": {},
   "outputs": [],
   "source": [
    "aplicacion1=Aplicacion()"
   ]
  }
 ],
 "metadata": {
  "kernelspec": {
   "display_name": "tf",
   "language": "python",
   "name": "python3"
  },
  "language_info": {
   "codemirror_mode": {
    "name": "ipython",
    "version": 3
   },
   "file_extension": ".py",
   "mimetype": "text/x-python",
   "name": "python",
   "nbconvert_exporter": "python",
   "pygments_lexer": "ipython3",
   "version": "3.9.18"
  }
 },
 "nbformat": 4,
 "nbformat_minor": 2
}
