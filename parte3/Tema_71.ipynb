{
 "cells": [
  {
   "cell_type": "markdown",
   "metadata": {},
   "source": [
    "                Tema 71"
   ]
  },
  {
   "cell_type": "markdown",
   "metadata": {},
   "source": [
    "Problema:"
   ]
  },
  {
   "cell_type": "markdown",
   "metadata": {},
   "source": [
    "En una aduana hay una máquina que sortea las personas cuyo equipaje seránrevisados.\n",
    "La persona selecciona la cantidad de bultos (hacer dicha selección mediante un Spinbox)"
   ]
  },
  {
   "cell_type": "code",
   "execution_count": 1,
   "metadata": {},
   "outputs": [],
   "source": [
    "import tkinter as tk\n",
    "from tkinter import ttk\n",
    "from tkinter import messagebox as mb\n",
    "import random"
   ]
  },
  {
   "cell_type": "code",
   "execution_count": 2,
   "metadata": {},
   "outputs": [],
   "source": [
    "class Aplicacion:\n",
    "    def __init__(self):\n",
    "        self.ventana1=tk.Tk()\n",
    "        self.label1=ttk.Label(self.ventana1, text=\"Seleccione la cantidad de bultos:\")\n",
    "        self.label1.grid(column=0, row=0, padx=10, pady=10)\n",
    "        self.spinbox1=ttk.Spinbox(self.ventana1, from_=0, to=100, width=10,\n",
    "        state='readonly')\n",
    "        self.spinbox1.set(0)\n",
    "        self.spinbox1.grid(column=1, row=0, padx=10, pady=10)\n",
    "        self.boton1=ttk.Button(self.ventana1, text=\"Sortear\",\n",
    "        command=self.sortear)\n",
    "        self.boton1.grid(column=0, row=1, padx=10, pady=10)\n",
    "        self.label2=ttk.Label(self.ventana1, text=\"\", width=20)\n",
    "        self.label2.grid(column=1, row=1, padx=10, pady=10)\n",
    "        self.ventana1.mainloop()\n",
    "    def sortear(self):\n",
    "        if int(self.spinbox1.get())==0:\n",
    "            mb.showerror(\"Cuidado\",\"Debe seleccionar un valor distinto a cero en bultos\")\n",
    "        else:\n",
    "            valor=random.randint(1,3)\n",
    "            if valor==1:\n",
    "                self.label2.configure(text=\"Se deben revisar\")\n",
    "                self.label2.configure(background=\"red\")\n",
    "            else:\n",
    "                self.label2.configure(text=\"No se revisan\")\n",
    "                self.label2.configure(background=\"green\")"
   ]
  },
  {
   "cell_type": "code",
   "execution_count": 3,
   "metadata": {},
   "outputs": [],
   "source": [
    "aplicacion1=Aplicacion()"
   ]
  }
 ],
 "metadata": {
  "kernelspec": {
   "display_name": "tf",
   "language": "python",
   "name": "python3"
  },
  "language_info": {
   "codemirror_mode": {
    "name": "ipython",
    "version": 3
   },
   "file_extension": ".py",
   "mimetype": "text/x-python",
   "name": "python",
   "nbconvert_exporter": "python",
   "pygments_lexer": "ipython3",
   "version": "3.9.18"
  }
 },
 "nbformat": 4,
 "nbformat_minor": 2
}
