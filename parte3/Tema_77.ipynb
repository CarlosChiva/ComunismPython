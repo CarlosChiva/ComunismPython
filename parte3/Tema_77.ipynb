{
 "cells": [
  {
   "cell_type": "markdown",
   "metadata": {},
   "source": [
    "                Tema 77"
   ]
  },
  {
   "cell_type": "markdown",
   "metadata": {},
   "source": [
    "Problema:"
   ]
  },
  {
   "cell_type": "markdown",
   "metadata": {},
   "source": [
    "Se cuenta con tres archivos de tipo png con las imágenes de distintas cartas.\n",
    "Mostrarlas a cada una dentro de una componente de tipo Canvas."
   ]
  },
  {
   "cell_type": "code",
   "execution_count": 1,
   "metadata": {},
   "outputs": [],
   "source": [
    "import tkinter as tk"
   ]
  },
  {
   "cell_type": "code",
   "execution_count": 2,
   "metadata": {},
   "outputs": [],
   "source": [
    "class Aplicacion:\n",
    "    def __init__(self):\n",
    "        self.ventana1=tk.Tk()\n",
    "        self.canvas1=tk.Canvas(self.ventana1, width=700, height=500,background=\"black\")\n",
    "        self.canvas1.grid(column=0, row=0)\n",
    "        archi1=tk.PhotoImage(file=\"carta1.png\")\n",
    "        self.canvas1.create_image(30, 100, image=archi1, anchor=\"nw\")\n",
    "        archi2=tk.PhotoImage(file=\"carta2.png\")\n",
    "        self.canvas1.create_image(240, 100, image=archi2, anchor=\"nw\")\n",
    "        archi3=tk.PhotoImage(file=\"carta3.png\")\n",
    "        self.canvas1.create_image(450, 100, image=archi3, anchor=\"nw\")\n",
    "        self.ventana1.mainloop()"
   ]
  },
  {
   "cell_type": "code",
   "execution_count": 3,
   "metadata": {},
   "outputs": [],
   "source": [
    "aplicacion1=Aplicacion()"
   ]
  },
  {
   "cell_type": "markdown",
   "metadata": {},
   "source": [
    "Problema propuesto"
   ]
  },
  {
   "cell_type": "markdown",
   "metadata": {},
   "source": [
    "Disponer un botón y mostrar al azar una de las tres cartas del problema anterior. Cada vez que se presione el botón generar un valor aleatorio y a partir de dicho valor mostrar una carta."
   ]
  },
  {
   "cell_type": "code",
   "execution_count": 4,
   "metadata": {},
   "outputs": [],
   "source": [
    "from tkinter import ttk\n",
    "import random\n",
    "class Aplicacion:\n",
    "    def __init__(self):\n",
    "        self.ventana1=tk.Tk()\n",
    "        self.boton1=ttk.Button(self.ventana1, text=\"Sortear\", command=self.sortear)\n",
    "        self.boton1.grid(column=0, row=0)\n",
    "        self.canvas1=tk.Canvas(self.ventana1, width=300, height=500, background=\"black\")\n",
    "        self.canvas1.grid(column=0, row=1)\n",
    "        self.archi1=tk.PhotoImage(file=\"carta1.png\")\n",
    "        self.archi2=tk.PhotoImage(file=\"carta2.png\")\n",
    "        self.archi3=tk.PhotoImage(file=\"carta3.png\")\n",
    "        self.canvas1.create_image(50, 100, image=self.archi1, anchor=\"nw\")\n",
    "        self.ventana1.mainloop()\n",
    "    def sortear(self):\n",
    "        valor=random.randint(1,3)\n",
    "        if valor==1:\n",
    "            self.canvas1.create_image(50, 100, image=self.archi1, anchor=\"nw\")\n",
    "        if valor==2:\n",
    "            self.canvas1.create_image(50, 100, image=self.archi2, anchor=\"nw\")\n",
    "        if valor==3:\n",
    "            self.canvas1.create_image(50, 100, image=self.archi3, anchor=\"nw\")"
   ]
  },
  {
   "cell_type": "code",
   "execution_count": 5,
   "metadata": {},
   "outputs": [],
   "source": [
    "aplicacion=Aplicacion()"
   ]
  }
 ],
 "metadata": {
  "kernelspec": {
   "display_name": "tf",
   "language": "python",
   "name": "python3"
  },
  "language_info": {
   "codemirror_mode": {
    "name": "ipython",
    "version": 3
   },
   "file_extension": ".py",
   "mimetype": "text/x-python",
   "name": "python",
   "nbconvert_exporter": "python",
   "pygments_lexer": "ipython3",
   "version": "3.9.18"
  }
 },
 "nbformat": 4,
 "nbformat_minor": 2
}
