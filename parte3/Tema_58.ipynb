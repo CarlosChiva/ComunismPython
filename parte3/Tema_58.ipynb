{
 "cells": [
  {
   "cell_type": "markdown",
   "metadata": {},
   "source": [
    "                        Tema 58"
   ]
  },
  {
   "cell_type": "markdown",
   "metadata": {},
   "source": [
    "Problema 1:"
   ]
  },
  {
   "cell_type": "markdown",
   "metadata": {},
   "source": [
    "Mostrar una ventana y en su interior dos botones y una label. La label muestra inicialmente el valor 1. Cada uno de los botones permiten incrementar o decrementar en uno el contenido de la label"
   ]
  },
  {
   "cell_type": "code",
   "execution_count": 1,
   "metadata": {},
   "outputs": [],
   "source": [
    "import tkinter as tk\n",
    "class Aplicacion1:\n",
    "    def __init__(self):\n",
    "        self.valor=1\n",
    "        self.ventana1=tk.Tk()\n",
    "        self.ventana1.title(\"Controles Button y Label\")\n",
    "        self.label1=tk.Label(self.ventana1, text=self.valor)\n",
    "        self.label1.grid(column=0, row=0)\n",
    "        self.label1.configure(foreground=\"red\")\n",
    "        self.boton1=tk.Button(self.ventana1, text=\"Incrementar\",\n",
    "        command=self.incrementar)\n",
    "        self.boton1.grid(column=0, row=1)\n",
    "        self.boton2=tk.Button(self.ventana1, text=\"Decrementar\",\n",
    "        command=self.decrementar)\n",
    "        self.boton2.grid(column=0, row=2)\n",
    "        self.ventana1.mainloop()\n",
    "    def incrementar(self):\n",
    "        self.valor=self.valor+1\n",
    "        self.label1.config(text=self.valor)\n",
    "    def decrementar(self):\n",
    "        self.valor=self.valor-1\n",
    "        self.label1.config(text=self.valor)\n"
   ]
  },
  {
   "cell_type": "code",
   "execution_count": 2,
   "metadata": {},
   "outputs": [],
   "source": [
    "aplicacion1=Aplicacion1()"
   ]
  },
  {
   "cell_type": "markdown",
   "metadata": {},
   "source": [
    "Problema 2:"
   ]
  },
  {
   "cell_type": "markdown",
   "metadata": {},
   "source": [
    "Mostrar dos Label, en una se muestra el nombre del programa y en la segunda el año de creación. Disponer un botón para finalizar el programa.\n",
    "No permitir al usuario redimensionar la ventana."
   ]
  },
  {
   "cell_type": "code",
   "execution_count": 1,
   "metadata": {},
   "outputs": [],
   "source": [
    "import sys\n",
    "import tkinter as tk\n",
    "\n",
    "class Aplicacion2:\n",
    "    def __init__(self):\n",
    "        self.ventana1=tk.Tk()\n",
    "        self.ventana1.title(\"Prueba\")\n",
    "        self.label1=tk.Label(self.ventana1, text=\"Sistema de facturación\")\n",
    "        self.label1.grid(column=0, row=0)\n",
    "        self.label2=tk.Label(self.ventana1, text=\"2018\")\n",
    "        self.label2.grid(column=0, row=1)\n",
    "        self.boton1=tk.Button(self.ventana1, text=\"Finalizar\",command=self.finalizar)\n",
    "        self.boton1.grid(column=0, row=2)\n",
    "        self.ventana1.resizable(False, False)\n",
    "        self.ventana1.mainloop()\n",
    "    def finalizar(self):\n",
    "        sys.exit(0)"
   ]
  },
  {
   "cell_type": "code",
   "execution_count": 2,
   "metadata": {},
   "outputs": [
    {
     "ename": "SystemExit",
     "evalue": "0",
     "output_type": "error",
     "traceback": [
      "An exception has occurred, use %tb to see the full traceback.\n",
      "\u001b[0;31mSystemExit\u001b[0m\u001b[0;31m:\u001b[0m 0\n"
     ]
    },
    {
     "name": "stderr",
     "output_type": "stream",
     "text": [
      "/home/dread/miniconda3/envs/tf/lib/python3.9/site-packages/IPython/core/interactiveshell.py:3534: UserWarning: To exit: use 'exit', 'quit', or Ctrl-D.\n",
      "  warn(\"To exit: use 'exit', 'quit', or Ctrl-D.\", stacklevel=1)\n"
     ]
    }
   ],
   "source": [
    "aplicacion2=Aplicacion2()"
   ]
  },
  {
   "cell_type": "markdown",
   "metadata": {},
   "source": [
    "Problema propuesto"
   ]
  },
  {
   "cell_type": "markdown",
   "metadata": {},
   "source": [
    "Disponer dos objetos de la clase Button con las etiquetas: \"varón\" y\n",
    "\"mujer\", al presionarse mostrar en la barra de títulos de la ventana la\n",
    "etiqueta del botón presionado"
   ]
  },
  {
   "cell_type": "code",
   "execution_count": 4,
   "metadata": {},
   "outputs": [],
   "source": [
    "import tkinter as tk\n",
    "class Aplicacion3:\n",
    "    def __init__(self):\n",
    "        self.ventana1=tk.Tk()\n",
    "        self.ventana1.title(\"Prueba\")\n",
    "        self.boton1=tk.Button(self.ventana1, text=\"Varón\", command=self.presionvaron)\n",
    "        self.boton1.grid(column=0, row=0)\n",
    "        self.boton2=tk.Button(self.ventana1, text=\"Mujer\", command=self.presionmujer)\n",
    "        self.boton2.grid(column=1, row=0)\n",
    "        self.ventana1.mainloop()\n",
    "    def presionvaron(self):\n",
    "        self.ventana1.title('Varón')\n",
    "    def presionmujer(self):\n",
    "        self.ventana1.title('Mujer')"
   ]
  },
  {
   "cell_type": "code",
   "execution_count": 5,
   "metadata": {},
   "outputs": [
    {
     "ename": "SystemExit",
     "evalue": "0",
     "output_type": "error",
     "traceback": [
      "An exception has occurred, use %tb to see the full traceback.\n",
      "\u001b[0;31mSystemExit\u001b[0m\u001b[0;31m:\u001b[0m 0\n"
     ]
    },
    {
     "name": "stderr",
     "output_type": "stream",
     "text": [
      "/home/dread/miniconda3/envs/tf/lib/python3.9/site-packages/IPython/core/interactiveshell.py:3534: UserWarning: To exit: use 'exit', 'quit', or Ctrl-D.\n",
      "  warn(\"To exit: use 'exit', 'quit', or Ctrl-D.\", stacklevel=1)\n"
     ]
    }
   ],
   "source": [
    "aplicacion1=Aplicacion3()"
   ]
  },
  {
   "cell_type": "markdown",
   "metadata": {},
   "source": [
    "Mostrar los botones del 1 al 5. Cuando se presiona mostrar en una Label todos los botones presionados hasta ese momento"
   ]
  },
  {
   "cell_type": "code",
   "execution_count": 6,
   "metadata": {},
   "outputs": [],
   "source": [
    "import tkinter as tk\n",
    "\n",
    "class Aplicacion4:\n",
    "    def __init__(self):\n",
    "        self.datos=\"\"\n",
    "        self.ventana1=tk.Tk()\n",
    "        self.ventana1.title(\"Prueba\")\n",
    "        self.boton1=tk.Button(self.ventana1, text=\"1\", command=self.presion1)\n",
    "        self.boton1.grid(column=0, row=0)\n",
    "        self.boton2=tk.Button(self.ventana1, text=\"2\", command=self.presion2)\n",
    "        self.boton2.grid(column=1, row=0)\n",
    "        self.boton3=tk.Button(self.ventana1, text=\"3\", command=self.presion3)\n",
    "        self.boton3.grid(column=2, row=0)\n",
    "        self.boton4=tk.Button(self.ventana1, text=\"4\", command=self.presion4)\n",
    "        self.boton4.grid(column=3, row=0)\n",
    "        self.boton5=tk.Button(self.ventana1, text=\"5\", command=self.presion5)\n",
    "        self.boton5.grid(column=4, row=0)\n",
    "        self.label1=tk.Label(self.ventana1, text=self.datos)\n",
    "        self.label1.grid(column=5, row=0)\n",
    "        self.ventana1.mainloop()\n",
    "    def presion1(self):\n",
    "        self.datos=self.datos+\"1\"\n",
    "        self.label1.configure(text=self.datos)\n",
    "    def presion2(self):\n",
    "        self.datos=self.datos+\"2\"\n",
    "        self.label1.configure(text=self.datos)\n",
    "    def presion3(self):\n",
    "        self.datos=self.datos+\"3\"\n",
    "        self.label1.configure(text=self.datos)\n",
    "    def presion4(self):\n",
    "        self.datos=self.datos+\"4\"\n",
    "        self.label1.configure(text=self.datos)\n",
    "    def presion5(self):\n",
    "        self.datos=self.datos+\"5\"\n",
    "        self.label1.configure(text=self.datos)"
   ]
  },
  {
   "cell_type": "code",
   "execution_count": 7,
   "metadata": {},
   "outputs": [
    {
     "name": "stderr",
     "output_type": "stream",
     "text": [
      "\n",
      "    while executing\n",
      "\"140257397120576finalizar\"\n",
      "    invoked from within\n",
      "\".!button invoke\"\n",
      "    (\"uplevel\" body line 1)\n",
      "    invoked from within\n",
      "\"uplevel #0 [list $w invoke]\"\n",
      "    (procedure \"tk::ButtonUp\" line 22)\n",
      "    invoked from within\n",
      "\"tk::ButtonUp .!button\"\n",
      "    (command bound to event)\n",
      "\n",
      "    while executing\n",
      "\"140257397120576finalizar\"\n",
      "    invoked from within\n",
      "\".!button invoke\"\n",
      "    (\"uplevel\" body line 1)\n",
      "    invoked from within\n",
      "\"uplevel #0 [list $w invoke]\"\n",
      "    (procedure \"tk::ButtonUp\" line 22)\n",
      "    invoked from within\n",
      "\"tk::ButtonUp .!button\"\n",
      "    (command bound to event)\n"
     ]
    }
   ],
   "source": [
    "aplicacion1=Aplicacion4()"
   ]
  }
 ],
 "metadata": {
  "kernelspec": {
   "display_name": "tf",
   "language": "python",
   "name": "python3"
  },
  "language_info": {
   "codemirror_mode": {
    "name": "ipython",
    "version": 3
   },
   "file_extension": ".py",
   "mimetype": "text/x-python",
   "name": "python",
   "nbconvert_exporter": "python",
   "pygments_lexer": "ipython3",
   "version": "3.9.18"
  }
 },
 "nbformat": 4,
 "nbformat_minor": 2
}
