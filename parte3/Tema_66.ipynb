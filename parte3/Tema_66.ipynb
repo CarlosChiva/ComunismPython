{
 "cells": [
  {
   "cell_type": "markdown",
   "metadata": {},
   "source": [
    "                Tema 66"
   ]
  },
  {
   "cell_type": "markdown",
   "metadata": {},
   "source": [
    "Problema:"
   ]
  },
  {
   "cell_type": "markdown",
   "metadata": {},
   "source": [
    "Confeccionar una aplicación que muestre un cuaderno con tres pestañas. Los títulos de cada pestaña deben ser 'Button', 'Label' y 'Entry'. Según la pestaña seleccionada mostrar un mensaje informando el objetivo de la clase y un ejemplo de la misma."
   ]
  },
  {
   "cell_type": "code",
   "execution_count": 1,
   "metadata": {},
   "outputs": [],
   "source": [
    "import tkinter as tk\n",
    "from tkinter import ttk"
   ]
  },
  {
   "cell_type": "code",
   "execution_count": 2,
   "metadata": {},
   "outputs": [],
   "source": [
    "class Aplicacion:\n",
    "    def __init__(self):\n",
    "        self.ventana1=tk.Tk()\n",
    "        self.ventana1.title(\"Prueba del control Notebook\")\n",
    "        self.cuaderno1 = ttk.Notebook(self.ventana1)\n",
    "        self.pagina1 = ttk.Frame(self.cuaderno1)\n",
    "        self.cuaderno1.add(self.pagina1, text=\"Button\")\n",
    "        self.label1=ttk.Label(self.pagina1, text=\"La clase Button nos permite capturar el clic y lanzar un método.\")\n",
    "        self.label1.grid(column=0, row=0)\n",
    "        self.boton1=ttk.Button(self.pagina1, text=\"Ejemplo de botón\")\n",
    "        self.boton1.grid(column=0, row=1)\n",
    "        self.boton2=ttk.Button(self.pagina1, text=\"Ejemplo de botón inactivo\", state=\"disabled\")\n",
    "        self.boton2.grid(column=0, row=2)\n",
    "        self.pagina2 = ttk.Frame(self.cuaderno1)\n",
    "        self.cuaderno1.add(self.pagina2, text=\"Label\")\n",
    "        self.label2=ttk.Label(self.pagina2, text=\"La clase Label permite mostrar un mensaje en la ventana\")\n",
    "        self.label2.grid(column=0, row=0)\n",
    "        self.label3=ttk.Label(self.pagina2, text=\"con los caracteres \\\\n podemos hacer un salto de línea dentro de la Label\")\n",
    "        self.label3.grid(column=0, row=1)\n",
    "        self.pagina3 = ttk.Frame(self.cuaderno1)\n",
    "        self.cuaderno1.add(self.pagina3, text=\"Entry\")\n",
    "        self.label4=ttk.Label(self.pagina3, text=\"\"\"En tkinter el control de entrada de datos por teclado se llama Entry.\\n\n",
    "        Con este control aparece el típico recuadro que cuando se le da foco aparece el cursor en forma intermitente\\n\n",
    "        esperando que el operador escriba algo por teclado.\"\"\")\n",
    "        self.label4.grid(column=0, row=0)\n",
    "        self.entry1=tk.Entry(self.pagina3, width=30)\n",
    "        self.entry1.grid(column=0, row=1)\n",
    "        self.cuaderno1.grid(column=0, row=0)\n",
    "        self.ventana1.mainloop()"
   ]
  },
  {
   "cell_type": "code",
   "execution_count": 3,
   "metadata": {},
   "outputs": [],
   "source": [
    "aplicacion1=Aplicacion()"
   ]
  }
 ],
 "metadata": {
  "kernelspec": {
   "display_name": "tf",
   "language": "python",
   "name": "python3"
  },
  "language_info": {
   "codemirror_mode": {
    "name": "ipython",
    "version": 3
   },
   "file_extension": ".py",
   "mimetype": "text/x-python",
   "name": "python",
   "nbconvert_exporter": "python",
   "pygments_lexer": "ipython3",
   "version": "3.9.18"
  }
 },
 "nbformat": 4,
 "nbformat_minor": 2
}
