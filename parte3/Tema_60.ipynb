{
 "cells": [
  {
   "cell_type": "markdown",
   "metadata": {},
   "source": [
    "                Tema 60"
   ]
  },
  {
   "cell_type": "markdown",
   "metadata": {},
   "source": [
    "Problema:"
   ]
  },
  {
   "cell_type": "markdown",
   "metadata": {},
   "source": [
    "Mostrar dos controles de tipo Radiobutton con las etiquetas \"Varón\" y \"Mujer\", cuando se presione un botón actualizar una Label con el Radiobutton seleccionado."
   ]
  },
  {
   "cell_type": "code",
   "execution_count": 1,
   "metadata": {},
   "outputs": [],
   "source": [
    "import tkinter as tk\n"
   ]
  },
  {
   "cell_type": "code",
   "execution_count": 2,
   "metadata": {},
   "outputs": [],
   "source": [
    "class Aplicacion:\n",
    "    def __init__(self):\n",
    "        self.ventana1=tk.Tk()\n",
    "        self.seleccion=tk.IntVar()\n",
    "        self.seleccion.set(2)\n",
    "        self.radio1=tk.Radiobutton(self.ventana1,text=\"Varon\",\n",
    "        variable=self.seleccion, value=1)\n",
    "        self.radio1.grid(column=0, row=0)\n",
    "        self.radio2=tk.Radiobutton(self.ventana1,text=\"Mujer\",\n",
    "        variable=self.seleccion, value=2)\n",
    "        self.radio2.grid(column=0, row=1)\n",
    "        self.boton1=tk.Button(self.ventana1, text=\"Mostrar seleccionado\",command=self.mostrarseleccionado)\n",
    "        self.boton1.grid(column=0, row=2)\n",
    "        self.label1=tk.Label(self.ventana1,text=\"opcion seleccionada\")\n",
    "        self.label1.grid(column=0, row=3)\n",
    "        self.ventana1.mainloop()\n",
    "    def mostrarseleccionado(self):\n",
    "        if self.seleccion.get()==1:\n",
    "            self.label1.configure(text=\"opcion seleccionada=Varon\")\n",
    "        if self.seleccion.get()==2:\n",
    "            self.label1.configure(text=\"opcion seleccionada=Mujer\")"
   ]
  },
  {
   "cell_type": "code",
   "execution_count": 3,
   "metadata": {},
   "outputs": [],
   "source": [
    "aplicacion1=Aplicacion()"
   ]
  },
  {
   "cell_type": "markdown",
   "metadata": {},
   "source": [
    "Problema 2:"
   ]
  },
  {
   "cell_type": "markdown",
   "metadata": {},
   "source": [
    "Disponer dos controles de tipo Entry para el ingreso de enteros. Mediante dos controles Radiobutton permitir seleccionar si queremos sumarlos o restarlos. Al presionar un botón mostrar el resultado de la operación seleccionada."
   ]
  },
  {
   "cell_type": "code",
   "execution_count": 4,
   "metadata": {},
   "outputs": [],
   "source": [
    "class Aplicacion:\n",
    "    def __init__(self):\n",
    "        self.ventana1=tk.Tk()\n",
    "        self.label1=tk.Label(self.ventana1,text=\"Ingrese primer valor:\")\n",
    "        self.label1.grid(column=0, row=0)\n",
    "        self.dato1=tk.StringVar()\n",
    "        self.entry1=tk.Entry(self.ventana1, width=20, textvariable=self.dato1)\n",
    "        self.entry1.grid(column=1, row=0)\n",
    "        self.label2=tk.Label(self.ventana1,text=\"Ingrese segundo valor:\")\n",
    "        self.label2.grid(column=0, row=1)\n",
    "        self.dato2=tk.StringVar()\n",
    "        self.entry2=tk.Entry(self.ventana1, width=20, textvariable=self.dato2)\n",
    "        self.entry2.grid(column=1, row=1)\n",
    "        self.seleccion=tk.IntVar()\n",
    "        self.radio1=tk.Radiobutton(self.ventana1,text=\"Sumar\",\n",
    "        variable=self.seleccion, value=1)\n",
    "        self.radio1.grid(column=1, row=2)\n",
    "        self.radio2=tk.Radiobutton(self.ventana1,text=\"Restar\",\n",
    "        variable=self.seleccion, value=2)\n",
    "        self.radio2.grid(column=1, row=3)\n",
    "        self.boton1=tk.Button(self.ventana1, text=\"Operar\",command=self.operar)\n",
    "        self.boton1.grid(column=1, row=4)\n",
    "        self.label3=tk.Label(self.ventana1,text=\"resultado\")\n",
    "        self.label3.grid(column=1, row=5)\n",
    "        self.ventana1.mainloop()\n",
    "    def operar(self):\n",
    "        if self.seleccion.get()==1:\n",
    "            suma=int(self.dato1.get())+int(self.dato2.get())\n",
    "            self.label3.configure(text=suma)\n",
    "        if self.seleccion.get()==2:\n",
    "            resta=int(self.dato1.get())-int(self.dato2.get())\n",
    "            self.label3.configure(text=resta)"
   ]
  },
  {
   "cell_type": "code",
   "execution_count": 5,
   "metadata": {},
   "outputs": [],
   "source": [
    "aplicacion1=Aplicacion()"
   ]
  },
  {
   "cell_type": "markdown",
   "metadata": {},
   "source": [
    "Problemas propuestos:"
   ]
  },
  {
   "cell_type": "markdown",
   "metadata": {},
   "source": [
    "Disponer tres controles de tipo Radiobutton con las etiquetas 'Rojo', 'Verde' y 'Azul'. Cuando se presione un botón cambiar el color de fondo del formulario.\n",
    "Si consideramos que la variable ventana1 es un objeto de la clase Tk, luego si queremos que el fondo sea de color rojo debemos llamar al método configure y en el parámetro bg indicar un string con el color a activar (\"red\", \"green\" o \"blue\"):"
   ]
  },
  {
   "cell_type": "code",
   "execution_count": 6,
   "metadata": {},
   "outputs": [],
   "source": [
    "class Aplicacion:\n",
    "    def __init__(self):\n",
    "        self.ventana1=tk.Tk()\n",
    "        self.seleccion=tk.IntVar()\n",
    "        self.seleccion.set(1)\n",
    "        self.radio1=tk.Radiobutton(self.ventana1,text=\"Rojo\", variable=self.seleccion, value=1)\n",
    "        self.radio1.grid(column=0, row=0)\n",
    "        self.radio2=tk.Radiobutton(self.ventana1,text=\"Verde\", variable=self.seleccion, value=2)\n",
    "        self.radio2.grid(column=0, row=1)\n",
    "        self.radio2=tk.Radiobutton(self.ventana1,text=\"Azul\", variable=self.seleccion, value=3)\n",
    "        self.radio2.grid(column=0, row=2)\n",
    "        self.boton1=tk.Button(self.ventana1, text=\"Cambiar color\", command=self.activar)\n",
    "        self.boton1.grid(column=0, row=3)\n",
    "        self.ventana1.mainloop()\n",
    "    def activar(self):\n",
    "        if self.seleccion.get()==1:\n",
    "            self.ventana1.configure(bg=\"red\")\n",
    "        if self.seleccion.get()==2:\n",
    "            self.ventana1.configure(bg=\"green\")\n",
    "        if self.seleccion.get()==3:\n",
    "            self.ventana1.configure(bg=\"blue\")"
   ]
  },
  {
   "cell_type": "code",
   "execution_count": 7,
   "metadata": {},
   "outputs": [],
   "source": [
    "aplicacion1=Aplicacion()"
   ]
  }
 ],
 "metadata": {
  "kernelspec": {
   "display_name": "tf",
   "language": "python",
   "name": "python3"
  },
  "language_info": {
   "codemirror_mode": {
    "name": "ipython",
    "version": 3
   },
   "file_extension": ".py",
   "mimetype": "text/x-python",
   "name": "python",
   "nbconvert_exporter": "python",
   "pygments_lexer": "ipython3",
   "version": "3.9.18"
  }
 },
 "nbformat": 4,
 "nbformat_minor": 2
}
