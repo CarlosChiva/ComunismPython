{
 "cells": [
  {
   "cell_type": "markdown",
   "metadata": {},
   "source": [
    "                Tema 72"
   ]
  },
  {
   "cell_type": "markdown",
   "metadata": {},
   "source": [
    "Problema:"
   ]
  },
  {
   "cell_type": "markdown",
   "metadata": {},
   "source": [
    "Confeccionar un programa que contenga dos controles de tipo ScrolledText. En el primero ingresamos por teclado cualquier texto. Mediante 4 controles de tipo Entry indicar desde que fila y columna hasta que fila y columna extraer caracteres del primer ScrolledText y copiarlos al segundo ScrolledText cuando se presione un botón."
   ]
  },
  {
   "cell_type": "code",
   "execution_count": 4,
   "metadata": {},
   "outputs": [],
   "source": [
    "import tkinter as tk\n",
    "from tkinter import ttk\n",
    "from tkinter import scrolledtext as st"
   ]
  },
  {
   "cell_type": "code",
   "execution_count": 5,
   "metadata": {},
   "outputs": [],
   "source": [
    "class Aplicacion:\n",
    "    def __init__(self):\n",
    "        self.ventana1=tk.Tk()\n",
    "        self.scrolledtext1=st.ScrolledText(self.ventana1, width=50, height=10)\n",
    "        self.scrolledtext1.grid(column=0,row=0, padx=10, pady=10)\n",
    "        self.framecopia()\n",
    "        self.scrolledtext2=st.ScrolledText(self.ventana1, width=50, height=10)\n",
    "        self.scrolledtext2.grid(column=0,row=2, padx=10, pady=10)\n",
    "        self.ventana1.mainloop()\n",
    "    def framecopia(self):\n",
    "        self.labelframe1=ttk.LabelFrame(self.ventana1, text=\"Region\")\n",
    "        self.labelframe1.grid(column=0, row=1, padx=5, pady=5, sticky=\"w\")\n",
    "        self.label1=ttk.Label(self.labelframe1, text=\"Desde fila:\")\n",
    "        self.label1.grid(column=0, row=0, padx=5, pady=5, sticky=\"e\")\n",
    "        self.dato1=tk.StringVar()\n",
    "        self.entry1=ttk.Entry(self.labelframe1, textvariable=self.dato1)\n",
    "        self.entry1.grid(column=1, row=0, padx=5, pady=5, sticky=\"e\")\n",
    "        self.label2=ttk.Label(self.labelframe1, text=\"Desde columna:\")\n",
    "        self.label2.grid(column=0, row=1, padx=5, pady=5, sticky=\"e\")\n",
    "        self.dato2=tk.StringVar()\n",
    "        self.entry2=ttk.Entry(self.labelframe1, textvariable=self.dato2)\n",
    "        self.entry2.grid(column=1, row=1, padx=5, pady=5, sticky=\"e\")\n",
    "        self.label3=ttk.Label(self.labelframe1, text=\"Hasta fila:\")\n",
    "        self.label3.grid(column=0, row=2, padx=5, pady=5, sticky=\"e\")\n",
    "        self.dato3=tk.StringVar()\n",
    "        self.entry3=ttk.Entry(self.labelframe1, textvariable=self.dato3)\n",
    "        self.entry3.grid(column=1, row=2, padx=5, pady=5, sticky=\"e\")\n",
    "        self.label4=ttk.Label(self.labelframe1, text=\"Hasta columna:\")\n",
    "        self.label4.grid(column=0, row=3, padx=5, pady=5, sticky=\"e\")\n",
    "        self.dato4=tk.StringVar()\n",
    "        self.entry4=ttk.Entry(self.labelframe1, textvariable=self.dato4)\n",
    "        self.entry4.grid(column=1, row=3, padx=5, pady=5, sticky=\"e\")\n",
    "        self.boton1=ttk.Button(self.labelframe1, text=\"Copiar\",\n",
    "        command=self.copiar)\n",
    "        self.boton1.grid(column=1, row=4, padx=10, pady=10)\n",
    "    def copiar(self):\n",
    "        iniciofila=self.dato1.get()\n",
    "        iniciocolumna=self.dato2.get()\n",
    "        finfila=self.dato3.get()\n",
    "        fincolumna=self.dato4.get()\n",
    "        datos=self.scrolledtext1.get(iniciofila+\".\"+iniciocolumna,\n",
    "        finfila+\".\"+fincolumna)\n",
    "        self.scrolledtext2.delete(\"1.0\", tk.END)\n",
    "        self.scrolledtext2.insert(\"1.0\", datos)"
   ]
  },
  {
   "cell_type": "code",
   "execution_count": 6,
   "metadata": {},
   "outputs": [],
   "source": [
    "aplicacion1=Aplicacion()"
   ]
  }
 ],
 "metadata": {
  "kernelspec": {
   "display_name": "tf",
   "language": "python",
   "name": "python3"
  },
  "language_info": {
   "codemirror_mode": {
    "name": "ipython",
    "version": 3
   },
   "file_extension": ".py",
   "mimetype": "text/x-python",
   "name": "python",
   "nbconvert_exporter": "python",
   "pygments_lexer": "ipython3",
   "version": "3.9.18"
  }
 },
 "nbformat": 4,
 "nbformat_minor": 2
}
