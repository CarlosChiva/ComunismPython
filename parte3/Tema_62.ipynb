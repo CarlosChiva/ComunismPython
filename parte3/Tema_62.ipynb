{
 "cells": [
  {
   "cell_type": "markdown",
   "metadata": {},
   "source": [
    "                Tema 62"
   ]
  },
  {
   "cell_type": "markdown",
   "metadata": {},
   "source": [
    "Problema:"
   ]
  },
  {
   "cell_type": "markdown",
   "metadata": {},
   "source": [
    "Disponer un Listbox con una serie de nombres de frutas. Permitir la selección solo de uno de ellos. Cuando se presione un botón recuperar la fruta seleccionada y mostrarla en una Label."
   ]
  },
  {
   "cell_type": "code",
   "execution_count": 1,
   "metadata": {},
   "outputs": [],
   "source": [
    "import tkinter as tk"
   ]
  },
  {
   "cell_type": "code",
   "execution_count": 2,
   "metadata": {},
   "outputs": [],
   "source": [
    "class Aplicacion:\n",
    "    def __init__(self):\n",
    "        self.ventana1=tk.Tk()\n",
    "        self.listbox1=tk.Listbox(self.ventana1)\n",
    "        self.listbox1.grid(column=0,row=0)\n",
    "        self.listbox1.insert(0,\"papa\")\n",
    "        self.listbox1.insert(1,\"manzana\")\n",
    "        self.listbox1.insert(2,\"pera\")\n",
    "        self.listbox1.insert(3,\"sandia\")\n",
    "        self.listbox1.insert(4,\"naranja\")\n",
    "        self.listbox1.insert(5,\"melon\")\n",
    "        self.boton1=tk.Button(self.ventana1, text=\"Recuperar\",command=self.recuperar)\n",
    "        self.boton1.grid(column=0, row=1)\n",
    "        self.label1=tk.Label(self.ventana1,text=\"Seleccionado:\")\n",
    "        self.label1.grid(column=0, row=2)\n",
    "        self.ventana1.mainloop()\n",
    "    def recuperar(self):\n",
    "        if len(self.listbox1.curselection())!=0:\n",
    "            self.label1.configure(text=self.listbox1.get(self.listbox1.curselection()[0]))"
   ]
  },
  {
   "cell_type": "code",
   "execution_count": 3,
   "metadata": {},
   "outputs": [],
   "source": [
    "aplicacion1=Aplicacion()"
   ]
  },
  {
   "cell_type": "markdown",
   "metadata": {},
   "source": [
    "Problema 2:"
   ]
  },
  {
   "cell_type": "markdown",
   "metadata": {},
   "source": [
    "Disponer un Listbox con una serie de nombres de frutas. Permitir la selección de varias frutas. Cuando se presione un botón recuperar todas las frutas seleccionadas y mostrarlas en una Label."
   ]
  },
  {
   "cell_type": "code",
   "execution_count": 4,
   "metadata": {},
   "outputs": [],
   "source": [
    "class Aplicacion:\n",
    "    def __init__(self):\n",
    "        self.ventana1=tk.Tk()\n",
    "        self.listbox1=tk.Listbox(self.ventana1, selectmode=tk.MULTIPLE)\n",
    "        self.listbox1.grid(column=0,row=0)\n",
    "        self.listbox1.insert(0,\"papa\")\n",
    "        self.listbox1.insert(1,\"manzana\")\n",
    "        self.listbox1.insert(2,\"pera\")\n",
    "        self.listbox1.insert(3,\"sandia\")\n",
    "        self.listbox1.insert(4,\"naranja\")\n",
    "        self.listbox1.insert(5,\"melon\")\n",
    "        self.boton1=tk.Button(self.ventana1, text=\"Recuperar\",command=self.recuperar)\n",
    "        self.boton1.grid(column=0, row=1)\n",
    "        self.label1=tk.Label(self.ventana1,text=\"Seleccionado:\")\n",
    "        self.label1.grid(column=0, row=2)\n",
    "        self.ventana1.mainloop()\n",
    "    def recuperar(self):\n",
    "        if len(self.listbox1.curselection())!=0:\n",
    "            todas=''\n",
    "        for posicion in self.listbox1.curselection():\n",
    "            todas+=self.listbox1.get(posicion)+\"\\n\"\n",
    "        self.label1.configure(text=todas)"
   ]
  },
  {
   "cell_type": "code",
   "execution_count": 5,
   "metadata": {},
   "outputs": [],
   "source": [
    "aplicacion1=Aplicacion()"
   ]
  },
  {
   "cell_type": "markdown",
   "metadata": {},
   "source": [
    "Barra Scroll"
   ]
  },
  {
   "cell_type": "code",
   "execution_count": 6,
   "metadata": {},
   "outputs": [],
   "source": [
    "class Aplicacion:\n",
    "    def __init__(self):\n",
    "        self.ventana1=tk.Tk()\n",
    "        self.scroll1 = tk.Scrollbar(self.ventana1, orient=tk.VERTICAL)\n",
    "        self.listbox1=tk.Listbox(self.ventana1, selectmode=tk.MULTIPLE,yscrollcommand=self.scroll1.set)\n",
    "        self.listbox1.grid(column=0,row=0)\n",
    "        self.scroll1.configure(command=self.listbox1.yview)\n",
    "        self.scroll1.grid(column=1, row=0, sticky='NS')\n",
    "        self.listbox1.insert(0,\"papa\")\n",
    "        self.listbox1.insert(1,\"manzana\")\n",
    "        self.listbox1.insert(2,\"pera\")\n",
    "        self.listbox1.insert(3,\"sandia\")\n",
    "        self.listbox1.insert(4,\"naranja\")\n",
    "        self.listbox1.insert(5,\"melon\")\n",
    "        self.listbox1.insert(6,\"limon\")\n",
    "        self.listbox1.insert(7,\"kiwi\")\n",
    "        self.listbox1.insert(5,\"banana\")\n",
    "        self.listbox1.insert(5,\"uva\")\n",
    "        self.listbox1.insert(5,\"papaya\")\n",
    "        self.listbox1.insert(5,\"mandarina\")\n",
    "        self.listbox1.insert(5,\"frutilla\")\n",
    "        self.boton1=tk.Button(self.ventana1, text=\"Recuperar\",command=self.recuperar)\n",
    "        self.boton1.grid(column=0, row=1)\n",
    "        self.label1=tk.Label(self.ventana1,text=\"Seleccionado:\")\n",
    "        self.label1.grid(column=0, row=2)\n",
    "        self.ventana1.mainloop()\n",
    "    def recuperar(self):\n",
    "        if len(self.listbox1.curselection())!=0:\n",
    "            todas=''\n",
    "        for posicion in self.listbox1.curselection():\n",
    "            todas+=self.listbox1.get(posicion)+\"\\n\"\n",
    "        self.label1.configure(text=todas)"
   ]
  },
  {
   "cell_type": "code",
   "execution_count": 7,
   "metadata": {},
   "outputs": [],
   "source": [
    "aplicacion1=Aplicacion()"
   ]
  },
  {
   "cell_type": "markdown",
   "metadata": {},
   "source": [
    "Problemas propuestos:"
   ]
  },
  {
   "cell_type": "markdown",
   "metadata": {},
   "source": [
    "Solicitar el ingreso del nombre de una persona y seleccionar de un control Listbox un país. Al presionar un botón mostrar en la barra de la ventana el nombre ingresado y el país seleccionado."
   ]
  },
  {
   "cell_type": "code",
   "execution_count": 8,
   "metadata": {},
   "outputs": [],
   "source": [
    "class Aplicacion:\n",
    "    def __init__(self):\n",
    "        self.ventana1=tk.Tk()\n",
    "        self.label1=tk.Label(self.ventana1,text=\"Ingrese nombre\")\n",
    "        self.label1.grid(column=0, row=0)\n",
    "        self.nombre=tk.StringVar()\n",
    "        self.entry1=tk.Entry(self.ventana1, width=40, textvariable=self.nombre)\n",
    "        self.entry1.grid(column=0, row=1)\n",
    "        self.label2=tk.Label(self.ventana1,text=\"Seleccione país\")\n",
    "        self.label2.grid(column=0, row=2)\n",
    "        self.listbox1=tk.Listbox(self.ventana1)\n",
    "        self.listbox1.grid(column=0,row=3)\n",
    "        self.listbox1.insert(0,\"Argentina\")\n",
    "        self.listbox1.insert(1,\"Chile\")\n",
    "        self.listbox1.insert(2,\"Bolivia\")\n",
    "        self.listbox1.insert(3,\"Paraguay\")\n",
    "        self.listbox1.insert(4,\"Brasil\")\n",
    "        self.listbox1.insert(5,\"Uruguay\")\n",
    "        self.boton1=tk.Button(self.ventana1, text=\"Recuperar\", command=self.mostrardatos)\n",
    "        self.boton1.grid(column=0, row=4)\n",
    "        self.ventana1.mainloop()\n",
    "    def mostrardatos(self):\n",
    "        if len(self.listbox1.curselection())!=0:\n",
    "            self.ventana1.title(\"Nombre:\"+self.nombre.get()+\"Pais:\"+self.listbox1.get(self.listbox1.curselection()[0]))"
   ]
  },
  {
   "cell_type": "code",
   "execution_count": 9,
   "metadata": {},
   "outputs": [],
   "source": [
    "aplicacion1=Aplicacion()"
   ]
  }
 ],
 "metadata": {
  "kernelspec": {
   "display_name": "tf",
   "language": "python",
   "name": "python3"
  },
  "language_info": {
   "codemirror_mode": {
    "name": "ipython",
    "version": 3
   },
   "file_extension": ".py",
   "mimetype": "text/x-python",
   "name": "python",
   "nbconvert_exporter": "python",
   "pygments_lexer": "ipython3",
   "version": "3.9.18"
  }
 },
 "nbformat": 4,
 "nbformat_minor": 2
}
