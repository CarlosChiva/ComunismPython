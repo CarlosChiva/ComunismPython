{
 "cells": [
  {
   "cell_type": "markdown",
   "metadata": {},
   "source": [
    "                Tema 78"
   ]
  },
  {
   "cell_type": "markdown",
   "metadata": {},
   "source": [
    "Problema:"
   ]
  },
  {
   "cell_type": "markdown",
   "metadata": {},
   "source": [
    "Se cuenta con dos archivos de tipo png con las imágenes de distintas cartas.\n",
    "Mostrarlas a cada una dentro de una componente de tipo Canvas y permitir moverlas dentro del control mediante el mouse."
   ]
  },
  {
   "cell_type": "code",
   "execution_count": 1,
   "metadata": {},
   "outputs": [],
   "source": [
    "import tkinter as tk"
   ]
  },
  {
   "cell_type": "code",
   "execution_count": 2,
   "metadata": {},
   "outputs": [],
   "source": [
    "class Aplicacion:\n",
    "    def __init__(self):\n",
    "        self.ventana1=tk.Tk()\n",
    "        self.canvas1=tk.Canvas(self.ventana1, width=900, height=500,background=\"black\")\n",
    "        self.canvas1.grid(column=0, row=0)\n",
    "        archi1=tk.PhotoImage(file=\"carta1.png\")\n",
    "        self.canvas1.create_image(30, 100, image=archi1, anchor=\"nw\",tags=\"movil\")\n",
    "        archi2=tk.PhotoImage(file=\"carta2.png\")\n",
    "        self.canvas1.create_image(400, 100, image=archi2, anchor=\"nw\",tags=\"movil\")\n",
    "        self.canvas1.tag_bind(\"movil\", \"<ButtonPress-1>\", self.presion_boton)\n",
    "        self.canvas1.tag_bind(\"movil\", \"<Button1-Motion>\", self.mover)\n",
    "        self.carta_seleccionada = None\n",
    "        self.ventana1.mainloop()\n",
    "    def presion_boton(self, evento):\n",
    "        carta = self.canvas1.find_withtag(tk.CURRENT)\n",
    "        self.carta_seleccionada = (carta, evento.x, evento.y)\n",
    "    def mover(self, evento):\n",
    "        x, y = evento.x, evento.y\n",
    "        carta, x1, y1 = self.carta_seleccionada\n",
    "        self.canvas1.move(carta, x - x1, y - y1)\n",
    "        self.carta_seleccionada = (carta, x, y)"
   ]
  },
  {
   "cell_type": "code",
   "execution_count": 3,
   "metadata": {},
   "outputs": [],
   "source": [
    "aplicacion1=Aplicacion()"
   ]
  },
  {
   "cell_type": "markdown",
   "metadata": {},
   "source": [
    "Problema propuesto"
   ]
  },
  {
   "cell_type": "markdown",
   "metadata": {},
   "source": [
    "Crear 100 cuadrados de color rojo y disponerlos en el control Canvas en posiciones aleatorias. Permitir desplazar con el mouse cualquiera de los cuadrados."
   ]
  },
  {
   "cell_type": "code",
   "execution_count": 4,
   "metadata": {},
   "outputs": [],
   "source": [
    "import random\n",
    "class Aplicacion:\n",
    "    def __init__(self):\n",
    "        self.ventana1=tk.Tk()\n",
    "        self.canvas1=tk.Canvas(self.ventana1, width=900, height=500, background=\"black\")\n",
    "        self.canvas1.grid(column=0, row=0)\n",
    "        for x in range(101):\n",
    "            x1=random.randint(1,900)\n",
    "            y1=random.randint(1,500)\n",
    "        self.cuadrado=self.canvas1.create_rectangle(x1, y1, x1+20, y1+20, fill=\"red\", outline=\"red\",tags=\"movil\")\n",
    "        self.canvas1.tag_bind(\"movil\", \"<ButtonPress-1>\", self.presion_boton)\n",
    "        self.canvas1.tag_bind(\"movil\", \"<Button1-Motion>\", self.mover)\n",
    "        self.carta_seleccionada = None\n",
    "        self.ventana1.mainloop()\n",
    "    def presion_boton(self, evento):\n",
    "        carta = self.canvas1.find_withtag(tk.CURRENT)\n",
    "        self.carta_seleccionada = (carta, evento.x, evento.y)\n",
    "    def mover(self, evento):\n",
    "        x, y = evento.x, evento.y\n",
    "        carta, x1, y1 = self.carta_seleccionada\n",
    "        self.canvas1.move(carta, x - x1, y - y1)\n",
    "        self.carta_seleccionada = (carta, x, y)"
   ]
  },
  {
   "cell_type": "code",
   "execution_count": 5,
   "metadata": {},
   "outputs": [],
   "source": [
    "aplicacion=Aplicacion()"
   ]
  }
 ],
 "metadata": {
  "kernelspec": {
   "display_name": "tf",
   "language": "python",
   "name": "python3"
  },
  "language_info": {
   "codemirror_mode": {
    "name": "ipython",
    "version": 3
   },
   "file_extension": ".py",
   "mimetype": "text/x-python",
   "name": "python",
   "nbconvert_exporter": "python",
   "pygments_lexer": "ipython3",
   "version": "3.9.18"
  }
 },
 "nbformat": 4,
 "nbformat_minor": 2
}
