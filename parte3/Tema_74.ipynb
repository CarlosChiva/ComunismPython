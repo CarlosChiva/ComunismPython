{
 "cells": [
  {
   "cell_type": "markdown",
   "metadata": {},
   "source": [
    "                Tema 74"
   ]
  },
  {
   "cell_type": "markdown",
   "metadata": {},
   "source": [
    "Problema:"
   ]
  },
  {
   "cell_type": "markdown",
   "metadata": {},
   "source": [
    "Confeccionar un programa que cree un objeto de la clase Canvas y nos muestre en el título de la ventana la coordenada actual del mouse dentro del control Canvas y al presionar el botón izquierdo del mouse se dibuje un círculo en dicha posición."
   ]
  },
  {
   "cell_type": "code",
   "execution_count": 1,
   "metadata": {},
   "outputs": [],
   "source": [
    "import tkinter as tk"
   ]
  },
  {
   "cell_type": "code",
   "execution_count": 2,
   "metadata": {},
   "outputs": [],
   "source": [
    "class Aplicacion:\n",
    "    def __init__(self):\n",
    "        self.ventana1=tk.Tk()\n",
    "        self.canvas1=tk.Canvas(self.ventana1, width=600, height=400,background=\"black\")\n",
    "        self.canvas1.bind(\"<Motion>\", self.mover_mouse)\n",
    "        self.canvas1.bind(\"<Button-1>\", self.presion_mouse)\n",
    "        self.canvas1.grid(column=0, row=1)\n",
    "        self.ventana1.mainloop()\n",
    "    def presion_mouse(self, evento):\n",
    "        self.canvas1.create_oval(evento.x-5,evento.y-5,evento.x+5,evento.y+5,fill=\"red\")\n",
    "    def mover_mouse(self, evento):\n",
    "        self.ventana1.title(str(evento.x)+\"-\"+str(evento.y))"
   ]
  },
  {
   "cell_type": "code",
   "execution_count": 3,
   "metadata": {},
   "outputs": [],
   "source": [
    "aplicacion1=Aplicacion()"
   ]
  },
  {
   "cell_type": "markdown",
   "metadata": {},
   "source": [
    "Problema"
   ]
  },
  {
   "cell_type": "markdown",
   "metadata": {},
   "source": [
    "Confeccionar un programa que cree un objeto de la clase Canvas y nos permita dibujar a mano alzada dentro del mismo."
   ]
  },
  {
   "cell_type": "code",
   "execution_count": 4,
   "metadata": {},
   "outputs": [],
   "source": [
    "class Aplicacion:\n",
    "    def __init__(self):\n",
    "        self.ventana1=tk.Tk()\n",
    "        self.canvas1=tk.Canvas(self.ventana1, width=600, height=400,background=\"black\")\n",
    "        self.canvas1.grid(column=0,row=0)\n",
    "        self.canvas1.bind(\"<ButtonPress-1>\",self.boton_presion)\n",
    "        self.canvas1.bind(\"<Motion>\", self.mover_mouse)\n",
    "        self.canvas1.bind(\"<ButtonRelease-1>\",self.boton_soltar)\n",
    "        self.presionado=False\n",
    "        self.ventana1.mainloop()\n",
    "    def boton_presion(self, evento):\n",
    "        self.presionado=True\n",
    "        self.origenx=evento.x\n",
    "        self.origeny=evento.y\n",
    "    def mover_mouse(self, evento):\n",
    "        if self.presionado:\n",
    "            self.canvas1.create_line(self.origenx,self.origeny,evento.x,evento.y,fill=\"red\")\n",
    "            self.origenx=evento.x\n",
    "            self.origeny=evento.y\n",
    "    def boton_soltar(self,evento):\n",
    "        self.presionado=False"
   ]
  },
  {
   "cell_type": "code",
   "execution_count": 5,
   "metadata": {},
   "outputs": [],
   "source": [
    "aplicacion1=Aplicacion()"
   ]
  }
 ],
 "metadata": {
  "kernelspec": {
   "display_name": "tf",
   "language": "python",
   "name": "python3"
  },
  "language_info": {
   "codemirror_mode": {
    "name": "ipython",
    "version": 3
   },
   "file_extension": ".py",
   "mimetype": "text/x-python",
   "name": "python",
   "nbconvert_exporter": "python",
   "pygments_lexer": "ipython3",
   "version": "3.9.18"
  }
 },
 "nbformat": 4,
 "nbformat_minor": 2
}
