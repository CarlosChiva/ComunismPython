{
 "cells": [
  {
   "cell_type": "markdown",
   "metadata": {},
   "source": [
    "                Tema 63"
   ]
  },
  {
   "cell_type": "markdown",
   "metadata": {},
   "source": [
    "Problema:"
   ]
  },
  {
   "cell_type": "markdown",
   "metadata": {},
   "source": [
    "Mostrar una ventana y en su interior dos botones y una label utilizando el módulo ttk. La label muestra inicialmente el valor 1. Cada uno de los botones permiten incrementar o decrementar en uno el contenido de la label."
   ]
  },
  {
   "cell_type": "code",
   "execution_count": 1,
   "metadata": {},
   "outputs": [],
   "source": [
    "import tkinter as tk\n",
    "from tkinter import ttk"
   ]
  },
  {
   "cell_type": "code",
   "execution_count": 2,
   "metadata": {},
   "outputs": [],
   "source": [
    "class Aplicacion:\n",
    "    def __init__(self):\n",
    "        self.valor=1\n",
    "        self.ventana1=tk.Tk()\n",
    "        self.ventana1.title(\"Controles Button y Label\")\n",
    "        self.label1=ttk.Label(self.ventana1, text=self.valor)\n",
    "        self.label1.grid(column=0, row=0)\n",
    "        self.label1.configure(foreground=\"red\")\n",
    "        self.boton1=ttk.Button(self.ventana1, text=\"Incrementar\",command=self.incrementar)\n",
    "        self.boton1.grid(column=0, row=1)\n",
    "        self.boton2=ttk.Button(self.ventana1, text=\"Decrementar\",command=self.decrementar)\n",
    "        self.boton2.grid(column=0, row=2)\n",
    "        self.ventana1.mainloop()\n",
    "    def incrementar(self):\n",
    "        self.valor=self.valor+1\n",
    "        self.label1.config(text=self.valor)\n",
    "    def decrementar(self):\n",
    "        self.valor=self.valor-1\n",
    "        self.label1.config(text=self.valor)"
   ]
  },
  {
   "cell_type": "code",
   "execution_count": 3,
   "metadata": {},
   "outputs": [],
   "source": [
    "aplicacion1=Aplicacion()"
   ]
  },
  {
   "cell_type": "markdown",
   "metadata": {},
   "source": [
    "Problema 2:"
   ]
  },
  {
   "cell_type": "markdown",
   "metadata": {},
   "source": [
    "Ingresar el nombre de usuario y clave en controles de tipo Entry. Si se ingresa las cadena (usuario: juan, clave=\"abc123\") luego mostrar en el título de la ventana el mensaje \"Correcto\" en caso contrario mostrar el mensaje \"Incorrecto\".\n",
    "Utilizar Widget del módulo ttk."
   ]
  },
  {
   "cell_type": "code",
   "execution_count": 4,
   "metadata": {},
   "outputs": [],
   "source": [
    "class Aplicacion:\n",
    "    def __init__(self):\n",
    "        self.ventana1=tk.Tk()\n",
    "        self.label1=ttk.Label(text=\"Ingrese nombre de usuario:\")\n",
    "        self.label1.grid(column=0, row=0)\n",
    "        self.dato1=tk.StringVar()\n",
    "        self.entry1=ttk.Entry(self.ventana1, width=30, textvariable=self.dato1)\n",
    "        self.entry1.grid(column=1, row=0)\n",
    "        self.label2=ttk.Label(text=\"Ingrese clave:\")\n",
    "        self.label2.grid(column=0, row=1)\n",
    "        self.dato2=tk.StringVar()\n",
    "        self.entry2=ttk.Entry(self.ventana1, width=30, textvariable=self.dato2,show=\"*\")\n",
    "        self.entry2.grid(column=1, row=1)\n",
    "        self.boton1=ttk.Button(self.ventana1, text=\"Ingresar\",command=self.ingresar)\n",
    "        self.boton1.grid(column=1, row=2)\n",
    "        self.ventana1.mainloop()\n",
    "    def ingresar(self):\n",
    "        if self.dato1.get()==\"juan\" and self.dato2.get()==\"abc123\":\n",
    "            self.ventana1.title(\"Correcto\")\n",
    "        else:\n",
    "            self.ventana1.title(\"Incorrecto\")"
   ]
  },
  {
   "cell_type": "code",
   "execution_count": 5,
   "metadata": {},
   "outputs": [],
   "source": [
    "aplicacion1=Aplicacion()"
   ]
  },
  {
   "cell_type": "markdown",
   "metadata": {},
   "source": [
    "Problema"
   ]
  },
  {
   "cell_type": "markdown",
   "metadata": {},
   "source": [
    "Mostrar dos controles de tipo Radiobutton con las etiquetas \"Varón\" y \"Mujer\", cuando se presione un botón actualizar una Label con el Radiobutton seleccionado."
   ]
  },
  {
   "cell_type": "code",
   "execution_count": 6,
   "metadata": {},
   "outputs": [],
   "source": [
    "class Aplicacion:\n",
    "    def __init__(self):\n",
    "        self.ventana1=tk.Tk()\n",
    "        self.seleccion=tk.IntVar()\n",
    "        self.seleccion.set(2)\n",
    "        self.radio1=ttk.Radiobutton(self.ventana1,text=\"Varon\",variable=self.seleccion, value=1)\n",
    "        self.radio1.grid(column=0, row=0)\n",
    "        self.radio2=ttk.Radiobutton(self.ventana1,text=\"Mujer\",variable=self.seleccion, value=2)\n",
    "        self.radio2.grid(column=0, row=1)\n",
    "        self.boton1=ttk.Button(self.ventana1, text=\"Mostrar seleccionado\",command=self.mostrarseleccionado)\n",
    "        self.boton1.grid(column=0, row=2)\n",
    "        self.label1=ttk.Label(text=\"opcion seleccionada\")\n",
    "        self.label1.grid(column=0, row=3)\n",
    "        self.ventana1.mainloop()\n",
    "    def mostrarseleccionado(self):\n",
    "        if self.seleccion.get()==1:\n",
    "            self.label1.configure(text=\"opcion seleccionada=Varon\")\n",
    "        if self.seleccion.get()==2:\n",
    "            self.label1.configure(text=\"opcion seleccionada=Mujer\")"
   ]
  },
  {
   "cell_type": "code",
   "execution_count": 7,
   "metadata": {},
   "outputs": [],
   "source": [
    "aplicacion1=Aplicacion()"
   ]
  },
  {
   "cell_type": "markdown",
   "metadata": {},
   "source": [
    "Problema"
   ]
  },
  {
   "cell_type": "markdown",
   "metadata": {},
   "source": [
    "Mostrar una ventana y en su interior tres controles de tipo Checkbutton cuyas etiquetas correspondan a distintos lenguajes de programación. Cuando se presione un botón mostrar en una Label la cantidad de Checkbutton que se encuentran chequeados. Utilizar Widget del módulo ttk."
   ]
  },
  {
   "cell_type": "code",
   "execution_count": 10,
   "metadata": {},
   "outputs": [],
   "source": [
    "class Aplicacion:\n",
    "    def __init__(self):\n",
    "        self.ventana1=tk.Tk()\n",
    "        self.seleccion1=tk.IntVar()\n",
    "        self.check1=ttk.Checkbutton(self.ventana1,text=\"Python\",variable=self.seleccion1)\n",
    "        self.check1.grid(column=0, row=0)\n",
    "        self.seleccion2=tk.IntVar()\n",
    "        self.check2=ttk.Checkbutton(self.ventana1,text=\"C++\",variable=self.seleccion2)\n",
    "        self.check2.grid(column=0, row=1)\n",
    "        self.seleccion3=tk.IntVar()\n",
    "        self.check3=ttk.Checkbutton(self.ventana1,text=\"Java\",variable=self.seleccion3)\n",
    "        self.check3.grid(column=0, row=2)\n",
    "        self.boton1=ttk.Button(self.ventana1, text=\"Verificar\",command=self.verificar)\n",
    "        self.boton1.grid(column=0, row=4)\n",
    "        self.label1=ttk.Label(text=\"cantidad:\")\n",
    "        self.label1.grid(column=0, row=5)\n",
    "        self.ventana1.mainloop()\n",
    "    def verificar(self):\n",
    "        cant=0\n",
    "        if self.seleccion1.get()==1:\n",
    "            cant+=1\n",
    "        if self.seleccion2.get()==1:\n",
    "            cant+=1\n",
    "        if self.seleccion3.get()==1:\n",
    "            cant+=1\n",
    "        self.label1.configure(text=\"cantidad:\"+str(cant))"
   ]
  },
  {
   "cell_type": "code",
   "execution_count": 11,
   "metadata": {},
   "outputs": [],
   "source": [
    "aplicacion1=Aplicacion()"
   ]
  },
  {
   "cell_type": "markdown",
   "metadata": {},
   "source": [
    "Problema:"
   ]
  },
  {
   "cell_type": "markdown",
   "metadata": {},
   "source": [
    "Disponer un Listbox con una serie de nombres de frutas. Permitir la selección solo de uno de ellos. Cuando se presione un botón recuperar la fruta seleccionada y mostrarla en una Label."
   ]
  },
  {
   "cell_type": "code",
   "execution_count": 12,
   "metadata": {},
   "outputs": [],
   "source": [
    "class Aplicacion:\n",
    "    def __init__(self):\n",
    "        self.ventana1=tk.Tk()\n",
    "        self.listbox1=tk.Listbox(self.ventana1)\n",
    "        self.listbox1.grid(column=0,row=0)\n",
    "        self.listbox1.insert(0,\"papa\")\n",
    "        self.listbox1.insert(1,\"manzana\")\n",
    "        self.listbox1.insert(2,\"pera\")\n",
    "        self.listbox1.insert(3,\"sandia\")\n",
    "        self.listbox1.insert(4,\"naranja\")\n",
    "        self.listbox1.insert(5,\"melon\")\n",
    "        self.boton1=ttk.Button(self.ventana1, text=\"Recuperar\",command=self.recuperar)\n",
    "        self.boton1.grid(column=0, row=1)\n",
    "        self.label1=ttk.Label(text=\"Seleccionado:\")\n",
    "        self.label1.grid(column=0, row=2)\n",
    "        self.ventana1.mainloop()\n",
    "    def recuperar(self):\n",
    "        if len(self.listbox1.curselection())!=0:\n",
    "            self.label1.configure(text=self.listbox1.get(self.listbox1.curselection()[0]))"
   ]
  },
  {
   "cell_type": "code",
   "execution_count": 13,
   "metadata": {},
   "outputs": [],
   "source": [
    "aplicacion=Aplicacion()"
   ]
  }
 ],
 "metadata": {
  "kernelspec": {
   "display_name": "tf",
   "language": "python",
   "name": "python3"
  },
  "language_info": {
   "codemirror_mode": {
    "name": "ipython",
    "version": 3
   },
   "file_extension": ".py",
   "mimetype": "text/x-python",
   "name": "python",
   "nbconvert_exporter": "python",
   "pygments_lexer": "ipython3",
   "version": "3.9.18"
  }
 },
 "nbformat": 4,
 "nbformat_minor": 2
}
