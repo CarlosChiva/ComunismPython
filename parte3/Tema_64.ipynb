{
 "cells": [
  {
   "cell_type": "markdown",
   "metadata": {},
   "source": [
    "                Tema 64"
   ]
  },
  {
   "cell_type": "markdown",
   "metadata": {},
   "source": [
    "Problema:"
   ]
  },
  {
   "cell_type": "markdown",
   "metadata": {},
   "source": [
    "Mostrar en una ventana un control de tipo Combobox con los días de la semana.\n",
    "Cuando se presione un botón actualizar una Label con el día seleccionado."
   ]
  },
  {
   "cell_type": "code",
   "execution_count": 1,
   "metadata": {},
   "outputs": [],
   "source": [
    "import tkinter as tk\n",
    "from tkinter import ttk"
   ]
  },
  {
   "cell_type": "code",
   "execution_count": 2,
   "metadata": {},
   "outputs": [],
   "source": [
    "class Aplicacion:\n",
    "    def __init__(self):\n",
    "        self.ventana1=tk.Tk()\n",
    "        self.label1=ttk.Label(self.ventana1, text=\"Seleccione un día de la semana\")\n",
    "        self.label1.grid(column=0, row=0)\n",
    "        self.opcion=tk.StringVar()\n",
    "        diassemana=(\"lunes\",\"martes\",\"miércoles\",\"jueves\",\"viernes\",\"sábado\",\"domingo\")\n",
    "        self.combobox1=ttk.Combobox(self.ventana1,width=10,textvariable=self.opcion,values=diassemana)\n",
    "        self.combobox1.current(0)\n",
    "        self.combobox1.grid(column=0, row=1)\n",
    "        self.boton1=tk.Button(self.ventana1, text=\"Recuperar\", command=self.recuperar)\n",
    "        self.boton1.grid(column=0, row=2)\n",
    "        self.label2=ttk.Label(self.ventana1, text=\"Día seleccionado:\")\n",
    "        self.label2.grid(column=0, row=3)\n",
    "        self.ventana1.mainloop()\n",
    "    def recuperar(self):\n",
    "        self.label2.configure(text=self.opcion.get())"
   ]
  },
  {
   "cell_type": "code",
   "execution_count": 3,
   "metadata": {},
   "outputs": [],
   "source": [
    "aplicacion1=Aplicacion()"
   ]
  },
  {
   "cell_type": "markdown",
   "metadata": {},
   "source": [
    "Problema propuesto:"
   ]
  },
  {
   "cell_type": "markdown",
   "metadata": {},
   "source": [
    "Solicitar el ingreso del nombre de una persona y seleccionar de un control Combobox un país. Al presionar un botón mostrar en la barra de la ventana el nombre ingresado y el país seleccionado."
   ]
  },
  {
   "cell_type": "code",
   "execution_count": 4,
   "metadata": {},
   "outputs": [],
   "source": [
    "class Aplicacion:\n",
    "    def __init__(self):\n",
    "        self.ventana1=tk.Tk()\n",
    "        self.label1=ttk.Label(text=\"Ingrese nombre\")\n",
    "        self.label1.grid(column=0, row=0)\n",
    "        self.nombre=tk.StringVar()\n",
    "        self.entry1=ttk.Entry(self.ventana1, width=40, textvariable=self.nombre)\n",
    "        self.entry1.grid(column=0, row=1)\n",
    "        self.label2=ttk.Label(text=\"Seleccione país\")\n",
    "        self.label2.grid(column=0, row=2)\n",
    "        self.pais=tk.StringVar()\n",
    "        paises=(\"Argentina\",\"Chile\",\"Bolivia\",\"Paraguay\",\"Brasil\",\"Uruguay\")\n",
    "        self.combobox1=ttk.Combobox(self.ventana1,width=10,textvariable=self.pais,values=paises,state='readonly')\n",
    "        #self.combobox1.current(0)\n",
    "        self.combobox1.grid(column=0, row=3)\n",
    "        self.boton1=tk.Button(self.ventana1, text=\"Recuperar\", command=self.mostrardatos)\n",
    "        self.boton1.grid(column=0, row=4)\n",
    "        self.ventana1.mainloop()\n",
    "    def mostrardatos(self):\n",
    "        self.ventana1.title(\"Nombre:\"+self.nombre.get()+\" Pais:\"+self.combobox1.get())"
   ]
  },
  {
   "cell_type": "code",
   "execution_count": 5,
   "metadata": {},
   "outputs": [],
   "source": [
    "aplicacion1=Aplicacion()"
   ]
  }
 ],
 "metadata": {
  "kernelspec": {
   "display_name": "tf",
   "language": "python",
   "name": "python3"
  },
  "language_info": {
   "codemirror_mode": {
    "name": "ipython",
    "version": 3
   },
   "file_extension": ".py",
   "mimetype": "text/x-python",
   "name": "python",
   "nbconvert_exporter": "python",
   "pygments_lexer": "ipython3",
   "version": "3.9.18"
  }
 },
 "nbformat": 4,
 "nbformat_minor": 2
}
