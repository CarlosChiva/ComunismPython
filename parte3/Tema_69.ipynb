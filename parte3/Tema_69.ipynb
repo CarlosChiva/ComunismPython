{
 "cells": [
  {
   "cell_type": "markdown",
   "metadata": {},
   "source": [
    "                Tema 69"
   ]
  },
  {
   "cell_type": "markdown",
   "metadata": {},
   "source": [
    "Problema:"
   ]
  },
  {
   "cell_type": "markdown",
   "metadata": {},
   "source": [
    "Confeccionar una aplicación que permita ingresar dos valores enteros y al presionar un botón nos muestre la suma en el título de la ventana. Si el operador no ingresa en alguno de los dos controles Entry datos informar mediante un diálogo el error que se está cometiendo.\n",
    "Agregar además un menú de opciones que al ser seleccionado nos muestre información del programa."
   ]
  },
  {
   "cell_type": "code",
   "execution_count": 1,
   "metadata": {},
   "outputs": [],
   "source": [
    "import tkinter as tk\n",
    "from tkinter import ttk\n",
    "from tkinter import messagebox as mb"
   ]
  },
  {
   "cell_type": "code",
   "execution_count": 2,
   "metadata": {},
   "outputs": [],
   "source": [
    "class Aplicacion:\n",
    "    def __init__(self):\n",
    "        self.ventana1=tk.Tk()\n",
    "        self.labelframe1=ttk.LabelFrame(self.ventana1, text=\"Suma de números\")\n",
    "        self.labelframe1.grid(column=0, row=0, padx=10, pady=10)\n",
    "        self.agregar_componentes()\n",
    "        self.agregar_menu()\n",
    "        self.ventana1.mainloop()\n",
    "    def agregar_componentes(self):\n",
    "        self.label1=ttk.Label(self.labelframe1, text=\"Ingrese primer valor:\")\n",
    "        self.label1.grid(column=0, row=0, padx=5, pady=5, sticky=\"e\")\n",
    "        self.dato1=tk.StringVar()\n",
    "        self.entry1=ttk.Entry(self.labelframe1, textvariable=self.dato1)\n",
    "        self.entry1.grid(column=1, row=0, padx=5, pady=5)\n",
    "        self.label2=ttk.Label(self.labelframe1, text=\"Ingrese segundo valor:\")\n",
    "        self.label2.grid(column=0, row=1, padx=5, pady=5, sticky=\"e\")\n",
    "        self.dato2=tk.StringVar()\n",
    "        self.entry2=ttk.Entry(self.labelframe1, textvariable=self.dato2)\n",
    "        self.entry2.grid(column=1, row=1, padx=5, pady=5)\n",
    "        self.boton1=ttk.Button(self.labelframe1, text=\"Sumar\",\n",
    "        command=self.sumar)\n",
    "        self.boton1.grid(column=1, row=2, padx=5, pady=5, sticky=\"we\")\n",
    "    def agregar_menu(self):\n",
    "        self.menubar1 = tk.Menu(self.ventana1)\n",
    "        self.ventana1.config(menu=self.menubar1)\n",
    "        self.opciones1 = tk.Menu(self.menubar1, tearoff=0)\n",
    "        self.opciones1.add_command(label=\"Acerca de...\",\n",
    "        command=self.acerca)\n",
    "        self.menubar1.add_cascade(label=\"Opciones\", menu=self.opciones1)\n",
    "    def sumar(self):\n",
    "        if self.dato1.get()==\"\" or self.dato2.get()==\"\":\n",
    "            mb.showerror(\"Cuidado\",\"No puede dejar los cuadros de entrada de números vacíos\")\n",
    "        else:\n",
    "            suma=int(self.dato1.get())+int(self.dato2.get())\n",
    "            self.ventana1.title(\"La suma es \"+str(suma))\n",
    "    def acerca(self):\n",
    "        mb.showinfo(\"Información\", \"Este programa fue desarrollado para el aprendizaje de Python y tkinter.\")"
   ]
  },
  {
   "cell_type": "code",
   "execution_count": 3,
   "metadata": {},
   "outputs": [],
   "source": [
    "aplicacion1=Aplicacion()"
   ]
  },
  {
   "cell_type": "markdown",
   "metadata": {},
   "source": [
    "Problema"
   ]
  },
  {
   "cell_type": "markdown",
   "metadata": {},
   "source": [
    "Confeccionar un programa que tenga solo un menú de opciones que al ser presionado nos muestre un cuadro de mensaje que informe si queremos finalizar la ejecución del programa. Si se presiona \"si\" se finaliza el programa en caso contrario no se hace nada."
   ]
  },
  {
   "cell_type": "code",
   "execution_count": 6,
   "metadata": {},
   "outputs": [],
   "source": [
    "import sys\n",
    "class Aplicacion:\n",
    "    def __init__(self):\n",
    "        self.ventana1=tk.Tk()\n",
    "        self.agregar_menu()\n",
    "        self.ventana1.mainloop()\n",
    "    def agregar_menu(self):\n",
    "        self.menubar1 = tk.Menu(self.ventana1)\n",
    "        self.ventana1.config(menu=self.menubar1)\n",
    "        self.opciones1 = tk.Menu(self.menubar1, tearoff=0)\n",
    "        self.opciones1.add_command(label=\"Salir\", command=self.salir)\n",
    "        self.menubar1.add_cascade(label=\"Opciones\", menu=self.opciones1)\n",
    "    def salir(self):\n",
    "        respuesta=mb.askyesno(\"Cuidado\", \"¿Quiere salir del programa?\")\n",
    "        if respuesta==True:\n",
    "            sys.exit()"
   ]
  },
  {
   "cell_type": "code",
   "execution_count": 7,
   "metadata": {},
   "outputs": [
    {
     "name": "stderr",
     "output_type": "stream",
     "text": [
      "\n",
      "    while executing\n",
      "\"140477693148160salir\"\n",
      "    invoked from within\n",
      "\".#!menu.#!menu#!menu invoke active\"\n",
      "    (\"uplevel\" body line 1)\n",
      "    invoked from within\n",
      "\"uplevel #0 [list $w invoke active]\"\n",
      "    (procedure \"tk::MenuInvoke\" line 50)\n",
      "    invoked from within\n",
      "\"tk::MenuInvoke .#!menu.#!menu#!menu 1\"\n",
      "    (command bound to event)\n"
     ]
    },
    {
     "ename": "SystemExit",
     "evalue": "",
     "output_type": "error",
     "traceback": [
      "An exception has occurred, use %tb to see the full traceback.\n",
      "\u001b[0;31mSystemExit\u001b[0m\n"
     ]
    }
   ],
   "source": [
    "aplicacion1=Aplicacion()"
   ]
  }
 ],
 "metadata": {
  "kernelspec": {
   "display_name": "tf",
   "language": "python",
   "name": "python3"
  },
  "language_info": {
   "codemirror_mode": {
    "name": "ipython",
    "version": 3
   },
   "file_extension": ".py",
   "mimetype": "text/x-python",
   "name": "python",
   "nbconvert_exporter": "python",
   "pygments_lexer": "ipython3",
   "version": "3.9.18"
  }
 },
 "nbformat": 4,
 "nbformat_minor": 2
}
