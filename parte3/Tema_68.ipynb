{
 "cells": [
  {
   "cell_type": "markdown",
   "metadata": {},
   "source": [
    "                Tema 68"
   ]
  },
  {
   "cell_type": "markdown",
   "metadata": {},
   "source": [
    "Problema:"
   ]
  },
  {
   "cell_type": "markdown",
   "metadata": {},
   "source": [
    "Disponer una serie de botones utilizando el Layout Manager de tipo Pack."
   ]
  },
  {
   "cell_type": "code",
   "execution_count": 1,
   "metadata": {},
   "outputs": [],
   "source": [
    "import tkinter as tk\n",
    "from tkinter import ttk"
   ]
  },
  {
   "cell_type": "code",
   "execution_count": 2,
   "metadata": {},
   "outputs": [],
   "source": [
    "class Aplicacion:\n",
    "    def __init__(self):\n",
    "        self.ventana1=tk.Tk()\n",
    "        self.boton1=ttk.Button(self.ventana1, text=\"Boton 1\")\n",
    "        self.boton1.pack(side=tk.TOP, fill=tk.BOTH)\n",
    "        self.boton2=ttk.Button(self.ventana1, text=\"Boton 2\")\n",
    "        self.boton2.pack(side=tk.TOP, fill=tk.BOTH)\n",
    "        self.boton3=ttk.Button(self.ventana1, text=\"Boton 3\")\n",
    "        self.boton3.pack(side=tk.TOP, fill=tk.BOTH)\n",
    "        self.boton4=ttk.Button(self.ventana1, text=\"Boton 4\")\n",
    "        self.boton4.pack(side=tk.LEFT)\n",
    "        self.boton5=ttk.Button(self.ventana1, text=\"Boton 5\")\n",
    "        self.boton5.pack(side=tk.RIGHT)\n",
    "        self.boton6=ttk.Button(self.ventana1, text=\"Boton 6\")\n",
    "        self.boton6.pack(side=tk.RIGHT)\n",
    "        self.boton7=ttk.Button(self.ventana1, text=\"Boton 7\")\n",
    "        self.boton7.pack(side=tk.RIGHT)\n",
    "        self.ventana1.mainloop()"
   ]
  },
  {
   "cell_type": "code",
   "execution_count": 3,
   "metadata": {},
   "outputs": [],
   "source": [
    "aplicacion1=Aplicacion()"
   ]
  },
  {
   "cell_type": "markdown",
   "metadata": {},
   "source": [
    "Problema"
   ]
  },
  {
   "cell_type": "markdown",
   "metadata": {},
   "source": []
  },
  {
   "cell_type": "code",
   "execution_count": 4,
   "metadata": {},
   "outputs": [],
   "source": [
    "class Aplicacion:\n",
    "    def __init__(self):\n",
    "        self.ventana1=tk.Tk()\n",
    "        self.boton1=ttk.Button(self.ventana1, text=\"Boton 1\")\n",
    "        self.boton1.pack(side=tk.TOP, fill=tk.BOTH, padx=5, pady=5)\n",
    "        self.boton2=ttk.Button(self.ventana1, text=\"Boton 2\")\n",
    "        self.boton2.pack(side=tk.TOP, fill=tk.BOTH, padx=15, pady=15)\n",
    "        self.boton3=ttk.Button(self.ventana1, text=\"Boton 3\")\n",
    "        self.boton3.pack(side=tk.TOP, fill=tk.BOTH, padx=25, pady=25)\n",
    "        self.boton4=ttk.Button(self.ventana1, text=\"Boton 4\")\n",
    "        self.boton4.pack(side=tk.LEFT)\n",
    "        self.boton5=ttk.Button(self.ventana1, text=\"Boton 5\")\n",
    "        self.boton5.pack(side=tk.RIGHT, padx=10)\n",
    "        self.boton6=ttk.Button(self.ventana1, text=\"Boton 6\")\n",
    "        self.boton6.pack(side=tk.RIGHT)\n",
    "        self.boton7=ttk.Button(self.ventana1, text=\"Boton 7\")\n",
    "        self.boton7.pack(side=tk.RIGHT)\n",
    "        self.ventana1.mainloop()"
   ]
  },
  {
   "cell_type": "code",
   "execution_count": 5,
   "metadata": {},
   "outputs": [],
   "source": [
    "aplicacion1=Aplicacion()"
   ]
  },
  {
   "cell_type": "markdown",
   "metadata": {},
   "source": [
    "Problema:"
   ]
  },
  {
   "cell_type": "markdown",
   "metadata": {},
   "source": [
    "Disponer una serie de botones utilizando el Layout Manager de tipo Grid."
   ]
  },
  {
   "cell_type": "code",
   "execution_count": 6,
   "metadata": {},
   "outputs": [],
   "source": [
    "class Aplicacion:\n",
    "    def __init__(self):\n",
    "        self.ventana1=tk.Tk()\n",
    "        self.boton1=ttk.Button(self.ventana1, text=\"Boton 1\")\n",
    "        self.boton1.grid(column=0, row=0)\n",
    "        self.boton2=ttk.Button(self.ventana1, text=\"Boton 2\")\n",
    "        self.boton2.grid(column=1, row=0)\n",
    "        self.boton3=ttk.Button(self.ventana1, text=\"Boton 3\")\n",
    "        self.boton3.grid(column=2, row=0, rowspan=2, sticky=\"ns\")\n",
    "        self.boton4=ttk.Button(self.ventana1, text=\"Boton 4\")\n",
    "        self.boton4.grid(column=0, row=1)\n",
    "        self.boton5=ttk.Button(self.ventana1, text=\"Boton 5\")\n",
    "        self.boton5.grid(column=1, row=1)\n",
    "        self.boton6=ttk.Button(self.ventana1, text=\"Boton 6\")\n",
    "        self.boton6.grid(column=0, row=2, columnspan=3, sticky=\"we\")\n",
    "        self.ventana1.mainloop()"
   ]
  },
  {
   "cell_type": "code",
   "execution_count": 7,
   "metadata": {},
   "outputs": [],
   "source": [
    "aplicacion1=Aplicacion()"
   ]
  },
  {
   "cell_type": "markdown",
   "metadata": {},
   "source": [
    "Problema:"
   ]
  },
  {
   "cell_type": "markdown",
   "metadata": {},
   "source": [
    "Disponer dos botones en la parte inferior derecha de la ventana utilizando el Layout Manager de tipo Place. El ancho y alto de la ventana debe ser de 800 por 600 píxeles."
   ]
  },
  {
   "cell_type": "code",
   "execution_count": 8,
   "metadata": {},
   "outputs": [],
   "source": [
    "class Aplicacion:\n",
    "    def __init__(self):\n",
    "        self.ventana1=tk.Tk()\n",
    "        self.ventana1.geometry(\"800x600\")\n",
    "        self.ventana1.resizable(0,0)\n",
    "        self.boton1=ttk.Button(self.ventana1, text=\"Confirmar\")\n",
    "        self.boton1.place(x=680, y=550, width=90, height=30)\n",
    "        self.boton2=ttk.Button(self.ventana1, text=\"Cancelar\")\n",
    "        self.boton2.place(x=580, y=550, width=90, height=30)\n",
    "        self.ventana1.mainloop()"
   ]
  },
  {
   "cell_type": "code",
   "execution_count": 9,
   "metadata": {},
   "outputs": [],
   "source": [
    "aplicacion1=Aplicacion()"
   ]
  }
 ],
 "metadata": {
  "kernelspec": {
   "display_name": "tf",
   "language": "python",
   "name": "python3"
  },
  "language_info": {
   "codemirror_mode": {
    "name": "ipython",
    "version": 3
   },
   "file_extension": ".py",
   "mimetype": "text/x-python",
   "name": "python",
   "nbconvert_exporter": "python",
   "pygments_lexer": "ipython3",
   "version": "3.9.18"
  }
 },
 "nbformat": 4,
 "nbformat_minor": 2
}
