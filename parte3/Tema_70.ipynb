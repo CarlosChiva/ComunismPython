{
 "cells": [
  {
   "cell_type": "markdown",
   "metadata": {},
   "source": [
    "                Tema 70"
   ]
  },
  {
   "cell_type": "markdown",
   "metadata": {},
   "source": [
    "Problema:"
   ]
  },
  {
   "cell_type": "markdown",
   "metadata": {},
   "source": [
    "Confeccionar una aplicación que muestre un diálogo cuando se seleccione una opción de un menú.\n",
    "El dialogo debe solicitar el ingreso de dos enteros que se utilizarán en la ventana principal para redimensionarla."
   ]
  },
  {
   "cell_type": "code",
   "execution_count": 1,
   "metadata": {},
   "outputs": [],
   "source": [
    "import tkinter as tk\n",
    "from tkinter import ttk\n",
    "from tkinter import messagebox as mb"
   ]
  },
  {
   "cell_type": "code",
   "execution_count": 2,
   "metadata": {},
   "outputs": [],
   "source": [
    "class Aplicacion:\n",
    "    def __init__(self):\n",
    "        self.ventana1=tk.Tk()\n",
    "        self.agregar_menu()\n",
    "        self.ventana1.mainloop()\n",
    "    def agregar_menu(self):\n",
    "        self.menubar1 = tk.Menu(self.ventana1)\n",
    "        self.ventana1.config(menu=self.menubar1)\n",
    "        self.opciones1 = tk.Menu(self.menubar1, tearoff=0)\n",
    "        self.opciones1.add_command(label=\"Configurar ventana\",command=self.configurar)\n",
    "        self.menubar1.add_cascade(label=\"Opciones\", menu=self.opciones1)\n",
    "    def configurar(self):\n",
    "        dialogo1 = DialogoTamano(self.ventana1)\n",
    "        s=dialogo1.mostrar()\n",
    "        self.ventana1.geometry(s[0]+\"x\"+s[1])"
   ]
  },
  {
   "cell_type": "code",
   "execution_count": null,
   "metadata": {},
   "outputs": [],
   "source": [
    "class DialogoTamano:\n",
    "    def __init__(self, ventanaprincipal):\n",
    "        self.dialogo=tk.Toplevel(ventanaprincipal)\n",
    "        self.label1=ttk.Label(self.dialogo, text=\"Ingrese ancho:\")\n",
    "        self.label1.grid(column=0, row=0, padx=5, pady=5)\n",
    "        self.dato1=tk.StringVar()\n",
    "        self.entry1=ttk.Entry(self.dialogo, textvariable=self.dato1)\n",
    "        self.entry1.grid(column=1, row=0, padx=5, pady=5)\n",
    "        self.entry1.focus()\n",
    "        self.label2=ttk.Label(self.dialogo, text=\"Ingrese alto:\")\n",
    "        self.label2.grid(column=0, row=1, padx=5, pady=5)\n",
    "        self.dato2=tk.StringVar()\n",
    "        self.entry2=ttk.Entry(self.dialogo, textvariable=self.dato2)\n",
    "        self.entry2.grid(column=1, row=1, padx=5, pady=5)\n",
    "        self.boton1=ttk.Button(self.dialogo, text=\"Confirmar\",command=self.confirmar)\n",
    "        self.boton1.grid(column=1, row=2, padx=5, pady=5)\n",
    "        self.dialogo.protocol(\"WM_DELETE_WINDOW\", self.confirmar)\n",
    "        self.dialogo.resizable(0,0)\n",
    "        self.dialogo.grab_set()\n",
    "    def mostrar(self):\n",
    "        self.dialogo.wait_window()\n",
    "        return (self.dato1.get(), self.dato2.get())\n",
    "    def confirmar(self):\n",
    "        self.dialogo.destroy()"
   ]
  },
  {
   "cell_type": "code",
   "execution_count": 3,
   "metadata": {},
   "outputs": [],
   "source": [
    "aplicacion1=Aplicacion()"
   ]
  }
 ],
 "metadata": {
  "kernelspec": {
   "display_name": "tf",
   "language": "python",
   "name": "python3"
  },
  "language_info": {
   "codemirror_mode": {
    "name": "ipython",
    "version": 3
   },
   "file_extension": ".py",
   "mimetype": "text/x-python",
   "name": "python",
   "nbconvert_exporter": "python",
   "pygments_lexer": "ipython3",
   "version": "3.9.18"
  }
 },
 "nbformat": 4,
 "nbformat_minor": 2
}
