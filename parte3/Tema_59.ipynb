{
 "cells": [
  {
   "cell_type": "markdown",
   "metadata": {},
   "source": [
    "                Tema 59"
   ]
  },
  {
   "cell_type": "markdown",
   "metadata": {},
   "source": [
    "Problema:"
   ]
  },
  {
   "cell_type": "markdown",
   "metadata": {},
   "source": [
    "Confeccionar una aplicación que permita ingresar un entero por teclado y al presionar un botón muestre dicho valor elevado al cuadrado en una Label."
   ]
  },
  {
   "cell_type": "code",
   "execution_count": 1,
   "metadata": {},
   "outputs": [],
   "source": [
    "import tkinter as tk\n"
   ]
  },
  {
   "cell_type": "code",
   "execution_count": 2,
   "metadata": {},
   "outputs": [],
   "source": [
    "class Aplicacion:\n",
    "    def __init__(self):\n",
    "        self.ventana1=tk.Tk()\n",
    "        self.label1=tk.Label(self.ventana1,text=\"Ingrese un número:\")\n",
    "        self.label1.grid(column=0, row=0)\n",
    "        self.dato=tk.StringVar()\n",
    "        self.entry1=tk.Entry(self.ventana1, width=10, textvariable=self.dato)\n",
    "        self.entry1.grid(column=0, row=1)\n",
    "        self.boton1=tk.Button(self.ventana1, text=\"Calcular Cuadrado\",\n",
    "        command=self.calcularcuadrado)\n",
    "        self.boton1.grid(column=0, row=2)\n",
    "        self.label2=tk.Label(self.ventana1,text=\"resultado\")\n",
    "        self.label2.grid(column=0, row=3)\n",
    "        self.ventana1.mainloop()\n",
    "    def calcularcuadrado(self):\n",
    "        valor=int(self.dato.get())\n",
    "        cuadrado=valor*valor\n",
    "        self.label2.configure(text=cuadrado)\n"
   ]
  },
  {
   "cell_type": "code",
   "execution_count": 3,
   "metadata": {},
   "outputs": [],
   "source": [
    "aplicacion1=Aplicacion()"
   ]
  },
  {
   "cell_type": "markdown",
   "metadata": {},
   "source": [
    "Problema 2:"
   ]
  },
  {
   "cell_type": "code",
   "execution_count": 4,
   "metadata": {},
   "outputs": [],
   "source": [
    "class Aplicacion:\n",
    "    def __init__(self):\n",
    "        self.ventana1=tk.Tk()\n",
    "        self.label1=tk.Label(self.ventana1,text=\"Ingrese nombre de usuario:\")\n",
    "        self.label1.grid(column=0, row=0)\n",
    "        self.dato=tk.StringVar()\n",
    "        self.entry1=tk.Entry(self.ventana1, width=20, textvariable=self.dato)\n",
    "        self.entry1.grid(column=1, row=0)\n",
    "        self.boton1=tk.Button(self.ventana1, text=\"Ingresar\",\n",
    "        command=self.ingresar)\n",
    "        self.boton1.grid(column=1, row=1)\n",
    "        self.ventana1.mainloop()\n",
    "    def ingresar(self):\n",
    "        self.ventana1.title(self.dato.get())\n"
   ]
  },
  {
   "cell_type": "code",
   "execution_count": 5,
   "metadata": {},
   "outputs": [],
   "source": [
    "aplicacion1=Aplicacion()"
   ]
  },
  {
   "cell_type": "markdown",
   "metadata": {},
   "source": [
    "Problemas propuestos:"
   ]
  },
  {
   "cell_type": "markdown",
   "metadata": {},
   "source": [
    "Confeccionar un programa que permita ingresar dos números en\n",
    "controles de tipo Entry, luego sumar los dos valores ingresados y mostrar la suma en una Label al presionar un botón."
   ]
  },
  {
   "cell_type": "code",
   "execution_count": 6,
   "metadata": {},
   "outputs": [],
   "source": [
    "class Aplicacion:\n",
    "    def __init__(self):\n",
    "        self.ventana1=tk.Tk()\n",
    "        self.label1=tk.Label(self.ventana1,text=\"Ingrese primer valor:\")\n",
    "        self.label1.grid(column=0, row=0)\n",
    "        self.dato1=tk.StringVar()\n",
    "        self.entry1=tk.Entry(self.ventana1, width=20, textvariable=self.dato1)\n",
    "        self.entry1.grid(column=1, row=0)\n",
    "        self.label2=tk.Label(text=\"Ingrese segundo valor:\")\n",
    "        self.label2.grid(column=0, row=1)\n",
    "        self.dato2=tk.StringVar()\n",
    "        self.entry2=tk.Entry(self.ventana1, width=20, textvariable=self.dato2)\n",
    "        self.entry2.grid(column=1, row=1)\n",
    "        self.boton1=tk.Button(self.ventana1, text=\"Sumar\", command=self.sumar)\n",
    "        self.boton1.grid(column=1, row=2)\n",
    "        self.label3=tk.Label(self.ventana1,text=\"resultado\")\n",
    "        self.label3.grid(column=1, row=3)\n",
    "        self.ventana1.mainloop()\n",
    "    def sumar(self):\n",
    "        suma=int(self.dato1.get()) + int(self.dato2.get())\n",
    "        self.label3.configure(text=suma)"
   ]
  },
  {
   "cell_type": "code",
   "execution_count": 7,
   "metadata": {},
   "outputs": [],
   "source": [
    "aplicacion1=Aplicacion()"
   ]
  },
  {
   "cell_type": "markdown",
   "metadata": {},
   "source": [
    "Ingresar el nombre de usuario y clave en controles de tipo Entry. Si se ingresa\n",
    "las cadena (usuario: juan, clave=\"abc123\") luego mostrar en el título de la\n",
    "ventana el mensaje \"Correcto\" en caso contrario mostrar el mensaje \"Incorrecto\"."
   ]
  },
  {
   "cell_type": "code",
   "execution_count": 8,
   "metadata": {},
   "outputs": [],
   "source": [
    "class Aplicacion:\n",
    "    def __init__(self):\n",
    "        self.ventana1=tk.Tk()\n",
    "        self.label1=tk.Label(self.ventana1,text=\"Ingrese nombre de usuario:\")\n",
    "        self.label1.grid(column=0, row=0)\n",
    "        self.dato1=tk.StringVar()\n",
    "        self.entry1=tk.Entry(self.ventana1, width=30, textvariable=self.dato1)\n",
    "        self.entry1.grid(column=1, row=0)\n",
    "        self.label2=tk.Label(text=\"Ingrese clave:\")\n",
    "        self.label2.grid(column=0, row=1)\n",
    "        self.dato2=tk.StringVar()\n",
    "        self.entry2=tk.Entry(self.ventana1, width=30, textvariable=self.dato2, show=\"*\")\n",
    "        self.entry2.grid(column=1, row=1)\n",
    "        self.boton1=tk.Button(self.ventana1, text=\"Ingresar\", command=self.ingresar)\n",
    "        self.boton1.grid(column=1, row=2)\n",
    "        self.ventana1.mainloop()\n",
    "    def ingresar(self):\n",
    "        if self.dato1.get()==\"juan\" and self.dato2.get()==\"abc123\":\n",
    "            self.ventana1.title(\"Correcto\")\n",
    "        else:\n",
    "            self.ventana1.title(\"Incorrecto\")"
   ]
  },
  {
   "cell_type": "code",
   "execution_count": 9,
   "metadata": {},
   "outputs": [],
   "source": [
    "aplicacion1=Aplicacion()"
   ]
  }
 ],
 "metadata": {
  "kernelspec": {
   "display_name": "tf",
   "language": "python",
   "name": "python3"
  },
  "language_info": {
   "codemirror_mode": {
    "name": "ipython",
    "version": 3
   },
   "file_extension": ".py",
   "mimetype": "text/x-python",
   "name": "python",
   "nbconvert_exporter": "python",
   "pygments_lexer": "ipython3",
   "version": "3.9.18"
  }
 },
 "nbformat": 4,
 "nbformat_minor": 2
}
