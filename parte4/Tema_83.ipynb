{
 "cells": [
  {
   "cell_type": "markdown",
   "metadata": {},
   "source": [
    "                Tema 83"
   ]
  },
  {
   "cell_type": "markdown",
   "metadata": {},
   "source": [
    "Recuperar el valor del campo auto_increment en un insert."
   ]
  },
  {
   "cell_type": "code",
   "execution_count": 1,
   "metadata": {},
   "outputs": [],
   "source": [
    "import mysql.connector"
   ]
  },
  {
   "cell_type": "code",
   "execution_count": 2,
   "metadata": {},
   "outputs": [],
   "source": [
    "conexion1=mysql.connector.connect(host=\"localhost\",\n",
    "user=\"root\",\n",
    "passwd=\"\",\n",
    "database=\"bd1\")\n",
    "cursor1=conexion1.cursor()\n",
    "sql=\"insert into articulos(descripcion, precio) values (%s,%s)\"\n",
    "datos=(\"naranjas\", 23.50)\n",
    "cursor1.execute(sql, datos)\n",
    "conexion1.commit()\n",
    "print(\"Valor del último codigo de artículo generado:\", cursor1.lastrowid)\n",
    "conexion1.close()"
   ]
  },
  {
   "cell_type": "markdown",
   "metadata": {},
   "source": [
    "Inserción de múltiples filas en una tabla."
   ]
  },
  {
   "cell_type": "code",
   "execution_count": null,
   "metadata": {},
   "outputs": [],
   "source": [
    "conexion1=mysql.connector.connect(host=\"localhost\",\n",
    "user=\"root\",\n",
    "passwd=\"\",\n",
    "database=\"bd1\")\n",
    "cursor1=conexion1.cursor()\n",
    "sql=\"insert into articulos(descripcion, precio) values (%s,%s)\"\n",
    "filas=[ (\"naranjas\", 23.50),\n",
    "(\"bananas\", 34),\n",
    "(\"peras\", 21),\n",
    "(\"sandía\", 19.60) ]\n",
    "cursor1.executemany(sql, filas)\n",
    "conexion1.commit()\n",
    "conexion1.close()"
   ]
  },
  {
   "cell_type": "markdown",
   "metadata": {},
   "source": [
    "Creación de una base de datos y tablas."
   ]
  },
  {
   "cell_type": "code",
   "execution_count": null,
   "metadata": {},
   "outputs": [],
   "source": [
    "conexion1=mysql.connector.connect(host=\"localhost\",\n",
    "user=\"root\",\n",
    "passwd=\"\")\n",
    "cursor1=conexion1.cursor()\n",
    "sql=\"create database bd2\"\n",
    "cursor1.execute(sql)\n",
    "sql=\"use bd2\"\n",
    "cursor1.execute(sql)\n",
    "sql=\"\"\"create table usuarios (\n",
    "nombre varchar(30) primary key,\n",
    "clave varchar(30)\n",
    ")\"\"\"\n",
    "cursor1.execute(sql)\n",
    "conexion1.commit()\n",
    "conexion1.close()"
   ]
  },
  {
   "cell_type": "markdown",
   "metadata": {},
   "source": [
    "Borrar una base de datos."
   ]
  },
  {
   "cell_type": "code",
   "execution_count": null,
   "metadata": {},
   "outputs": [],
   "source": [
    "conexion1=mysql.connector.connect(host=\"localhost\",\n",
    "user=\"root\",\n",
    "passwd=\"\")\n",
    "cursor1=conexion1.cursor()\n",
    "sql=\"drop database if exists bd2\"\n",
    "cursor1.execute(sql)\n",
    "sql=\"create database bd2\"\n",
    "cursor1.execute(sql)\n",
    "sql=\"use bd2\"\n",
    "cursor1.execute(sql)\n",
    "sql=\"\"\"create table usuarios (\n",
    "nombre varchar(30) primary key,\n",
    "clave varchar(30)\n",
    ")\"\"\"\n",
    "cursor1.execute(sql)\n",
    "conexion1.commit()\n",
    "conexion1.close()"
   ]
  },
  {
   "cell_type": "markdown",
   "metadata": {},
   "source": [
    "Borrar una tabla y crear otra con el mismo nombre."
   ]
  },
  {
   "cell_type": "code",
   "execution_count": null,
   "metadata": {},
   "outputs": [],
   "source": [
    "conexion1=mysql.connector.connect(host=\"localhost\",\n",
    "user=\"root\",\n",
    "passwd=\"\",\n",
    "database=\"bd2\")\n",
    "cursor1=conexion1.cursor()\n",
    "sql=\"drop table if exists usuarios\"\n",
    "cursor1.execute(sql)\n",
    "sql=\"\"\"create table usuarios (\n",
    "nombre varchar(30) primary key,\n",
    "clave varchar(30)\n",
    ")\"\"\"\n",
    "cursor1.execute(sql)\n",
    "conexion1.commit()\n",
    "conexion1.close()"
   ]
  }
 ],
 "metadata": {
  "kernelspec": {
   "display_name": "tf",
   "language": "python",
   "name": "python3"
  },
  "language_info": {
   "codemirror_mode": {
    "name": "ipython",
    "version": 3
   },
   "file_extension": ".py",
   "mimetype": "text/x-python",
   "name": "python",
   "nbconvert_exporter": "python",
   "pygments_lexer": "ipython3",
   "version": "3.9.18"
  }
 },
 "nbformat": 4,
 "nbformat_minor": 2
}
