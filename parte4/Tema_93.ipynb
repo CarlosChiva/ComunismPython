{
 "cells": [
  {
   "cell_type": "markdown",
   "metadata": {},
   "source": [
    "                Tema 93"
   ]
  },
  {
   "cell_type": "markdown",
   "metadata": {},
   "source": [
    "Problema 1:"
   ]
  },
  {
   "cell_type": "markdown",
   "metadata": {},
   "source": [
    "Definir una función de orden superior llamada operar. Llegan como parámetro dos enteros y una función. En el bloque de la función llamar a la función que llega como parámetro y enviar los dos primeros parámetros.\n",
    "Desde el bloque principal llamar a operar y enviar distintas expresiones lambdas que permitan sumar, restar, multiplicar y dividir ."
   ]
  },
  {
   "cell_type": "code",
   "execution_count": 1,
   "metadata": {},
   "outputs": [],
   "source": [
    "def operar(v1,v2,fn):\n",
    "    return fn(v1,v2)\n"
   ]
  },
  {
   "cell_type": "code",
   "execution_count": 2,
   "metadata": {},
   "outputs": [
    {
     "name": "stdout",
     "output_type": "stream",
     "text": [
      "13\n",
      "7\n",
      "300\n",
      "5.0\n"
     ]
    }
   ],
   "source": [
    "resu1=operar(10,3,lambda x1,x2: x1+x2)\n",
    "print(resu1)\n",
    "resu2=operar(10,3,lambda x1,x2: x1-x2)\n",
    "print(resu2)\n",
    "print(operar(30,10,lambda x1,x2: x1*x2))\n",
    "print(operar(10,2,lambda x1,x2: x1/x2))"
   ]
  },
  {
   "cell_type": "markdown",
   "metadata": {},
   "source": [
    "Problema 2:"
   ]
  },
  {
   "cell_type": "markdown",
   "metadata": {},
   "source": [
    "Confeccionar una función de orden superior que reciba una lista que almacena valores enteros y una función con un parámetro entero y que retorne un boolean.\n",
    "La función debe analizar cada elemento de la lista llamando a la función que recibe como parámetro, si retorna un True se pasa a mostrar el elemento.\n",
    "En el bloque principal definir una lista de enteros."
   ]
  },
  {
   "cell_type": "code",
   "execution_count": 3,
   "metadata": {},
   "outputs": [],
   "source": [
    "def imprimir_si(lista, fn):\n",
    "    for elemento in lista:\n",
    "        if fn(elemento):\n",
    "            print(elemento)"
   ]
  },
  {
   "cell_type": "code",
   "execution_count": 4,
   "metadata": {},
   "outputs": [
    {
     "name": "stdout",
     "output_type": "stream",
     "text": [
      "Valores pares de la lista\n",
      "20\n",
      "70\n",
      "60\n",
      "Valores múltiplos de 3 o de 5\n",
      "9\n",
      "20\n",
      "70\n",
      "60\n",
      "Imprimir valores mayores o iguales a 50\n",
      "70\n",
      "60\n",
      "Imprimir los valores comprendidos entre 1 y 50 o 70 y 100\n",
      "9\n",
      "20\n",
      "70\n",
      "19\n",
      "Imprimir la lista completa\n",
      "9\n",
      "20\n",
      "70\n",
      "60\n",
      "19\n"
     ]
    }
   ],
   "source": [
    "lista1=[9, 20, 70, 60, 19]\n",
    "print(\"Valores pares de la lista\")\n",
    "imprimir_si(lista1, lambda x: x%2==0)\n",
    "print(\"Valores múltiplos de 3 o de 5\")\n",
    "imprimir_si(lista1, lambda x: x%3==0 or x%5==0)\n",
    "print(\"Imprimir valores mayores o iguales a 50\")\n",
    "imprimir_si(lista1, lambda x: x>=50)\n",
    "print(\"Imprimir los valores comprendidos entre 1 y 50 o 70 y 100\")\n",
    "imprimir_si(lista1, lambda x: x>=1 and x<=50 or x>=70 and x<=100)\n",
    "print(\"Imprimir la lista completa\")\n",
    "imprimir_si(lista1, lambda x: True )"
   ]
  },
  {
   "cell_type": "markdown",
   "metadata": {},
   "source": [
    "Problema 3"
   ]
  },
  {
   "cell_type": "markdown",
   "metadata": {},
   "source": [
    "Confeccionar una función de orden superior que reciba un String y una función con un parámetro de tipo String que retorna un Boolean.\n",
    "La función debe analizar cada elemento del String llamando a la función que recibe como parámetro, si retorna un True se agrega dicho caracter al String que se retornará.\n",
    "En el bloque principal definir un String con una cadena cualquiera.\n",
    "Llamar a la función de orden superior y pasar expresiones lambdas para filtrar y generar otro String con las siguientes restricciones:\n",
    "●  Un String solo con las vocales\n",
    "●  Un String solo con los caracteres en minúsculas\n",
    "●  Un String con todos los caracteres no alfabéticos"
   ]
  },
  {
   "cell_type": "code",
   "execution_count": 5,
   "metadata": {},
   "outputs": [],
   "source": [
    "def filtrar(cadena,fn):\n",
    "    cad=\"\"\n",
    "    for caracter in cadena:\n",
    "        if fn(caracter):\n",
    "            cad=cad+caracter\n",
    "    return cad"
   ]
  },
  {
   "cell_type": "code",
   "execution_count": 6,
   "metadata": {},
   "outputs": [
    {
     "name": "stdout",
     "output_type": "stream",
     "text": [
      "String original\n",
      "¿Esto es la prueba 1 o la prueba 2?\n",
      "String solo con las vocales\n",
      "Eoeaueaoauea\n",
      "String solo con los caracteres en minúscula\n",
      "stoeslapruebaolaprueba\n",
      "String solo con los caracteres no alfabéticos\n",
      "¿    1    2?\n"
     ]
    }
   ],
   "source": [
    "cadena=\"¿Esto es la prueba 1 o la prueba 2?\"\n",
    "print(\"String original\")\n",
    "print(cadena)\n",
    "print(\"String solo con las vocales\")\n",
    "cadena2=filtrar(cadena, lambda car: car == 'a' or car == 'e' or car == 'i' or car == 'o' or car == 'u' or car == 'A' or car == 'E' or car == 'I' or car == 'O' or car == 'U')\n",
    "print(cadena2)\n",
    "print(\"String solo con los caracteres en minúscula\")\n",
    "cadena3=filtrar(cadena, lambda car: car >='a' and car <= 'z')\n",
    "print(cadena3)\n",
    "print(\"String solo con los caracteres no alfabéticos\")\n",
    "cadena3=filtrar(cadena, lambda car: not(car >='a' and car <= 'z') and not(car>='A' and car <= 'Z'))\n",
    "print(cadena3)"
   ]
  }
 ],
 "metadata": {
  "kernelspec": {
   "display_name": "tf",
   "language": "python",
   "name": "python3"
  },
  "language_info": {
   "codemirror_mode": {
    "name": "ipython",
    "version": 3
   },
   "file_extension": ".py",
   "mimetype": "text/x-python",
   "name": "python",
   "nbconvert_exporter": "python",
   "pygments_lexer": "ipython3",
   "version": "3.9.18"
  }
 },
 "nbformat": 4,
 "nbformat_minor": 2
}
