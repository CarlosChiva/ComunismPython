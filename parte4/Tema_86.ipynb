{
 "cells": [
  {
   "cell_type": "markdown",
   "metadata": {},
   "source": [
    "                Tema 86"
   ]
  },
  {
   "cell_type": "markdown",
   "metadata": {},
   "source": [
    "Problema:"
   ]
  },
  {
   "cell_type": "markdown",
   "metadata": {},
   "source": [
    "Almacenar una serie de string en un archivo de texto. Tratar de llamar al método 'write' pasando un entero."
   ]
  },
  {
   "cell_type": "code",
   "execution_count": 1,
   "metadata": {},
   "outputs": [
    {
     "name": "stdout",
     "output_type": "stream",
     "text": [
      "No se puede grabar un entero con write\n",
      "Se cerró el archivo\n"
     ]
    }
   ],
   "source": [
    "try:\n",
    "    archi1=open(\"datos.txt\",\"w\")\n",
    "    archi1.write(\"Primer línea.\\n\")\n",
    "    archi1.write(\"Segunda línea.\\n\")\n",
    "    archi1.write(\"Tercer línea.\\n\")\n",
    "    archi1.write(3334)\n",
    "except TypeError:\n",
    "    print(\"No se puede grabar un entero con write\")\n",
    "finally:\n",
    "    archi1.close()\n",
    "    print(\"Se cerró el archivo\")"
   ]
  },
  {
   "cell_type": "markdown",
   "metadata": {},
   "source": [
    "Problema"
   ]
  },
  {
   "cell_type": "markdown",
   "metadata": {},
   "source": [
    "Conectarse a una base de datos de MySQL y ejecutar un comando SQL incorrecto."
   ]
  },
  {
   "cell_type": "code",
   "execution_count": null,
   "metadata": {},
   "outputs": [],
   "source": [
    "import mysql.connector\n",
    "try:\n",
    "    conexion1=mysql.connector.connect(host=\"localhost\", user=\"root\",\n",
    "    passwd=\"\")\n",
    "    cursor1=conexion1.cursor()\n",
    "    cursor1.execute(\"show databasesqqqqqqqq\")\n",
    "    for base in cursor1:\n",
    "        print(base)\n",
    "except mysql.connector.errors.ProgrammingError:\n",
    "    print(\"Error en el comando SQL\")\n",
    "finally:\n",
    "    conexion1.close()\n",
    "    print(\"Se cerró la conexión a la base de datos\")"
   ]
  }
 ],
 "metadata": {
  "kernelspec": {
   "display_name": "tf",
   "language": "python",
   "name": "python3"
  },
  "language_info": {
   "codemirror_mode": {
    "name": "ipython",
    "version": 3
   },
   "file_extension": ".py",
   "mimetype": "text/x-python",
   "name": "python",
   "nbconvert_exporter": "python",
   "pygments_lexer": "ipython3",
   "version": "3.9.18"
  }
 },
 "nbformat": 4,
 "nbformat_minor": 2
}
