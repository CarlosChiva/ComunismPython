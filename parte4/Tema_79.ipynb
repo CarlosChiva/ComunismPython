{
 "cells": [
  {
   "cell_type": "markdown",
   "metadata": {},
   "source": [
    "                Tema 79"
   ]
  },
  {
   "cell_type": "markdown",
   "metadata": {},
   "source": [
    "Problema:"
   ]
  },
  {
   "cell_type": "markdown",
   "metadata": {},
   "source": [
    "Crear un archivo de texto llamado 'datos.txt', almacenar tres líneas de texto. Abrir luego el archivo creado con un editor de texto."
   ]
  },
  {
   "cell_type": "code",
   "execution_count": 2,
   "metadata": {},
   "outputs": [],
   "source": [
    "archi1=open(\"datos.txt\",\"w\")\n",
    "archi1.write(\"Primer línea.\\n\")\n",
    "archi1.write(\"Segunda línea.\\n\")\n",
    "archi1.write(\"Tercer línea.\\n\")\n",
    "archi1.close()"
   ]
  },
  {
   "cell_type": "markdown",
   "metadata": {},
   "source": [
    "Problema"
   ]
  },
  {
   "cell_type": "markdown",
   "metadata": {},
   "source": [
    "Leer el contenido del archivo de texto 'datos.txt'."
   ]
  },
  {
   "cell_type": "code",
   "execution_count": 3,
   "metadata": {},
   "outputs": [
    {
     "name": "stdout",
     "output_type": "stream",
     "text": [
      "Primer línea.\n",
      "Segunda línea.\n",
      "Tercer línea.\n",
      "\n"
     ]
    }
   ],
   "source": [
    "archi1=open(\"datos.txt\",\"r\")\n",
    "contenido=archi1.read()\n",
    "print(contenido)\n",
    "archi1.close()"
   ]
  },
  {
   "cell_type": "markdown",
   "metadata": {},
   "source": [
    "Problema"
   ]
  },
  {
   "cell_type": "markdown",
   "metadata": {},
   "source": [
    "Leer el contenido del archivo de texto 'datos.txt'."
   ]
  },
  {
   "cell_type": "code",
   "execution_count": 4,
   "metadata": {},
   "outputs": [
    {
     "name": "stdout",
     "output_type": "stream",
     "text": [
      "Primer línea.\n",
      "Segunda línea.\n",
      "Tercer línea.\n",
      "\n"
     ]
    }
   ],
   "source": [
    "archi1=open(\"datos.txt\",\"r\")\n",
    "contenido=archi1.read()\n",
    "print(contenido)\n",
    "archi1.close()"
   ]
  },
  {
   "cell_type": "markdown",
   "metadata": {},
   "source": [
    "Problema"
   ]
  },
  {
   "cell_type": "markdown",
   "metadata": {},
   "source": [
    "Leer el contenido del archivo de texto 'datos.txt' línea a línea."
   ]
  },
  {
   "cell_type": "code",
   "execution_count": 5,
   "metadata": {},
   "outputs": [
    {
     "name": "stdout",
     "output_type": "stream",
     "text": [
      "Primer línea.\n",
      "Segunda línea.\n",
      "Tercer línea.\n"
     ]
    }
   ],
   "source": [
    "archi1=open(\"datos.txt\",\"r\")\n",
    "linea=archi1.readline()\n",
    "while linea!='':\n",
    "    print(linea, end='')\n",
    "    linea=archi1.readline()\n",
    "archi1.close()"
   ]
  },
  {
   "cell_type": "markdown",
   "metadata": {},
   "source": [
    "Problema"
   ]
  },
  {
   "cell_type": "markdown",
   "metadata": {},
   "source": [
    "Leer el contenido del archivo de texto 'datos.txt' y almacenar sus líneas en una lista. Imprimir la cantidad de líneas que tiene el archivo y su contenido."
   ]
  },
  {
   "cell_type": "code",
   "execution_count": 6,
   "metadata": {},
   "outputs": [
    {
     "name": "stdout",
     "output_type": "stream",
     "text": [
      "El archivo tiene 3 líneas\n",
      "El contenido del archivo\n",
      "Primer línea.\n",
      "Segunda línea.\n",
      "Tercer línea.\n"
     ]
    }
   ],
   "source": [
    "archi1=open(\"datos.txt\",\"r\")\n",
    "lineas=archi1.readlines()\n",
    "print('El archivo tiene', len(lineas), 'líneas')\n",
    "print('El contenido del archivo')\n",
    "for linea in lineas:\n",
    "    print(linea, end='')\n",
    "archi1.close()"
   ]
  },
  {
   "cell_type": "markdown",
   "metadata": {},
   "source": [
    "Problema"
   ]
  },
  {
   "cell_type": "markdown",
   "metadata": {},
   "source": [
    "Abrir el archivo de texto 'datos.txt' y luego agregar 2 líneas. Imprimir luego el archivo completo."
   ]
  },
  {
   "cell_type": "markdown",
   "metadata": {},
   "source": [
    "Problema propuesto"
   ]
  },
  {
   "cell_type": "markdown",
   "metadata": {},
   "source": [
    "Mediante dos controles de tipo Entry permitir el ingreso de dos números.\n",
    "Crear un menú que contenga una opción que cambie el tamaño de la ventana con los valores ingresados por teclado. Finalmente disponer otra opción que finalice el programa"
   ]
  },
  {
   "cell_type": "code",
   "execution_count": 7,
   "metadata": {},
   "outputs": [
    {
     "name": "stdout",
     "output_type": "stream",
     "text": [
      "Primer línea.\n",
      "Segunda línea.\n",
      "Tercer línea.\n",
      "nueva línea 1\n",
      "nueva línea 2\n",
      "\n"
     ]
    }
   ],
   "source": [
    "archi1=open(\"datos.txt\",\"a\")\n",
    "archi1.write(\"nueva línea 1\\n\")\n",
    "archi1.write(\"nueva línea 2\\n\")\n",
    "archi1.close()\n",
    "archi1=open(\"datos.txt\",\"r\")\n",
    "contenido=archi1.read()\n",
    "print(contenido)\n",
    "archi1.close()"
   ]
  },
  {
   "cell_type": "markdown",
   "metadata": {},
   "source": [
    "Problema"
   ]
  },
  {
   "cell_type": "markdown",
   "metadata": {},
   "source": [
    "Abrir un archivo de texto con el parámetro \"r+\", imprimir su contenido actual y agregar luego dos líneas al final."
   ]
  },
  {
   "cell_type": "code",
   "execution_count": 8,
   "metadata": {},
   "outputs": [
    {
     "name": "stdout",
     "output_type": "stream",
     "text": [
      "Primer línea.\n",
      "Segunda línea.\n",
      "Tercer línea.\n",
      "nueva línea 1\n",
      "nueva línea 2\n",
      "\n"
     ]
    }
   ],
   "source": [
    "archi1=open(\"datos.txt\",\"r+\")\n",
    "contenido=archi1.read()\n",
    "print(contenido)\n",
    "archi1.write(\"Otra línea 1\\n\")\n",
    "archi1.write(\"Otra línea 2\\n\")\n",
    "archi1.close()"
   ]
  },
  {
   "cell_type": "markdown",
   "metadata": {},
   "source": [
    "Problema"
   ]
  },
  {
   "cell_type": "markdown",
   "metadata": {},
   "source": [
    "Crear un archivo de texto llamado 'datos.txt' con una codificación utf-8, almacenar tres líneas de texto. Abrir luego el archivo creado con el editor VS Code."
   ]
  },
  {
   "cell_type": "code",
   "execution_count": 9,
   "metadata": {},
   "outputs": [],
   "source": [
    "archi1=open(\"datos.txt\",\"w\", encoding=\"utf-8\")\n",
    "archi1.write(\"Primer línea.\\n\")\n",
    "archi1.write(\"Segunda línea.\\n\")\n",
    "archi1.write(\"Tercer línea.\\n\")\n",
    "archi1.close()"
   ]
  }
 ],
 "metadata": {
  "kernelspec": {
   "display_name": "tf",
   "language": "python",
   "name": "python3"
  },
  "language_info": {
   "codemirror_mode": {
    "name": "ipython",
    "version": 3
   },
   "file_extension": ".py",
   "mimetype": "text/x-python",
   "name": "python",
   "nbconvert_exporter": "python",
   "pygments_lexer": "ipython3",
   "version": "3.9.18"
  }
 },
 "nbformat": 4,
 "nbformat_minor": 2
}
