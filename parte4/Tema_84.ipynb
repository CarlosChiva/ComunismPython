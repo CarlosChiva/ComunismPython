{
 "cells": [
  {
   "cell_type": "markdown",
   "metadata": {},
   "source": [
    "                Tema 84"
   ]
  },
  {
   "cell_type": "markdown",
   "metadata": {},
   "source": [
    "Problema:"
   ]
  },
  {
   "cell_type": "markdown",
   "metadata": {},
   "source": [
    "Realizar la carga de dos números enteros por teclado e imprimir su suma, luego preguntar si quiere seguir sumando valores.\n",
    "Codificar dos programas uno que capture la excepción de ingreso de datos no numéricos y el otro que no tenga en cuenta el tipo de entrada de datos."
   ]
  },
  {
   "cell_type": "code",
   "execution_count": 2,
   "metadata": {},
   "outputs": [
    {
     "name": "stdout",
     "output_type": "stream",
     "text": [
      "La suma es 3\n"
     ]
    }
   ],
   "source": [
    "while True:\n",
    "    valor1=int(input(\"Ingrese primer valor:\"))\n",
    "    valor2=int(input(\"Ingrese segundo valor:\"))\n",
    "    suma=valor1+valor2\n",
    "    print(\"La suma es\", suma)\n",
    "    respuesta=input(\"Desea ingresar otro par de valores?[s/n]\")\n",
    "    if respuesta==\"n\":\n",
    "        break"
   ]
  },
  {
   "cell_type": "code",
   "execution_count": 3,
   "metadata": {},
   "outputs": [
    {
     "name": "stdout",
     "output_type": "stream",
     "text": [
      "La suma es 6\n",
      "debe ingresar números.\n",
      "debe ingresar números.\n",
      "La suma es 3\n"
     ]
    }
   ],
   "source": [
    "while True:\n",
    "    try:\n",
    "        valor1=int(input(\"Ingrese primer valor:\"))\n",
    "        valor2=int(input(\"Ingrese segundo valor:\"))\n",
    "        suma=valor1+valor2\n",
    "        print(\"La suma es\",suma)\n",
    "    except ValueError:\n",
    "        print(\"debe ingresar números.\")\n",
    "    respuesta=input(\"Desea ingresar otro par de valores?[s/n]\")\n",
    "    if respuesta==\"n\":\n",
    "        break"
   ]
  }
 ],
 "metadata": {
  "kernelspec": {
   "display_name": "tf",
   "language": "python",
   "name": "python3"
  },
  "language_info": {
   "codemirror_mode": {
    "name": "ipython",
    "version": 3
   },
   "file_extension": ".py",
   "mimetype": "text/x-python",
   "name": "python",
   "nbconvert_exporter": "python",
   "pygments_lexer": "ipython3",
   "version": "3.9.18"
  }
 },
 "nbformat": 4,
 "nbformat_minor": 2
}
