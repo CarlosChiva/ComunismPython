{
 "cells": [
  {
   "cell_type": "markdown",
   "metadata": {},
   "source": [
    "                Tema 91"
   ]
  },
  {
   "cell_type": "markdown",
   "metadata": {},
   "source": [
    "Problema 1:"
   ]
  },
  {
   "cell_type": "markdown",
   "metadata": {},
   "source": [
    "Recorrer un árbol de directorios en forma recursiva. Mostrar de cada directorios los archivos y directorios, luego descender a cada directorio y hacer la misma actividad."
   ]
  },
  {
   "cell_type": "code",
   "execution_count": 1,
   "metadata": {},
   "outputs": [],
   "source": [
    "import os"
   ]
  },
  {
   "cell_type": "code",
   "execution_count": null,
   "metadata": {},
   "outputs": [],
   "source": [
    "def leer(directorio):\n",
    "    lista = os.listdir(directorio)\n",
    "    for elemento in lista:\n",
    "        if os.path.isfile(directorio+elemento):\n",
    "            print(elemento+\" [archivo]\")\n",
    "        if os.path.isdir(directorio+elemento):\n",
    "            print(elemento+\" [directorio]\")\n",
    "            leer(directorio+elemento+\"/\")\n",
    "leer(\"c:/programaspython/\")"
   ]
  },
  {
   "cell_type": "markdown",
   "metadata": {},
   "source": [
    "Problema 2:"
   ]
  },
  {
   "cell_type": "markdown",
   "metadata": {},
   "source": [
    "Desarrollar un programa que permita recorrer un laberinto e indique si tiene salida o no empleando la librería tkinter.\n",
    "Para resolver este problema al laberinto lo representaremos con una lista de 10 elementos de tipo lista que en casa una hay 10 Label."
   ]
  },
  {
   "cell_type": "code",
   "execution_count": 3,
   "metadata": {},
   "outputs": [],
   "source": [
    "import tkinter as tk\n",
    "from tkinter import ttk\n",
    "import random"
   ]
  },
  {
   "cell_type": "code",
   "execution_count": 4,
   "metadata": {},
   "outputs": [],
   "source": [
    "class Aplicacion:\n",
    "    def __init__(self):\n",
    "        self.ventana1=tk.Tk()\n",
    "        self.ventana1.title(\"Laberinto\")\n",
    "        self.salida=False\n",
    "        self.generar_laberinto()\n",
    "        self.boton1=ttk.Button(self.ventana1, text=\"Recorrer\",\n",
    "        command=self.analizar)\n",
    "        self.boton1.grid(column=0, row=10, columnspan=5, padx=10, pady=10)\n",
    "        self.boton2=ttk.Button(self.ventana1, text=\"Generar otro\",\n",
    "        command=self.generar_otro)\n",
    "        self.boton2.grid(column=5, row=10, columnspan=5, padx=10, pady=10)\n",
    "        self.ventana1.mainloop()\n",
    "    def generar_laberinto(self):\n",
    "        self.tablero=[]\n",
    "        listafila=[]\n",
    "        for fila in range(0,10):\n",
    "            for columna in range(0,10):\n",
    "                label=ttk.Label(self.ventana1, text=self.retornar_aleatorio(),\n",
    "                foreground=\"red\")\n",
    "                label.grid(column=columna, row=fila, padx=10, pady=10)\n",
    "                listafila.append(label)\n",
    "            self.tablero.append(listafila)\n",
    "            listafila=[]\n",
    "        self.tablero[0][0].configure(text=0)\n",
    "        self.tablero[9][9].configure(text=5)\n",
    "    def generar_otro(self):\n",
    "        for fila in range(0,10):\n",
    "            for columna in range(0,10):\n",
    "                self.tablero[fila][columna].configure(text=self.retornar_aleatorio(),background=\n",
    "        \"#f0f0f0\")\n",
    "        self.tablero[0][0].configure(text=0)\n",
    "        self.tablero[9][9].configure(text=5)\n",
    "    def retornar_aleatorio(self):\n",
    "        valor=random.randint(1,4)\n",
    "        if valor==1:\n",
    "            return 1\n",
    "        else:\n",
    "            return 0\n",
    "    def analizar(self):\n",
    "        self.salida=False\n",
    "        self.recorrer(0,0)\n",
    "        if self.salida:\n",
    "            self.ventana1.title(\"Tiene salida el laberinto\")\n",
    "        else:\n",
    "            self.ventana1.title(\"No tiene salida el laberinto\")\n",
    "    def recorrer(self, fil, col):\n",
    "        if fil>=0 and fil<10 and col>=0 and col<10 and self.salida==False:\n",
    "            if self.tablero[fil][col].cget(\"text\")==5:\n",
    "                self.salida=True\n",
    "            else:\n",
    "                if self.tablero[fil][col].cget(\"text\")==0:\n",
    "                    self.tablero[fil][col].configure(text=9)\n",
    "                    self.tablero[fil][col].configure(background=\"yellow\")\n",
    "                    self.recorrer(fil,col+1)\n",
    "                    self.recorrer(fil+1,col)\n",
    "                    self.recorrer(fil-1,col)\n",
    "                    self.recorrer(fil,col-1)"
   ]
  },
  {
   "cell_type": "code",
   "execution_count": 5,
   "metadata": {},
   "outputs": [],
   "source": [
    "aplicacion1=Aplicacion()"
   ]
  },
  {
   "cell_type": "markdown",
   "metadata": {},
   "source": [
    "Problema 3:"
   ]
  },
  {
   "cell_type": "markdown",
   "metadata": {},
   "source": [
    "Desarrollar el juego del Buscaminas. Definir una lista de 10 elementos de tipo lista y en estas listas internas almacenar las referencias a botones.\n",
    "El juego consiste en destapar todas las casillas que no tiene bombas. Si se presiona la casilla que tiene bomba finaliza el juego. En las casillas que están en el perímetro de una bomba aparece un número que indica la cantidad de bombas a su alrededor. Por ejemplo si una casilla tiene el 2 significa que de las 8 casillas a su alrededor hay 2 bombas.\n",
    "Si se selecciona una casilla que no tiene bombas a su alrededor se libera esta y todas las que se encuentran próximas a ella.\n",
    "Permitir volver a jugar mediante un menú de opciones.\n",
    "Cuando se inicia el juego debe aparecer el tablero con las 100 casillas:"
   ]
  },
  {
   "cell_type": "code",
   "execution_count": 6,
   "metadata": {},
   "outputs": [],
   "source": [
    "import tkinter as tk\n",
    "from tkinter import ttk\n",
    "import random\n",
    "from tkinter import messagebox as mb"
   ]
  },
  {
   "cell_type": "code",
   "execution_count": 8,
   "metadata": {},
   "outputs": [],
   "source": [
    "class Aplicacion:\n",
    "    def __init__(self):\n",
    "        self.ventana1=tk.Tk()\n",
    "        self.destapadas=0\n",
    "        self.enjuego=True\n",
    "        self.ventana1.geometry(\"500x500\")\n",
    "        self.ventana1.title(\"Buscaminas\")\n",
    "        self.ventana1.configure(background=\"#BEF781\")\n",
    "        self.generar_tablero()\n",
    "        self.generar_bombas()\n",
    "        self.generar_bombas_proximas()\n",
    "        menubar1 = tk.Menu(self.ventana1)\n",
    "        self.ventana1.config(menu=menubar1)\n",
    "        opciones1 = tk.Menu(menubar1)\n",
    "        opciones1.add_command(label=\"Reiniciar\", command=self.reiniciar)\n",
    "        opciones1.add_command(label=\"Salir\",\n",
    "        command=self.ventana1.destroy)\n",
    "        menubar1.add_cascade(label=\"Opciones\", menu=opciones1)\n",
    "        self.ventana1.mainloop()\n",
    "    def generar_tablero(self):\n",
    "        self.tablero=[]\n",
    "        listafila=[]\n",
    "        for fila in range(0,10):\n",
    "            for columna in range(0,10):\n",
    "                boton=ttk.Button(self.ventana1, text=\"\", command=lambda fi=fila,\n",
    "                co=columna: self.presion(fi,co))\n",
    "                boton.place(x=columna*50,y=fila*50,width=50,height=50)\n",
    "                listafila.append(boton)\n",
    "            self.tablero.append(listafila)\n",
    "            listafila=[]\n",
    "    def generar_bombas(self):\n",
    "        self.bombas=[]\n",
    "        listafila=[]\n",
    "        for fila in range(0,10):\n",
    "            for columna in range(0,10):\n",
    "                listafila.append(\"0\")\n",
    "            self.bombas.append(listafila)\n",
    "            listafila=[]\n",
    "        cantidad=10\n",
    "        while cantidad!=0:\n",
    "            fila=random.randint(0,9)\n",
    "            columna=random.randint(0,9)\n",
    "            if self.bombas[fila][columna]!=\"b\":\n",
    "                self.bombas[fila][columna]=\"b\"\n",
    "        #self.tablero[fila][columna].configure(text=\"b\")\n",
    "                cantidad=cantidad-1\n",
    "    def generar_bombas_proximas(self):\n",
    "        for f in range(0,10):\n",
    "            for c in range(0,10):\n",
    "                if self.bombas[f][c]==\"0\":\n",
    "                    cant=self.contar_lado(f,c)\n",
    "                    self.bombas[f][c]=str(cant)\n",
    "    def contar_lado(self, fila, columna):\n",
    "        total=0\n",
    "        if fila-1>=0 and columna-1>=0:\n",
    "            if self.bombas[fila-1][columna-1]==\"b\":\n",
    "                total=total+1\n",
    "        if fila-1>=0:\n",
    "            if self.bombas[fila-1][columna]==\"b\":\n",
    "                total=total+1\n",
    "        if fila-1>=0 and columna+1<10:\n",
    "            if self.bombas[fila-1][columna+1]==\"b\":\n",
    "                total=total+1\n",
    "        if columna+1<10:\n",
    "            if self.bombas[fila][columna+1]==\"b\":\n",
    "                total=total+1\n",
    "        if fila+1<10 and columna+1<10:\n",
    "            if self.bombas[fila+1][columna+1]==\"b\":\n",
    "                total=total+1\n",
    "        if fila+1<10:\n",
    "            if self.bombas[fila+1][columna]==\"b\":\n",
    "                total=total+1\n",
    "        if fila+1<10 and columna-1>=0:\n",
    "            if self.bombas[fila+1][columna-1]==\"b\":\n",
    "                total=total+1\n",
    "        if columna-1>=0:\n",
    "            if self.bombas[fila][columna-1]==\"b\":\n",
    "                total=total+1\n",
    "        return total\n",
    "    def presion(self, fila, columna):\n",
    "        if self.enjuego:\n",
    "            if self.bombas[fila][columna]==\"b\":\n",
    "                self.enjuego=False\n",
    "                self.destapar()\n",
    "                mb.showinfo(\"Información\", \"Perdiste hay una bomba\")\n",
    "            else:\n",
    "                if int(self.bombas[fila][columna])==0:\n",
    "                    self.recorrer(fila,columna)\n",
    "                else:\n",
    "                    if int(self.bombas[fila][columna])>=1 and int(self.bombas[fila][columna])<=8 and self.tablero[fila][columna].cget(\"text\")==\"\":\n",
    "                        self.tablero[fila][columna].configure(text=self.bombas[fila][columna])\n",
    "                        self.destapadas=self.destapadas+1\n",
    "            if self.destapadas==90:\n",
    "                self.enjuego=False\n",
    "                mb.showinfo(\"Información\", \"Ganaste\")\n",
    "    def recorrer(self, fil, col):\n",
    "        if fil>=0 and fil<10 and col>=0 and col<10:\n",
    "            if self.bombas[fil][col]==\"0\" and self.tablero[fil][col]!=None:\n",
    "                self.bombas[fil][col]=\" \"\n",
    "                self.destapadas=self.destapadas+1\n",
    "                self.tablero[fil][col].destroy()\n",
    "                self.tablero[fil][col]=None\n",
    "                self.recorrer (fil, col + 1)\n",
    "                self.recorrer (fil, col - 1)\n",
    "                self.recorrer (fil + 1, col)\n",
    "                self.recorrer (fil - 1, col)\n",
    "                self.recorrer (fil - 1, col - 1)\n",
    "                self.recorrer (fil - 1, col + 1)\n",
    "                self.recorrer (fil + 1, col + 1)\n",
    "                self.recorrer (fil + 1, col - 1)\n",
    "            else:\n",
    "                if self.tablero[fil][col]!=None:\n",
    "                    if int(self.bombas[fil][col])>=1 and int(self.bombas[fil][col])<=8 and  self.tablero[fil][col].cget(\"text\")==\"\":\n",
    "                        self.tablero[fil][col].configure(text=self.bombas[fil][col])\n",
    "                        self.destapadas=self.destapadas+1\n",
    "    def reiniciar(self):\n",
    "        self.destapadas=0\n",
    "        self.eliminar_botones()\n",
    "        self.generar_tablero()\n",
    "        self.generar_bombas()\n",
    "        self.generar_bombas_proximas()\n",
    "        self.enjuego=True\n",
    "    def eliminar_botones(self):\n",
    "        for fila in range(0,10):\n",
    "            for columna in range(0,10):\n",
    "                if self.tablero[fila][columna]!=None:\n",
    "                    self.tablero[fila][columna].destroy()\n",
    "                    self.tablero[fila][columna]=None\n",
    "    def destapar(self):\n",
    "        for fila in range(0,10):\n",
    "            for columna in range(0,10):\n",
    "                if self.tablero[fila][columna]!=None:\n",
    "                    if self.bombas[fila][columna]!=\"0\":\n",
    "                        self.tablero[fila][columna].configure(text=self.bombas[fila][columna])    "
   ]
  },
  {
   "cell_type": "code",
   "execution_count": 9,
   "metadata": {},
   "outputs": [],
   "source": [
    "aplicacion1=Aplicacion()"
   ]
  }
 ],
 "metadata": {
  "kernelspec": {
   "display_name": "tf",
   "language": "python",
   "name": "python3"
  },
  "language_info": {
   "codemirror_mode": {
    "name": "ipython",
    "version": 3
   },
   "file_extension": ".py",
   "mimetype": "text/x-python",
   "name": "python",
   "nbconvert_exporter": "python",
   "pygments_lexer": "ipython3",
   "version": "3.9.18"
  }
 },
 "nbformat": 4,
 "nbformat_minor": 2
}
