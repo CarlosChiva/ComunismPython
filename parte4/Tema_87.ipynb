{
 "cells": [
  {
   "cell_type": "markdown",
   "metadata": {},
   "source": [
    "                Tema 87"
   ]
  },
  {
   "cell_type": "markdown",
   "metadata": {},
   "source": [
    "Almacenar una serie de string en un archivo de texto. Tratar de llamar al método 'write' pasando un entero."
   ]
  },
  {
   "cell_type": "code",
   "execution_count": 5,
   "metadata": {},
   "outputs": [
    {
     "name": "stdout",
     "output_type": "stream",
     "text": [
      "La tabla articulos ya existe\n"
     ]
    }
   ],
   "source": [
    "import sqlite3\n",
    "conexion=sqlite3.connect(\"bd1.db\")\n",
    "try:\n",
    "    conexion.execute(\"\"\"create table articulos (\n",
    "    codigo integer primary key autoincrement,\n",
    "    descripcion text,\n",
    "    precio real\n",
    "    )\"\"\")\n",
    "    print(\"se creo la tabla articulos\")\n",
    "except sqlite3.OperationalError:\n",
    "    print(\"La tabla articulos ya existe\")\n",
    "conexion.close()"
   ]
  },
  {
   "cell_type": "markdown",
   "metadata": {},
   "source": [
    "Insertar filas en una tabla.Problema"
   ]
  },
  {
   "cell_type": "code",
   "execution_count": 6,
   "metadata": {},
   "outputs": [],
   "source": [
    "conexion=sqlite3.connect(\"bd1.db\")\n",
    "conexion.execute(\"insert into articulos(descripcion,precio) values (?,?)\",\n",
    "(\"naranjas\", 23.50))\n",
    "conexion.execute(\"insert into articulos(descripcion,precio) values (?,?)\",\n",
    "(\"peras\", 34))\n",
    "conexion.execute(\"insert into articulos(descripcion,precio) values (?,?)\",\n",
    "(\"bananas\", 25))\n",
    "conexion.commit()\n",
    "conexion.close()"
   ]
  },
  {
   "cell_type": "markdown",
   "metadata": {},
   "source": [
    "Recuperar todas las filas de una tabla."
   ]
  },
  {
   "cell_type": "code",
   "execution_count": 7,
   "metadata": {},
   "outputs": [
    {
     "name": "stdout",
     "output_type": "stream",
     "text": [
      "(1, 'naranjas', 23.5)\n",
      "(2, 'peras', 34.0)\n",
      "(3, 'bananas', 25.0)\n",
      "(4, 'naranjas', 23.5)\n",
      "(5, 'peras', 34.0)\n",
      "(6, 'bananas', 25.0)\n"
     ]
    }
   ],
   "source": [
    "conexion=sqlite3.connect(\"bd1.db\")\n",
    "cursor=conexion.execute(\"select codigo,descripcion,precio from articulos\")\n",
    "for fila in cursor:\n",
    "    print(fila)\n",
    "conexion.close()"
   ]
  },
  {
   "cell_type": "markdown",
   "metadata": {},
   "source": [
    "Recuperar una fila de una tabla."
   ]
  },
  {
   "cell_type": "code",
   "execution_count": 11,
   "metadata": {},
   "outputs": [
    {
     "name": "stdout",
     "output_type": "stream",
     "text": [
      "('naranjas', 23.5)\n"
     ]
    }
   ],
   "source": [
    "conexion=sqlite3.connect(\"bd1.db\")\n",
    "codigo=int(input(\"Ingrese el código de un artículo:\"))\n",
    "cursor=conexion.execute(\"select descripcion,precio from articulos where codigo=?\", (codigo, ))\n",
    "fila=cursor.fetchone()\n",
    "if fila!=None:\n",
    "    print(fila)\n",
    "else:\n",
    "    print(\"No existe un artículo con dicho código.\")\n",
    "conexion.close()"
   ]
  },
  {
   "cell_type": "markdown",
   "metadata": {},
   "source": [
    "Recuperar varias filas de una tabla."
   ]
  },
  {
   "cell_type": "code",
   "execution_count": 12,
   "metadata": {},
   "outputs": [
    {
     "name": "stdout",
     "output_type": "stream",
     "text": [
      "No existen artículos con un precio menor al ingresado.\n"
     ]
    }
   ],
   "source": [
    "conexion=sqlite3.connect(\"bd1.db\")\n",
    "precio=float(input(\"Ingrese un precio:\"))\n",
    "cursor=conexion.execute(\"select descripcion from articulos where precio<?\",\n",
    "(precio, ))\n",
    "filas=cursor.fetchall()\n",
    "if len(filas)>0:\n",
    "    for fila in filas:\n",
    "        print(fila)\n",
    "else:\n",
    "    print(\"No existen artículos con un precio menor al ingresado.\")\n",
    "conexion.close()"
   ]
  }
 ],
 "metadata": {
  "kernelspec": {
   "display_name": "tf",
   "language": "python",
   "name": "python3"
  },
  "language_info": {
   "codemirror_mode": {
    "name": "ipython",
    "version": 3
   },
   "file_extension": ".py",
   "mimetype": "text/x-python",
   "name": "python",
   "nbconvert_exporter": "python",
   "pygments_lexer": "ipython3",
   "version": "3.9.18"
  }
 },
 "nbformat": 4,
 "nbformat_minor": 2
}
