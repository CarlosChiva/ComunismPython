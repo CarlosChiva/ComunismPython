{
 "cells": [
  {
   "cell_type": "markdown",
   "metadata": {},
   "source": [
    "                Tema 88"
   ]
  },
  {
   "cell_type": "markdown",
   "metadata": {},
   "source": [
    "Problema:"
   ]
  },
  {
   "cell_type": "markdown",
   "metadata": {},
   "source": [
    "Desarrollar una aplicación visual con la librería tkinter que permita implementar los algoritmos de carga de artículos, consulta por código y listado completo."
   ]
  },
  {
   "cell_type": "code",
   "execution_count": 5,
   "metadata": {},
   "outputs": [
    {
     "name": "stdout",
     "output_type": "stream",
     "text": [
      "La tabla articulos ya existe\n"
     ]
    }
   ],
   "source": [
    "import tkinter as tk\n",
    "from tkinter import ttk\n",
    "from tkinter import messagebox as mb\n",
    "from tkinter import scrolledtext as st\n",
    "import articulos\n",
    "import sqlite3"
   ]
  },
  {
   "cell_type": "code",
   "execution_count": 6,
   "metadata": {},
   "outputs": [],
   "source": [
    "class FormularioArticulos:\n",
    "    def __init__(self):\n",
    "        self.articulo1=articulos.Articulos()\n",
    "        self.ventana1=tk.Tk()\n",
    "        self.ventana1.title(\"Mantenimiento de artículos\")\n",
    "        self.cuaderno1 = ttk.Notebook(self.ventana1)\n",
    "        self.carga_articulos()\n",
    "        self.consulta_por_codigo()\n",
    "        self.listado_completo()\n",
    "        self.cuaderno1.grid(column=0, row=0, padx=10, pady=10)\n",
    "        self.ventana1.mainloop()\n",
    "    def carga_articulos(self):\n",
    "        self.pagina1 = ttk.Frame(self.cuaderno1)\n",
    "        self.cuaderno1.add(self.pagina1, text=\"Carga de artículos\")\n",
    "        self.labelframe1=ttk.LabelFrame(self.pagina1, text=\"Artículo\")\n",
    "        self.labelframe1.grid(column=0, row=0, padx=5, pady=10)\n",
    "        self.label1=ttk.Label(self.labelframe1, text=\"Descripción:\")\n",
    "        self.label1.grid(column=0, row=0, padx=4, pady=4)\n",
    "        self.descripcioncarga=tk.StringVar()\n",
    "        self.entrydescripcion=ttk.Entry(self.labelframe1,\n",
    "        textvariable=self.descripcioncarga)\n",
    "        self.entrydescripcion.grid(column=1, row=0, padx=4, pady=4)\n",
    "        self.label2=ttk.Label(self.labelframe1, text=\"Precio:\")\n",
    "        self.label2.grid(column=0, row=1, padx=4, pady=4)\n",
    "        self.preciocarga=tk.StringVar()\n",
    "        self.entryprecio=ttk.Entry(self.labelframe1, textvariable=self.preciocarga)\n",
    "        self.entryprecio.grid(column=1, row=1, padx=4, pady=4)\n",
    "        self.boton1=ttk.Button(self.labelframe1, text=\"Confirmar\",\n",
    "        command=self.agregar)\n",
    "        self.boton1.grid(column=1, row=2, padx=4, pady=4)\n",
    "    def agregar(self):\n",
    "        datos=(self.descripcioncarga.get(), self.preciocarga.get())\n",
    "        self.articulo1.alta(datos)\n",
    "        mb.showinfo(\"Información\", \"Los datos fueron cargados\")\n",
    "        self.descripcioncarga.set(\"\")\n",
    "        self.preciocarga.set(\"\")\n",
    "    def consulta_por_codigo(self):\n",
    "        self.pagina2 = ttk.Frame(self.cuaderno1)\n",
    "        self.cuaderno1.add(self.pagina2, text=\"Consulta por código\")\n",
    "        self.labelframe2=ttk.LabelFrame(self.pagina2, text=\"Artículo\")\n",
    "        self.labelframe2.grid(column=0, row=0, padx=5, pady=10)\n",
    "        self.label1=ttk.Label(self.labelframe2, text=\"Código:\")\n",
    "        self.label1.grid(column=0, row=0, padx=4, pady=4)\n",
    "        self.codigo=tk.StringVar()\n",
    "        self.entrycodigo=ttk.Entry(self.labelframe2, textvariable=self.codigo)\n",
    "        self.entrycodigo.grid(column=1, row=0, padx=4, pady=4)\n",
    "        self.label2=ttk.Label(self.labelframe2, text=\"Descripción:\")\n",
    "        self.label2.grid(column=0, row=1, padx=4, pady=4)\n",
    "        self.descripcion=tk.StringVar()\n",
    "        self.entrydescripcion=ttk.Entry(self.labelframe2,\n",
    "        textvariable=self.descripcion, state=\"readonly\")\n",
    "        self.entrydescripcion.grid(column=1, row=1, padx=4, pady=4)\n",
    "        self.label3=ttk.Label(self.labelframe2, text=\"Precio:\")\n",
    "        self.label3.grid(column=0, row=2, padx=4, pady=4)\n",
    "        self.precio=tk.StringVar()\n",
    "        self.entryprecio=ttk.Entry(self.labelframe2, textvariable=self.precio,\n",
    "        state=\"readonly\")\n",
    "        self.entryprecio.grid(column=1, row=2, padx=4, pady=4)\n",
    "        self.boton1=ttk.Button(self.labelframe2, text=\"Consultar\",\n",
    "        command=self.consultar)\n",
    "        self.boton1.grid(column=1, row=3, padx=4, pady=4)\n",
    "    def consultar(self):\n",
    "        datos=(self.codigo.get(), )\n",
    "        respuesta=self.articulo1.consulta(datos)\n",
    "        if len(respuesta)>0:\n",
    "            self.descripcion.set(respuesta[0][0])\n",
    "            self.precio.set(respuesta[0][1])\n",
    "        else:\n",
    "            self.descripcion.set('')\n",
    "            self.precio.set('')\n",
    "            mb.showinfo(\"Información\", \"No existe un artículo con dicho código\")\n",
    "    def listado_completo(self):\n",
    "        self.pagina3 = ttk.Frame(self.cuaderno1)\n",
    "        self.cuaderno1.add(self.pagina3, text=\"Listado completo\")\n",
    "        self.labelframe3=ttk.LabelFrame(self.pagina3, text=\"Artículo\")\n",
    "        self.labelframe3.grid(column=0, row=0, padx=5, pady=10)\n",
    "        self.boton1=ttk.Button(self.labelframe3, text=\"Listado completo\",\n",
    "        command=self.listar)\n",
    "        self.boton1.grid(column=0, row=0, padx=4, pady=4)\n",
    "        self.scrolledtext1=st.ScrolledText(self.labelframe3, width=30, height=10)\n",
    "        self.scrolledtext1.grid(column=0,row=1, padx=10, pady=10)\n",
    "    def listar(self):\n",
    "        respuesta=self.articulo1.recuperar_todos()\n",
    "        self.scrolledtext1.delete(\"1.0\", tk.END)\n",
    "        for fila in respuesta:\n",
    "            self.scrolledtext1.insert(tk.END,\"código:\"+str(fila[0])+\"\\ndescripción:\"+fila[1]+\"\\nprecio:\"+str(fila[2])+\"\\n\\n\")"
   ]
  },
  {
   "cell_type": "code",
   "execution_count": null,
   "metadata": {},
   "outputs": [],
   "source": [
    "aplicacion1=FormularioArticulos()"
   ]
  },
  {
   "cell_type": "markdown",
   "metadata": {},
   "source": [
    "Problema propuesto"
   ]
  },
  {
   "cell_type": "markdown",
   "metadata": {},
   "source": [
    "Agregar dos pestañas al programa de administración de artículos que permitan borrar un artículo ingresando su código y otra opción que permita consultar y modificar la descripción y precio de un artículo.\n",
    "La interfaces visuales a implementar son:"
   ]
  },
  {
   "cell_type": "code",
   "execution_count": 7,
   "metadata": {},
   "outputs": [
    {
     "name": "stdout",
     "output_type": "stream",
     "text": [
      "(1, 'naranjas', 23.5)\n",
      "(2, 'peras', 34.0)\n",
      "(3, 'bananas', 25.0)\n",
      "(4, 'naranjas', 23.5)\n",
      "(5, 'peras', 34.0)\n",
      "(6, 'bananas', 25.0)\n"
     ]
    }
   ],
   "source": [
    "conexion=sqlite3.connect(\"bd1.db\")\n",
    "cursor=conexion.execute(\"select codigo,descripcion,precio from articulos\")\n",
    "for fila in cursor:\n",
    "    print(fila)\n",
    "conexion.close()"
   ]
  },
  {
   "cell_type": "markdown",
   "metadata": {},
   "source": [
    "Recuperar una fila de una tabla."
   ]
  },
  {
   "cell_type": "code",
   "execution_count": 11,
   "metadata": {},
   "outputs": [
    {
     "name": "stdout",
     "output_type": "stream",
     "text": [
      "('naranjas', 23.5)\n"
     ]
    }
   ],
   "source": [
    "conexion=sqlite3.connect(\"bd1.db\")\n",
    "codigo=int(input(\"Ingrese el código de un artículo:\"))\n",
    "cursor=conexion.execute(\"select descripcion,precio from articulos where codigo=?\", (codigo, ))\n",
    "fila=cursor.fetchone()\n",
    "if fila!=None:\n",
    "    print(fila)\n",
    "else:\n",
    "    print(\"No existe un artículo con dicho código.\")\n",
    "conexion.close()"
   ]
  },
  {
   "cell_type": "markdown",
   "metadata": {},
   "source": [
    "Recuperar varias filas de una tabla."
   ]
  },
  {
   "cell_type": "code",
   "execution_count": 12,
   "metadata": {},
   "outputs": [
    {
     "name": "stdout",
     "output_type": "stream",
     "text": [
      "No existen artículos con un precio menor al ingresado.\n"
     ]
    }
   ],
   "source": [
    "conexion=sqlite3.connect(\"bd1.db\")\n",
    "precio=float(input(\"Ingrese un precio:\"))\n",
    "cursor=conexion.execute(\"select descripcion from articulos where precio<?\",\n",
    "(precio, ))\n",
    "filas=cursor.fetchall()\n",
    "if len(filas)>0:\n",
    "    for fila in filas:\n",
    "        print(fila)\n",
    "else:\n",
    "    print(\"No existen artículos con un precio menor al ingresado.\")\n",
    "conexion.close()"
   ]
  }
 ],
 "metadata": {
  "kernelspec": {
   "display_name": "tf",
   "language": "python",
   "name": "python3"
  },
  "language_info": {
   "codemirror_mode": {
    "name": "ipython",
    "version": 3
   },
   "file_extension": ".py",
   "mimetype": "text/x-python",
   "name": "python",
   "nbconvert_exporter": "python",
   "pygments_lexer": "ipython3",
   "version": "3.9.18"
  }
 },
 "nbformat": 4,
 "nbformat_minor": 2
}
