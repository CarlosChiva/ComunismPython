{
 "cells": [
  {
   "cell_type": "markdown",
   "metadata": {},
   "source": [
    "                Tema 85"
   ]
  },
  {
   "cell_type": "markdown",
   "metadata": {},
   "source": [
    "Problema:"
   ]
  },
  {
   "cell_type": "markdown",
   "metadata": {},
   "source": [
    "Realizar la carga de dos números por teclado e imprimir la división del primero respecto al segundo, capturar la excepción ZeroDivisionError."
   ]
  },
  {
   "cell_type": "code",
   "execution_count": 3,
   "metadata": {},
   "outputs": [
    {
     "name": "stdout",
     "output_type": "stream",
     "text": [
      "El resultado de la división es 1.0\n"
     ]
    }
   ],
   "source": [
    "try:\n",
    "    valor1=int(input(\"Ingrese dividendo:\"))\n",
    "    valor2=int(input(\"Ingrese divisor:\"))\n",
    "    division=valor1/valor2\n",
    "    print(\"El resultado de la división es\", division)\n",
    "except ZeroDivisionError:\n",
    "    print(\"No se puede dividir por cero.\")"
   ]
  },
  {
   "cell_type": "markdown",
   "metadata": {},
   "source": [
    "Problema"
   ]
  },
  {
   "cell_type": "markdown",
   "metadata": {},
   "source": [
    "Almacenar en una tupla los nombres de meses del año. Solicitar el ingreso del número de mes y mostrar seguidamente el nombre de dicho mes. Capturar la excepción IndexError."
   ]
  },
  {
   "cell_type": "code",
   "execution_count": 4,
   "metadata": {},
   "outputs": [
    {
     "name": "stdout",
     "output_type": "stream",
     "text": [
      "En número de mes debe ir entre 1 y 12\n"
     ]
    }
   ],
   "source": [
    "meses=(\"enero\",\"febrero\",\"marzo\",\"abril\",\"mayo\",\"junio\",\n",
    "\"julio\",\"agosto\",\"septiembre\",\"octubre\",\"noviembre\",\"diciembre\")\n",
    "try:\n",
    "    nromes=int(input(\"Ingrese un número de mes [1-12]:\"))\n",
    "    print(meses[nromes-1])\n",
    "except IndexError:\n",
    "    print(\"En número de mes debe ir entre 1 y 12\")"
   ]
  },
  {
   "cell_type": "markdown",
   "metadata": {},
   "source": [
    "Problema"
   ]
  },
  {
   "cell_type": "markdown",
   "metadata": {},
   "source": [
    "Realizar la carga de dos números por teclado e imprimir la división del primero respecto al segundo, capturar las excepciones ZeroDivisionError y ValueError."
   ]
  },
  {
   "cell_type": "code",
   "execution_count": 5,
   "metadata": {},
   "outputs": [
    {
     "name": "stdout",
     "output_type": "stream",
     "text": [
      "El resultado de la división es 1.0\n"
     ]
    }
   ],
   "source": [
    "try:\n",
    "    valor1=int(input(\"Ingrese dividendo:\"))\n",
    "    valor2=int(input(\"Ingrese divisor:\"))\n",
    "    division=valor1/valor2\n",
    "    print(\"El resultado de la división es\", division)\n",
    "except ZeroDivisionError:\n",
    "    print(\"No se puede dividir por cero.\")\n",
    "except ValueError:\n",
    "    print(\"Los valores a ingresar deben ser enteros\")"
   ]
  },
  {
   "cell_type": "markdown",
   "metadata": {},
   "source": [
    "Problema:"
   ]
  },
  {
   "cell_type": "markdown",
   "metadata": {},
   "source": [
    "Realizar la carga de dos números por teclado e imprimir la división del primero respecto al segundo. Capturar cualquier tipo de excepción que se dispare."
   ]
  },
  {
   "cell_type": "code",
   "execution_count": 6,
   "metadata": {},
   "outputs": [
    {
     "name": "stdout",
     "output_type": "stream",
     "text": [
      "El resultado de la división es 0.5\n"
     ]
    }
   ],
   "source": [
    "try:\n",
    "    valor1=int(input(\"Ingrese dividendo:\"))\n",
    "    valor2=int(input(\"Ingrese divisor:\"))\n",
    "    division=valor1/valor2\n",
    "    print(\"El resultado de la división es\", division)\n",
    "except:\n",
    "    print(\"Problemas con la entrada u operación\")"
   ]
  }
 ],
 "metadata": {
  "kernelspec": {
   "display_name": "tf",
   "language": "python",
   "name": "python3"
  },
  "language_info": {
   "codemirror_mode": {
    "name": "ipython",
    "version": 3
   },
   "file_extension": ".py",
   "mimetype": "text/x-python",
   "name": "python",
   "nbconvert_exporter": "python",
   "pygments_lexer": "ipython3",
   "version": "3.9.18"
  }
 },
 "nbformat": 4,
 "nbformat_minor": 2
}
