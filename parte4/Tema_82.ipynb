{
 "cells": [
  {
   "cell_type": "markdown",
   "metadata": {},
   "source": [
    "                Tema 82"
   ]
  },
  {
   "cell_type": "markdown",
   "metadata": {},
   "source": [
    "Problema:"
   ]
  },
  {
   "cell_type": "markdown",
   "metadata": {},
   "source": [
    "Desarrollar una aplicación visual con la librería tkinter que permita implementar los algoritmos de carga de artículos, consulta por código y listado completo.\n",
    "Seguiremos trabajando con la tabla 'articulos' que creamos en el concepto anterior."
   ]
  },
  {
   "cell_type": "code",
   "execution_count": 1,
   "metadata": {},
   "outputs": [],
   "source": [
    "import tkinter as tk\n",
    "from tkinter import ttk\n",
    "from tkinter import messagebox as mb\n",
    "from tkinter import scrolledtext as st\n",
    "import articulos"
   ]
  },
  {
   "cell_type": "code",
   "execution_count": 2,
   "metadata": {},
   "outputs": [],
   "source": [
    "class FormularioArticulos:\n",
    "    def __init__(self):\n",
    "        self.articulo1=articulos.Articulos()\n",
    "        self.ventana1=tk.Tk()\n",
    "        self.ventana1.title(\"Mantenimiento de artículos\")\n",
    "        self.cuaderno1 = ttk.Notebook(self.ventana1)\n",
    "        self.carga_articulos()\n",
    "        self.consulta_por_codigo()\n",
    "        self.listado_completo()\n",
    "        self.cuaderno1.grid(column=0, row=0, padx=10, pady=10)\n",
    "        self.ventana1.mainloop()\n",
    "    def carga_articulos(self):\n",
    "        self.pagina1 = ttk.Frame(self.cuaderno1)\n",
    "        self.cuaderno1.add(self.pagina1, text=\"Carga de artículos\")\n",
    "        self.labelframe1=ttk.LabelFrame(self.pagina1, text=\"Artículo\")\n",
    "        self.labelframe1.grid(column=0, row=0, padx=5, pady=10)\n",
    "        self.label1=ttk.Label(self.labelframe1, text=\"Descripción:\")\n",
    "        self.label1.grid(column=0, row=0, padx=4, pady=4)\n",
    "        self.descripcioncarga=tk.StringVar()\n",
    "        self.entrydescripcion=ttk.Entry(self.labelframe1,\n",
    "        textvariable=self.descripcioncarga)\n",
    "        self.entrydescripcion.grid(column=1, row=0, padx=4, pady=4)\n",
    "        self.label2=ttk.Label(self.labelframe1, text=\"Precio:\")\n",
    "        self.label2.grid(column=0, row=1, padx=4, pady=4)\n",
    "        self.preciocarga=tk.StringVar()\n",
    "        self.entryprecio=ttk.Entry(self.labelframe1, textvariable=self.preciocarga)\n",
    "        self.entryprecio.grid(column=1, row=1, padx=4, pady=4)\n",
    "        self.boton1=ttk.Button(self.labelframe1, text=\"Confirmar\",\n",
    "        command=self.agregar)\n",
    "        self.boton1.grid(column=1, row=2, padx=4, pady=4)\n",
    "    def agregar(self):\n",
    "        datos=(self.descripcioncarga.get(), self.preciocarga.get())\n",
    "        self.articulo1.alta(datos)\n",
    "        mb.showinfo(\"Información\", \"Los datos fueron cargados\")\n",
    "        self.descripcioncarga.set(\"\")\n",
    "        self.preciocarga.set(\"\")\n",
    "    def consulta_por_codigo(self):\n",
    "        self.pagina2 = ttk.Frame(self.cuaderno1)\n",
    "        self.cuaderno1.add(self.pagina2, text=\"Consulta por código\")\n",
    "        self.labelframe2=ttk.LabelFrame(self.pagina2, text=\"Artículo\")\n",
    "        self.labelframe2.grid(column=0, row=0, padx=5, pady=10)\n",
    "        self.label1=ttk.Label(self.labelframe2, text=\"Código:\")\n",
    "        self.label1.grid(column=0, row=0, padx=4, pady=4)\n",
    "        self.codigo=tk.StringVar()\n",
    "        self.entrycodigo=ttk.Entry(self.labelframe2, textvariable=self.codigo)\n",
    "        self.entrycodigo.grid(column=1, row=0, padx=4, pady=4)\n",
    "        self.label2=ttk.Label(self.labelframe2, text=\"Descripción:\")\n",
    "        self.label2.grid(column=0, row=1, padx=4, pady=4)\n",
    "        self.descripcion=tk.StringVar()\n",
    "        self.entrydescripcion=ttk.Entry(self.labelframe2,\n",
    "        textvariable=self.descripcion, state=\"readonly\")\n",
    "        self.entrydescripcion.grid(column=1, row=1, padx=4, pady=4)\n",
    "        self.label3=ttk.Label(self.labelframe2, text=\"Precio:\")\n",
    "        self.label3.grid(column=0, row=2, padx=4, pady=4)\n",
    "        self.precio=tk.StringVar()\n",
    "        self.entryprecio=ttk.Entry(self.labelframe2, textvariable=self.precio,\n",
    "        state=\"readonly\")\n",
    "        self.entryprecio.grid(column=1, row=2, padx=4, pady=4)\n",
    "        self.boton1=ttk.Button(self.labelframe2, text=\"Consultar\",\n",
    "        command=self.consultar)\n",
    "        self.boton1.grid(column=1, row=3, padx=4, pady=4)\n",
    "    def consultar(self):\n",
    "        datos=(self.codigo.get(), )\n",
    "        respuesta=self.articulo1.consulta(datos)\n",
    "        if len(respuesta)>0:\n",
    "            self.descripcion.set(respuesta[0][0])\n",
    "            self.precio.set(respuesta[0][1])\n",
    "        else:\n",
    "            self.descripcion.set('')\n",
    "            self.precio.set('')\n",
    "            mb.showinfo(\"Información\", \"No existe un artículo con dicho código\")\n",
    "    def listado_completo(self):\n",
    "        self.pagina3 = ttk.Frame(self.cuaderno1)\n",
    "        self.cuaderno1.add(self.pagina3, text=\"Listado completo\")\n",
    "        self.labelframe3=ttk.LabelFrame(self.pagina3, text=\"Artículo\")\n",
    "        self.labelframe3.grid(column=0, row=0, padx=5, pady=10)\n",
    "        self.boton1=ttk.Button(self.labelframe3, text=\"Listado completo\",\n",
    "        command=self.listar)\n",
    "        self.boton1.grid(column=0, row=0, padx=4, pady=4)\n",
    "        self.scrolledtext1=st.ScrolledText(self.labelframe3, width=30, height=10)\n",
    "        self.scrolledtext1.grid(column=0,row=1, padx=10, pady=10)\n",
    "    def listar(self):\n",
    "        respuesta=self.articulo1.recuperar_todos()\n",
    "        self.scrolledtext1.delete(\"1.0\", tk.END)\n",
    "        for fila in respuesta:\n",
    "            self.scrolledtext1.insert(tk.END,\"código:\"+str(fila[0])+\"\\ndescripción:\"+fila[1]+\"\\nprecio:\"+str(fila[2])+\"\\n\\n\")"
   ]
  },
  {
   "cell_type": "code",
   "execution_count": null,
   "metadata": {},
   "outputs": [],
   "source": [
    "aplicacion1=FormularioArticulos()"
   ]
  },
  {
   "cell_type": "code",
   "execution_count": null,
   "metadata": {},
   "outputs": [],
   "source": [
    "import mysql.connector\n",
    "class Articulos:\n",
    "    def abrir(self):\n",
    "        conexion=mysql.connector.connect(host=\"localhost\",\n",
    "        user=\"root\",\n",
    "        passwd=\"\",\n",
    "        database=\"bd1\")\n",
    "        return conexion\n",
    "    def alta(self, datos):\n",
    "        cone=self.abrir()\n",
    "        cursor=cone.cursor()\n",
    "        sql=\"insert into articulos(descripcion, precio) values (%s,%s)\"\n",
    "        cursor.execute(sql, datos)\n",
    "        cone.commit()\n",
    "        cone.close()\n",
    "    def consulta(self, datos):\n",
    "        cone=self.abrir()\n",
    "        cursor=cone.cursor()\n",
    "        sql=\"select descripcion, precio from articulos where codigo=%s\"\n",
    "        cursor.execute(sql, datos)\n",
    "        cone.close()\n",
    "        return cursor.fetchall()\n",
    "    def recuperar_todos(self):\n",
    "        cone=self.abrir()\n",
    "        cursor=cone.cursor()\n",
    "        sql=\"select codigo, descripcion, precio from articulos\"\n",
    "        cursor.execute(sql)\n",
    "        cone.close()\n",
    "        return cursor.fetchall()"
   ]
  },
  {
   "cell_type": "markdown",
   "metadata": {},
   "source": [
    "Problemas propuestos:"
   ]
  },
  {
   "cell_type": "markdown",
   "metadata": {},
   "source": [
    "Agregar dos pestañas al programa de administración de artículos que\n",
    "permitan borrar un artículo ingresando su código y otra opción que\n",
    "permita consultar y modificar la descripción y precio de un artículo."
   ]
  },
  {
   "cell_type": "code",
   "execution_count": null,
   "metadata": {},
   "outputs": [],
   "source": [
    "aplicacion1=FormularioArticulos()"
   ]
  }
 ],
 "metadata": {
  "kernelspec": {
   "display_name": "tf",
   "language": "python",
   "name": "python3"
  },
  "language_info": {
   "codemirror_mode": {
    "name": "ipython",
    "version": 3
   },
   "file_extension": ".py",
   "mimetype": "text/x-python",
   "name": "python",
   "nbconvert_exporter": "python",
   "pygments_lexer": "ipython3",
   "version": "3.9.18"
  }
 },
 "nbformat": 4,
 "nbformat_minor": 2
}
