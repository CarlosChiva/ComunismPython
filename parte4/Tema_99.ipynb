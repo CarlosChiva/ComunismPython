{
 "cells": [
  {
   "cell_type": "markdown",
   "metadata": {},
   "source": [
    "                Tema 99"
   ]
  },
  {
   "cell_type": "markdown",
   "metadata": {},
   "source": [
    "Lectura de una página HTML."
   ]
  },
  {
   "cell_type": "code",
   "execution_count": 1,
   "metadata": {},
   "outputs": [
    {
     "name": "stdout",
     "output_type": "stream",
     "text": [
      "b'<!DOCTYPE html>\\r\\n<html lang=\"es\">\\r\\n<head>\\r\\n    <meta charset=\"UTF-8\">\\r\\n    <meta name=\"viewport\" content=\"width=device-width, initial-scale=1.0\">\\r\\n    <title>T\\xc3\\xadtutlo de la p\\xc3\\xa1gina</title>\\r\\n</head>\\r\\n<body>\\r\\n    <h1>Tutoriales de Programaci\\xc3\\xb3n</h1>\\r\\n    <p>Se cuenta con una serie de tutoriales para aprender a programar.</p>\\r\\n    <p>Los lenguajes m\\xc3\\xa1s comunes son:</p>\\r\\n    <ul>\\r\\n        <li>Java</li>\\r\\n        <li>C</li>\\r\\n        <li>C++</li>\\r\\n        <li>C#</li>\\r\\n        <li>PHP</li>\\r\\n        <li>Visual Basic .Net</li>\\r\\n    </ul>\\r\\n</body>\\r\\n</html>'\n"
     ]
    }
   ],
   "source": [
    "from urllib import request\n",
    "from urllib import error\n",
    "import tkinter as tk\n",
    "from tkinter import ttk\n",
    "from tkinter import scrolledtext as st\n",
    "from urllib import request\n",
    "from tkinter import messagebox as mb\n",
    "pagina=request.urlopen(\"http://www.scratchya.com.ar/pythonya/ejercicio336/pagina1.html\")\n",
    "datos=pagina.read()\n",
    "print(datos)"
   ]
  },
  {
   "cell_type": "markdown",
   "metadata": {},
   "source": [
    "Transformar a formato 'utf-8'"
   ]
  },
  {
   "cell_type": "code",
   "execution_count": 2,
   "metadata": {},
   "outputs": [
    {
     "name": "stdout",
     "output_type": "stream",
     "text": [
      "<!DOCTYPE html>\n",
      "<html lang=\"es\">\n",
      "<head>\n",
      "    <meta charset=\"UTF-8\">\n",
      "    <meta name=\"viewport\" content=\"width=device-width, initial-scale=1.0\">\n",
      "    <title>Títutlo de la página</title>\n",
      "</head>\n",
      "<body>\n",
      "    <h1>Tutoriales de Programación</h1>\n",
      "    <p>Se cuenta con una serie de tutoriales para aprender a programar.</p>\n",
      "    <p>Los lenguajes más comunes son:</p>\n",
      "    <ul>\n",
      "        <li>Java</li>\n",
      "        <li>C</li>\n",
      "        <li>C++</li>\n",
      "        <li>C#</li>\n",
      "        <li>PHP</li>\n",
      "        <li>Visual Basic .Net</li>\n",
      "    </ul>\n",
      "</body>\n",
      "</html>\n"
     ]
    }
   ],
   "source": [
    "pagina=request.urlopen(\"http://www.scratchya.com.ar/pythonya/ejercicio336/pagina1.html\")\n",
    "datos=pagina.read()\n",
    "datosutf8=datos.decode(\"utf-8\")\n",
    "print(datosutf8)"
   ]
  },
  {
   "cell_type": "markdown",
   "metadata": {},
   "source": [
    "Lectura de una página HTML u otro recurso y posterior grabación del archivo en forma local."
   ]
  },
  {
   "cell_type": "code",
   "execution_count": 3,
   "metadata": {},
   "outputs": [],
   "source": [
    "pagina=request.urlopen(\"http://www.scratchya.com.ar/pythonya/ejercicio336/pagina1.html\")\n",
    "datos=pagina.read()\n",
    "archivo1=open(\"pagina1.html\",\"wb\")\n",
    "archivo1.write(datos)\n",
    "archivo1.close()\n",
    "imagen=request.urlopen(\"http://www.scratchya.com.ar/pythonya/ejercicio336/imagen1.jpg\")\n",
    "datos=imagen.read()\n",
    "archivo2=open(\"imagen1.jpg\",\"wb\")\n",
    "archivo2.write(datos)\n",
    "archivo2.close()"
   ]
  },
  {
   "cell_type": "markdown",
   "metadata": {},
   "source": [
    "Módulo 'error' del paquete 'urllib'."
   ]
  },
  {
   "cell_type": "code",
   "execution_count": 4,
   "metadata": {},
   "outputs": [
    {
     "name": "stdout",
     "output_type": "stream",
     "text": [
      "Código de respuesta HTTP devuelto por el servidor 404\n",
      "No existe el recurso http://www.scratchya.com.ar/pythonya/ejercicio336/paginax.html\n"
     ]
    }
   ],
   "source": [
    "try:\n",
    "    pagina=request.urlopen(\"http://www.scratchya.com.ar/pythonya/ejercicio336/paginax.html\")\n",
    "    datos=pagina.read().decode(\"utf-8\")\n",
    "    print(datos)\n",
    "except error.HTTPError as err:\n",
    "    print(f\"Código de respuesta HTTP devuelto por el servidor {err.code}\")\n",
    "    print(f\"No existe el recurso {err.filename}\")"
   ]
  },
  {
   "cell_type": "markdown",
   "metadata": {},
   "source": [
    "Problema propuesto"
   ]
  },
  {
   "cell_type": "markdown",
   "metadata": {},
   "source": [
    "Confeccionar una aplicación visual con tkinter que permita ingresar en un control de tipo 'Entry' la URL de un sitio web y al presionar un botón recuperar los datos y mostrarlos en un control de tipo 'ScrolledText':"
   ]
  },
  {
   "cell_type": "code",
   "execution_count": 6,
   "metadata": {},
   "outputs": [],
   "source": [
    "class Aplicacion:\n",
    "    def __init__(self):\n",
    "        self.ventana1=tk.Tk()\n",
    "        self.label1=ttk.Label(text=\"Ingrese URL del sitio web:\")\n",
    "        self.label1.grid(column=0, row=0, pady=10)\n",
    "        self.dato1=tk.StringVar()\n",
    "        self.entry1=ttk.Entry(self.ventana1, width=100, textvariable=self.dato1)\n",
    "        self.entry1.grid(column=0, row=1, pady=10)\n",
    "        self.boton1=ttk.Button(self.ventana1, text=\"Recuperar\", command=self.recuperar)\n",
    "        self.boton1.grid(column=0, row=2, pady=10)\n",
    "        self.scrolledtext1=st.ScrolledText(self.ventana1, width=100, height=30)\n",
    "        self.scrolledtext1.grid(column=0,row=3, padx=10, pady=10)\n",
    "        self.ventana1.mainloop()\n",
    "    def recuperar(self):\n",
    "        try:\n",
    "            pagina=request.urlopen(self.dato1.get())\n",
    "            datos=pagina.read().decode(\"utf-8\")\n",
    "            self.scrolledtext1.delete(1.0,tk.END)\n",
    "            self.scrolledtext1.insert(tk.INSERT,datos)\n",
    "        except error.HTTPError as err:\n",
    "            mb.showinfo(\"Problemas\", \"No se puede acceder a dicho recurso\")"
   ]
  },
  {
   "cell_type": "code",
   "execution_count": 10,
   "metadata": {},
   "outputs": [],
   "source": [
    "aplicacion1=Aplicacion()"
   ]
  }
 ],
 "metadata": {
  "kernelspec": {
   "display_name": "tf",
   "language": "python",
   "name": "python3"
  },
  "language_info": {
   "codemirror_mode": {
    "name": "ipython",
    "version": 3
   },
   "file_extension": ".py",
   "mimetype": "text/x-python",
   "name": "python",
   "nbconvert_exporter": "python",
   "pygments_lexer": "ipython3",
   "version": "3.9.18"
  }
 },
 "nbformat": 4,
 "nbformat_minor": 2
}
