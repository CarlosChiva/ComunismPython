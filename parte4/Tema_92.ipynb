{
 "cells": [
  {
   "cell_type": "markdown",
   "metadata": {},
   "source": [
    "                Tema 92"
   ]
  },
  {
   "cell_type": "markdown",
   "metadata": {},
   "source": [
    "Problema 1:"
   ]
  },
  {
   "cell_type": "markdown",
   "metadata": {},
   "source": [
    "Definir una función de orden superior llamada operar. Llegan como parámetrodos enteros y una función. En el bloque de la función llamar a la función que llega como parámetro y enviar los dos primeros parámetros.\n",
    "La función retorna un entero."
   ]
  },
  {
   "cell_type": "code",
   "execution_count": 1,
   "metadata": {},
   "outputs": [],
   "source": [
    "def operar(v1,v2,fn):\n",
    "    return fn(v1,v2)\n",
    "def sumar(x1,x2):\n",
    "    return x1+x2\n",
    "def restar(x1,x2):\n",
    "    return x1-x2\n",
    "def multiplicar(x1,x2):\n",
    "    return x1*x2\n",
    "def dividir(x1,x2):\n",
    "    return x1/x2\n"
   ]
  },
  {
   "cell_type": "code",
   "execution_count": 2,
   "metadata": {},
   "outputs": [
    {
     "name": "stdout",
     "output_type": "stream",
     "text": [
      "13\n",
      "7\n",
      "300\n",
      "5.0\n"
     ]
    }
   ],
   "source": [
    "resu1=operar(10,3,sumar)\n",
    "print(resu1)\n",
    "resu2=operar(10,3,restar)\n",
    "print(resu2)\n",
    "print(operar(30,10,multiplicar))\n",
    "print(operar(10,2,dividir))"
   ]
  },
  {
   "cell_type": "markdown",
   "metadata": {},
   "source": [
    "Problema 2:"
   ]
  },
  {
   "cell_type": "markdown",
   "metadata": {},
   "source": [
    "Declarar una clase que almacene el nombre y la edad de una persona. Definir un método que retorne True o False según si la persona es mayor de edad o no.\n",
    "Este método debe recibir como parámetro una función que al llamarla pasando la edad de la persona retornará si es mayor o no de edad.\n",
    "Tener en cuenta que una persona es mayor de edad en Estados Unidos si tiene 21 o más años y en Argentina si tiene 18 o más años."
   ]
  },
  {
   "cell_type": "code",
   "execution_count": 9,
   "metadata": {},
   "outputs": [],
   "source": [
    "class Persona:\n",
    "    def __init__(self,nombre,edad):\n",
    "        self.nombre=nombre\n",
    "        self.edad=edad\n",
    "    def es_mayor(self,fn):\n",
    "        return fn(self.edad)\n",
    "    def mayor_estadosunidos(edad):\n",
    "        if edad>=21:\n",
    "            return True\n",
    "        else:\n",
    "            return False\n",
    "    def mayor_argentina(edad):\n",
    "        if edad>=18:\n",
    "            return True\n",
    "        else:\n",
    "            return False"
   ]
  },
  {
   "cell_type": "code",
   "execution_count": null,
   "metadata": {},
   "outputs": [],
   "source": [
    "persona1=Persona(\"juan\", 18)\n",
    "if persona1.es_mayor(mayor_argentina):\n",
    "    print(f\"{persona1.nombre} es mayor si vive en Argentina\")\n",
    "else:\n",
    "    print(f\"{persona1.nombre} no es mayor si vive en Argentina\")\n",
    "if persona1.es_mayor(mayor_estadosunidos):\n",
    "    print(f\"{persona1.nombre} es mayor si vive en Estados Unidos\")\n",
    "else:\n",
    "    print(f\"{persona1.nombre} no es mayor si vive en Estados Unidos\")"
   ]
  }
 ],
 "metadata": {
  "kernelspec": {
   "display_name": "tf",
   "language": "python",
   "name": "python3"
  },
  "language_info": {
   "codemirror_mode": {
    "name": "ipython",
    "version": 3
   },
   "file_extension": ".py",
   "mimetype": "text/x-python",
   "name": "python",
   "nbconvert_exporter": "python",
   "pygments_lexer": "ipython3",
   "version": "3.9.18"
  }
 },
 "nbformat": 4,
 "nbformat_minor": 2
}
