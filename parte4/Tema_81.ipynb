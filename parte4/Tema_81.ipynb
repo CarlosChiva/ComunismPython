{
 "cells": [
  {
   "cell_type": "markdown",
   "metadata": {},
   "source": [
    "                Tema 81"
   ]
  },
  {
   "cell_type": "markdown",
   "metadata": {},
   "source": [
    "ConexionSql:"
   ]
  },
  {
   "cell_type": "code",
   "execution_count": 1,
   "metadata": {},
   "outputs": [],
   "source": [
    "import mysql.connector"
   ]
  },
  {
   "cell_type": "code",
   "execution_count": 2,
   "metadata": {},
   "outputs": [],
   "source": [
    "conexion1=mysql.connector.connect(host=\"localhost\", user=\"root\", passwd=\"\")\n",
    "cursor1=conexion1.cursor()\n",
    "cursor1.execute(\"show databases\")\n",
    "for base in cursor1:\n",
    "    print(base)\n",
    "conexion1.close()"
   ]
  },
  {
   "cell_type": "markdown",
   "metadata": {},
   "source": [
    "Listado de tablas y query mysql"
   ]
  },
  {
   "cell_type": "code",
   "execution_count": 3,
   "metadata": {},
   "outputs": [],
   "source": [
    "conexion1=mysql.connector.connect(host=\"localhost\",\n",
    "user=\"root\",\n",
    "passwd=\"\",\n",
    "database=\"bd1\")\n",
    "cursor1=conexion1.cursor()\n",
    "cursor1.execute(\"show tables\")\n",
    "for tabla in cursor1:\n",
    "    print(tabla)\n",
    "conexion1.close()"
   ]
  },
  {
   "cell_type": "markdown",
   "metadata": {},
   "source": [
    "Insertar filas en tablas"
   ]
  },
  {
   "cell_type": "code",
   "execution_count": null,
   "metadata": {},
   "outputs": [],
   "source": [
    "conexion1=mysql.connector.connect(host=\"localhost\",\n",
    "user=\"root\",\n",
    "passwd=\"\",\n",
    "database=\"bd1\")\n",
    "cursor1=conexion1.cursor()\n",
    "sql=\"insert into articulos(descripcion, precio) values (%s,%s)\"\n",
    "datos=(\"naranjas\", 23.50)\n",
    "cursor1.execute(sql, datos)\n",
    "datos=(\"peras\", 34)\n",
    "cursor1.execute(sql, datos)\n",
    "datos=(\"bananas\", 25)\n",
    "cursor1.execute(sql, datos)\n",
    "conexion1.commit()\n",
    "conexion1.close()"
   ]
  },
  {
   "cell_type": "markdown",
   "metadata": {},
   "source": [
    "Recuperar todas las filas de una tabla."
   ]
  },
  {
   "cell_type": "code",
   "execution_count": null,
   "metadata": {},
   "outputs": [],
   "source": [
    "conexion1=mysql.connector.connect(host=\"localhost\",\n",
    "user=\"root\",\n",
    "passwd=\"\",\n",
    "database=\"bd1\")\n",
    "cursor1=conexion1.cursor()\n",
    "cursor1.execute(\"select codigo, descripcion, precio from articulos\")\n",
    "for fila in cursor1:\n",
    "    print(fila)\n",
    "conexion1.close()"
   ]
  },
  {
   "cell_type": "markdown",
   "metadata": {},
   "source": [
    "Borrado y modificación de filas."
   ]
  },
  {
   "cell_type": "code",
   "execution_count": null,
   "metadata": {},
   "outputs": [],
   "source": [
    "conexion1=mysql.connector.connect(host=\"localhost\",\n",
    "user=\"root\",\n",
    "passwd=\"\",\n",
    "database=\"bd1\")\n",
    "cursor1=conexion1.cursor()\n",
    "cursor1.execute(\"delete from articulos where codigo=1\")\n",
    "cursor1.execute(\"update articulos set precio=50 where codigo=3\")\n",
    "conexion1.commit()\n",
    "cursor1.execute(\"select codigo, descripcion, precio from articulos\")\n",
    "for fila in cursor1:\n",
    "    print(fila)\n",
    "conexion1.close()"
   ]
  }
 ],
 "metadata": {
  "kernelspec": {
   "display_name": "tf",
   "language": "python",
   "name": "python3"
  },
  "language_info": {
   "codemirror_mode": {
    "name": "ipython",
    "version": 3
   },
   "file_extension": ".py",
   "mimetype": "text/x-python",
   "name": "python",
   "nbconvert_exporter": "python",
   "pygments_lexer": "ipython3",
   "version": "3.9.18"
  }
 },
 "nbformat": 4,
 "nbformat_minor": 2
}
