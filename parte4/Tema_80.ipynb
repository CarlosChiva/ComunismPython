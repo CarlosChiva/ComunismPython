{
 "cells": [
  {
   "cell_type": "markdown",
   "metadata": {},
   "source": [
    "                Tema 80"
   ]
  },
  {
   "cell_type": "markdown",
   "metadata": {},
   "source": [
    "Problema:"
   ]
  },
  {
   "cell_type": "markdown",
   "metadata": {},
   "source": [
    "Confeccionar una interfaz visual que contenga un menú de opciones que permitan \"Guardar archivo\", \"Recuperar archivo\" y \"Salir del programa\".\n",
    "En la ventana principal debe aparecer un control de tipo 'scrolledtext' donde el operador pueda escribir un texto para luego grabarlo en un archivo de texto.\n",
    "También el control 'scrolledtext' debe cargarse con el contenido de un archivo existente en el disco duro."
   ]
  },
  {
   "cell_type": "code",
   "execution_count": 1,
   "metadata": {},
   "outputs": [],
   "source": [
    "import tkinter as tk\n",
    "from tkinter import scrolledtext as st\n",
    "import sys\n",
    "from tkinter import filedialog as fd\n",
    "from tkinter import messagebox as mb"
   ]
  },
  {
   "cell_type": "code",
   "execution_count": 2,
   "metadata": {},
   "outputs": [],
   "source": [
    "\n",
    "class Aplicacion:\n",
    "    def __init__(self):\n",
    "        self.ventana1=tk.Tk()\n",
    "        self.agregar_menu()\n",
    "        self.scrolledtext1=st.ScrolledText(self.ventana1, width=80, height=20)\n",
    "        self.scrolledtext1.grid(column=0,row=0, padx=10, pady=10)\n",
    "        self.ventana1.mainloop()\n",
    "    def agregar_menu(self):\n",
    "        menubar1 = tk.Menu(self.ventana1)\n",
    "        self.ventana1.config(menu=menubar1)\n",
    "        opciones1 = tk.Menu(menubar1, tearoff=0)\n",
    "        opciones1.add_command(label=\"Guardar archivo\",command=self.guardar)\n",
    "        opciones1.add_command(label=\"Recuperar archivo\",command=self.recuperar)\n",
    "        opciones1.add_separator()\n",
    "        opciones1.add_command(label=\"Salir\", command=self.salir)\n",
    "        menubar1.add_cascade(label=\"Archivo\", menu=opciones1)\n",
    "    def salir(self):\n",
    "        sys.exit()\n",
    "    def guardar(self):\n",
    "        nombrearch=fd.asksaveasfilename(initialdir = \"/\",title = \"Guardar como\",filetypes = ((\"txt files\",\"*.txt\"),(\"todos los archivos\",\"*.*\")))\n",
    "        if nombrearch!='':\n",
    "            archi1=open(nombrearch, \"w\", encoding=\"utf-8\")\n",
    "            archi1.write(self.scrolledtext1.get(\"1.0\", tk.END))\n",
    "            archi1.close()\n",
    "        mb.showinfo(\"Información\", \"Los datos fueron guardados en elarchivo.\")\n",
    "    def recuperar(self):\n",
    "        nombrearch=fd.askopenfilename(initialdir = \"/\",title = \"Seleccione archivo\",filetypes = ((\"txt files\",\"*.txt\"),(\"todos los archivos\",\"*.*\")))\n",
    "        if nombrearch!='':\n",
    "            archi1=open(nombrearch, \"r\", encoding=\"utf-8\")\n",
    "            contenido=archi1.read()\n",
    "            archi1.close()\n",
    "        self.scrolledtext1.delete(\"1.0\", tk.END)\n",
    "        self.scrolledtext1.insert(\"1.0\", contenido)"
   ]
  },
  {
   "cell_type": "code",
   "execution_count": 3,
   "metadata": {},
   "outputs": [],
   "source": [
    "aplicacion1=Aplicacion()"
   ]
  }
 ],
 "metadata": {
  "kernelspec": {
   "display_name": "tf",
   "language": "python",
   "name": "python3"
  },
  "language_info": {
   "codemirror_mode": {
    "name": "ipython",
    "version": 3
   },
   "file_extension": ".py",
   "mimetype": "text/x-python",
   "name": "python",
   "nbconvert_exporter": "python",
   "pygments_lexer": "ipython3",
   "version": "3.9.18"
  }
 },
 "nbformat": 4,
 "nbformat_minor": 2
}
