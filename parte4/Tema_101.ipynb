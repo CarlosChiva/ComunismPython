{
 "cells": [
  {
   "cell_type": "markdown",
   "metadata": {},
   "source": [
    "                Tema 101"
   ]
  },
  {
   "cell_type": "markdown",
   "metadata": {},
   "source": [
    "Problema 1:"
   ]
  },
  {
   "cell_type": "markdown",
   "metadata": {},
   "source": [
    "Definir un string en Python con la estructura interna de un archivo JSON.\n",
    "Deserializar el string y convertirlo a una lista de Python. Luego volver a serializar la lista a un string."
   ]
  },
  {
   "cell_type": "code",
   "execution_count": 1,
   "metadata": {},
   "outputs": [],
   "source": [
    "import json"
   ]
  },
  {
   "cell_type": "code",
   "execution_count": 2,
   "metadata": {},
   "outputs": [
    {
     "name": "stdout",
     "output_type": "stream",
     "text": [
      "<class 'str'>\n",
      "\n",
      "[\n",
      "{\n",
      "\"codigo\":\"1\",\n",
      "\"descripcion\":\"papas\",\n",
      "\"precio\":\"12\"\n",
      "},\n",
      "{\n",
      "\"codigo\":\"2\",\n",
      "\"descripcion\":\"naranjas\",\n",
      "\"precio\":\"25\"\n",
      "}\n",
      "]\n",
      "\n",
      "________________________________________________________________________________\n",
      "<class 'list'>\n",
      "[{'codigo': '1', 'descripcion': 'papas', 'precio': '12'}, {'codigo': '2', 'descripcion': 'naranjas', 'precio': '25'}]\n",
      "________________________________________________________________________________\n",
      "<class 'str'>\n",
      "[{\"codigo\": \"1\", \"descripcion\": \"papas\", \"precio\": \"12\"}, {\"codigo\": \"2\", \"descripcion\": \"naranjas\", \"precio\": \"25\"}]\n"
     ]
    }
   ],
   "source": [
    "cadena1=\"\"\"\n",
    "[\n",
    "{\n",
    "\"codigo\":\"1\",\n",
    "\"descripcion\":\"papas\",\n",
    "\"precio\":\"12\"\n",
    "},\n",
    "{\n",
    "\"codigo\":\"2\",\n",
    "\"descripcion\":\"naranjas\",\n",
    "\"precio\":\"25\"\n",
    "}\n",
    "]\n",
    "\"\"\"\n",
    "print(type(cadena1))\n",
    "print(cadena1)\n",
    "print(\"_\"*80)\n",
    "lista=json.loads(cadena1)\n",
    "print(type(lista))\n",
    "print(lista)\n",
    "print(\"_\"*80)\n",
    "cadena2=json.dumps(lista)\n",
    "print(type(cadena2))\n",
    "print(cadena2)"
   ]
  }
 ],
 "metadata": {
  "kernelspec": {
   "display_name": "tf",
   "language": "python",
   "name": "python3"
  },
  "language_info": {
   "codemirror_mode": {
    "name": "ipython",
    "version": 3
   },
   "file_extension": ".py",
   "mimetype": "text/x-python",
   "name": "python",
   "nbconvert_exporter": "python",
   "pygments_lexer": "ipython3",
   "version": "3.9.18"
  }
 },
 "nbformat": 4,
 "nbformat_minor": 2
}
