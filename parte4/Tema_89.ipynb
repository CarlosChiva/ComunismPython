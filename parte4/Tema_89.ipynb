{
 "cells": [
  {
   "cell_type": "markdown",
   "metadata": {},
   "source": [
    "                Tema 89"
   ]
  },
  {
   "cell_type": "markdown",
   "metadata": {},
   "source": [
    "Problema:"
   ]
  },
  {
   "cell_type": "markdown",
   "metadata": {},
   "source": [
    "Ingresar por teclado dos enteros, calcular su suma y luego mostrar un mensaje de los dos valores ingresados y su suma."
   ]
  },
  {
   "cell_type": "code",
   "execution_count": 1,
   "metadata": {},
   "outputs": [
    {
     "name": "stdout",
     "output_type": "stream",
     "text": [
      "La suma de 1 y 2 es 3\n"
     ]
    }
   ],
   "source": [
    "valor1=int(input(\"Ingrese primer valor:\"))\n",
    "valor2=int(input(\"Ingrese segundo valor:\"))\n",
    "suma=valor1+valor2\n",
    "print(f\"La suma de {valor1} y {valor2} es {suma}\")"
   ]
  },
  {
   "cell_type": "markdown",
   "metadata": {},
   "source": [
    "Problema:"
   ]
  },
  {
   "cell_type": "markdown",
   "metadata": {},
   "source": [
    "Definir una lista con 5 valores enteros. Mostrar los 5 valores formateados a derecha junto a su suma."
   ]
  },
  {
   "cell_type": "code",
   "execution_count": 2,
   "metadata": {},
   "outputs": [
    {
     "name": "stdout",
     "output_type": "stream",
     "text": [
      "      2000\n",
      "----------\n",
      "     19531\n",
      "       500\n",
      "----------\n",
      "     19531\n",
      "     17000\n",
      "----------\n",
      "     19531\n",
      "        24\n",
      "----------\n",
      "     19531\n",
      "         7\n",
      "----------\n",
      "     19531\n"
     ]
    }
   ],
   "source": [
    "lista=[2000, 500, 17000, 24, 7]\n",
    "for elemento in lista:\n",
    "    print(f\"{elemento:10}\")\n",
    "    print(\"----------\")\n",
    "    print(f\"{sum(lista):10}\")"
   ]
  },
  {
   "cell_type": "markdown",
   "metadata": {},
   "source": [
    "Problema:"
   ]
  },
  {
   "cell_type": "markdown",
   "metadata": {},
   "source": [
    "Definir una lista con 5 valores flotantes con distintas cantidades de decimales.\n",
    "Mostrar los números solo con dos decimales."
   ]
  },
  {
   "cell_type": "code",
   "execution_count": 3,
   "metadata": {},
   "outputs": [
    {
     "name": "stdout",
     "output_type": "stream",
     "text": [
      "     30.20\n",
      "    400.20\n",
      "     20.56\n",
      "     18.34\n",
      "     67.00\n"
     ]
    }
   ],
   "source": [
    "lista=[30.195, 400.2, 20.5555, 18.34, 67.0]\n",
    "for elemento in lista:\n",
    "    print(f\"{elemento:10.2f}\")"
   ]
  }
 ],
 "metadata": {
  "kernelspec": {
   "display_name": "tf",
   "language": "python",
   "name": "python3"
  },
  "language_info": {
   "codemirror_mode": {
    "name": "ipython",
    "version": 3
   },
   "file_extension": ".py",
   "mimetype": "text/x-python",
   "name": "python",
   "nbconvert_exporter": "python",
   "pygments_lexer": "ipython3",
   "version": "3.9.18"
  }
 },
 "nbformat": 4,
 "nbformat_minor": 2
}
