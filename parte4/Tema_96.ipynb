{
 "cells": [
  {
   "cell_type": "markdown",
   "metadata": {},
   "source": [
    "                Tema 96"
   ]
  },
  {
   "cell_type": "markdown",
   "metadata": {},
   "source": [
    "Problema 1:"
   ]
  },
  {
   "cell_type": "markdown",
   "metadata": {},
   "source": [
    "Conexión con el servidor de PostgreSQL.\n",
    "El primer programa que implementaremos nos conectaremos con el servidor de PostgreSQL e insertaremos un par de filas en la tabla 'articulos' que creamos desde el programa 'pgAdmin'."
   ]
  },
  {
   "cell_type": "code",
   "execution_count": null,
   "metadata": {},
   "outputs": [],
   "source": [
    "import psycopg2"
   ]
  },
  {
   "cell_type": "code",
   "execution_count": 1,
   "metadata": {},
   "outputs": [
    {
     "name": "stdout",
     "output_type": "stream",
     "text": [
      "Lenguajes estructurados\n",
      "{'Python', 'PHP', 'C', 'Pascal'}\n",
      "Lenguajes orientados a objetos\n",
      "{'Java', 'Python', 'C++'}\n",
      "Todos los lenguajes (Unión)\n",
      "{'Python', 'C', 'Java', 'PHP', 'Pascal', 'C++'}\n",
      "Intersección de los dos conjuntos de lenguajes (Intersección)\n",
      "{'Python'}\n",
      "Diferencia de los dos conjuntos de lenguajes (Diferencia)\n",
      "{'PHP', 'C', 'Pascal'}\n",
      "lenguajes del conjunto lenguajes1 o del conjunto lenguajes2 pero no en ambos (Diferencia simétrica)\n",
      "{'Pascal', 'C++', 'C', 'Java', 'PHP'}\n"
     ]
    }
   ],
   "source": [
    "conexion1 = psycopg2.connect(database=\"bd1\", user=\"postgres\",\n",
    "password=\"heladera\")\n",
    "cursor1=conexion1.cursor()\n",
    "sql=\"insert into articulos(descripcion, precio) values (%s,%s)\"\n",
    "datos=(\"naranjas\", 23.50)\n",
    "cursor1.execute(sql, datos)\n",
    "datos=(\"peras\", 34)\n",
    "cursor1.execute(sql, datos)\n",
    "datos=(\"bananas\", 25)\n",
    "cursor1.execute(sql, datos)\n",
    "conexion1.commit()\n",
    "conexion1.close()"
   ]
  },
  {
   "cell_type": "markdown",
   "metadata": {},
   "source": [
    "Problema 2:"
   ]
  },
  {
   "cell_type": "markdown",
   "metadata": {},
   "source": [
    "Recuperar todas las filas de una tabla.\n",
    "Implementaremos un programa que solicite ejecutar un 'select' en la tabla 'articulos' de la base de datos 'bd1' y nos retorne todas sus filas."
   ]
  },
  {
   "cell_type": "code",
   "execution_count": 2,
   "metadata": {},
   "outputs": [
    {
     "name": "stdout",
     "output_type": "stream",
     "text": [
      "La suma de los valores es 2\n"
     ]
    }
   ],
   "source": [
    "conexion1 = psycopg2.connect(database=\"bd1\", user=\"postgres\",\n",
    "password=\"123456\")\n",
    "cursor1=conexion1.cursor()\n",
    "cursor1.execute(\"select codigo, descripcion, precio from articulos\")\n",
    "for fila in cursor1:\n",
    "    print(fila)\n",
    "conexion1.close()"
   ]
  },
  {
   "cell_type": "markdown",
   "metadata": {},
   "source": [
    "Problema 3"
   ]
  },
  {
   "cell_type": "markdown",
   "metadata": {},
   "source": [
    "Borrado y modificación de filas.\n",
    "Las otras dos actividades fundamentales que podemos hacer con una tabla es borrar filas y modificar datos.\n",
    "Desarrollaremos un pequeño programa que borre el artículo cuyo código sea el 1 y modifique el precio del artículo cuyo código sea 3."
   ]
  },
  {
   "cell_type": "code",
   "execution_count": null,
   "metadata": {},
   "outputs": [],
   "source": [
    "conexion1 = psycopg2.connect(database=\"bd1\", user=\"postgres\",\n",
    "password=\"123456\")\n",
    "cursor1=conexion1.cursor()\n",
    "cursor1.execute(\"delete from articulos where codigo=1\")\n",
    "cursor1.execute(\"update articulos set precio=50 where codigo=3\")\n",
    "conexion1.commit()\n",
    "cursor1.execute(\"select codigo, descripcion, precio from articulos\")\n",
    "for fila in cursor1:\n",
    "    print(fila)\n",
    "conexion1.close()"
   ]
  }
 ],
 "metadata": {
  "kernelspec": {
   "display_name": "tf",
   "language": "python",
   "name": "python3"
  },
  "language_info": {
   "codemirror_mode": {
    "name": "ipython",
    "version": 3
   },
   "file_extension": ".py",
   "mimetype": "text/x-python",
   "name": "python",
   "nbconvert_exporter": "python",
   "pygments_lexer": "ipython3",
   "version": "3.9.18"
  }
 },
 "nbformat": 4,
 "nbformat_minor": 2
}
