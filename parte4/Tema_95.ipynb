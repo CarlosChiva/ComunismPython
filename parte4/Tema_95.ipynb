{
 "cells": [
  {
   "cell_type": "markdown",
   "metadata": {},
   "source": [
    "                Tema 95"
   ]
  },
  {
   "cell_type": "markdown",
   "metadata": {},
   "source": [
    "Problema 1:"
   ]
  },
  {
   "cell_type": "markdown",
   "metadata": {},
   "source": [
    "Definir dos conjuntos que almacenen cada uno una serie de lenguajes de programación. Efectuar las cuatro operaciones básicas con dichos conjuntos."
   ]
  },
  {
   "cell_type": "code",
   "execution_count": 1,
   "metadata": {},
   "outputs": [
    {
     "name": "stdout",
     "output_type": "stream",
     "text": [
      "Lenguajes estructurados\n",
      "{'Python', 'PHP', 'C', 'Pascal'}\n",
      "Lenguajes orientados a objetos\n",
      "{'Java', 'Python', 'C++'}\n",
      "Todos los lenguajes (Unión)\n",
      "{'Python', 'C', 'Java', 'PHP', 'Pascal', 'C++'}\n",
      "Intersección de los dos conjuntos de lenguajes (Intersección)\n",
      "{'Python'}\n",
      "Diferencia de los dos conjuntos de lenguajes (Diferencia)\n",
      "{'PHP', 'C', 'Pascal'}\n",
      "lenguajes del conjunto lenguajes1 o del conjunto lenguajes2 pero no en ambos (Diferencia simétrica)\n",
      "{'Pascal', 'C++', 'C', 'Java', 'PHP'}\n"
     ]
    }
   ],
   "source": [
    "lenguajes1={\"C\", \"Pascal\", \"PHP\", \"Python\"}\n",
    "lenguajes2={\"C++\", \"Java\", \"Python\"}\n",
    "print(\"Lenguajes estructurados\")\n",
    "print(lenguajes1)\n",
    "print(\"Lenguajes orientados a objetos\")\n",
    "print(lenguajes2)\n",
    "conjunto1=lenguajes1 | lenguajes2\n",
    "print(\"Todos los lenguajes (Unión)\")\n",
    "print(conjunto1)\n",
    "conjunto2=lenguajes1 & lenguajes2\n",
    "print(\"Intersección de los dos conjuntos de lenguajes (Intersección)\")\n",
    "print(conjunto2)\n",
    "conjunto3=lenguajes1 - lenguajes2\n",
    "print(\"Diferencia de los dos conjuntos de lenguajes (Diferencia)\")\n",
    "print(conjunto3)\n",
    "conjunto4=lenguajes1 ^ lenguajes2\n",
    "print(\"lenguajes del conjunto lenguajes1 o del conjunto lenguajes2 pero no en ambos (Diferencia simétrica)\")\n",
    "print(conjunto4)"
   ]
  },
  {
   "cell_type": "markdown",
   "metadata": {},
   "source": [
    "Problema 2:"
   ]
  },
  {
   "cell_type": "markdown",
   "metadata": {},
   "source": [
    "Realizar la carga de valores enteros y sumarlos, cada vez que se ingresa un valor preguntar al operador si desea ingresar otro valor."
   ]
  },
  {
   "cell_type": "code",
   "execution_count": 2,
   "metadata": {},
   "outputs": [
    {
     "name": "stdout",
     "output_type": "stream",
     "text": [
      "La suma de los valores es 2\n"
     ]
    }
   ],
   "source": [
    "opciones_salir=frozenset([\"no\",\"NO\"])\n",
    "suma=0\n",
    "while True:\n",
    "    valor=int(input(\"Ingrese un valor:\"))\n",
    "    suma=suma+valor\n",
    "    op=input(\"Desea ingresar otro valor: [si/no]\")\n",
    "    if op in opciones_salir:\n",
    "        break\n",
    "print(f\"La suma de los valores es {suma}\")"
   ]
  }
 ],
 "metadata": {
  "kernelspec": {
   "display_name": "tf",
   "language": "python",
   "name": "python3"
  },
  "language_info": {
   "codemirror_mode": {
    "name": "ipython",
    "version": 3
   },
   "file_extension": ".py",
   "mimetype": "text/x-python",
   "name": "python",
   "nbconvert_exporter": "python",
   "pygments_lexer": "ipython3",
   "version": "3.9.18"
  }
 },
 "nbformat": 4,
 "nbformat_minor": 2
}
